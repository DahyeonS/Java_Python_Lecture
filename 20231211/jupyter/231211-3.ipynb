{
 "cells": [
  {
   "cell_type": "code",
   "execution_count": 1,
   "id": "276d1278-3833-46eb-8316-1d42caa7ede8",
   "metadata": {},
   "outputs": [],
   "source": [
    "import requests\n",
    "from bs4 import BeautifulSoup"
   ]
  },
  {
   "cell_type": "code",
   "execution_count": 45,
   "id": "042c43f1-e6c3-44da-8782-9d477741c01e",
   "metadata": {},
   "outputs": [
    {
     "data": {
      "text/plain": [
       "200"
      ]
     },
     "execution_count": 45,
     "metadata": {},
     "output_type": "execute_result"
    }
   ],
   "source": [
    "url = 'https://dapi.kakao.com/v2/local/search/address.json'\n",
    "headers = {\n",
    "    \"Authorization\": \"KakaoAK REST_API_KEY\"\n",
    "}\n",
    "params = {\n",
    "    'query' : '종로구 우정국로2길 21'\n",
    "}\n",
    "response = requests.get(url, params=params, headers=headers)\n",
    "response.status_code"
   ]
  },
  {
   "cell_type": "code",
   "execution_count": 6,
   "id": "edb8f8f3-c1c0-4d8c-a42c-c96bbcd51342",
   "metadata": {
    "scrolled": true
   },
   "outputs": [
    {
     "data": {
      "text/plain": [
       "{'documents': [{'address': {'address_name': '서울 종로구 관철동 45-1',\n",
       "    'b_code': '1111013500',\n",
       "    'h_code': '1111061500',\n",
       "    'main_address_no': '45',\n",
       "    'mountain_yn': 'N',\n",
       "    'region_1depth_name': '서울',\n",
       "    'region_2depth_name': '종로구',\n",
       "    'region_3depth_h_name': '종로1.2.3.4가동',\n",
       "    'region_3depth_name': '관철동',\n",
       "    'sub_address_no': '1',\n",
       "    'x': '126.984281413033',\n",
       "    'y': '37.5697034972222'},\n",
       "   'address_name': '서울 종로구 우정국로2길 21',\n",
       "   'address_type': 'ROAD_ADDR',\n",
       "   'road_address': {'address_name': '서울 종로구 우정국로2길 21',\n",
       "    'building_name': '대왕빌딩',\n",
       "    'main_building_no': '21',\n",
       "    'region_1depth_name': '서울',\n",
       "    'region_2depth_name': '종로구',\n",
       "    'region_3depth_name': '관철동',\n",
       "    'road_name': '우정국로2길',\n",
       "    'sub_building_no': '',\n",
       "    'underground_yn': 'N',\n",
       "    'x': '126.984281413033',\n",
       "    'y': '37.5697034972222',\n",
       "    'zone_no': '03189'},\n",
       "   'x': '126.984281413033',\n",
       "   'y': '37.5697034972222'}],\n",
       " 'meta': {'is_end': True, 'pageable_count': 1, 'total_count': 1}}"
      ]
     },
     "execution_count": 6,
     "metadata": {},
     "output_type": "execute_result"
    }
   ],
   "source": [
    "json_data = response.json()\n",
    "json_data"
   ]
  },
  {
   "cell_type": "code",
   "execution_count": 15,
   "id": "23805b92-5a58-4e22-9df7-a8cc0e666a54",
   "metadata": {},
   "outputs": [],
   "source": [
    "meta = json_data['meta']\n",
    "docu = json_data['documents'][0]\n",
    "\n",
    "address = docu['address']\n",
    "road_address = docu['road_address']\n",
    "\n",
    "address_name = docu['address_name']\n",
    "address_type = docu['address_type']\n",
    "x = docu['x']\n",
    "y = docu['y']"
   ]
  },
  {
   "cell_type": "code",
   "execution_count": 16,
   "id": "df77900c-7911-4d29-a8b9-67341d4398c0",
   "metadata": {},
   "outputs": [
    {
     "data": {
      "text/plain": [
       "('126.984281413033', '37.5697034972222')"
      ]
     },
     "execution_count": 16,
     "metadata": {},
     "output_type": "execute_result"
    }
   ],
   "source": [
    "x, y"
   ]
  },
  {
   "cell_type": "code",
   "execution_count": 46,
   "id": "7992dc76-5560-4cc8-8219-32991a7ae72c",
   "metadata": {},
   "outputs": [
    {
     "data": {
      "text/plain": [
       "200"
      ]
     },
     "execution_count": 46,
     "metadata": {},
     "output_type": "execute_result"
    }
   ],
   "source": [
    "url = 'https://dapi.kakao.com/v2/local/search/address.json'\n",
    "params = {\n",
    "    'query' : '서울특별시 용산구 남산공원길 105'\n",
    "}\n",
    "response = requests.get(url, params=params, headers=headers)\n",
    "response.status_code"
   ]
  },
  {
   "cell_type": "code",
   "execution_count": 47,
   "id": "61a387a8-35a8-4152-bbb2-13cdd764f43c",
   "metadata": {},
   "outputs": [
    {
     "data": {
      "text/plain": [
       "('37.5511225714939', '126.987867837993', '04340')"
      ]
     },
     "execution_count": 47,
     "metadata": {},
     "output_type": "execute_result"
    }
   ],
   "source": [
    "json_data = response.json()\n",
    "docu = json_data['documents'][0]\n",
    "\n",
    "x = docu['x']\n",
    "y = docu['y']\n",
    "\n",
    "road_address = docu['road_address']\n",
    "zone_no = road_address['zone_no']\n",
    "\n",
    "y, x, zone_no"
   ]
  },
  {
   "cell_type": "code",
   "execution_count": 24,
   "id": "b0cb710d-03f9-440c-8173-00e802cf94fb",
   "metadata": {},
   "outputs": [],
   "source": [
    "import folium"
   ]
  },
  {
   "cell_type": "code",
   "execution_count": 52,
   "id": "90428d90-89dd-4778-888e-069e52711487",
   "metadata": {},
   "outputs": [
    {
     "data": {
      "text/plain": [
       "<folium.map.Marker at 0x20e38b616d0>"
      ]
     },
     "execution_count": 52,
     "metadata": {},
     "output_type": "execute_result"
    }
   ],
   "source": [
    "location = (y, x)\n",
    "popup = f'남산타워 {zone_no}'\n",
    "map = folium.Map(location, zoom_start=17)\n",
    "folium.Marker(\n",
    "    location, \n",
    "    popup, \n",
    "    icon=folium.Icon(color='pink', icon='glyphicon-screenshot')\n",
    ").add_to(map)"
   ]
  },
  {
   "cell_type": "code",
   "execution_count": 55,
   "id": "5f0f9242-2631-4456-b038-39ab410c8744",
   "metadata": {},
   "outputs": [
    {
     "data": {
      "text/html": [
       "<div style=\"width:100%;\"><div style=\"position:relative;width:100%;height:0;padding-bottom:60%;\"><span style=\"color:#565656\">Make this Notebook Trusted to load map: File -> Trust Notebook</span><iframe srcdoc=\"&lt;!DOCTYPE html&gt;\n",
       "&lt;html&gt;\n",
       "&lt;head&gt;\n",
       "    \n",
       "    &lt;meta http-equiv=&quot;content-type&quot; content=&quot;text/html; charset=UTF-8&quot; /&gt;\n",
       "    \n",
       "        &lt;script&gt;\n",
       "            L_NO_TOUCH = false;\n",
       "            L_DISABLE_3D = false;\n",
       "        &lt;/script&gt;\n",
       "    \n",
       "    &lt;style&gt;html, body {width: 100%;height: 100%;margin: 0;padding: 0;}&lt;/style&gt;\n",
       "    &lt;style&gt;#map {position:absolute;top:0;bottom:0;right:0;left:0;}&lt;/style&gt;\n",
       "    &lt;script src=&quot;https://cdn.jsdelivr.net/npm/leaflet@1.9.3/dist/leaflet.js&quot;&gt;&lt;/script&gt;\n",
       "    &lt;script src=&quot;https://code.jquery.com/jquery-3.7.1.min.js&quot;&gt;&lt;/script&gt;\n",
       "    &lt;script src=&quot;https://cdn.jsdelivr.net/npm/bootstrap@5.2.2/dist/js/bootstrap.bundle.min.js&quot;&gt;&lt;/script&gt;\n",
       "    &lt;script src=&quot;https://cdnjs.cloudflare.com/ajax/libs/Leaflet.awesome-markers/2.0.2/leaflet.awesome-markers.js&quot;&gt;&lt;/script&gt;\n",
       "    &lt;link rel=&quot;stylesheet&quot; href=&quot;https://cdn.jsdelivr.net/npm/leaflet@1.9.3/dist/leaflet.css&quot;/&gt;\n",
       "    &lt;link rel=&quot;stylesheet&quot; href=&quot;https://cdn.jsdelivr.net/npm/bootstrap@5.2.2/dist/css/bootstrap.min.css&quot;/&gt;\n",
       "    &lt;link rel=&quot;stylesheet&quot; href=&quot;https://netdna.bootstrapcdn.com/bootstrap/3.0.0/css/bootstrap.min.css&quot;/&gt;\n",
       "    &lt;link rel=&quot;stylesheet&quot; href=&quot;https://cdn.jsdelivr.net/npm/@fortawesome/fontawesome-free@6.2.0/css/all.min.css&quot;/&gt;\n",
       "    &lt;link rel=&quot;stylesheet&quot; href=&quot;https://cdnjs.cloudflare.com/ajax/libs/Leaflet.awesome-markers/2.0.2/leaflet.awesome-markers.css&quot;/&gt;\n",
       "    &lt;link rel=&quot;stylesheet&quot; href=&quot;https://cdn.jsdelivr.net/gh/python-visualization/folium/folium/templates/leaflet.awesome.rotate.min.css&quot;/&gt;\n",
       "    \n",
       "            &lt;meta name=&quot;viewport&quot; content=&quot;width=device-width,\n",
       "                initial-scale=1.0, maximum-scale=1.0, user-scalable=no&quot; /&gt;\n",
       "            &lt;style&gt;\n",
       "                #map_725a20a60b48d6f9425f4b79c6f2ea3c {\n",
       "                    position: relative;\n",
       "                    width: 100.0%;\n",
       "                    height: 100.0%;\n",
       "                    left: 0.0%;\n",
       "                    top: 0.0%;\n",
       "                }\n",
       "                .leaflet-container { font-size: 1rem; }\n",
       "            &lt;/style&gt;\n",
       "        \n",
       "&lt;/head&gt;\n",
       "&lt;body&gt;\n",
       "    \n",
       "    \n",
       "            &lt;div class=&quot;folium-map&quot; id=&quot;map_725a20a60b48d6f9425f4b79c6f2ea3c&quot; &gt;&lt;/div&gt;\n",
       "        \n",
       "&lt;/body&gt;\n",
       "&lt;script&gt;\n",
       "    \n",
       "    \n",
       "            var map_725a20a60b48d6f9425f4b79c6f2ea3c = L.map(\n",
       "                &quot;map_725a20a60b48d6f9425f4b79c6f2ea3c&quot;,\n",
       "                {\n",
       "                    center: [37.5511225714939, 126.987867837993],\n",
       "                    crs: L.CRS.EPSG3857,\n",
       "                    zoom: 17,\n",
       "                    zoomControl: true,\n",
       "                    preferCanvas: false,\n",
       "                }\n",
       "            );\n",
       "\n",
       "            \n",
       "\n",
       "        \n",
       "    \n",
       "            var tile_layer_9e0ad52466e5f7b2f51d9b8cfe3ab10f = L.tileLayer(\n",
       "                &quot;https://tile.openstreetmap.org/{z}/{x}/{y}.png&quot;,\n",
       "                {&quot;attribution&quot;: &quot;\\u0026copy; \\u003ca href=\\&quot;https://www.openstreetmap.org/copyright\\&quot;\\u003eOpenStreetMap\\u003c/a\\u003e contributors&quot;, &quot;detectRetina&quot;: false, &quot;maxNativeZoom&quot;: 19, &quot;maxZoom&quot;: 19, &quot;minZoom&quot;: 0, &quot;noWrap&quot;: false, &quot;opacity&quot;: 1, &quot;subdomains&quot;: &quot;abc&quot;, &quot;tms&quot;: false}\n",
       "            );\n",
       "        \n",
       "    \n",
       "            tile_layer_9e0ad52466e5f7b2f51d9b8cfe3ab10f.addTo(map_725a20a60b48d6f9425f4b79c6f2ea3c);\n",
       "        \n",
       "    \n",
       "            var marker_91b7bf09ac2365feb2bfd5575383ccb0 = L.marker(\n",
       "                [37.5511225714939, 126.987867837993],\n",
       "                {}\n",
       "            ).addTo(map_725a20a60b48d6f9425f4b79c6f2ea3c);\n",
       "        \n",
       "    \n",
       "            var icon_c1e06ecd6efd551685fcda421b83cb46 = L.AwesomeMarkers.icon(\n",
       "                {&quot;extraClasses&quot;: &quot;fa-rotate-0&quot;, &quot;icon&quot;: &quot;glyphicon-screenshot&quot;, &quot;iconColor&quot;: &quot;white&quot;, &quot;markerColor&quot;: &quot;pink&quot;, &quot;prefix&quot;: &quot;glyphicon&quot;}\n",
       "            );\n",
       "            marker_91b7bf09ac2365feb2bfd5575383ccb0.setIcon(icon_c1e06ecd6efd551685fcda421b83cb46);\n",
       "        \n",
       "    \n",
       "        var popup_22302a21243f17eee72e4f635c71c999 = L.popup({&quot;maxWidth&quot;: &quot;100%&quot;});\n",
       "\n",
       "        \n",
       "            \n",
       "                var html_9e0aae3ebdf92fbed655b47662342fd9 = $(`&lt;div id=&quot;html_9e0aae3ebdf92fbed655b47662342fd9&quot; style=&quot;width: 100.0%; height: 100.0%;&quot;&gt;남산타워 04340&lt;/div&gt;`)[0];\n",
       "                popup_22302a21243f17eee72e4f635c71c999.setContent(html_9e0aae3ebdf92fbed655b47662342fd9);\n",
       "            \n",
       "        \n",
       "\n",
       "        marker_91b7bf09ac2365feb2bfd5575383ccb0.bindPopup(popup_22302a21243f17eee72e4f635c71c999)\n",
       "        ;\n",
       "\n",
       "        \n",
       "    \n",
       "    \n",
       "            tile_layer_9e0ad52466e5f7b2f51d9b8cfe3ab10f.addTo(map_725a20a60b48d6f9425f4b79c6f2ea3c);\n",
       "        \n",
       "    \n",
       "            tile_layer_9e0ad52466e5f7b2f51d9b8cfe3ab10f.addTo(map_725a20a60b48d6f9425f4b79c6f2ea3c);\n",
       "        \n",
       "&lt;/script&gt;\n",
       "&lt;/html&gt;\" style=\"position:absolute;width:100%;height:100%;left:0;top:0;border:none !important;\" allowfullscreen webkitallowfullscreen mozallowfullscreen></iframe></div></div>"
      ],
      "text/plain": [
       "<folium.folium.Map at 0x20e38992f50>"
      ]
     },
     "execution_count": 55,
     "metadata": {},
     "output_type": "execute_result"
    }
   ],
   "source": [
    "map"
   ]
  }
 ],
 "metadata": {
  "kernelspec": {
   "display_name": "Python 3 (ipykernel)",
   "language": "python",
   "name": "python3"
  },
  "language_info": {
   "codemirror_mode": {
    "name": "ipython",
    "version": 3
   },
   "file_extension": ".py",
   "mimetype": "text/x-python",
   "name": "python",
   "nbconvert_exporter": "python",
   "pygments_lexer": "ipython3",
   "version": "3.11.5"
  },
  "widgets": {
   "application/vnd.jupyter.widget-state+json": {
    "state": {},
    "version_major": 2,
    "version_minor": 0
   }
  }
 },
 "nbformat": 4,
 "nbformat_minor": 5
}
