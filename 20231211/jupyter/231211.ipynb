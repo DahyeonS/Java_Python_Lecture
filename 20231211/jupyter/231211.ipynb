{
 "cells": [
  {
   "cell_type": "code",
   "execution_count": 2,
   "id": "fd4bf350-fc02-49d4-b077-86b903e3c9d1",
   "metadata": {},
   "outputs": [
    {
     "data": {
      "text/plain": [
       "'3.14.1'"
      ]
     },
     "execution_count": 2,
     "metadata": {},
     "output_type": "execute_result"
    }
   ],
   "source": [
    "from selenium import webdriver\n",
    "from selenium.webdriver.common.keys import Keys\n",
    "import time\n",
    "webdriver.__version__"
   ]
  },
  {
   "cell_type": "code",
   "execution_count": 9,
   "id": "dbf3ea0f-f4ae-44f3-b380-e5dbde039a7e",
   "metadata": {},
   "outputs": [],
   "source": [
    "driver = webdriver.Chrome('./util/chromedriver-win64/chromedriver.exe')\n",
    "driver.implicitly_wait(3) # 대기\n",
    "driver.get('https://www.naver.com')\n",
    "search = driver.find_element_by_css_selector('#query')\n",
    "search.send_keys('삽살개')\n",
    "search.send_keys(Keys.ENTER)\n",
    "time.sleep(2)\n",
    "\n",
    "posts = driver.find_elements_by_css_selector('a.area_text_title')\n",
    "posts[0].click()\n",
    "time.sleep(2)"
   ]
  },
  {
   "cell_type": "code",
   "execution_count": 12,
   "id": "dd44c55b-2910-4df6-8270-1a304a33e5d0",
   "metadata": {},
   "outputs": [
    {
     "name": "stdout",
     "output_type": "stream",
     "text": [
      "4\n"
     ]
    }
   ],
   "source": [
    "url = 'https://n.news.naver.com/mnews/article/119/0002777889?sid=105'\n",
    "driver = webdriver.Chrome('./util/chromedriver-win64/chromedriver.exe')\n",
    "driver.implicitly_wait(3)\n",
    "driver.get(url)\n",
    "time.sleep(3)\n",
    "comment = driver.find_element_by_css_selector('span.u_cbox_count')\n",
    "print(comment.text)\n",
    "driver.close()"
   ]
  },
  {
   "cell_type": "code",
   "execution_count": 18,
   "id": "f9b4eba8-df13-48e6-8a12-269568d7a78f",
   "metadata": {},
   "outputs": [
    {
     "name": "stdout",
     "output_type": "stream",
     "text": [
      "165\n"
     ]
    }
   ],
   "source": [
    "url = 'https://v.daum.net/v/20231211073009269'\n",
    "driver = webdriver.Chrome('./util/chromedriver-win64/chromedriver.exe')\n",
    "driver.implicitly_wait(3)\n",
    "driver.get(url)\n",
    "time.sleep(3)\n",
    "count = driver.find_element_by_class_name('btn_ttalk')\n",
    "print(count.text[4:])\n",
    "driver.close()"
   ]
  },
  {
   "cell_type": "markdown",
   "id": "3421dd22-9ae1-46bd-867d-41959bed4516",
   "metadata": {},
   "source": [
    "# 한빛출판사 크롤링"
   ]
  },
  {
   "cell_type": "code",
   "execution_count": 20,
   "id": "8a29ef09-bff5-4989-ba51-a775df5db704",
   "metadata": {},
   "outputs": [],
   "source": [
    "import requests\n",
    "from bs4 import BeautifulSoup\n",
    "import json"
   ]
  },
  {
   "cell_type": "code",
   "execution_count": 27,
   "id": "3b277330-f86d-477a-b5dc-c93b3fe6d88e",
   "metadata": {},
   "outputs": [],
   "source": [
    "# 계정정보 확인\n",
    "f = open('./data/hanbit_pass.txt', 'r')\n",
    "r = f.read()\n",
    "info = json.loads(r)\n",
    "mid = info['id']\n",
    "mpw = info['pw']"
   ]
  },
  {
   "cell_type": "code",
   "execution_count": 39,
   "id": "2ffd192e-0bfb-48e0-b401-3e01015517f0",
   "metadata": {},
   "outputs": [
    {
     "data": {
      "text/plain": [
       "200"
      ]
     },
     "execution_count": 39,
     "metadata": {},
     "output_type": "execute_result"
    }
   ],
   "source": [
    "login = 'https://www.hanbit.co.kr/member/login_proc.php'\n",
    "my_page = 'https://www.hanbit.co.kr/myhanbit/myhanbit.html'\n",
    "data = {\n",
    "    'm_id':mid,\n",
    "    'm_passwd':mpw\n",
    "}\n",
    "session = requests.session()\n",
    "response = session.post(login, data=data)\n",
    "response.status_code"
   ]
  },
  {
   "cell_type": "code",
   "execution_count": null,
   "id": "475d9b93-dc96-4cd1-9fbd-296aef6e98df",
   "metadata": {},
   "outputs": [],
   "source": [
    "response.headers"
   ]
  },
  {
   "cell_type": "code",
   "execution_count": null,
   "id": "6280674c-f78c-437f-888b-246a7c016787",
   "metadata": {},
   "outputs": [],
   "source": [
    "response.cookies.get_dict()"
   ]
  },
  {
   "cell_type": "code",
   "execution_count": 40,
   "id": "ebc76730-8bc9-4ad5-ad94-a1a6b9f4f77b",
   "metadata": {},
   "outputs": [
    {
     "data": {
      "text/plain": [
       "200"
      ]
     },
     "execution_count": 40,
     "metadata": {},
     "output_type": "execute_result"
    }
   ],
   "source": [
    "resp = session.get(my_page)\n",
    "resp.status_code"
   ]
  },
  {
   "cell_type": "code",
   "execution_count": 43,
   "id": "4f78cda6-3a5d-42d6-8ce1-8e678ae27bbf",
   "metadata": {},
   "outputs": [],
   "source": [
    "raw_data = resp.text\n",
    "soup = BeautifulSoup(raw_data)"
   ]
  },
  {
   "cell_type": "code",
   "execution_count": 57,
   "id": "46b5de1d-1ed4-4ebc-aa82-da2d26307519",
   "metadata": {},
   "outputs": [
    {
     "data": {
      "text/plain": [
       "('일반', '2,000', '0')"
      ]
     },
     "execution_count": 57,
     "metadata": {},
     "output_type": "execute_result"
    }
   ],
   "source": [
    "rating = soup.select_one('div.my_rating').span.text\n",
    "mileage = soup.select_one('dl').span.text\n",
    "ecoin = soup.select_one('dl.mileage_section2').span.text\n",
    "\n",
    "rating, mileage, ecoin"
   ]
  }
 ],
 "metadata": {
  "kernelspec": {
   "display_name": "Python 3 (ipykernel)",
   "language": "python",
   "name": "python3"
  },
  "language_info": {
   "codemirror_mode": {
    "name": "ipython",
    "version": 3
   },
   "file_extension": ".py",
   "mimetype": "text/x-python",
   "name": "python",
   "nbconvert_exporter": "python",
   "pygments_lexer": "ipython3",
   "version": "3.11.5"
  },
  "widgets": {
   "application/vnd.jupyter.widget-state+json": {
    "state": {},
    "version_major": 2,
    "version_minor": 0
   }
  }
 },
 "nbformat": 4,
 "nbformat_minor": 5
}
