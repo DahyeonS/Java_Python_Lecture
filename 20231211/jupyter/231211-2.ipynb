{
 "cells": [
  {
   "cell_type": "code",
   "execution_count": 28,
   "id": "8502ba5b-fc9e-4647-bb51-6896aba981fb",
   "metadata": {},
   "outputs": [
    {
     "name": "stdout",
     "output_type": "stream",
     "text": [
      "{\n",
      "\t\"lastBuildDate\":\"Mon, 11 Dec 2023 15:04:19 +0900\",\n",
      "\t\"total\":427472,\n",
      "\t\"start\":1,\n",
      "\t\"display\":10,\n",
      "\t\"items\":[\n",
      "\t\t{\n",
      "\t\t\t\"title\":\"<b>파이썬<\\/b> 자격증 취득방법 및 커트라인\",\n",
      "\t\t\t\"link\":\"https:\\/\\/blog.naver.com\\/kkk2591\\/223278330970\",\n",
      "\t\t\t\"description\":\"<b>파이썬<\\/b> 자격증을 얻기 위해선 먼저 <b>파이썬<\\/b> 언어에 대한 이해가 필요했습니다. 입문자인 저에게는 기초부터 시작해야 했기에, KIC학원에서 기초부터 듣기로 선택했습니다. 수업을 듣고 나서 자격증 시험에 어떤... \",\n",
      "\t\t\t\"bloggername\":\"자동차와일상에 대한 모든것\",\n",
      "\t\t\t\"bloggerlink\":\"blog.naver.com\\/kkk2591\",\n",
      "\t\t\t\"postdate\":\"20231129\"\n",
      "\t\t},\n",
      "\t\t{\n",
      "\t\t\t\"title\":\"<b>파이썬<\\/b>자격증 취득방법 및 교육과정!\",\n",
      "\t\t\t\"link\":\"https:\\/\\/blog.naver.com\\/erulvoice\\/223277316075\",\n",
      "\t\t\t\"description\":\"시작한 <b>파이썬<\\/b> 중에서 갈팡질팡했습니다. 그리고 열심히 알아보면서 어떤 걸 먼저 배우고 자격증을 취득하는 게 좋을까 생각했었죠. <b>파이썬<\\/b>자격증은 <b>파이썬<\\/b> 마스터와 COS Pro Python이라고... \",\n",
      "\t\t\t\"bloggername\":\"미완성중\",\n",
      "\t\t\t\"bloggerlink\":\"blog.naver.com\\/erulvoice\",\n",
      "\t\t\t\"postdate\":\"20231128\"\n",
      "\t\t},\n",
      "\t\t{\n",
      "\t\t\t\"title\":\"<b>파이썬<\\/b> 학원을 다닌 이유\",\n",
      "\t\t\t\"link\":\"https:\\/\\/blog.naver.com\\/won2style3\\/223267531784\",\n",
      "\t\t\t\"description\":\"제가 선택한 교육 과정은 <b>파이썬<\\/b>입니다. 처음 등록하러 갔을 때, 멘토의 설명을 듣고 <b>파이썬<\\/b>이 제 적성에 가장 잘 맞을 것 같다고 느꼈어요. <b>파이썬<\\/b>은 문법이 간단해서 초보자들에게 인기가 많다고 하더라고요.... \",\n",
      "\t\t\t\"bloggername\":\"심플하지만 밀도있는 삶\",\n",
      "\t\t\t\"bloggerlink\":\"blog.naver.com\\/won2style3\",\n",
      "\t\t\t\"postdate\":\"20231117\"\n",
      "\t\t},\n",
      "\t\t{\n",
      "\t\t\t\"title\":\"의정부코딩학원 자바 vs <b>파이썬<\\/b> 어느 걸 배워야 할까?\",\n",
      "\t\t\t\"link\":\"https:\\/\\/blog.naver.com\\/xorbs6169\\/223264584778\",\n",
      "\t\t\t\"description\":\"자바 ( JAVA ) 와 <b>파이썬<\\/b> ( PYTHON ) 에 대해서 알아보고 비교해보는 포스팅해볼게요 ! ✅ 언어의 종류 ✅ 자바 ( JAVA ) ✔️ 객체 지향 언어에요 ! ✔️ JVM에서 실행돼요 ! <b>파이썬<\\/b> ( Python ) ✔️ 인터프리터... \",\n",
      "\t\t\t\"bloggername\":\"그건내과자야\",\n",
      "\t\t\t\"bloggerlink\":\"blog.naver.com\\/xorbs6169\",\n",
      "\t\t\t\"postdate\":\"20231114\"\n",
      "\t\t},\n",
      "\t\t{\n",
      "\t\t\t\"title\":\"마이크로비트 with <b>파이썬<\\/b>_피지컬컴퓨팅\",\n",
      "\t\t\t\"link\":\"https:\\/\\/blog.naver.com\\/pinksoya\\/223283081531\",\n",
      "\t\t\t\"description\":\"늘상 하던것에서 벗어나니 살짝 설레기도 하는걸요~ 거창하지만 실은 <b>파이썬<\\/b>으로 마이크로비트... (<b>파이썬<\\/b> 버전에서 말하는겁니다) 이 책을 본 느낌은. 이렇게도 할 수 있구나 배워볼수는 있지만 구지? 라는... \",\n",
      "\t\t\t\"bloggername\":\"함께해요! SW코딩수업!\",\n",
      "\t\t\t\"bloggerlink\":\"blog.naver.com\\/pinksoya\",\n",
      "\t\t\t\"postdate\":\"20231205\"\n",
      "\t\t},\n",
      "\t\t{\n",
      "\t\t\t\"title\":\"<b>파이썬<\\/b> 기초 꿀팁까지 들으며 취업 성공\",\n",
      "\t\t\t\"link\":\"https:\\/\\/blog.naver.com\\/bitsogum001\\/223283945351\",\n",
      "\t\t\t\"description\":\"요즘 제일 주목받는 코딩 언어는 <b>파이썬<\\/b>이에요. <b>파이썬<\\/b>은 활용도나 범용도가 좋아 개발자라면 보통 다룰 수 있어야 하는 분야로 볼 수 있어요. 저도 전공자는 아니지만 코딩에 흥미가 있었고, 또 이 분야로... \",\n",
      "\t\t\t\"bloggername\":\"계룡산 빛소금 체험관\",\n",
      "\t\t\t\"bloggerlink\":\"blog.naver.com\\/bitsogum001\",\n",
      "\t\t\t\"postdate\":\"20231205\"\n",
      "\t\t},\n",
      "\t\t{\n",
      "\t\t\t\"title\":\"실무위주의 교육과 취업연계 대전<b>파이썬<\\/b>학원\",\n",
      "\t\t\t\"link\":\"https:\\/\\/blog.naver.com\\/montag75\\/223199435463\",\n",
      "\t\t\t\"description\":\"그래서 이건 기회다 싶어 과감한 결정을 내릴 때라는 것을 깨닫고 저도 대전<b>파이썬<\\/b>학원 알아봤어요. #대전<b>파이썬<\\/b>학원 https:\\/\\/analytics.oasisbrand.co.kr\\/api\\/tracking\\/d1e60d7c-6733-463f-a5bb-84f9b2b21187 제가 선택한 곳은... \",\n",
      "\t\t\t\"bloggername\":\"CHIRO\",\n",
      "\t\t\t\"bloggerlink\":\"blog.naver.com\\/montag75\",\n",
      "\t\t\t\"postdate\":\"20230901\"\n",
      "\t\t},\n",
      "\t\t{\n",
      "\t\t\t\"title\":\"주니어 개발자가 본 [나의 첫 알고리즘+자료구조 with <b>파이썬<\\/b>]... \",\n",
      "\t\t\t\"link\":\"https:\\/\\/blog.naver.com\\/dorychuu\\/223270073036\",\n",
      "\t\t\t\"description\":\"with <b>파이썬<\\/b> 저자 코리 알트호프 출판 한빛미디어 발매 2023.11.01. 비전공자 독학 러인만큼 성장하려면 개인 공부가 필요하단걸 깨닫고 이번에 나의 첫 알고리즘+자료구조 with <b>파이썬<\\/b> 책을 읽어보게 되었습니다 1.... \",\n",
      "\t\t\t\"bloggername\":\"도리랑 스리랑 후추랑\",\n",
      "\t\t\t\"bloggerlink\":\"blog.naver.com\\/dorychuu\",\n",
      "\t\t\t\"postdate\":\"20231120\"\n",
      "\t\t},\n",
      "\t\t{\n",
      "\t\t\t\"title\":\"<b>파이썬<\\/b> 생활 프로젝트 코딩 - 서승희 \\/ <b>파이썬<\\/b> 기초 및 독학\",\n",
      "\t\t\t\"link\":\"https:\\/\\/blog.naver.com\\/tsslove\\/223203494688\",\n",
      "\t\t\t\"description\":\"<b>파이썬<\\/b> 기초 및 <b>파이썬<\\/b> 독학은 이 책으로! &lt;<b>파이썬<\\/b> 생활 프로젝트 코딩&gt;_서승희 학교 수업 때문에 <b>파이썬<\\/b>을 접하게 되면서, 신박하게 <b>파이썬<\\/b>을 사용해 보고 싶어졌다. 이제서야 겨우 간신히 <b>파이썬<\\/b> 기초를 다루고... \",\n",
      "\t\t\t\"bloggername\":\"창고같지만 금고\",\n",
      "\t\t\t\"bloggerlink\":\"blog.naver.com\\/tsslove\",\n",
      "\t\t\t\"postdate\":\"20230905\"\n",
      "\t\t},\n",
      "\t\t{\n",
      "\t\t\t\"title\":\"웹크롤링 <b>파이썬<\\/b> 몰라도 챗GPT 사용법만 알아도 된다.\",\n",
      "\t\t\t\"link\":\"https:\\/\\/blog.naver.com\\/ocmarketing\\/223040044418\",\n",
      "\t\t\t\"description\":\"대표적으로, <b>파이썬<\\/b>에 대한 이해가 있어야 하는데, 예전에 저도 몇번 배우다가 포기를 했습니다.... 일단 챗GPT를 활용해서 <b>파이썬<\\/b> 코그를 작성하고, 웹 크롤링을 하는 방법은 위의 영상을 통해서 깔끔하게... \",\n",
      "\t\t\t\"bloggername\":\"초튜터 X 오씨네학교\",\n",
      "\t\t\t\"bloggerlink\":\"blog.naver.com\\/ocmarketing\",\n",
      "\t\t\t\"postdate\":\"20230310\"\n",
      "\t\t}\n",
      "\t]\n",
      "}\n"
     ]
    }
   ],
   "source": [
    "# 네이버 검색 API 예제 - 블로그 검색\n",
    "import os\n",
    "import sys\n",
    "import requests\n",
    "from bs4 import BeautifulSoup\n",
    "\n",
    "client_id = \"YOUR_CLIENT_ID\"\n",
    "client_secret = \"YOUR_CLIENT_SECRET\"\n",
    "\n",
    "url_json = \"https://openapi.naver.com/v1/search/blog\" # JSON 결과\n",
    "url_xml = \"https://openapi.naver.com/v1/search/blog.xml\" # XML 결과\n",
    "params = {\n",
    "    'query':'파이썬'\n",
    "}\n",
    "headers =  {\n",
    "    \"X-Naver-Client-Id\":client_id,\n",
    "    \"X-Naver-Client-Secret\":client_secret\n",
    "}\n",
    "response = requests.get(url_json, params=params, headers=headers)\n",
    "rescode = response.status_code\n",
    "\n",
    "if rescode == 200 :\n",
    "    raw_data = response.text\n",
    "    print(raw_data)\n",
    "else:\n",
    "    print(\"Error Code:\", rescode)"
   ]
  },
  {
   "cell_type": "code",
   "execution_count": 18,
   "id": "41585a79-a0e0-4193-9444-d2716fd1967b",
   "metadata": {
    "scrolled": true
   },
   "outputs": [
    {
     "data": {
      "text/plain": [
       "{'lastBuildDate': 'Mon, 11 Dec 2023 14:59:15 +0900',\n",
       " 'total': 427471,\n",
       " 'start': 1,\n",
       " 'display': 10,\n",
       " 'items': [{'title': '<b>파이썬</b> 자격증 취득방법 및 커트라인',\n",
       "   'link': 'https://blog.naver.com/kkk2591/223278330970',\n",
       "   'description': '<b>파이썬</b> 자격증을 얻기 위해선 먼저 <b>파이썬</b> 언어에 대한 이해가 필요했습니다. 입문자인 저에게는 기초부터 시작해야 했기에, KIC학원에서 기초부터 듣기로 선택했습니다. 수업을 듣고 나서 자격증 시험에 어떤... ',\n",
       "   'bloggername': '자동차와일상에 대한 모든것',\n",
       "   'bloggerlink': 'blog.naver.com/kkk2591',\n",
       "   'postdate': '20231129'},\n",
       "  {'title': '<b>파이썬</b>자격증 취득방법 및 교육과정!',\n",
       "   'link': 'https://blog.naver.com/erulvoice/223277316075',\n",
       "   'description': '시작한 <b>파이썬</b> 중에서 갈팡질팡했습니다. 그리고 열심히 알아보면서 어떤 걸 먼저 배우고 자격증을 취득하는 게 좋을까 생각했었죠. <b>파이썬</b>자격증은 <b>파이썬</b> 마스터와 COS Pro Python이라고... ',\n",
       "   'bloggername': '미완성중',\n",
       "   'bloggerlink': 'blog.naver.com/erulvoice',\n",
       "   'postdate': '20231128'},\n",
       "  {'title': '<b>파이썬</b> 학원을 다닌 이유',\n",
       "   'link': 'https://blog.naver.com/won2style3/223267531784',\n",
       "   'description': '제가 선택한 교육 과정은 <b>파이썬</b>입니다. 처음 등록하러 갔을 때, 멘토의 설명을 듣고 <b>파이썬</b>이 제 적성에 가장 잘 맞을 것 같다고 느꼈어요. <b>파이썬</b>은 문법이 간단해서 초보자들에게 인기가 많다고 하더라고요.... ',\n",
       "   'bloggername': '심플하지만 밀도있는 삶',\n",
       "   'bloggerlink': 'blog.naver.com/won2style3',\n",
       "   'postdate': '20231117'},\n",
       "  {'title': '의정부코딩학원 자바 vs <b>파이썬</b> 어느 걸 배워야 할까?',\n",
       "   'link': 'https://blog.naver.com/xorbs6169/223264584778',\n",
       "   'description': '자바 ( JAVA ) 와 <b>파이썬</b> ( PYTHON ) 에 대해서 알아보고 비교해보는 포스팅해볼게요 ! ✅ 언어의 종류 ✅ 자바 ( JAVA ) ✔️ 객체 지향 언어에요 ! ✔️ JVM에서 실행돼요 ! <b>파이썬</b> ( Python ) ✔️ 인터프리터... ',\n",
       "   'bloggername': '그건내과자야',\n",
       "   'bloggerlink': 'blog.naver.com/xorbs6169',\n",
       "   'postdate': '20231114'},\n",
       "  {'title': '마이크로비트 with <b>파이썬</b>_피지컬컴퓨팅',\n",
       "   'link': 'https://blog.naver.com/pinksoya/223283081531',\n",
       "   'description': '늘상 하던것에서 벗어나니 살짝 설레기도 하는걸요~ 거창하지만 실은 <b>파이썬</b>으로 마이크로비트... (<b>파이썬</b> 버전에서 말하는겁니다) 이 책을 본 느낌은. 이렇게도 할 수 있구나 배워볼수는 있지만 구지? 라는... ',\n",
       "   'bloggername': '함께해요! SW코딩수업!',\n",
       "   'bloggerlink': 'blog.naver.com/pinksoya',\n",
       "   'postdate': '20231205'},\n",
       "  {'title': '<b>파이썬</b> 기초 꿀팁까지 들으며 취업 성공',\n",
       "   'link': 'https://blog.naver.com/bitsogum001/223283945351',\n",
       "   'description': '요즘 제일 주목받는 코딩 언어는 <b>파이썬</b>이에요. <b>파이썬</b>은 활용도나 범용도가 좋아 개발자라면 보통 다룰 수 있어야 하는 분야로 볼 수 있어요. 저도 전공자는 아니지만 코딩에 흥미가 있었고, 또 이 분야로... ',\n",
       "   'bloggername': '계룡산 빛소금 체험관',\n",
       "   'bloggerlink': 'blog.naver.com/bitsogum001',\n",
       "   'postdate': '20231205'},\n",
       "  {'title': '실무위주의 교육과 취업연계 대전<b>파이썬</b>학원',\n",
       "   'link': 'https://blog.naver.com/montag75/223199435463',\n",
       "   'description': '그래서 이건 기회다 싶어 과감한 결정을 내릴 때라는 것을 깨닫고 저도 대전<b>파이썬</b>학원 알아봤어요. #대전<b>파이썬</b>학원 https://analytics.oasisbrand.co.kr/api/tracking/d1e60d7c-6733-463f-a5bb-84f9b2b21187 제가 선택한 곳은... ',\n",
       "   'bloggername': 'CHIRO',\n",
       "   'bloggerlink': 'blog.naver.com/montag75',\n",
       "   'postdate': '20230901'},\n",
       "  {'title': '주니어 개발자가 본 [나의 첫 알고리즘+자료구조 with <b>파이썬</b>]... ',\n",
       "   'link': 'https://blog.naver.com/dorychuu/223270073036',\n",
       "   'description': 'with <b>파이썬</b> 저자 코리 알트호프 출판 한빛미디어 발매 2023.11.01. 비전공자 독학 러인만큼 성장하려면 개인 공부가 필요하단걸 깨닫고 이번에 나의 첫 알고리즘+자료구조 with <b>파이썬</b> 책을 읽어보게 되었습니다 1.... ',\n",
       "   'bloggername': '도리랑 스리랑 후추랑',\n",
       "   'bloggerlink': 'blog.naver.com/dorychuu',\n",
       "   'postdate': '20231120'},\n",
       "  {'title': '<b>파이썬</b> 생활 프로젝트 코딩 - 서승희 / <b>파이썬</b> 기초 및 독학',\n",
       "   'link': 'https://blog.naver.com/tsslove/223203494688',\n",
       "   'description': '<b>파이썬</b> 기초 및 <b>파이썬</b> 독학은 이 책으로! &lt;<b>파이썬</b> 생활 프로젝트 코딩&gt;_서승희 학교 수업 때문에 <b>파이썬</b>을 접하게 되면서, 신박하게 <b>파이썬</b>을 사용해 보고 싶어졌다. 이제서야 겨우 간신히 <b>파이썬</b> 기초를 다루고... ',\n",
       "   'bloggername': '창고같지만 금고',\n",
       "   'bloggerlink': 'blog.naver.com/tsslove',\n",
       "   'postdate': '20230905'},\n",
       "  {'title': '웹크롤링 <b>파이썬</b> 몰라도 챗GPT 사용법만 알아도 된다.',\n",
       "   'link': 'https://blog.naver.com/ocmarketing/223040044418',\n",
       "   'description': '대표적으로, <b>파이썬</b>에 대한 이해가 있어야 하는데, 예전에 저도 몇번 배우다가 포기를 했습니다.... 일단 챗GPT를 활용해서 <b>파이썬</b> 코그를 작성하고, 웹 크롤링을 하는 방법은 위의 영상을 통해서 깔끔하게... ',\n",
       "   'bloggername': '초튜터 X 오씨네학교',\n",
       "   'bloggerlink': 'blog.naver.com/ocmarketing',\n",
       "   'postdate': '20230310'}]}"
      ]
     },
     "execution_count": 18,
     "metadata": {},
     "output_type": "execute_result"
    }
   ],
   "source": [
    "data_json = response.json()\n",
    "data_json"
   ]
  },
  {
   "cell_type": "code",
   "execution_count": 20,
   "id": "7714b03e-bac0-4864-9484-5590f81d365d",
   "metadata": {
    "scrolled": true
   },
   "outputs": [
    {
     "data": {
      "text/plain": [
       "[{'title': '<b>파이썬</b> 자격증 취득방법 및 커트라인',\n",
       "  'link': 'https://blog.naver.com/kkk2591/223278330970',\n",
       "  'description': '<b>파이썬</b> 자격증을 얻기 위해선 먼저 <b>파이썬</b> 언어에 대한 이해가 필요했습니다. 입문자인 저에게는 기초부터 시작해야 했기에, KIC학원에서 기초부터 듣기로 선택했습니다. 수업을 듣고 나서 자격증 시험에 어떤... ',\n",
       "  'bloggername': '자동차와일상에 대한 모든것',\n",
       "  'bloggerlink': 'blog.naver.com/kkk2591',\n",
       "  'postdate': '20231129'},\n",
       " {'title': '<b>파이썬</b>자격증 취득방법 및 교육과정!',\n",
       "  'link': 'https://blog.naver.com/erulvoice/223277316075',\n",
       "  'description': '시작한 <b>파이썬</b> 중에서 갈팡질팡했습니다. 그리고 열심히 알아보면서 어떤 걸 먼저 배우고 자격증을 취득하는 게 좋을까 생각했었죠. <b>파이썬</b>자격증은 <b>파이썬</b> 마스터와 COS Pro Python이라고... ',\n",
       "  'bloggername': '미완성중',\n",
       "  'bloggerlink': 'blog.naver.com/erulvoice',\n",
       "  'postdate': '20231128'},\n",
       " {'title': '<b>파이썬</b> 학원을 다닌 이유',\n",
       "  'link': 'https://blog.naver.com/won2style3/223267531784',\n",
       "  'description': '제가 선택한 교육 과정은 <b>파이썬</b>입니다. 처음 등록하러 갔을 때, 멘토의 설명을 듣고 <b>파이썬</b>이 제 적성에 가장 잘 맞을 것 같다고 느꼈어요. <b>파이썬</b>은 문법이 간단해서 초보자들에게 인기가 많다고 하더라고요.... ',\n",
       "  'bloggername': '심플하지만 밀도있는 삶',\n",
       "  'bloggerlink': 'blog.naver.com/won2style3',\n",
       "  'postdate': '20231117'},\n",
       " {'title': '의정부코딩학원 자바 vs <b>파이썬</b> 어느 걸 배워야 할까?',\n",
       "  'link': 'https://blog.naver.com/xorbs6169/223264584778',\n",
       "  'description': '자바 ( JAVA ) 와 <b>파이썬</b> ( PYTHON ) 에 대해서 알아보고 비교해보는 포스팅해볼게요 ! ✅ 언어의 종류 ✅ 자바 ( JAVA ) ✔️ 객체 지향 언어에요 ! ✔️ JVM에서 실행돼요 ! <b>파이썬</b> ( Python ) ✔️ 인터프리터... ',\n",
       "  'bloggername': '그건내과자야',\n",
       "  'bloggerlink': 'blog.naver.com/xorbs6169',\n",
       "  'postdate': '20231114'},\n",
       " {'title': '마이크로비트 with <b>파이썬</b>_피지컬컴퓨팅',\n",
       "  'link': 'https://blog.naver.com/pinksoya/223283081531',\n",
       "  'description': '늘상 하던것에서 벗어나니 살짝 설레기도 하는걸요~ 거창하지만 실은 <b>파이썬</b>으로 마이크로비트... (<b>파이썬</b> 버전에서 말하는겁니다) 이 책을 본 느낌은. 이렇게도 할 수 있구나 배워볼수는 있지만 구지? 라는... ',\n",
       "  'bloggername': '함께해요! SW코딩수업!',\n",
       "  'bloggerlink': 'blog.naver.com/pinksoya',\n",
       "  'postdate': '20231205'},\n",
       " {'title': '<b>파이썬</b> 기초 꿀팁까지 들으며 취업 성공',\n",
       "  'link': 'https://blog.naver.com/bitsogum001/223283945351',\n",
       "  'description': '요즘 제일 주목받는 코딩 언어는 <b>파이썬</b>이에요. <b>파이썬</b>은 활용도나 범용도가 좋아 개발자라면 보통 다룰 수 있어야 하는 분야로 볼 수 있어요. 저도 전공자는 아니지만 코딩에 흥미가 있었고, 또 이 분야로... ',\n",
       "  'bloggername': '계룡산 빛소금 체험관',\n",
       "  'bloggerlink': 'blog.naver.com/bitsogum001',\n",
       "  'postdate': '20231205'},\n",
       " {'title': '실무위주의 교육과 취업연계 대전<b>파이썬</b>학원',\n",
       "  'link': 'https://blog.naver.com/montag75/223199435463',\n",
       "  'description': '그래서 이건 기회다 싶어 과감한 결정을 내릴 때라는 것을 깨닫고 저도 대전<b>파이썬</b>학원 알아봤어요. #대전<b>파이썬</b>학원 https://analytics.oasisbrand.co.kr/api/tracking/d1e60d7c-6733-463f-a5bb-84f9b2b21187 제가 선택한 곳은... ',\n",
       "  'bloggername': 'CHIRO',\n",
       "  'bloggerlink': 'blog.naver.com/montag75',\n",
       "  'postdate': '20230901'},\n",
       " {'title': '주니어 개발자가 본 [나의 첫 알고리즘+자료구조 with <b>파이썬</b>]... ',\n",
       "  'link': 'https://blog.naver.com/dorychuu/223270073036',\n",
       "  'description': 'with <b>파이썬</b> 저자 코리 알트호프 출판 한빛미디어 발매 2023.11.01. 비전공자 독학 러인만큼 성장하려면 개인 공부가 필요하단걸 깨닫고 이번에 나의 첫 알고리즘+자료구조 with <b>파이썬</b> 책을 읽어보게 되었습니다 1.... ',\n",
       "  'bloggername': '도리랑 스리랑 후추랑',\n",
       "  'bloggerlink': 'blog.naver.com/dorychuu',\n",
       "  'postdate': '20231120'},\n",
       " {'title': '<b>파이썬</b> 생활 프로젝트 코딩 - 서승희 / <b>파이썬</b> 기초 및 독학',\n",
       "  'link': 'https://blog.naver.com/tsslove/223203494688',\n",
       "  'description': '<b>파이썬</b> 기초 및 <b>파이썬</b> 독학은 이 책으로! &lt;<b>파이썬</b> 생활 프로젝트 코딩&gt;_서승희 학교 수업 때문에 <b>파이썬</b>을 접하게 되면서, 신박하게 <b>파이썬</b>을 사용해 보고 싶어졌다. 이제서야 겨우 간신히 <b>파이썬</b> 기초를 다루고... ',\n",
       "  'bloggername': '창고같지만 금고',\n",
       "  'bloggerlink': 'blog.naver.com/tsslove',\n",
       "  'postdate': '20230905'},\n",
       " {'title': '웹크롤링 <b>파이썬</b> 몰라도 챗GPT 사용법만 알아도 된다.',\n",
       "  'link': 'https://blog.naver.com/ocmarketing/223040044418',\n",
       "  'description': '대표적으로, <b>파이썬</b>에 대한 이해가 있어야 하는데, 예전에 저도 몇번 배우다가 포기를 했습니다.... 일단 챗GPT를 활용해서 <b>파이썬</b> 코그를 작성하고, 웹 크롤링을 하는 방법은 위의 영상을 통해서 깔끔하게... ',\n",
       "  'bloggername': '초튜터 X 오씨네학교',\n",
       "  'bloggerlink': 'blog.naver.com/ocmarketing',\n",
       "  'postdate': '20230310'}]"
      ]
     },
     "execution_count": 20,
     "metadata": {},
     "output_type": "execute_result"
    }
   ],
   "source": [
    "items = data_json['items']\n",
    "items"
   ]
  },
  {
   "cell_type": "code",
   "execution_count": 21,
   "id": "92d9a0b9-cf61-4852-aefb-17e1dc843d5d",
   "metadata": {},
   "outputs": [
    {
     "data": {
      "text/plain": [
       "{'title': '<b>파이썬</b> 자격증 취득방법 및 커트라인',\n",
       " 'link': 'https://blog.naver.com/kkk2591/223278330970',\n",
       " 'description': '<b>파이썬</b> 자격증을 얻기 위해선 먼저 <b>파이썬</b> 언어에 대한 이해가 필요했습니다. 입문자인 저에게는 기초부터 시작해야 했기에, KIC학원에서 기초부터 듣기로 선택했습니다. 수업을 듣고 나서 자격증 시험에 어떤... ',\n",
       " 'bloggername': '자동차와일상에 대한 모든것',\n",
       " 'bloggerlink': 'blog.naver.com/kkk2591',\n",
       " 'postdate': '20231129'}"
      ]
     },
     "execution_count": 21,
     "metadata": {},
     "output_type": "execute_result"
    }
   ],
   "source": [
    "item = items[0]\n",
    "item"
   ]
  },
  {
   "cell_type": "code",
   "execution_count": 23,
   "id": "41ca44bb-4d17-4cf9-af54-49400802a0f5",
   "metadata": {},
   "outputs": [
    {
     "data": {
      "text/plain": [
       "'<b>파이썬</b> 자격증 취득방법 및 커트라인'"
      ]
     },
     "execution_count": 23,
     "metadata": {},
     "output_type": "execute_result"
    }
   ],
   "source": [
    "title = item['title']\n",
    "title"
   ]
  },
  {
   "cell_type": "code",
   "execution_count": 24,
   "id": "51556455-842f-4724-aa0f-ae1aa89044b5",
   "metadata": {},
   "outputs": [
    {
     "name": "stdout",
     "output_type": "stream",
     "text": [
      "<b>파이썬</b> 자격증 취득방법 및 커트라인\n",
      "<b>파이썬</b>자격증 취득방법 및 교육과정!\n",
      "<b>파이썬</b> 학원을 다닌 이유\n",
      "의정부코딩학원 자바 vs <b>파이썬</b> 어느 걸 배워야 할까?\n",
      "마이크로비트 with <b>파이썬</b>_피지컬컴퓨팅\n",
      "<b>파이썬</b> 기초 꿀팁까지 들으며 취업 성공\n",
      "실무위주의 교육과 취업연계 대전<b>파이썬</b>학원\n",
      "주니어 개발자가 본 [나의 첫 알고리즘+자료구조 with <b>파이썬</b>]... \n",
      "<b>파이썬</b> 생활 프로젝트 코딩 - 서승희 / <b>파이썬</b> 기초 및 독학\n",
      "웹크롤링 <b>파이썬</b> 몰라도 챗GPT 사용법만 알아도 된다.\n"
     ]
    }
   ],
   "source": [
    "for item in items :\n",
    "    print(item['title'])"
   ]
  },
  {
   "cell_type": "code",
   "execution_count": 30,
   "id": "1b8d36d3-8d21-4f4a-ac4b-a360be9da2eb",
   "metadata": {},
   "outputs": [
    {
     "data": {
      "text/plain": [
       "200"
      ]
     },
     "execution_count": 30,
     "metadata": {},
     "output_type": "execute_result"
    }
   ],
   "source": [
    "response = requests.get(url_xml, params=params, headers=headers)\n",
    "response.status_code"
   ]
  },
  {
   "cell_type": "code",
   "execution_count": 39,
   "id": "fecee9f1-8056-42ce-91b5-e255258c2cca",
   "metadata": {
    "scrolled": true
   },
   "outputs": [
    {
     "data": {
      "text/plain": [
       "[<item><title>&lt;b&gt;파이썬&lt;/b&gt; 자격증 취득방법 및 커트라인</title><link/>https://blog.naver.com/kkk2591/223278330970<description>&lt;b&gt;파이썬&lt;/b&gt; 자격증을 얻기 위해선 먼저 &lt;b&gt;파이썬&lt;/b&gt; 언어에 대한 이해가 필요했습니다. 입문자인 저에게는 기초부터 시작해야 했기에, KIC학원에서 기초부터 듣기로 선택했습니다. 수업을 듣고 나서 자격증 시험에 어떤... </description><bloggername>자동차와일상에 대한 모든것</bloggername><bloggerlink>blog.naver.com/kkk2591</bloggerlink><postdate>20231129</postdate></item>,\n",
       " <item><title>&lt;b&gt;파이썬&lt;/b&gt;자격증 취득방법 및 교육과정!</title><link/>https://blog.naver.com/erulvoice/223277316075<description>시작한 &lt;b&gt;파이썬&lt;/b&gt; 중에서 갈팡질팡했습니다. 그리고 열심히 알아보면서 어떤 걸 먼저 배우고 자격증을 취득하는 게 좋을까 생각했었죠. &lt;b&gt;파이썬&lt;/b&gt;자격증은 &lt;b&gt;파이썬&lt;/b&gt; 마스터와 COS Pro Python이라고... </description><bloggername>미완성중</bloggername><bloggerlink>blog.naver.com/erulvoice</bloggerlink><postdate>20231128</postdate></item>,\n",
       " <item><title>&lt;b&gt;파이썬&lt;/b&gt; 학원을 다닌 이유</title><link/>https://blog.naver.com/won2style3/223267531784<description>제가 선택한 교육 과정은 &lt;b&gt;파이썬&lt;/b&gt;입니다. 처음 등록하러 갔을 때, 멘토의 설명을 듣고 &lt;b&gt;파이썬&lt;/b&gt;이 제 적성에 가장 잘 맞을 것 같다고 느꼈어요. &lt;b&gt;파이썬&lt;/b&gt;은 문법이 간단해서 초보자들에게 인기가 많다고 하더라고요.... </description><bloggername>심플하지만 밀도있는 삶</bloggername><bloggerlink>blog.naver.com/won2style3</bloggerlink><postdate>20231117</postdate></item>,\n",
       " <item><title>의정부코딩학원 자바 vs &lt;b&gt;파이썬&lt;/b&gt; 어느 걸 배워야 할까?</title><link/>https://blog.naver.com/xorbs6169/223264584778<description>자바 ( JAVA ) 와 &lt;b&gt;파이썬&lt;/b&gt; ( PYTHON ) 에 대해서 알아보고 비교해보는 포스팅해볼게요 ! ✅ 언어의 종류 ✅ 자바 ( JAVA ) ✔️ 객체 지향 언어에요 ! ✔️ JVM에서 실행돼요 ! &lt;b&gt;파이썬&lt;/b&gt; ( Python ) ✔️ 인터프리터... </description><bloggername>그건내과자야</bloggername><bloggerlink>blog.naver.com/xorbs6169</bloggerlink><postdate>20231114</postdate></item>,\n",
       " <item><title>마이크로비트 with &lt;b&gt;파이썬&lt;/b&gt;_피지컬컴퓨팅</title><link/>https://blog.naver.com/pinksoya/223283081531<description>늘상 하던것에서 벗어나니 살짝 설레기도 하는걸요~ 거창하지만 실은 &lt;b&gt;파이썬&lt;/b&gt;으로 마이크로비트... (&lt;b&gt;파이썬&lt;/b&gt; 버전에서 말하는겁니다) 이 책을 본 느낌은. 이렇게도 할 수 있구나 배워볼수는 있지만 구지? 라는... </description><bloggername>함께해요! SW코딩수업!</bloggername><bloggerlink>blog.naver.com/pinksoya</bloggerlink><postdate>20231205</postdate></item>,\n",
       " <item><title>&lt;b&gt;파이썬&lt;/b&gt; 기초 꿀팁까지 들으며 취업 성공</title><link/>https://blog.naver.com/bitsogum001/223283945351<description>요즘 제일 주목받는 코딩 언어는 &lt;b&gt;파이썬&lt;/b&gt;이에요. &lt;b&gt;파이썬&lt;/b&gt;은 활용도나 범용도가 좋아 개발자라면 보통 다룰 수 있어야 하는 분야로 볼 수 있어요. 저도 전공자는 아니지만 코딩에 흥미가 있었고, 또 이 분야로... </description><bloggername>계룡산 빛소금 체험관</bloggername><bloggerlink>blog.naver.com/bitsogum001</bloggerlink><postdate>20231205</postdate></item>,\n",
       " <item><title>실무위주의 교육과 취업연계 대전&lt;b&gt;파이썬&lt;/b&gt;학원</title><link/>https://blog.naver.com/montag75/223199435463<description>그래서 이건 기회다 싶어 과감한 결정을 내릴 때라는 것을 깨닫고 저도 대전&lt;b&gt;파이썬&lt;/b&gt;학원 알아봤어요. #대전&lt;b&gt;파이썬&lt;/b&gt;학원 https://analytics.oasisbrand.co.kr/api/tracking/d1e60d7c-6733-463f-a5bb-84f9b2b21187 제가 선택한 곳은... </description><bloggername>CHIRO</bloggername><bloggerlink>blog.naver.com/montag75</bloggerlink><postdate>20230901</postdate></item>,\n",
       " <item><title>주니어 개발자가 본 [나의 첫 알고리즘+자료구조 with &lt;b&gt;파이썬&lt;/b&gt;]... </title><link/>https://blog.naver.com/dorychuu/223270073036<description>with &lt;b&gt;파이썬&lt;/b&gt; 저자 코리 알트호프 출판 한빛미디어 발매 2023.11.01. 비전공자 독학 러인만큼 성장하려면 개인 공부가 필요하단걸 깨닫고 이번에 나의 첫 알고리즘+자료구조 with &lt;b&gt;파이썬&lt;/b&gt; 책을 읽어보게 되었습니다 1.... </description><bloggername>도리랑 스리랑 후추랑</bloggername><bloggerlink>blog.naver.com/dorychuu</bloggerlink><postdate>20231120</postdate></item>,\n",
       " <item><title>&lt;b&gt;파이썬&lt;/b&gt; 생활 프로젝트 코딩 - 서승희 / &lt;b&gt;파이썬&lt;/b&gt; 기초 및 독학</title><link/>https://blog.naver.com/tsslove/223203494688<description>&lt;b&gt;파이썬&lt;/b&gt; 기초 및 &lt;b&gt;파이썬&lt;/b&gt; 독학은 이 책으로! &amp;lt;&lt;b&gt;파이썬&lt;/b&gt; 생활 프로젝트 코딩&amp;gt;_서승희 학교 수업 때문에 &lt;b&gt;파이썬&lt;/b&gt;을 접하게 되면서, 신박하게 &lt;b&gt;파이썬&lt;/b&gt;을 사용해 보고 싶어졌다. 이제서야 겨우 간신히 &lt;b&gt;파이썬&lt;/b&gt; 기초를 다루고... </description><bloggername>창고같지만 금고</bloggername><bloggerlink>blog.naver.com/tsslove</bloggerlink><postdate>20230905</postdate></item>,\n",
       " <item><title>웹크롤링 &lt;b&gt;파이썬&lt;/b&gt; 몰라도 챗GPT 사용법만 알아도 된다.</title><link/>https://blog.naver.com/ocmarketing/223040044418<description>대표적으로, &lt;b&gt;파이썬&lt;/b&gt;에 대한 이해가 있어야 하는데, 예전에 저도 몇번 배우다가 포기를 했습니다.... 일단 챗GPT를 활용해서 &lt;b&gt;파이썬&lt;/b&gt; 코그를 작성하고, 웹 크롤링을 하는 방법은 위의 영상을 통해서 깔끔하게... </description><bloggername>초튜터 X 오씨네학교</bloggername><bloggerlink>blog.naver.com/ocmarketing</bloggerlink><postdate>20230310</postdate></item>]"
      ]
     },
     "execution_count": 39,
     "metadata": {},
     "output_type": "execute_result"
    }
   ],
   "source": [
    "raw_data = response.text\n",
    "soup = BeautifulSoup(raw_data)\n",
    "\n",
    "items = soup.select('item')\n",
    "items"
   ]
  },
  {
   "cell_type": "code",
   "execution_count": 42,
   "id": "4648b438-9836-4d65-b0b1-c494104fbab3",
   "metadata": {},
   "outputs": [
    {
     "data": {
      "text/plain": [
       "'<b>파이썬</b> 자격증 취득방법 및 커트라인'"
      ]
     },
     "execution_count": 42,
     "metadata": {},
     "output_type": "execute_result"
    }
   ],
   "source": [
    "item = items[0]\n",
    "title = item.title.text\n",
    "title"
   ]
  },
  {
   "cell_type": "code",
   "execution_count": 43,
   "id": "6890a02a-22b7-494b-a9c9-83602c01c374",
   "metadata": {},
   "outputs": [
    {
     "name": "stdout",
     "output_type": "stream",
     "text": [
      "<b>파이썬</b> 자격증 취득방법 및 커트라인\n",
      "<b>파이썬</b>자격증 취득방법 및 교육과정!\n",
      "<b>파이썬</b> 학원을 다닌 이유\n",
      "의정부코딩학원 자바 vs <b>파이썬</b> 어느 걸 배워야 할까?\n",
      "마이크로비트 with <b>파이썬</b>_피지컬컴퓨팅\n",
      "<b>파이썬</b> 기초 꿀팁까지 들으며 취업 성공\n",
      "실무위주의 교육과 취업연계 대전<b>파이썬</b>학원\n",
      "주니어 개발자가 본 [나의 첫 알고리즘+자료구조 with <b>파이썬</b>]... \n",
      "<b>파이썬</b> 생활 프로젝트 코딩 - 서승희 / <b>파이썬</b> 기초 및 독학\n",
      "웹크롤링 <b>파이썬</b> 몰라도 챗GPT 사용법만 알아도 된다.\n"
     ]
    }
   ],
   "source": [
    "for item in items :\n",
    "    print(item.title.text)"
   ]
  },
  {
   "cell_type": "code",
   "execution_count": 49,
   "id": "64cb8875-1427-4c6e-80f4-096087e06501",
   "metadata": {},
   "outputs": [
    {
     "data": {
      "text/plain": [
       "200"
      ]
     },
     "execution_count": 49,
     "metadata": {},
     "output_type": "execute_result"
    }
   ],
   "source": [
    "url = 'https://openapi.naver.com/v1/search/book.json'\n",
    "params = {\n",
    "    'query':'에이트'\n",
    "}\n",
    "response = requests.get(url, params=params, headers=headers)\n",
    "response.status_code"
   ]
  },
  {
   "cell_type": "code",
   "execution_count": 50,
   "id": "acbf10a4-8e7f-4ed3-b8e1-0793da8b8e6f",
   "metadata": {},
   "outputs": [
    {
     "data": {
      "text/plain": [
       "{'lastBuildDate': 'Mon, 11 Dec 2023 15:38:59 +0900',\n",
       " 'total': 40,\n",
       " 'start': 1,\n",
       " 'display': 10,\n",
       " 'items': [{'title': '에이트 (인공지능에게 대체되지 않는 나를 만드는 법)',\n",
       "   'link': 'https://search.shopping.naver.com/book/catalog/32436432650',\n",
       "   'image': 'https://shopping-phinf.pstatic.net/main_3243643/32436432650.20230919125215.jpg',\n",
       "   'author': '이지성',\n",
       "   'discount': '14690',\n",
       "   'publisher': '차이정원',\n",
       "   'pubdate': '20191021',\n",
       "   'isbn': '9791188388905',\n",
       "   'description': '인공지능 시대, 지속 가능한 삶을 꿈꾸는 이들을 위한 확실하고 강력한 대응법!\\n\\n인공지능이 인간을 넘어서는 시대, 무엇을 준비할 것인가? 또 어떻게 살아남을 것인가? 세상을 지배하는 0.1%의 인문고전 독서법을 소개한 《리딩으로 리드하라》, 5천 년 역사를 만든 동서양 천재들의 사색공부법을 내세우며 전작의 실전편이라 할 수 있는 《생각하는 인문학》을 선보인 이지성이 그 무엇과도 대체되지 않는 삶을 선택하기 위해 노력하는, 이 시대 모든 사람들에게 세계 상위 0.01%가 실천 중인 ‘에이트’를 제안하는 『에이트』.\\n\\n이 책은 총 3장으로 이루어져 있다. 1장에서는 실리콘밸리와 하버드의 움직임, 메이지 유신 이후 2차 흑선인 일본의 교육혁명 등을 통해 인공지능이 없으면 무엇도 할 수 없는 시대가 오고 있음을 명명백백히 알리고, 2장에서는 실제 인공지능과 사람의 대결을 소개하며 앞으로 10년 뒤에는 우리 자리가 위협당할 수도 있음을 경고한다. 그리고 대체될 수밖에 없는 대한민국의 현주소를 진단한다. \\n\\n그렇다면 어떻게 해야 인공지능에게 지시를 받는 게 아닌 지시를 내리는 사람이 될 수 있을까? 마지막 3장에서 저자는 인공지능이 가질 수 없는 인간 고유의 능력이 곧 공감 능력과 창조적 상상력임을 역설하며 세계 상위 0.01%가 실천 중인 대응법 ‘에이트’를 제안한다. ‘디지털을 차단하라’, ‘인간 고유의 능력을 일깨우는 무기, 철학하라’, ‘바라보고, 나누고, 융합하라’, ‘나에서 너로, 우리를 보라’ 등의 실천 방안을 안내하며 그 무엇과도 대체되지 않는 삶을 살아갈 수 있도록 이끌어준다.'},\n",
       "  {'title': '에이트 씽크 (인공지능의 딥러닝을 이기는 동서양 천재들의 생각법)',\n",
       "   'link': 'https://search.shopping.naver.com/book/catalog/32440650601',\n",
       "   'image': 'https://shopping-phinf.pstatic.net/main_3244065/32440650601.20230606104648.jpg',\n",
       "   'author': '이지성',\n",
       "   'discount': '15300',\n",
       "   'publisher': '차이정원',\n",
       "   'pubdate': '20200915',\n",
       "   'isbn': '9791197126741',\n",
       "   'description': 'AI, 포스트 코로나가 만든 뉴노멀의 시대!\\n인공지능이 복제할 수 없는 생각, Think 하는 뇌를 만들어라!\\n\\n2019년, 120쇄를 돌파하며 한국에서《에이트》열풍을 일으킨 저자 이지성. 2020년에 그가 ‘에이트’를 실천할 수 있는 방법을 담은《에이트: 씽크》로 돌아왔다. 그간 《에이트》를 읽고, 인간만이 할 수 있는 것이 무엇인지 물었던 독자들에게 그는 좀더 구체적으로 ‘인공지능의 딥러닝을 이기는 Think의 힘’을 말한다. \\n저자는 인공지능에게 대체되지 않는 나를 만들기 위해서 공감 능력과 창조적 상상력이 필요하다고 말한다. 이 공감 능력과 창조적 상상력은 ‘Think’를 통해 얻을 수 있다. 공감 능력은 ‘나’를 넘어 ‘너’와 ‘우리’의 입장에서 ‘Think’ 할 때 발휘되고, 창조적 상상력의 불꽃은 기존에 있던 것에 혁신을 일으키는 ‘Think’를 하거나 기존에 없던 새로운 것을 ‘Think’ 할 때 타오르기 때문이다.\\n\\n〉〉〉〉〉     이 도서는 『생각하는 인문학』의 개정증보판입니다.   〉〉〉'},\n",
       "  {'title': '어떻게 원하는 것을 얻는가 (13년 연속 와튼스쿨 최고 인기 강의)',\n",
       "   'link': 'https://search.shopping.naver.com/book/catalog/32454912618',\n",
       "   'image': 'https://shopping-phinf.pstatic.net/main_3245491/32454912618.20220527053423.jpg',\n",
       "   'author': '스튜어트 다이아몬드',\n",
       "   'discount': '5000',\n",
       "   'publisher': '8.0(에이트 포인트)',\n",
       "   'pubdate': '20111130',\n",
       "   'isbn': '9788933870181',\n",
       "   'description': '원하는 것을 얻게 해주는 다이아몬드 교수의 전설적 명강의!\\n\\n13년 연속 와튼스쿨 최고 인기 강의『어떻게 원하는 것을 얻는가』. 세계적인 MBA 와튼스쿨에서 협상코스를 강의하고 있는 스튜어스 다이아몬드 교수가 13년 연속 최고 인기 강의의 명예를 차지한 자신의 강의를 고스란히 책에 담아냈다. 저자는 보통사람들의 통념을 뒤엎는 창의적 문제해결법을 통해 원하는 것을 얻을 수 있는 철저한 방법론들을 소개한다. ‘사람과의 관계’, ‘진정한 의사소통’, ‘원하는 것을 얻는 협상 모델’, ‘실전에 유용한 현상 전략’ 등 협상을 위한 기본적인 개념과 이론을 알려주고, ‘회사에서 인정받는 사람들의 비밀’, ‘가격 흥정의 비밀’, ‘생활의 혜택을 얻는 비밀’ 등 원하는 것을 얻는 비밀을 자신의 컨설팅을 받은 고객과 학생들의 이야기를 통해 들려준다. 저자가 제시한 12가지 협상전략과 협상모델을 통해 독자들은 자신에게 가장 적합한 방법을 찾아 실생활에 활용할 수 있을 것이다.'},\n",
       "  {'title': '4호X경비: 에이트 노트 (에이트 노트)',\n",
       "   'link': 'https://search.shopping.naver.com/book/catalog/32438169849',\n",
       "   'image': 'https://shopping-phinf.pstatic.net/main_3243816/32438169849.20221019131657.jpg',\n",
       "   'author': '후지이 미토리',\n",
       "   'discount': '4050',\n",
       "   'publisher': '대원씨아이',\n",
       "   'pubdate': '20170515',\n",
       "   'isbn': '9791133444809',\n",
       "   'description': '후지이 미토리의 BL만화 『4호X경비: 에이트 노트』. 용모단정, 문무겸비 스페셜리스트가 모인 S&D 시큐리티 4호 경비 부문. 정보 관리실 Mo.1 두뇌파 쿨미남 코우가미 시노부와 경비부 연하 대형견 미하루 신노스케(통칭 : 신)는 일 파트너이자 연인사이다. 대조적인 두 사람이지만 위험을 극복하며 만사가 순조롭다고 생각했다. 하지만 어느 날 갑자기 코우가미는 동거 해제 선언을 하고 심지어 파트너 교대 얘기까지 나오는데-?!'},\n",
       "  {'title': '어떻게 원하는 것을 얻는가(밀리언 특별판) (20년 연속 와튼스쿨 최고 인기 강의)',\n",
       "   'link': 'https://search.shopping.naver.com/book/catalog/32436277286',\n",
       "   'image': 'https://shopping-phinf.pstatic.net/main_3243627/32436277286.20221019105523.jpg',\n",
       "   'author': '스튜어트 다이아몬드',\n",
       "   'discount': '16020',\n",
       "   'publisher': '8.0(에이트 포인트)',\n",
       "   'pubdate': '20171108',\n",
       "   'isbn': '9791196045500',\n",
       "   'description': '세계적인 MBA 와튼스쿨에서 가장 비싼 강의의 주인공, 스튜어트 다이아몬드 교수가 자신의 강의 내용을 책으로 냈다. 입학 시 주어지는 포인트를 걸고 수업을 경매하는 와튼의 독특한 시스템 안에서 20년 연속 최고 인기 강의의 명예를 차지한 전설의 명강의다. 이 강의는 원하는 것을 ‘어떻게’ 얻을 수 있는가에 대한 철저한 방법론들이 소개되고 있다. 다만, 방법론에 있어 기존에 소개되었던 설득이나 말하기, 협상 관련 전문서 등과는 차원을 달리한다. 『어떻게 원하는 것을 얻는가』는 그 강의를 고스란히 옮긴 이른바 ‘책으로 읽는 강의’다.'},\n",
       "  {'title': '온워드(Onward) (스타벅스 CEO 하워드 슐츠의 혁신과 도전)',\n",
       "   'link': 'https://search.shopping.naver.com/book/catalog/32497210933',\n",
       "   'image': 'https://shopping-phinf.pstatic.net/main_3249721/32497210933.20220527052342.jpg',\n",
       "   'author': '하워드 슐츠^조앤 고든',\n",
       "   'discount': '0',\n",
       "   'publisher': '8.0(에이트 포인트)',\n",
       "   'pubdate': '20110419',\n",
       "   'isbn': '9788933870167',\n",
       "   'description': \"쓰러진 스타벅스를 다시 일으켜 세운 감성 리더십!\\n\\nCEO의 관점에서 스타벅스의 변화 과정을 바라본 『온워드 ONWARD』. 이 책은 시가 총액 25조 원의 세계 최대의 커피 회사 '스타벅스'가 2007년 총체적 위기를 맞고 다시 일어선 놀라운 혁신과 도전의 이야기다. 2000년 경영 일선에서 물러났다가 위기에 빠진 회사를 구하고자 8년 만에 CEO로 전격 복귀한 스타벅스 창립자 '하워드 슐츠'. 그는 스타벅스의 초기 경영 이념과 핵심 가치를 되살린 혁신 어젠다를 정립하고 2년에 걸쳐 이를 착실하게 실행하였다. 그 결과 2010년 스타벅스는 11조 원이라는 사상 최대의 매출을 기록하며 해외 진출에 박차를 가하는 등 제2의 전성기를 맞이하게 된다. 직원들의 자발적인 참여를 이끌어내는 독특한 감성 리더십으로 쓰러져가는 스타벅스를 일으켜 세운 그의 이야기를 통해 진한 감동과 용기를 느낄 수 있다.\"},\n",
       "  {'title': '그림의 힘(리커버 에디션) (최상의 리듬을 찾는 내 안의 새로운 변화)',\n",
       "   'link': 'https://search.shopping.naver.com/book/catalog/32486899657',\n",
       "   'image': 'https://shopping-phinf.pstatic.net/main_3248689/32486899657.20230801115716.jpg',\n",
       "   'author': '김선현',\n",
       "   'discount': '0',\n",
       "   'publisher': '에이트포인트',\n",
       "   'pubdate': '20200715',\n",
       "   'isbn': '9791186343135',\n",
       "   'description': '20만 독자가 사랑한 『그림의 힘』이 새로운 모습으로 돌아왔다\\n보는 순간 몸이 먼저 느끼고 일상이 살아나는 그림들\\n\\n명화 보기의 새로운 흐름을 만든 『그림의 힘』 리커버 개정판이 출간되었다. 『그림의 힘』은 2015년 초판 발행 이후, 곁에 두고 바라보기만 하면 최상의 리듬을 찾게 되는 그림들을 소개하며 독자들에게 꾸준히 사랑받아왔다. 시간이 흘러도 관심이 지속된다는 점은 여전히 많은 이가 신체ㆍ정신적으로 고통받고 자기 자신과 삶에 대해 고민한다는 방증이며, 이는 앞으로도 우리가 좋은 그림을 가까이 두고 에너지를 얻어야 하는 이유일 것이다. 『그림의 힘』 리커버 개정판은 사이즈를 줄여 휴대성을 높이는 한편 그림을 편하게 감상할 수 있도록 본문을 구성했다. 빈센트 반 고흐, 바실리 칸딘스키, 앙리 마티스 등 시대의 화가들이 남긴 말을 디자인한 페이지를 명화 사이사이에 넣어 보는 즐거움을 더했다.'},\n",
       "  {'title': '그림의 힘 2 (합격을 부르는 최적의 효과)',\n",
       "   'link': 'https://search.shopping.naver.com/book/catalog/32463522008',\n",
       "   'image': 'https://shopping-phinf.pstatic.net/main_3246352/32463522008.20221019135743.jpg',\n",
       "   'author': '김선현',\n",
       "   'discount': '17820',\n",
       "   'publisher': '8.0(에이트 포인트)',\n",
       "   'pubdate': '20150528',\n",
       "   'isbn': '9791186343029',\n",
       "   'description': '시험을 준비하는 당신을 응원합니다!\\n\\n세계미술치료학회장인 저자 김선현이 즐겁게 그림을 감상하며 그 힘으로 자신을 변화시킬 수 있도록 이끈 《그림의 힘》의 후속편 『그림의 힘』제2권을 선보인다. 그림이 뇌에 긍정적인 여향을 미친다는 것에 부정적인 의견을 내놓는 이는 없을 것이다. 얼마 전 SBS 뉴스에서는 학교 건물의 색감과 디자인을 바꾼 것만으로도 학생들의 주의력 40%, 집중력 27%가 향상되었음을 증명하였고, 영국 리버풀대 연구팀은 대가의 추상화가 뇌의 신경 메커니즘을 자극해 뇌 기능을 활성화 시킨다는 것을 보여주었다. 이 책에서는 수험, 고시, 취업, 면접, 토익 등 각종 시험을 준비하는 이들에게 그림의 힘으로 응원을 전한다.\\n\\n책에 소개된 그림들은 지난 20여 년간의 연구와 임상 현장을 바탕으로 60점을 엄선한 것이다. 귀스타브 쿠르베의 팔라바의 바닷가, 윌리엄 부게로의 작은 소녀, 빈센트 반 고흐의 별이 빛나는 밤, 카스파르 프리드리히의 저녁 등 수험생들이 겪는 힘든 마음에 대한 힐링은 물론, 지친 뇌를 자극하고, 시험 전날의 숙면을 유도하며 집중력과 자신감을 높여준다. 책은 수험생이라는 대상층을 정확히 고려하여 따뜻한 의미부여와 신선한 해석을 들려주어 머리에는 휴식을, 가슴에는 아름다움을 전하고 있다.'},\n",
       "  {'title': '스마트 에이트(Smart 8) 4 (8가지 다중지능을 길러주는 예술융합교육)',\n",
       "   'link': 'https://search.shopping.naver.com/book/catalog/32559385849',\n",
       "   'image': 'https://shopping-phinf.pstatic.net/main_3255938/32559385849.20230321162022.jpg',\n",
       "   'author': '강효정',\n",
       "   'discount': '10800',\n",
       "   'publisher': '세광음악출판사',\n",
       "   'pubdate': '20140301',\n",
       "   'isbn': '9788903110347',\n",
       "   'description': '이 책은 세상을 감동시키는 명화와 그에 어울리는 음악, 무용, 동시를 체험시켜 예술과 문학을 사랑하는 리더로 키워준다. 더불어 자기주도적인 미술활동을 통해 화가들의 기법을 체험하고 자신의 작품을 설명하는 과정에서 스피치 능력을 쌓을 수 있도록 도와준다.'},\n",
       "  {'title': '그림의 힘 디데이북(D-Day Book)',\n",
       "   'link': 'https://search.shopping.naver.com/book/catalog/32492083630',\n",
       "   'image': 'https://shopping-phinf.pstatic.net/main_3249208/32492083630.20220527023007.jpg',\n",
       "   'author': '에이트 포인트',\n",
       "   'discount': '0',\n",
       "   'publisher': '8.0(에이트 포인트)',\n",
       "   'pubdate': '20151204',\n",
       "   'isbn': '9791186343050',\n",
       "   'description': '『그림의 힘 디데이북(D-Day Book)』은 가장 특별한 그림들로 채워진 리미티드 에디션으로, 날짜를 넘기면서 화가의 명언과 그림을 함께 만날 수 있는 캘린더형 북이다. 1일부터 31일까지의 숫자 페이지는 D-Day로도 사용이 가능하며 만년 달력으로도 활용할 수 있다. 반 고흐, 마티스, 뭉크, 모네 등 그림 한 점의 가치가 수억 원에 이르는 화가들의 그림을 가장 원작에 가깝게 구현하는 프린팅디렉션 기술을 적용했다.'}]}"
      ]
     },
     "execution_count": 50,
     "metadata": {},
     "output_type": "execute_result"
    }
   ],
   "source": [
    "data_json = response.json()\n",
    "data_json"
   ]
  },
  {
   "cell_type": "code",
   "execution_count": 53,
   "id": "396939e7-bafa-4619-8963-1f8ef2ed2f2e",
   "metadata": {},
   "outputs": [
    {
     "name": "stdout",
     "output_type": "stream",
     "text": [
      "에이트 (인공지능에게 대체되지 않는 나를 만드는 법)\n",
      "에이트 씽크 (인공지능의 딥러닝을 이기는 동서양 천재들의 생각법)\n",
      "어떻게 원하는 것을 얻는가 (13년 연속 와튼스쿨 최고 인기 강의)\n",
      "4호X경비: 에이트 노트 (에이트 노트)\n",
      "어떻게 원하는 것을 얻는가(밀리언 특별판) (20년 연속 와튼스쿨 최고 인기 강의)\n",
      "온워드(Onward) (스타벅스 CEO 하워드 슐츠의 혁신과 도전)\n",
      "그림의 힘(리커버 에디션) (최상의 리듬을 찾는 내 안의 새로운 변화)\n",
      "그림의 힘 2 (합격을 부르는 최적의 효과)\n",
      "스마트 에이트(Smart 8) 4 (8가지 다중지능을 길러주는 예술융합교육)\n",
      "그림의 힘 디데이북(D-Day Book)\n"
     ]
    }
   ],
   "source": [
    "items = data_json['items']\n",
    "for item in items :\n",
    "    print(item['title'])"
   ]
  }
 ],
 "metadata": {
  "kernelspec": {
   "display_name": "Python 3 (ipykernel)",
   "language": "python",
   "name": "python3"
  },
  "language_info": {
   "codemirror_mode": {
    "name": "ipython",
    "version": 3
   },
   "file_extension": ".py",
   "mimetype": "text/x-python",
   "name": "python",
   "nbconvert_exporter": "python",
   "pygments_lexer": "ipython3",
   "version": "3.11.5"
  },
  "widgets": {
   "application/vnd.jupyter.widget-state+json": {
    "state": {},
    "version_major": 2,
    "version_minor": 0
   }
  }
 },
 "nbformat": 4,
 "nbformat_minor": 5
}
