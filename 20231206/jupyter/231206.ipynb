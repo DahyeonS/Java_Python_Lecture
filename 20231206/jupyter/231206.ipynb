{
 "cells": [
  {
   "cell_type": "code",
   "execution_count": 1,
   "id": "42603de6-b52e-46f8-a96f-e974d23b7d05",
   "metadata": {},
   "outputs": [],
   "source": [
    "import re\n",
    "from re import findall, match, sub"
   ]
  },
  {
   "cell_type": "code",
   "execution_count": 2,
   "id": "045e7127-ee55-46d1-bf9e-06e69e91d744",
   "metadata": {},
   "outputs": [],
   "source": [
    "st1 = '1234 abc홍길동 ABC_555_6 이사도시'\n",
    "st2 = 'test1abcABC 123mbc 45test'\n",
    "st3 = 'test^홍길동 abc 대한*민국 123$tbc'"
   ]
  },
  {
   "cell_type": "code",
   "execution_count": 3,
   "id": "914ea96d-5be0-4f45-a1e2-eb4a1a2215c4",
   "metadata": {},
   "outputs": [
    {
     "data": {
      "text/plain": [
       "['1234']"
      ]
     },
     "execution_count": 3,
     "metadata": {},
     "output_type": "execute_result"
    }
   ],
   "source": [
    "pt = '1234'\n",
    "findall(pt, st1)"
   ]
  },
  {
   "cell_type": "code",
   "execution_count": 4,
   "id": "1ee62dd7-eba2-4213-9d41-e0240162e3ea",
   "metadata": {},
   "outputs": [
    {
     "data": {
      "text/plain": [
       "['1', '2', '3', '4', '5', '5', '5', '6']"
      ]
     },
     "execution_count": 4,
     "metadata": {},
     "output_type": "execute_result"
    }
   ],
   "source": [
    "pt = '[0-9]'\n",
    "findall(pt, st1)"
   ]
  },
  {
   "cell_type": "code",
   "execution_count": 5,
   "id": "e348b970-fa12-450b-9eca-427c82ceeb5f",
   "metadata": {},
   "outputs": [
    {
     "data": {
      "text/plain": [
       "['123', '555']"
      ]
     },
     "execution_count": 5,
     "metadata": {},
     "output_type": "execute_result"
    }
   ],
   "source": [
    "pt = '[0-9]{3}'\n",
    "findall(pt, st1)"
   ]
  },
  {
   "cell_type": "code",
   "execution_count": 6,
   "id": "2c3c577e-7f8d-47ec-86eb-87e89abf37a6",
   "metadata": {},
   "outputs": [
    {
     "data": {
      "text/plain": [
       "['1234', '555']"
      ]
     },
     "execution_count": 6,
     "metadata": {},
     "output_type": "execute_result"
    }
   ],
   "source": [
    "pt = '[0-9]{3,}'\n",
    "findall(pt, st1)"
   ]
  },
  {
   "cell_type": "code",
   "execution_count": 7,
   "id": "03d59f21-555a-4c45-b923-b8997ceaba07",
   "metadata": {},
   "outputs": [
    {
     "data": {
      "text/plain": [
       "['1234', '555']"
      ]
     },
     "execution_count": 7,
     "metadata": {},
     "output_type": "execute_result"
    }
   ],
   "source": [
    "pt = '[0-9]{2,4}'\n",
    "findall(pt, st1)"
   ]
  },
  {
   "cell_type": "code",
   "execution_count": 9,
   "id": "1397f6ea-8abc-47cc-b649-a456bcb22501",
   "metadata": {},
   "outputs": [
    {
     "data": {
      "text/plain": [
       "['1234', '555']"
      ]
     },
     "execution_count": 9,
     "metadata": {},
     "output_type": "execute_result"
    }
   ],
   "source": [
    "pt = '\\d{2,4}'\n",
    "findall(pt, st1)"
   ]
  },
  {
   "cell_type": "code",
   "execution_count": 14,
   "id": "da352c44-d5e5-4f7f-9c4a-6bcdff17af59",
   "metadata": {},
   "outputs": [
    {
     "data": {
      "text/plain": [
       "['ab', 'AB']"
      ]
     },
     "execution_count": 14,
     "metadata": {},
     "output_type": "execute_result"
    }
   ],
   "source": [
    "pt = '[a-zA-Z]{2}'\n",
    "findall(pt, st1)"
   ]
  },
  {
   "cell_type": "code",
   "execution_count": 15,
   "id": "cf1b6164-32f4-4048-851e-7a932245c020",
   "metadata": {},
   "outputs": [
    {
     "data": {
      "text/plain": [
       "['홍길동', '이사도시']"
      ]
     },
     "execution_count": 15,
     "metadata": {},
     "output_type": "execute_result"
    }
   ],
   "source": [
    "pt = '[가-힣]{2,}'\n",
    "findall(pt, st1)"
   ]
  },
  {
   "cell_type": "code",
   "execution_count": 16,
   "id": "41a5fad1-889a-4726-bc1e-4b51a4941f30",
   "metadata": {},
   "outputs": [
    {
     "data": {
      "text/plain": [
       "['1234', 'abc홍길동', 'ABC_555_6', '이사도시']"
      ]
     },
     "execution_count": 16,
     "metadata": {},
     "output_type": "execute_result"
    }
   ],
   "source": [
    "st_list = st1.split()\n",
    "st_list"
   ]
  },
  {
   "cell_type": "code",
   "execution_count": 17,
   "id": "4998fa3c-c4ac-4322-b0cf-3f83dc53a493",
   "metadata": {},
   "outputs": [
    {
     "data": {
      "text/plain": [
       "['홍길동', '이사도시']"
      ]
     },
     "execution_count": 17,
     "metadata": {},
     "output_type": "execute_result"
    }
   ],
   "source": [
    "names = []\n",
    "for st in st_list :\n",
    "    name = findall('[가-힣]{3,}', st)\n",
    "    if name :\n",
    "        names.append(name[0])\n",
    "names"
   ]
  },
  {
   "cell_type": "code",
   "execution_count": 26,
   "id": "53e275a5-d1df-40c3-9a65-1fecd5fb0ff1",
   "metadata": {},
   "outputs": [
    {
     "name": "stdout",
     "output_type": "stream",
     "text": [
      "test1abcABC 123mbc 45test\n",
      "atest1abcABC 123mbc 45test\n"
     ]
    },
    {
     "data": {
      "text/plain": [
       "(['test'], ['st'])"
      ]
     },
     "execution_count": 26,
     "metadata": {},
     "output_type": "execute_result"
    }
   ],
   "source": [
    "st22 = st2\n",
    "st22 = 'a' + st22\n",
    "print(st2)\n",
    "print(st22)\n",
    "pt = '^test' # test로 시작\n",
    "pt2 = 'st$' # st로 끝남\n",
    "findall(pt, st2), findall(pt2, st2)"
   ]
  },
  {
   "cell_type": "code",
   "execution_count": 27,
   "id": "c2c74120-a02d-482d-a7c4-5a055726257b",
   "metadata": {},
   "outputs": [
    {
     "name": "stdout",
     "output_type": "stream",
     "text": [
      "test1abcABC 123mbc 45test\n"
     ]
    },
    {
     "data": {
      "text/plain": [
       "['abc', 'mbc']"
      ]
     },
     "execution_count": 27,
     "metadata": {},
     "output_type": "execute_result"
    }
   ],
   "source": [
    "print(st2)\n",
    "pt = '.bc'\n",
    "findall(pt, st2)"
   ]
  },
  {
   "cell_type": "code",
   "execution_count": 28,
   "id": "23dd43fe-fc96-4aec-bc10-7b17c55e2f5f",
   "metadata": {},
   "outputs": [
    {
     "name": "stdout",
     "output_type": "stream",
     "text": [
      "test1abcABC 123mbc 45test\n"
     ]
    },
    {
     "data": {
      "text/plain": [
       "['st', '5t', 'st']"
      ]
     },
     "execution_count": 28,
     "metadata": {},
     "output_type": "execute_result"
    }
   ],
   "source": [
    "print(st2)\n",
    "pt = '.t'\n",
    "findall(pt, st2)"
   ]
  },
  {
   "cell_type": "code",
   "execution_count": 29,
   "id": "b3708129-12a7-4590-87b7-baa0164e642f",
   "metadata": {},
   "outputs": [
    {
     "name": "stdout",
     "output_type": "stream",
     "text": [
      "test1abcABC 123mbc 45test\n"
     ]
    },
    {
     "data": {
      "text/plain": [
       "['te', 't1', 'te']"
      ]
     },
     "execution_count": 29,
     "metadata": {},
     "output_type": "execute_result"
    }
   ],
   "source": [
    "print(st2)\n",
    "pt = 't.'\n",
    "findall(pt, st2)"
   ]
  },
  {
   "cell_type": "code",
   "execution_count": 32,
   "id": "0e21c216-db5b-4f0c-91af-daf11bd40bf9",
   "metadata": {},
   "outputs": [
    {
     "name": "stdout",
     "output_type": "stream",
     "text": [
      "test^홍길동 abc 대한*민국 123$tbc\n"
     ]
    },
    {
     "data": {
      "text/plain": [
       "['test^홍길동 abc 대한*민국 ', '$tbc']"
      ]
     },
     "execution_count": 32,
     "metadata": {},
     "output_type": "execute_result"
    }
   ],
   "source": [
    "print(st3)\n",
    "findall('\\D{3,}', st3)"
   ]
  },
  {
   "cell_type": "code",
   "execution_count": 33,
   "id": "bcfff9f0-fd85-47c5-910f-b13cb6f8565f",
   "metadata": {},
   "outputs": [
    {
     "name": "stdout",
     "output_type": "stream",
     "text": [
      "test^홍길동 abc 대한*민국 123$tbc\n"
     ]
    },
    {
     "data": {
      "text/plain": [
       "[]"
      ]
     },
     "execution_count": 33,
     "metadata": {},
     "output_type": "execute_result"
    }
   ],
   "source": [
    "print(st3)\n",
    "findall('^[^t]', st3)"
   ]
  },
  {
   "cell_type": "code",
   "execution_count": 34,
   "id": "bf6d7e76-73e9-4f24-8b53-be40a8095a3a",
   "metadata": {},
   "outputs": [
    {
     "name": "stdout",
     "output_type": "stream",
     "text": [
      "test^홍길동 abc 대한*민국 123$tbc\n"
     ]
    },
    {
     "data": {
      "text/plain": [
       "['es', '^홍길동 abc 대한*민국 123$', 'bc']"
      ]
     },
     "execution_count": 34,
     "metadata": {},
     "output_type": "execute_result"
    }
   ],
   "source": [
    "print(st3)\n",
    "findall('[^t]+', st3)"
   ]
  },
  {
   "cell_type": "code",
   "execution_count": 35,
   "id": "587665a6-0714-426c-a7f3-ff26042bd9b6",
   "metadata": {},
   "outputs": [
    {
     "name": "stdout",
     "output_type": "stream",
     "text": [
      "test^홍길동 abc 대한*민국 123$tbc\n"
     ]
    },
    {
     "data": {
      "text/plain": [
       "['test', '홍길동 abc 대한', '민국 123', 'tbc']"
      ]
     },
     "execution_count": 35,
     "metadata": {},
     "output_type": "execute_result"
    }
   ],
   "source": [
    "print(st3)\n",
    "findall('[^^*$]+', st3) # 특수문자 제거"
   ]
  },
  {
   "cell_type": "code",
   "execution_count": 36,
   "id": "f9b57e3d-f3a5-4c01-9d0a-46e4c36c7b1d",
   "metadata": {},
   "outputs": [],
   "source": [
    "from re import match"
   ]
  },
  {
   "cell_type": "code",
   "execution_count": 44,
   "id": "8eb61cf6-d632-499a-b0c8-dca32e17a58b",
   "metadata": {},
   "outputs": [
    {
     "name": "stdout",
     "output_type": "stream",
     "text": [
      "일치\n"
     ]
    },
    {
     "data": {
      "text/plain": [
       "'123456-3234567'"
      ]
     },
     "execution_count": 44,
     "metadata": {},
     "output_type": "execute_result"
    }
   ],
   "source": [
    "jumin = '123456-3234567'\n",
    "pt = '[0-9]{6}-[1-4][0-9]{6}'\n",
    "rs = match(pt, jumin)\n",
    "if rs :\n",
    "    print('일치')\n",
    "else :\n",
    "    print('불일치')\n",
    "rs.group()"
   ]
  },
  {
   "cell_type": "code",
   "execution_count": 45,
   "id": "35199660-dcaf-49bd-b68f-b7b49303dd87",
   "metadata": {},
   "outputs": [
    {
     "name": "stdout",
     "output_type": "stream",
     "text": [
      "test^홍길동 abc 대한*민국 123$tbc\n"
     ]
    },
    {
     "data": {
      "text/plain": [
       "'test홍길동 abc 대한민국 123tbc'"
      ]
     },
     "execution_count": 45,
     "metadata": {},
     "output_type": "execute_result"
    }
   ],
   "source": [
    "print(st3)\n",
    "pt = '[\\n^*$]'\n",
    "sub(pt, '', st3)"
   ]
  },
  {
   "cell_type": "code",
   "execution_count": 46,
   "id": "7c1d1a9e-9363-4f31-af22-7263d0d556f5",
   "metadata": {},
   "outputs": [
    {
     "name": "stdout",
     "output_type": "stream",
     "text": [
      "test^홍길동 abc 대한*민국 123$tbc\n"
     ]
    },
    {
     "data": {
      "text/plain": [
       "'test^홍길동 abc 대한*민국 $tbc'"
      ]
     },
     "execution_count": 46,
     "metadata": {},
     "output_type": "execute_result"
    }
   ],
   "source": [
    "print(st3)\n",
    "pt = '[0-9]'\n",
    "sub(pt, '', st3)"
   ]
  },
  {
   "cell_type": "code",
   "execution_count": 53,
   "id": "7b1fdf6c-d20d-40fc-b8b1-ddaa182ac8a8",
   "metadata": {},
   "outputs": [],
   "source": [
    "from re import split, compile"
   ]
  },
  {
   "cell_type": "code",
   "execution_count": 47,
   "id": "f6cc6baa-98e7-4a79-a3c1-a9bd1f50ddee",
   "metadata": {},
   "outputs": [],
   "source": [
    "data = '''http://www.naver.com\n",
    "http://www.daum.net\n",
    "http://www.hong.com'''"
   ]
  },
  {
   "cell_type": "code",
   "execution_count": 50,
   "id": "9190d540-ab0a-4e6e-9b48-fbdf38e671d3",
   "metadata": {},
   "outputs": [
    {
     "data": {
      "text/plain": [
       "['http://www.naver.com', 'http://www.daum.net', 'http://www.hong.com']"
      ]
     },
     "execution_count": 50,
     "metadata": {},
     "output_type": "execute_result"
    }
   ],
   "source": [
    "web = split('\\n', data)\n",
    "web"
   ]
  },
  {
   "cell_type": "code",
   "execution_count": 55,
   "id": "e638d0d7-cffd-49ba-bbcd-553351c7c3d0",
   "metadata": {},
   "outputs": [
    {
     "data": {
      "text/plain": [
       "['http://www.naver.com', 'http://www.daum.net', 'http://www.hong.com']"
      ]
     },
     "execution_count": 55,
     "metadata": {},
     "output_type": "execute_result"
    }
   ],
   "source": [
    "pat = compile('http://')\n",
    "[site for site in web if match(pat, site)]"
   ]
  },
  {
   "cell_type": "code",
   "execution_count": 56,
   "id": "db41965e-abca-4db1-907b-0d05e821d74b",
   "metadata": {},
   "outputs": [],
   "source": [
    "texts = [' 우리나라    대한민국, 우리나라%$ 만세', '비아그&라 500GRAM 정력 최고!', '나는 대한민국 사람', '보험료 15000원에 평생 보장 마감 임박', '나는 홍길동']"
   ]
  },
  {
   "cell_type": "code",
   "execution_count": 60,
   "id": "e8c2ce18-7e4a-4343-a5c5-a2e1aa36616e",
   "metadata": {},
   "outputs": [
    {
     "data": {
      "text/plain": [
       "[' 우리나라    대한민국, 우리나라%$ 만세',\n",
       " '비아그&라 500gram 정력 최고!',\n",
       " '나는 대한민국 사람',\n",
       " '보험료 15000원에 평생 보장 마감 임박',\n",
       " '나는 홍길동']"
      ]
     },
     "execution_count": 60,
     "metadata": {},
     "output_type": "execute_result"
    }
   ],
   "source": [
    "string = 'ABC'\n",
    "string.lower()\n",
    "texts_re1 = [i.lower() for i in texts]\n",
    "texts_re1"
   ]
  },
  {
   "cell_type": "code",
   "execution_count": 63,
   "id": "7b06ccce-d07c-456e-8d4b-f0882bdad08a",
   "metadata": {},
   "outputs": [
    {
     "data": {
      "text/plain": [
       "[' 우리나라    대한민국, 우리나라%$ 만세',\n",
       " '비아그&라 gram 정력 최고!',\n",
       " '나는 대한민국 사람',\n",
       " '보험료 원에 평생 보장 마감 임박',\n",
       " '나는 홍길동']"
      ]
     },
     "execution_count": 63,
     "metadata": {},
     "output_type": "execute_result"
    }
   ],
   "source": [
    "texts_re2 = [sub('[0-9]', '', i) for i in texts_re1]\n",
    "texts_re2"
   ]
  },
  {
   "cell_type": "code",
   "execution_count": 64,
   "id": "605fdddd-b3cb-4b46-91ef-f34a9beba7e9",
   "metadata": {},
   "outputs": [
    {
     "data": {
      "text/plain": [
       "[' 우리나라    대한민국 우리나라%$ 만세',\n",
       " '비아그&라 gram 정력 최고',\n",
       " '나는 대한민국 사람',\n",
       " '보험료 원에 평생 보장 마감 임박',\n",
       " '나는 홍길동']"
      ]
     },
     "execution_count": 64,
     "metadata": {},
     "output_type": "execute_result"
    }
   ],
   "source": [
    "texts_re3 = [sub('[,.?!:;]', '', i) for i in texts_re2]\n",
    "texts_re3"
   ]
  },
  {
   "cell_type": "code",
   "execution_count": 66,
   "id": "06254765-7801-45e9-a35e-981b7158c3a6",
   "metadata": {},
   "outputs": [
    {
     "data": {
      "text/plain": [
       "[' 우리나라    대한민국 우리나라 만세',\n",
       " '비아그라 gram 정력 최고',\n",
       " '나는 대한민국 사람',\n",
       " '보험료 원에 평생 보장 마감 임박',\n",
       " '나는 홍길동']"
      ]
     },
     "execution_count": 66,
     "metadata": {},
     "output_type": "execute_result"
    }
   ],
   "source": [
    "texts_re4 = [sub('[@#$%^&*()]', '', i) for i in texts_re3]\n",
    "texts_re4"
   ]
  },
  {
   "cell_type": "code",
   "execution_count": 68,
   "id": "99e1f5ae-1165-4192-8a4a-1ab44e78ff35",
   "metadata": {},
   "outputs": [
    {
     "data": {
      "text/plain": [
       "[' 우리나라    대한민국 우리나라 만세',\n",
       " '비아그라  정력 최고',\n",
       " '나는 대한민국 사람',\n",
       " '보험료 원에 평생 보장 마감 임박',\n",
       " '나는 홍길동']"
      ]
     },
     "execution_count": 68,
     "metadata": {},
     "output_type": "execute_result"
    }
   ],
   "source": [
    "texts_re5 = [sub('[a-zA-z]', '', i) for i in texts_re4]\n",
    "texts_re5"
   ]
  },
  {
   "cell_type": "code",
   "execution_count": 70,
   "id": "587de575-1a3a-466c-a252-90900d5114d6",
   "metadata": {},
   "outputs": [
    {
     "data": {
      "text/plain": [
       "[['우리나라', '대한민국', '우리나라', '만세'],\n",
       " ['비아그라', '정력', '최고'],\n",
       " ['나는', '대한민국', '사람'],\n",
       " ['보험료', '원에', '평생', '보장', '마감', '임박'],\n",
       " ['나는', '홍길동']]"
      ]
     },
     "execution_count": 70,
     "metadata": {},
     "output_type": "execute_result"
    }
   ],
   "source": [
    "[i.split() for i in texts_re5]"
   ]
  },
  {
   "cell_type": "code",
   "execution_count": 72,
   "id": "0e047943-1087-485e-b13c-f4bc8d98c494",
   "metadata": {},
   "outputs": [
    {
     "data": {
      "text/plain": [
       "'우리나라 대한민국 우리나라 만세'"
      ]
     },
     "execution_count": 72,
     "metadata": {},
     "output_type": "execute_result"
    }
   ],
   "source": [
    "s = ['우리나라', '대한민국', '우리나라', '만세']\n",
    "' '.join(s)"
   ]
  },
  {
   "cell_type": "code",
   "execution_count": 77,
   "id": "89abe722-0ba9-4efd-b4c6-fb4efc0a6bd5",
   "metadata": {},
   "outputs": [
    {
     "data": {
      "text/plain": [
       "['우리나라 대한민국 우리나라 만세',\n",
       " '비아그라 정력 최고',\n",
       " '나는 대한민국 사람',\n",
       " '보험료 원에 평생 보장 마감 임박',\n",
       " '나는 홍길동']"
      ]
     },
     "execution_count": 77,
     "metadata": {},
     "output_type": "execute_result"
    }
   ],
   "source": [
    "[' '.join(i.split()) for i in texts_re5]"
   ]
  },
  {
   "cell_type": "code",
   "execution_count": 78,
   "id": "5e2bdf19-ea01-4133-983e-5f36545c38e9",
   "metadata": {},
   "outputs": [
    {
     "data": {
      "text/plain": [
       "['우리나라',\n",
       " '대한민국',\n",
       " '우리나라',\n",
       " '만세',\n",
       " '비아그라',\n",
       " '정력',\n",
       " '최고',\n",
       " '나는',\n",
       " '대한민국',\n",
       " '사람',\n",
       " '보험료',\n",
       " '원에',\n",
       " '평생',\n",
       " '보장',\n",
       " '마감',\n",
       " '임박',\n",
       " '나는',\n",
       " '홍길동']"
      ]
     },
     "execution_count": 78,
     "metadata": {},
     "output_type": "execute_result"
    }
   ],
   "source": [
    "words = []\n",
    "for i in texts_re5 :\n",
    "    for w in (i.split()) :\n",
    "        words.append(w)\n",
    "words"
   ]
  },
  {
   "cell_type": "code",
   "execution_count": 84,
   "id": "de84dcec-9d64-4bd0-b4fc-69df7984709f",
   "metadata": {},
   "outputs": [
    {
     "data": {
      "text/plain": [
       "[1, 1]"
      ]
     },
     "execution_count": 84,
     "metadata": {},
     "output_type": "execute_result"
    }
   ],
   "source": [
    "label = ['spam', 'ham', 'spam', 'ham', 'ham']\n",
    "[1 for i in label if i == 'spam']"
   ]
  },
  {
   "cell_type": "code",
   "execution_count": 85,
   "id": "6fbcdecc-5a16-4a3a-9dde-d7873843622e",
   "metadata": {},
   "outputs": [
    {
     "data": {
      "text/plain": [
       "[1, 0, 1, 0, 0]"
      ]
     },
     "execution_count": 85,
     "metadata": {},
     "output_type": "execute_result"
    }
   ],
   "source": [
    "[1 if x == 'spam' else 0 for x in label]"
   ]
  }
 ],
 "metadata": {
  "kernelspec": {
   "display_name": "Python 3 (ipykernel)",
   "language": "python",
   "name": "python3"
  },
  "language_info": {
   "codemirror_mode": {
    "name": "ipython",
    "version": 3
   },
   "file_extension": ".py",
   "mimetype": "text/x-python",
   "name": "python",
   "nbconvert_exporter": "python",
   "pygments_lexer": "ipython3",
   "version": "3.11.5"
  },
  "widgets": {
   "application/vnd.jupyter.widget-state+json": {
    "state": {},
    "version_major": 2,
    "version_minor": 0
   }
  }
 },
 "nbformat": 4,
 "nbformat_minor": 5
}
