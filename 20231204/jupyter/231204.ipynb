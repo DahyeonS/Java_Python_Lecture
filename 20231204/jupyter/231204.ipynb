{
 "cells": [
  {
   "cell_type": "code",
   "execution_count": 3,
   "id": "467d5995",
   "metadata": {},
   "outputs": [],
   "source": [
    "def func1(name, *names) :\n",
    "    print(name)\n",
    "    print(names) # tuple\n",
    "    print(names[2])"
   ]
  },
  {
   "cell_type": "code",
   "execution_count": 4,
   "id": "4ee50354",
   "metadata": {},
   "outputs": [
    {
     "name": "stdout",
     "output_type": "stream",
     "text": [
      "hong1\n",
      "('hong2', 'hong3', 'kim', 'park')\n",
      "kim\n"
     ]
    }
   ],
   "source": [
    "func1('hong1', 'hong2', 'hong3', 'kim', 'park')"
   ]
  },
  {
   "cell_type": "code",
   "execution_count": 5,
   "id": "56380641",
   "metadata": {},
   "outputs": [],
   "source": [
    "from statistics import mean, variance, stdev"
   ]
  },
  {
   "cell_type": "code",
   "execution_count": 14,
   "id": "90d28bc1",
   "metadata": {},
   "outputs": [],
   "source": [
    "def statis(func, *data) : \n",
    "    if func == 'avg' :\n",
    "        return mean(data)\n",
    "    elif func == 'var' :\n",
    "        return variance(data)\n",
    "    elif func == 'std' :\n",
    "        return stdev(data)\n",
    "    else :\n",
    "        print('Type Error')"
   ]
  },
  {
   "cell_type": "code",
   "execution_count": 15,
   "id": "8d66a1e0",
   "metadata": {},
   "outputs": [
    {
     "name": "stdout",
     "output_type": "stream",
     "text": [
      "avg = 3\n",
      "var = 2.5\n",
      "std = 1.58\n"
     ]
    }
   ],
   "source": [
    "print('avg =', statis('avg', 1, 2, 3, 4, 5))\n",
    "print('var =', statis('var', 1, 2, 3, 4, 5))\n",
    "print('std =', round(statis('std', 1, 2, 3, 4, 5), 2))"
   ]
  },
  {
   "cell_type": "code",
   "execution_count": 16,
   "id": "60a201e4",
   "metadata": {},
   "outputs": [],
   "source": [
    "def statis2(func, data) : # list로 변수 입력\n",
    "    if func == 'avg' :\n",
    "        return mean(data)\n",
    "    elif func == 'var' :\n",
    "        return variance(data)\n",
    "    elif func == 'std' :\n",
    "        return stdev(data)\n",
    "    else :\n",
    "        print('Type Error')"
   ]
  },
  {
   "cell_type": "code",
   "execution_count": 17,
   "id": "41861590",
   "metadata": {},
   "outputs": [
    {
     "name": "stdout",
     "output_type": "stream",
     "text": [
      "avg = 3\n",
      "var = 2.5\n",
      "std = 1.58\n"
     ]
    }
   ],
   "source": [
    "print('avg =', statis2('avg', [1, 2, 3, 4, 5]))\n",
    "print('var =', statis2('var', [1, 2, 3, 4, 5]))\n",
    "print('std =', round(statis2('std', [1, 2, 3, 4, 5]), 2))"
   ]
  },
  {
   "cell_type": "code",
   "execution_count": 18,
   "id": "83fdc65d",
   "metadata": {},
   "outputs": [],
   "source": [
    "def emp_func(name, age, **other) : # dict 처리\n",
    "    print(name, age)\n",
    "    print(other)"
   ]
  },
  {
   "cell_type": "code",
   "execution_count": 19,
   "id": "815bb98b",
   "metadata": {},
   "outputs": [
    {
     "name": "stdout",
     "output_type": "stream",
     "text": [
      "hong 23\n",
      "{'addr': '서울', 'height': 180, 'weight': 70}\n"
     ]
    }
   ],
   "source": [
    "emp_func('hong', 23, addr='서울', height=180, weight=70)"
   ]
  },
  {
   "cell_type": "markdown",
   "id": "8e34374e",
   "metadata": {},
   "source": [
    "## 람다함수\n",
    "- 정의와 호출을 한 번에\n",
    "\n",
    "변수 = lambda 매개변수 : 리턴값"
   ]
  },
  {
   "cell_type": "code",
   "execution_count": 20,
   "id": "6062c05a",
   "metadata": {},
   "outputs": [],
   "source": [
    "def Adder(x, y) :\n",
    "    add = x + y\n",
    "    return add"
   ]
  },
  {
   "cell_type": "code",
   "execution_count": 21,
   "id": "d18c8777",
   "metadata": {},
   "outputs": [
    {
     "name": "stdout",
     "output_type": "stream",
     "text": [
      "add = 30\n"
     ]
    }
   ],
   "source": [
    "print('add =', Adder(10, 20))"
   ]
  },
  {
   "cell_type": "code",
   "execution_count": 22,
   "id": "6f4bc80b",
   "metadata": {},
   "outputs": [
    {
     "name": "stdout",
     "output_type": "stream",
     "text": [
      "add = 30\n"
     ]
    }
   ],
   "source": [
    "print('add =', (lambda x, y : x + y)(10, 20))"
   ]
  },
  {
   "cell_type": "code",
   "execution_count": 23,
   "id": "5c4e930a",
   "metadata": {},
   "outputs": [
    {
     "data": {
      "text/plain": [
       "30"
      ]
     },
     "execution_count": 23,
     "metadata": {},
     "output_type": "execute_result"
    }
   ],
   "source": [
    "Adder2 = lambda x, y : x + y\n",
    "Adder2(10, 20)"
   ]
  },
  {
   "cell_type": "code",
   "execution_count": 24,
   "id": "90c529c3",
   "metadata": {},
   "outputs": [],
   "source": [
    "calc = lambda dan, su : dan * su"
   ]
  },
  {
   "cell_type": "code",
   "execution_count": 25,
   "id": "b62c3ee1",
   "metadata": {},
   "outputs": [
    {
     "data": {
      "text/plain": [
       "10"
      ]
     },
     "execution_count": 25,
     "metadata": {},
     "output_type": "execute_result"
    }
   ],
   "source": [
    "calc(2, 5)"
   ]
  },
  {
   "cell_type": "code",
   "execution_count": 26,
   "id": "fa1b2bfb",
   "metadata": {},
   "outputs": [],
   "source": [
    "calc = lambda dan, *su, **product : print(dan, su, product)"
   ]
  },
  {
   "cell_type": "code",
   "execution_count": 27,
   "id": "bf3f86c6",
   "metadata": {},
   "outputs": [
    {
     "name": "stdout",
     "output_type": "stream",
     "text": [
      "2 (1, 2, 3, 4, 5) {'a': 1000, 'b': 2}\n"
     ]
    }
   ],
   "source": [
    "calc(2, 1, 2, 3, 4, 5, a=1000, b=2) # dan = 2 su = 1, 2, 3, 4, 5"
   ]
  },
  {
   "cell_type": "markdown",
   "id": "fffc4cec",
   "metadata": {},
   "source": [
    "## 지역변수와 전역변수"
   ]
  },
  {
   "cell_type": "code",
   "execution_count": 38,
   "id": "70cc632b",
   "metadata": {},
   "outputs": [],
   "source": [
    "x = 10\n",
    "def local_func(x) :\n",
    "    x += 50"
   ]
  },
  {
   "cell_type": "code",
   "execution_count": 34,
   "id": "fcbdcf7d",
   "metadata": {
    "scrolled": true
   },
   "outputs": [
    {
     "name": "stdout",
     "output_type": "stream",
     "text": [
      "10\n"
     ]
    }
   ],
   "source": [
    "local_func(100)\n",
    "print(x)"
   ]
  },
  {
   "cell_type": "code",
   "execution_count": 37,
   "id": "7ce06cce",
   "metadata": {},
   "outputs": [
    {
     "name": "stdout",
     "output_type": "stream",
     "text": [
      "150\n"
     ]
    }
   ],
   "source": [
    "x = 10\n",
    "def local_func(x) :\n",
    "    x += 50\n",
    "    return x\n",
    "\n",
    "x = local_func(100)\n",
    "print(x)"
   ]
  },
  {
   "cell_type": "code",
   "execution_count": 41,
   "id": "2044f58d",
   "metadata": {},
   "outputs": [
    {
     "name": "stdout",
     "output_type": "stream",
     "text": [
      "150\n"
     ]
    }
   ],
   "source": [
    "x = 10\n",
    "def local_func(x) :\n",
    "    x[0] += 50\n",
    "\n",
    "x = [100]\n",
    "local_func(x)\n",
    "print(x[0])"
   ]
  },
  {
   "cell_type": "code",
   "execution_count": 49,
   "id": "4b5cf8d0",
   "metadata": {},
   "outputs": [],
   "source": [
    "x = 100\n",
    "def global_func() :\n",
    "    global x\n",
    "    x += 50"
   ]
  },
  {
   "cell_type": "code",
   "execution_count": 50,
   "id": "50e17da3",
   "metadata": {},
   "outputs": [
    {
     "name": "stdout",
     "output_type": "stream",
     "text": [
      "150\n"
     ]
    }
   ],
   "source": [
    "global_func()\n",
    "print(x)"
   ]
  },
  {
   "cell_type": "markdown",
   "id": "b2cfa481",
   "metadata": {},
   "source": [
    "## 중첩함수"
   ]
  },
  {
   "cell_type": "code",
   "execution_count": 51,
   "id": "182c37f8",
   "metadata": {},
   "outputs": [],
   "source": [
    "def a() :\n",
    "    print('outer a')\n",
    "    def b() :\n",
    "        print('inner b')\n",
    "    return b"
   ]
  },
  {
   "cell_type": "code",
   "execution_count": 52,
   "id": "f0014efe",
   "metadata": {},
   "outputs": [
    {
     "name": "stdout",
     "output_type": "stream",
     "text": [
      "outer a\n"
     ]
    },
    {
     "data": {
      "text/plain": [
       "<function __main__.a.<locals>.b()>"
      ]
     },
     "execution_count": 52,
     "metadata": {},
     "output_type": "execute_result"
    }
   ],
   "source": [
    "a()"
   ]
  },
  {
   "cell_type": "code",
   "execution_count": 53,
   "id": "1021cbbb",
   "metadata": {},
   "outputs": [
    {
     "name": "stdout",
     "output_type": "stream",
     "text": [
      "outer a\n",
      "inner b\n"
     ]
    }
   ],
   "source": [
    "rs = a()\n",
    "rs()"
   ]
  },
  {
   "cell_type": "code",
   "execution_count": 54,
   "id": "f53cb1bd",
   "metadata": {},
   "outputs": [],
   "source": [
    "def calc(data) :\n",
    "    dataset = data\n",
    "    \n",
    "    def tot() :\n",
    "        tot_val = sum(dataset)\n",
    "        return tot_val\n",
    "\n",
    "    def avg(tot_val) :\n",
    "        avg_val = tot_val / len(dataset)\n",
    "        return avg_val\n",
    "    \n",
    "    return tot, avg"
   ]
  },
  {
   "cell_type": "code",
   "execution_count": 58,
   "id": "6f8cb399",
   "metadata": {},
   "outputs": [
    {
     "name": "stdout",
     "output_type": "stream",
     "text": [
      "5050 50.5\n"
     ]
    }
   ],
   "source": [
    "data = list(range(1, 101))\n",
    "tot, avg = calc(data)\n",
    "print(tot(), avg(tot()))"
   ]
  },
  {
   "cell_type": "code",
   "execution_count": 59,
   "id": "28fa8867",
   "metadata": {},
   "outputs": [],
   "source": [
    "from statistics import mean\n",
    "from math import sqrt"
   ]
  },
  {
   "cell_type": "code",
   "execution_count": 60,
   "id": "670f3d4f",
   "metadata": {},
   "outputs": [],
   "source": [
    "def scatter_func(data) :\n",
    "    dataset = data\n",
    "    \n",
    "    def avg_func() :\n",
    "        avg_val = mean(dataset)\n",
    "        return avg_val\n",
    "    \n",
    "    def var_func(avg) :\n",
    "        diff = [(data-avg) ** 2 for data in dataset]\n",
    "        var_val = sum(diff) / (len(dataset) - 1)\n",
    "        return var_val\n",
    "    \n",
    "    def std_func(var) :\n",
    "        return sqrt(var)\n",
    "    \n",
    "    return avg_func, var_func, std_func"
   ]
  },
  {
   "cell_type": "code",
   "execution_count": 63,
   "id": "961d64b7",
   "metadata": {},
   "outputs": [
    {
     "data": {
      "text/plain": [
       "(4.47, 1.95, 1.4)"
      ]
     },
     "execution_count": 63,
     "metadata": {},
     "output_type": "execute_result"
    }
   ],
   "source": [
    "data = [4, 5, 3.5, 2.5, 6.3, 5.5]\n",
    "avg, var, std = scatter_func(data)\n",
    "\n",
    "a = avg()\n",
    "v = var(a)\n",
    "s = std(v)\n",
    "\n",
    "round(a, 2), round(v, 2), round(s, 2)"
   ]
  },
  {
   "cell_type": "code",
   "execution_count": 66,
   "id": "99da3f0e",
   "metadata": {},
   "outputs": [],
   "source": [
    "def main_func(num) :\n",
    "    num_val = num\n",
    "    \n",
    "    def getter() :\n",
    "        return num_val\n",
    "    \n",
    "    def setter(value) :\n",
    "        nonlocal num_val\n",
    "        num_val = value\n",
    "    \n",
    "    return getter, setter"
   ]
  },
  {
   "cell_type": "code",
   "execution_count": 68,
   "id": "bc40182d",
   "metadata": {},
   "outputs": [],
   "source": [
    "getter, setter = main_func(100)"
   ]
  },
  {
   "cell_type": "code",
   "execution_count": 69,
   "id": "9b10e33d",
   "metadata": {},
   "outputs": [
    {
     "data": {
      "text/plain": [
       "100"
      ]
     },
     "execution_count": 69,
     "metadata": {},
     "output_type": "execute_result"
    }
   ],
   "source": [
    "getter()"
   ]
  },
  {
   "cell_type": "code",
   "execution_count": 70,
   "id": "0ed7e0c4",
   "metadata": {},
   "outputs": [
    {
     "data": {
      "text/plain": [
       "50"
      ]
     },
     "execution_count": 70,
     "metadata": {},
     "output_type": "execute_result"
    }
   ],
   "source": [
    "setter(50)\n",
    "getter()"
   ]
  },
  {
   "cell_type": "markdown",
   "id": "98e28bfc",
   "metadata": {},
   "source": [
    "## 래퍼 함수"
   ]
  },
  {
   "cell_type": "code",
   "execution_count": 71,
   "id": "5d073fbe",
   "metadata": {},
   "outputs": [],
   "source": [
    "def wrap(func) :\n",
    "    def decorated() :\n",
    "        print('hi!!!')\n",
    "        func()\n",
    "        print('bye!!')\n",
    "    return decorated"
   ]
  },
  {
   "cell_type": "code",
   "execution_count": 72,
   "id": "e8da63ed",
   "metadata": {},
   "outputs": [],
   "source": [
    "@wrap\n",
    "def hello() :\n",
    "    print('홍길동')"
   ]
  },
  {
   "cell_type": "code",
   "execution_count": 73,
   "id": "332345b5",
   "metadata": {},
   "outputs": [
    {
     "name": "stdout",
     "output_type": "stream",
     "text": [
      "hi!!!\n",
      "홍길동\n",
      "bye!!\n"
     ]
    }
   ],
   "source": [
    "hello()"
   ]
  },
  {
   "cell_type": "markdown",
   "id": "61dcb861",
   "metadata": {},
   "source": [
    "## 재귀함수"
   ]
  },
  {
   "cell_type": "code",
   "execution_count": 74,
   "id": "93cd8f8d",
   "metadata": {},
   "outputs": [],
   "source": [
    "def Counter(n) :\n",
    "    if n == 0 :\n",
    "        return\n",
    "    else :\n",
    "        Counter(n-1)\n",
    "        print(n)"
   ]
  },
  {
   "cell_type": "code",
   "execution_count": 76,
   "id": "3f8caadb",
   "metadata": {},
   "outputs": [
    {
     "name": "stdout",
     "output_type": "stream",
     "text": [
      "1\n",
      "2\n",
      "3\n",
      "4\n",
      "5\n"
     ]
    }
   ],
   "source": [
    "Counter(5)"
   ]
  },
  {
   "cell_type": "code",
   "execution_count": 75,
   "id": "f262ecf5",
   "metadata": {},
   "outputs": [
    {
     "name": "stdout",
     "output_type": "stream",
     "text": [
      "1\n",
      "2\n",
      "3\n",
      "4\n",
      "5\n",
      "6\n",
      "7\n",
      "8\n",
      "9\n",
      "10\n",
      "11\n",
      "12\n",
      "13\n",
      "14\n",
      "15\n",
      "16\n",
      "17\n",
      "18\n",
      "19\n",
      "20\n",
      "21\n",
      "22\n",
      "23\n",
      "24\n",
      "25\n",
      "26\n",
      "27\n",
      "28\n",
      "29\n",
      "30\n",
      "31\n",
      "32\n",
      "33\n",
      "34\n",
      "35\n",
      "36\n",
      "37\n",
      "38\n",
      "39\n",
      "40\n",
      "41\n",
      "42\n",
      "43\n",
      "44\n",
      "45\n",
      "46\n",
      "47\n",
      "48\n",
      "49\n",
      "50\n"
     ]
    }
   ],
   "source": [
    "Counter(50)"
   ]
  },
  {
   "cell_type": "code",
   "execution_count": 77,
   "id": "517c6ef8",
   "metadata": {},
   "outputs": [],
   "source": [
    "def Adder(n) :\n",
    "    if n == 1 :\n",
    "        return 1\n",
    "    else :\n",
    "        rs = n + Adder(n-1)\n",
    "    return rs"
   ]
  },
  {
   "cell_type": "code",
   "execution_count": 78,
   "id": "56fa1faa",
   "metadata": {},
   "outputs": [
    {
     "data": {
      "text/plain": [
       "15"
      ]
     },
     "execution_count": 78,
     "metadata": {},
     "output_type": "execute_result"
    }
   ],
   "source": [
    "Adder(5)"
   ]
  },
  {
   "cell_type": "code",
   "execution_count": 81,
   "id": "10c4dacf",
   "metadata": {},
   "outputs": [],
   "source": [
    "def factorial(n) :\n",
    "    if n == 1 :\n",
    "        return n\n",
    "    else :\n",
    "        rs = n * factorial(n-1)\n",
    "    return rs"
   ]
  },
  {
   "cell_type": "code",
   "execution_count": 82,
   "id": "b3f02b96",
   "metadata": {},
   "outputs": [
    {
     "data": {
      "text/plain": [
       "120"
      ]
     },
     "execution_count": 82,
     "metadata": {},
     "output_type": "execute_result"
    }
   ],
   "source": [
    "factorial(5)"
   ]
  },
  {
   "cell_type": "code",
   "execution_count": 84,
   "id": "32ff9a5c",
   "metadata": {},
   "outputs": [
    {
     "data": {
      "text/plain": [
       "120"
      ]
     },
     "execution_count": 84,
     "metadata": {},
     "output_type": "execute_result"
    }
   ],
   "source": [
    "rs = 1\n",
    "n = 5\n",
    "for n in range(1, n+1) :\n",
    "    rs *= n\n",
    "rs"
   ]
  },
  {
   "cell_type": "code",
   "execution_count": 85,
   "id": "1d72ad9c",
   "metadata": {},
   "outputs": [
    {
     "data": {
      "text/plain": [
       "120"
      ]
     },
     "execution_count": 85,
     "metadata": {},
     "output_type": "execute_result"
    }
   ],
   "source": [
    "def facto(n) :\n",
    "    rs = 1\n",
    "    for n in range(1, n+1) :\n",
    "        rs *= n\n",
    "    return rs\n",
    "\n",
    "facto(5)"
   ]
  },
  {
   "cell_type": "markdown",
   "id": "1ec5443d",
   "metadata": {},
   "source": [
    "# 클래스"
   ]
  },
  {
   "cell_type": "code",
   "execution_count": 87,
   "id": "4a25c96a",
   "metadata": {},
   "outputs": [],
   "source": [
    "def calc_func(a, b) :\n",
    "    x = a\n",
    "    y = b\n",
    "    \n",
    "    def plus() :\n",
    "        return x + y\n",
    "    \n",
    "    def minus() :\n",
    "        return x - y\n",
    "    \n",
    "    return plus, minus"
   ]
  },
  {
   "cell_type": "code",
   "execution_count": 91,
   "id": "b944dbc7",
   "metadata": {},
   "outputs": [],
   "source": [
    "class Calc_class :\n",
    "    x = y = 0 # 멤버 변수(실질적 기능 X)\n",
    "    \n",
    "    def __init__(self, a, b) :\n",
    "        self.x = a\n",
    "        self.y = b\n",
    "        \n",
    "    def plus(self) :\n",
    "        return self.x + self.y\n",
    "    \n",
    "    def minus(self) :\n",
    "        return self.x - self.y"
   ]
  },
  {
   "cell_type": "code",
   "execution_count": 93,
   "id": "4302ff37",
   "metadata": {},
   "outputs": [
    {
     "data": {
      "text/plain": [
       "(30, -10, 0)"
      ]
     },
     "execution_count": 93,
     "metadata": {},
     "output_type": "execute_result"
    }
   ],
   "source": [
    "obj1 = Calc_class(10, 20)\n",
    "obj1.plus(), obj1.minus(), Calc_class.x"
   ]
  },
  {
   "cell_type": "code",
   "execution_count": 99,
   "id": "298fe165",
   "metadata": {},
   "outputs": [],
   "source": [
    "class Calc_class :\n",
    "    def __init__(self) :\n",
    "        self.x = 0\n",
    "        self.y = 0\n",
    "        \n",
    "    def plus(self) :\n",
    "        return self.x + self.y\n",
    "    \n",
    "    def minus(self) :\n",
    "        return self.x - self.y\n",
    "    \n",
    "obj1 = Calc_class()"
   ]
  },
  {
   "cell_type": "code",
   "execution_count": 106,
   "id": "ff99d46e",
   "metadata": {},
   "outputs": [
    {
     "ename": "TypeError",
     "evalue": "__init__() missing 2 required positional arguments: 'a' and 'b'",
     "output_type": "error",
     "traceback": [
      "\u001b[1;31m---------------------------------------------------------------------------\u001b[0m",
      "\u001b[1;31mTypeError\u001b[0m                                 Traceback (most recent call last)",
      "\u001b[1;32m~\\AppData\\Local\\Temp\\ipykernel_1672\\918936817.py\u001b[0m in \u001b[0;36m<module>\u001b[1;34m\u001b[0m\n\u001b[0;32m     13\u001b[0m         \u001b[1;32mreturn\u001b[0m \u001b[0mself\u001b[0m\u001b[1;33m.\u001b[0m\u001b[0mx\u001b[0m \u001b[1;33m-\u001b[0m \u001b[0mself\u001b[0m\u001b[1;33m.\u001b[0m\u001b[0my\u001b[0m\u001b[1;33m\u001b[0m\u001b[1;33m\u001b[0m\u001b[0m\n\u001b[0;32m     14\u001b[0m \u001b[1;33m\u001b[0m\u001b[0m\n\u001b[1;32m---> 15\u001b[1;33m \u001b[0mobj1\u001b[0m \u001b[1;33m=\u001b[0m \u001b[0mCalc_class\u001b[0m\u001b[1;33m(\u001b[0m\u001b[1;33m)\u001b[0m\u001b[1;33m\u001b[0m\u001b[1;33m\u001b[0m\u001b[0m\n\u001b[0m",
      "\u001b[1;31mTypeError\u001b[0m: __init__() missing 2 required positional arguments: 'a' and 'b'"
     ]
    }
   ],
   "source": [
    "class Calc_class :\n",
    "    def __init__(self) :\n",
    "        pass\n",
    "    \n",
    "    def __init__(self, a, b) :\n",
    "        self.x = a\n",
    "        self.y = b\n",
    "        \n",
    "    def plus(self) :\n",
    "        return self.x + self.y\n",
    "    \n",
    "    def minus(self) :\n",
    "        return self.x - self.y\n",
    "    \n",
    "obj1 = Calc_class()"
   ]
  },
  {
   "cell_type": "code",
   "execution_count": 101,
   "id": "8f7311d8",
   "metadata": {
    "scrolled": true
   },
   "outputs": [
    {
     "data": {
      "text/plain": [
       "False"
      ]
     },
     "execution_count": 101,
     "metadata": {},
     "output_type": "execute_result"
    }
   ],
   "source": [
    "class Calc_class :\n",
    "    def __init__(self) :\n",
    "        self.x = 0\n",
    "        self.y = 0\n",
    "        \n",
    "    def plus(self) :\n",
    "        return self.x + self.y\n",
    "    \n",
    "    def minus(self) :\n",
    "        return self.x - self.y\n",
    "    \n",
    "obj1 = Calc_class()\n",
    "obj2 = Calc_class()\n",
    "obj1 == obj2"
   ]
  },
  {
   "cell_type": "code",
   "execution_count": 105,
   "id": "20cc4afc",
   "metadata": {},
   "outputs": [
    {
     "data": {
      "text/plain": [
       "(30, -100)"
      ]
     },
     "execution_count": 105,
     "metadata": {},
     "output_type": "execute_result"
    }
   ],
   "source": [
    "class Calc_class :\n",
    "    def __init__(self, x, y) :\n",
    "        self.x = x\n",
    "        self.y = y\n",
    "        \n",
    "    def plus(self) :\n",
    "        return self.x + self.y\n",
    "    \n",
    "    def minus(self) :\n",
    "        return self.x - self.y\n",
    "\n",
    "obj1 = Calc_class(10, 20)\n",
    "obj2 = Calc_class(100, 200)\n",
    "obj1.plus(), obj2.minus()"
   ]
  },
  {
   "cell_type": "code",
   "execution_count": 1,
   "id": "697068b8",
   "metadata": {},
   "outputs": [],
   "source": [
    "import datetime\n",
    "from datetime import date, time"
   ]
  },
  {
   "cell_type": "code",
   "execution_count": 6,
   "id": "71c09499",
   "metadata": {},
   "outputs": [
    {
     "data": {
      "text/plain": [
       "datetime.date(2023, 12, 4)"
      ]
     },
     "execution_count": 6,
     "metadata": {},
     "output_type": "execute_result"
    }
   ],
   "source": [
    "today = date(2023, 12, 4)\n",
    "today"
   ]
  },
  {
   "cell_type": "code",
   "execution_count": 9,
   "id": "8b6af712",
   "metadata": {},
   "outputs": [
    {
     "data": {
      "text/plain": [
       "(2023, 12, 4, 0)"
      ]
     },
     "execution_count": 9,
     "metadata": {},
     "output_type": "execute_result"
    }
   ],
   "source": [
    "today.year, today.month, today.day, today.weekday()"
   ]
  },
  {
   "cell_type": "code",
   "execution_count": 2,
   "id": "71591e66-b337-4cd7-80ea-61a3364925bd",
   "metadata": {},
   "outputs": [],
   "source": [
    "class Super :\n",
    "\n",
    "    def __init__(self, name, age):\n",
    "        self.name = name \n",
    "        self.age = age\n",
    "    \n",
    "    def display(self):\n",
    "        print('name : %s, age : %d'%(self.name, self.age))"
   ]
  },
  {
   "cell_type": "code",
   "execution_count": 3,
   "id": "d5ee7b37-2b67-4fce-aa23-ae9442a6aba4",
   "metadata": {},
   "outputs": [
    {
     "name": "stdout",
     "output_type": "stream",
     "text": [
      "name : Super, age : 55\n"
     ]
    }
   ],
   "source": [
    "sup = Super('Super', 55)\n",
    "sup.display()"
   ]
  },
  {
   "cell_type": "code",
   "execution_count": 4,
   "id": "2640c14e-76b7-4efe-bf56-997ac7fdb9cd",
   "metadata": {},
   "outputs": [],
   "source": [
    "class Sub(Super) :\n",
    "    def __init__(self, name, age, gender) :\n",
    "        self.name = name\n",
    "        self.age = age\n",
    "        self.gender = gender\n",
    "\n",
    "    def display(self) :\n",
    "        print(f'name : {self.name}, age : {self.age}, gender : {self.gender}')"
   ]
  },
  {
   "cell_type": "code",
   "execution_count": 9,
   "id": "338c4cc8-bfe7-4199-a12f-20889077d4df",
   "metadata": {},
   "outputs": [
    {
     "name": "stdout",
     "output_type": "stream",
     "text": [
      "name : Sub, age : 25, gender : man\n"
     ]
    }
   ],
   "source": [
    "sub = Sub('Sub', 25, 'man')\n",
    "sub.display()"
   ]
  },
  {
   "cell_type": "code",
   "execution_count": 6,
   "id": "9e9e0667-81d6-47d9-9bc6-e9499aaac30b",
   "metadata": {},
   "outputs": [],
   "source": [
    "class Sub(Super) :\n",
    "    def __init__(self, name, age, gender) :\n",
    "        super().__init__(name, age)\n",
    "        self.gender = gender\n",
    "\n",
    "    def display(self) :\n",
    "        print(f'name : {self.name}, age : {self.age}, gender : {self.gender}')"
   ]
  },
  {
   "cell_type": "code",
   "execution_count": 8,
   "id": "72a54d99-e67d-4a86-8390-5051764bbc3e",
   "metadata": {},
   "outputs": [
    {
     "name": "stdout",
     "output_type": "stream",
     "text": [
      "name : Sub, age : 25, gender : man\n"
     ]
    }
   ],
   "source": [
    "sub = Sub('Sub', 25, 'man')\n",
    "sub.display()"
   ]
  },
  {
   "cell_type": "code",
   "execution_count": 10,
   "id": "a3f513af-7b78-4654-9c12-0d019ea499f5",
   "metadata": {},
   "outputs": [],
   "source": [
    "class Employee :\n",
    "    name = None\n",
    "    pay = 0\n",
    "    def __init__(self, name) :\n",
    "        self.name = name\n",
    "\n",
    "    def calc(self) :\n",
    "        pass"
   ]
  },
  {
   "cell_type": "code",
   "execution_count": 11,
   "id": "748edb85-de3c-47a2-bf10-7081b8a20fc8",
   "metadata": {},
   "outputs": [],
   "source": [
    "class Permanent(Employee) :\n",
    "    def __init(self, name) :\n",
    "        super().__init__(name)\n",
    "\n",
    "    def pay_calc(self, base, bonus) :\n",
    "        self.pay = base + bonus\n",
    "        print(f'total: {self.pay}')"
   ]
  },
  {
   "cell_type": "code",
   "execution_count": 14,
   "id": "7c9d2dfd-d96f-4351-9b0c-2d9a32d46ae5",
   "metadata": {},
   "outputs": [],
   "source": [
    "class Temporary(Employee) :\n",
    "    def __init__(self, name) :\n",
    "        super().__init__(name)\n",
    "\n",
    "    def pay_calc(self, tpay, time) :\n",
    "        self.pay = tpay * time\n",
    "        print(f'total: {self.pay}')"
   ]
  },
  {
   "cell_type": "code",
   "execution_count": 13,
   "id": "bb243a19-137e-414f-b3e4-6036438244cd",
   "metadata": {},
   "outputs": [
    {
     "name": "stdout",
     "output_type": "stream",
     "text": [
      "total: 3200000\n"
     ]
    }
   ],
   "source": [
    "p = Permanent('hong')\n",
    "p.pay_calc(3000000, 200000)"
   ]
  },
  {
   "cell_type": "code",
   "execution_count": 21,
   "id": "e00fceb3-f015-41c4-a641-5ad400319aa7",
   "metadata": {},
   "outputs": [
    {
     "name": "stdout",
     "output_type": "stream",
     "text": [
      "total: 1800000\n"
     ]
    }
   ],
   "source": [
    "t = Temporary('kim')\n",
    "t.pay_calc(15000, 120)"
   ]
  },
  {
   "cell_type": "code",
   "execution_count": 16,
   "id": "31a29081-0329-487f-bf7f-fcad96767de9",
   "metadata": {},
   "outputs": [],
   "source": [
    "class Flight :\n",
    "    def fly(self) :\n",
    "        print('Flight - fly')\n",
    "\n",
    "class Airplane(Flight) :\n",
    "    def fly(self) :\n",
    "        print('Airplane fly')\n",
    "\n",
    "class Paper_airplane(Flight) :\n",
    "    def fly(self) :\n",
    "        print('Paper Airplane fly')"
   ]
  },
  {
   "cell_type": "code",
   "execution_count": 18,
   "id": "000ade7e-cf52-42f0-9a20-326fae19c132",
   "metadata": {},
   "outputs": [
    {
     "name": "stdout",
     "output_type": "stream",
     "text": [
      "Flight - fly\n"
     ]
    }
   ],
   "source": [
    "f = Flight()\n",
    "f.fly()"
   ]
  },
  {
   "cell_type": "code",
   "execution_count": 19,
   "id": "00473f84-5f56-4810-9882-80c868ceb397",
   "metadata": {},
   "outputs": [
    {
     "name": "stdout",
     "output_type": "stream",
     "text": [
      "Airplane fly\n"
     ]
    }
   ],
   "source": [
    "f = Airplane()\n",
    "f.fly()"
   ]
  },
  {
   "cell_type": "code",
   "execution_count": 23,
   "id": "57e8bc90-33df-4b76-93b9-46d2747d037e",
   "metadata": {},
   "outputs": [
    {
     "name": "stdout",
     "output_type": "stream",
     "text": [
      "(0, 1)\n",
      "(1, 3)\n",
      "(2, 5)\n"
     ]
    }
   ],
   "source": [
    "lst = [1, 3, 5]\n",
    "for i in enumerate(lst) :\n",
    "    print(i)"
   ]
  },
  {
   "cell_type": "code",
   "execution_count": 24,
   "id": "ffd1dfbd-541d-4db2-abbc-001a83521c06",
   "metadata": {},
   "outputs": [
    {
     "name": "stdout",
     "output_type": "stream",
     "text": [
      "0 1\n",
      "1 3\n",
      "2 5\n"
     ]
    }
   ],
   "source": [
    "for i in range(len(lst)) :\n",
    "    print(i, lst[i])"
   ]
  },
  {
   "cell_type": "code",
   "execution_count": 26,
   "id": "d751ee00-c16c-4583-a111-e8d9a9517b9f",
   "metadata": {},
   "outputs": [
    {
     "name": "stdout",
     "output_type": "stream",
     "text": [
      "(0, 'name')\n",
      "(1, 'age')\n",
      "(2, 'addr')\n"
     ]
    }
   ],
   "source": [
    "dic = {'name':'hong', 'age':25, 'addr':'서울'}\n",
    "for i in enumerate(dic) :\n",
    "    print(i)"
   ]
  },
  {
   "cell_type": "code",
   "execution_count": 27,
   "id": "ec11943f-634e-4fea-a500-717b4b168306",
   "metadata": {},
   "outputs": [
    {
     "name": "stdout",
     "output_type": "stream",
     "text": [
      "0 name hong\n",
      "1 age 25\n",
      "2 addr 서울\n"
     ]
    }
   ],
   "source": [
    "dic = {'name':'hong', 'age':25, 'addr':'서울'}\n",
    "for i, key in enumerate(dic) :\n",
    "    print(i, key, dic[key])"
   ]
  },
  {
   "cell_type": "code",
   "execution_count": 29,
   "id": "dd0a944e-fa95-4de4-9310-806b8cf3faa8",
   "metadata": {},
   "outputs": [],
   "source": [
    "# import 모듈명\n",
    "import my_module"
   ]
  },
  {
   "cell_type": "code",
   "execution_count": 30,
   "id": "7c418dc0-2bc2-45eb-a27e-564c9a1659c5",
   "metadata": {},
   "outputs": [
    {
     "data": {
      "text/plain": [
       "100"
      ]
     },
     "execution_count": 30,
     "metadata": {},
     "output_type": "execute_result"
    }
   ],
   "source": [
    "my_module.my_var"
   ]
  },
  {
   "cell_type": "code",
   "execution_count": 38,
   "id": "b0c0a83a-91aa-4060-9d5f-b87d3aab71ea",
   "metadata": {},
   "outputs": [
    {
     "name": "stdout",
     "output_type": "stream",
     "text": [
      "My Def\n",
      "My Method\n"
     ]
    }
   ],
   "source": [
    "my_class = my_module.My_class()\n",
    "\n",
    "my_class.my_def()\n",
    "my_class.my_method()"
   ]
  },
  {
   "cell_type": "markdown",
   "id": "5068ec01-ce4a-482c-b32a-5b97d3c67ab5",
   "metadata": {},
   "source": [
    "# 파일 처리"
   ]
  },
  {
   "cell_type": "code",
   "execution_count": 41,
   "id": "dd3fc82f-52ef-4c3e-aa47-0770084ccd3e",
   "metadata": {},
   "outputs": [
    {
     "name": "stdout",
     "output_type": "stream",
     "text": [
      "20\n",
      "numnum\n",
      "40\n",
      "end\n"
     ]
    }
   ],
   "source": [
    "x = [10, 'num', 20]\n",
    "for i in x :\n",
    "    y = i * 2\n",
    "    print(y)\n",
    "print('end')"
   ]
  },
  {
   "cell_type": "code",
   "execution_count": 40,
   "id": "d0c87e3e-b8ec-4760-b432-318202c1710f",
   "metadata": {},
   "outputs": [
    {
     "name": "stdout",
     "output_type": "stream",
     "text": [
      "100\n"
     ]
    },
    {
     "ename": "TypeError",
     "evalue": "unsupported operand type(s) for ** or pow(): 'str' and 'int'",
     "output_type": "error",
     "traceback": [
      "\u001b[1;31m---------------------------------------------------------------------------\u001b[0m",
      "\u001b[1;31mTypeError\u001b[0m                                 Traceback (most recent call last)",
      "Cell \u001b[1;32mIn[40], line 3\u001b[0m\n\u001b[0;32m      1\u001b[0m x \u001b[38;5;241m=\u001b[39m [\u001b[38;5;241m10\u001b[39m, \u001b[38;5;124m'\u001b[39m\u001b[38;5;124mnum\u001b[39m\u001b[38;5;124m'\u001b[39m, \u001b[38;5;241m20\u001b[39m]\n\u001b[0;32m      2\u001b[0m \u001b[38;5;28;01mfor\u001b[39;00m i \u001b[38;5;129;01min\u001b[39;00m x :\n\u001b[1;32m----> 3\u001b[0m     y \u001b[38;5;241m=\u001b[39m i \u001b[38;5;241m*\u001b[39m\u001b[38;5;241m*\u001b[39m \u001b[38;5;241m2\u001b[39m\n\u001b[0;32m      4\u001b[0m     \u001b[38;5;28mprint\u001b[39m(y)\n\u001b[0;32m      5\u001b[0m \u001b[38;5;28mprint\u001b[39m(\u001b[38;5;124m'\u001b[39m\u001b[38;5;124mend\u001b[39m\u001b[38;5;124m'\u001b[39m)\n",
      "\u001b[1;31mTypeError\u001b[0m: unsupported operand type(s) for ** or pow(): 'str' and 'int'"
     ]
    }
   ],
   "source": [
    "x = [10, 'num', 20]\n",
    "for i in x :\n",
    "    y = i ** 2 # 오류\n",
    "    print(y)\n",
    "print('end')"
   ]
  },
  {
   "cell_type": "code",
   "execution_count": 42,
   "id": "ef150b23-dec5-454c-b7ff-4bde3e1085fd",
   "metadata": {},
   "outputs": [
    {
     "name": "stdout",
     "output_type": "stream",
     "text": [
      "100\n",
      "error\n",
      "400\n",
      "end\n"
     ]
    }
   ],
   "source": [
    "x = [10, 'num', 20]\n",
    "for i in x :\n",
    "    try :\n",
    "        y = i ** 2 # 오류\n",
    "        print(y)\n",
    "    except :\n",
    "        print('error')\n",
    "print('end')"
   ]
  },
  {
   "cell_type": "code",
   "execution_count": 44,
   "id": "4e492928-d2df-4a3f-b01f-1ca44975f768",
   "metadata": {},
   "outputs": [
    {
     "name": "stdout",
     "output_type": "stream",
     "text": [
      "division by zero\n",
      "end\n"
     ]
    }
   ],
   "source": [
    "try :\n",
    "    div = 1000 / 0 \n",
    "    f = open('c/test.txt')\n",
    "    print(div)\n",
    "except ZeroDivisionError as e :\n",
    "    print(e) # 여기서 처리 멈춤\n",
    "except FileNotFoundError as e :\n",
    "    print(e)\n",
    "except Exception as e :\n",
    "    print(e)\n",
    "finally :\n",
    "    print('end')"
   ]
  },
  {
   "cell_type": "code",
   "execution_count": 46,
   "id": "72a9deba-d01b-40ee-9eca-82822ec7f238",
   "metadata": {},
   "outputs": [
    {
     "name": "stdout",
     "output_type": "stream",
     "text": [
      "[Errno 2] No such file or directory: 'c/test.txt'\n",
      "end\n"
     ]
    }
   ],
   "source": [
    "try :\n",
    "    div = 1000 / 5\n",
    "    f = open('c/test.txt')\n",
    "    print(div)\n",
    "except ZeroDivisionError as e :\n",
    "    print(e)\n",
    "except FileNotFoundError as e :\n",
    "    print(e) # 여기서 처리 멈춤\n",
    "except Exception as e :\n",
    "    print(e)\n",
    "finally :\n",
    "    print('end')"
   ]
  },
  {
   "cell_type": "code",
   "execution_count": 45,
   "id": "179e9749-70b5-4f4e-bd42-7bcf061734f8",
   "metadata": {},
   "outputs": [
    {
     "name": "stdout",
     "output_type": "stream",
     "text": [
      "200.0\n",
      "end\n"
     ]
    }
   ],
   "source": [
    "try :\n",
    "    div = 1000 / 5\n",
    "    f = open('./my_package/scattering.py')\n",
    "    print(div)\n",
    "except ZeroDivisionError as e :\n",
    "    print(e)\n",
    "except FileNotFoundError as e :\n",
    "    print(e)\n",
    "except Exception as e :\n",
    "    print(e)\n",
    "finally :\n",
    "    print('end')"
   ]
  },
  {
   "cell_type": "code",
   "execution_count": null,
   "id": "147b19a3-c159-4ce0-9e15-b4c1ed856ea5",
   "metadata": {},
   "outputs": [],
   "source": [
    "open()"
   ]
  },
  {
   "cell_type": "code",
   "execution_count": null,
   "id": "469af7e4-2a67-4649-b749-7e1424e8f353",
   "metadata": {},
   "outputs": [],
   "source": []
  },
  {
   "cell_type": "code",
   "execution_count": null,
   "id": "e7e09ad0-2162-44db-8946-13f16ea815ae",
   "metadata": {},
   "outputs": [],
   "source": []
  },
  {
   "cell_type": "code",
   "execution_count": null,
   "id": "42280ce8-f0cd-46f9-bd3e-2b9d71a7548e",
   "metadata": {},
   "outputs": [],
   "source": []
  },
  {
   "cell_type": "code",
   "execution_count": null,
   "id": "12fa8d4a-ac49-4e53-8779-d4bb19b5c232",
   "metadata": {},
   "outputs": [],
   "source": []
  }
 ],
 "metadata": {
  "kernelspec": {
   "display_name": "Python 3 (ipykernel)",
   "language": "python",
   "name": "python3"
  },
  "language_info": {
   "codemirror_mode": {
    "name": "ipython",
    "version": 3
   },
   "file_extension": ".py",
   "mimetype": "text/x-python",
   "name": "python",
   "nbconvert_exporter": "python",
   "pygments_lexer": "ipython3",
   "version": "3.11.5"
  },
  "widgets": {
   "application/vnd.jupyter.widget-state+json": {
    "state": {},
    "version_major": 2,
    "version_minor": 0
   }
  }
 },
 "nbformat": 4,
 "nbformat_minor": 5
}
