{
 "cells": [
  {
   "cell_type": "code",
   "execution_count": 3,
   "id": "0179c779",
   "metadata": {},
   "outputs": [],
   "source": [
    "def func1(name, *names) :\n",
    "    print(name)\n",
    "    print(names) # tuple\n",
    "    print(names[2])"
   ]
  },
  {
   "cell_type": "code",
   "execution_count": 4,
   "id": "3f7f83a0",
   "metadata": {},
   "outputs": [
    {
     "name": "stdout",
     "output_type": "stream",
     "text": [
      "hong1\n",
      "('hong2', 'hong3', 'kim', 'park')\n",
      "kim\n"
     ]
    }
   ],
   "source": [
    "func1('hong1', 'hong2', 'hong3', 'kim', 'park')"
   ]
  },
  {
   "cell_type": "code",
   "execution_count": 5,
   "id": "900d8721",
   "metadata": {},
   "outputs": [],
   "source": [
    "from statistics import mean, variance, stdev"
   ]
  },
  {
   "cell_type": "code",
   "execution_count": 14,
   "id": "51568e01",
   "metadata": {},
   "outputs": [],
   "source": [
    "def statis(func, *data) : \n",
    "    if func == 'avg' :\n",
    "        return mean(data)\n",
    "    elif func == 'var' :\n",
    "        return variance(data)\n",
    "    elif func == 'std' :\n",
    "        return stdev(data)\n",
    "    else :\n",
    "        print('Type Error')"
   ]
  },
  {
   "cell_type": "code",
   "execution_count": 15,
   "id": "4a59b161",
   "metadata": {},
   "outputs": [
    {
     "name": "stdout",
     "output_type": "stream",
     "text": [
      "avg = 3\n",
      "var = 2.5\n",
      "std = 1.58\n"
     ]
    }
   ],
   "source": [
    "print('avg =', statis('avg', 1, 2, 3, 4, 5))\n",
    "print('var =', statis('var', 1, 2, 3, 4, 5))\n",
    "print('std =', round(statis('std', 1, 2, 3, 4, 5), 2))"
   ]
  },
  {
   "cell_type": "code",
   "execution_count": 16,
   "id": "770db53d",
   "metadata": {},
   "outputs": [],
   "source": [
    "def statis2(func, data) : # list로 변수 입력\n",
    "    if func == 'avg' :\n",
    "        return mean(data)\n",
    "    elif func == 'var' :\n",
    "        return variance(data)\n",
    "    elif func == 'std' :\n",
    "        return stdev(data)\n",
    "    else :\n",
    "        print('Type Error')"
   ]
  },
  {
   "cell_type": "code",
   "execution_count": 17,
   "id": "d250de86",
   "metadata": {},
   "outputs": [
    {
     "name": "stdout",
     "output_type": "stream",
     "text": [
      "avg = 3\n",
      "var = 2.5\n",
      "std = 1.58\n"
     ]
    }
   ],
   "source": [
    "print('avg =', statis2('avg', [1, 2, 3, 4, 5]))\n",
    "print('var =', statis2('var', [1, 2, 3, 4, 5]))\n",
    "print('std =', round(statis2('std', [1, 2, 3, 4, 5]), 2))"
   ]
  },
  {
   "cell_type": "code",
   "execution_count": 18,
   "id": "8d1c54b0",
   "metadata": {},
   "outputs": [],
   "source": [
    "def emp_func(name, age, **other) : # dict 처리\n",
    "    print(name, age)\n",
    "    print(other)"
   ]
  },
  {
   "cell_type": "code",
   "execution_count": 19,
   "id": "a5055fa0",
   "metadata": {},
   "outputs": [
    {
     "name": "stdout",
     "output_type": "stream",
     "text": [
      "hong 23\n",
      "{'addr': '서울', 'height': 180, 'weight': 70}\n"
     ]
    }
   ],
   "source": [
    "emp_func('hong', 23, addr='서울', height=180, weight=70)"
   ]
  },
  {
   "cell_type": "markdown",
   "id": "079c1310",
   "metadata": {},
   "source": [
    "## 람다함수\n",
    "- 정의와 호출을 한 번에\n",
    "\n",
    "변수 = lambda 매개변수 : 리턴값"
   ]
  },
  {
   "cell_type": "code",
   "execution_count": 20,
   "id": "b60c6af6",
   "metadata": {},
   "outputs": [],
   "source": [
    "def Adder(x, y) :\n",
    "    add = x + y\n",
    "    return add"
   ]
  },
  {
   "cell_type": "code",
   "execution_count": 21,
   "id": "2f5a8dae",
   "metadata": {},
   "outputs": [
    {
     "name": "stdout",
     "output_type": "stream",
     "text": [
      "add = 30\n"
     ]
    }
   ],
   "source": [
    "print('add =', Adder(10, 20))"
   ]
  },
  {
   "cell_type": "code",
   "execution_count": 22,
   "id": "bce7fea5",
   "metadata": {},
   "outputs": [
    {
     "name": "stdout",
     "output_type": "stream",
     "text": [
      "add = 30\n"
     ]
    }
   ],
   "source": [
    "print('add =', (lambda x, y : x + y)(10, 20))"
   ]
  },
  {
   "cell_type": "code",
   "execution_count": 23,
   "id": "2f71e7b5",
   "metadata": {},
   "outputs": [
    {
     "data": {
      "text/plain": [
       "30"
      ]
     },
     "execution_count": 23,
     "metadata": {},
     "output_type": "execute_result"
    }
   ],
   "source": [
    "Adder2 = lambda x, y : x + y\n",
    "Adder2(10, 20)"
   ]
  },
  {
   "cell_type": "code",
   "execution_count": 24,
   "id": "cea613db",
   "metadata": {},
   "outputs": [],
   "source": [
    "calc = lambda dan, su : dan * su"
   ]
  },
  {
   "cell_type": "code",
   "execution_count": 25,
   "id": "e7cb090c",
   "metadata": {},
   "outputs": [
    {
     "data": {
      "text/plain": [
       "10"
      ]
     },
     "execution_count": 25,
     "metadata": {},
     "output_type": "execute_result"
    }
   ],
   "source": [
    "calc(2, 5)"
   ]
  },
  {
   "cell_type": "code",
   "execution_count": null,
   "id": "a4a6e56e",
   "metadata": {},
   "outputs": [],
   "source": []
  },
  {
   "cell_type": "code",
   "execution_count": null,
   "id": "1e4cdfc1",
   "metadata": {},
   "outputs": [],
   "source": []
  },
  {
   "cell_type": "code",
   "execution_count": null,
   "id": "cfd610d9",
   "metadata": {},
   "outputs": [],
   "source": []
  },
  {
   "cell_type": "code",
   "execution_count": null,
   "id": "ca2905b8",
   "metadata": {},
   "outputs": [],
   "source": []
  },
  {
   "cell_type": "code",
   "execution_count": null,
   "id": "ad78cf57",
   "metadata": {},
   "outputs": [],
   "source": []
  },
  {
   "cell_type": "code",
   "execution_count": null,
   "id": "0cbdd064",
   "metadata": {},
   "outputs": [],
   "source": []
  }
 ],
 "metadata": {
  "kernelspec": {
   "display_name": "Python 3 (ipykernel)",
   "language": "python",
   "name": "python3"
  },
  "language_info": {
   "codemirror_mode": {
    "name": "ipython",
    "version": 3
   },
   "file_extension": ".py",
   "mimetype": "text/x-python",
   "name": "python",
   "nbconvert_exporter": "python",
   "pygments_lexer": "ipython3",
   "version": "3.9.13"
  }
 },
 "nbformat": 4,
 "nbformat_minor": 5
}
