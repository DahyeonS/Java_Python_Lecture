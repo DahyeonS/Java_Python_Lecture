{
 "cells": [
  {
   "cell_type": "code",
   "execution_count": 3,
   "id": "59535590",
   "metadata": {},
   "outputs": [],
   "source": [
    "def func1(name, *names) :\n",
    "    print(name)\n",
    "    print(names) # tuple\n",
    "    print(names[2])"
   ]
  },
  {
   "cell_type": "code",
   "execution_count": 4,
   "id": "7105f3f9",
   "metadata": {},
   "outputs": [
    {
     "name": "stdout",
     "output_type": "stream",
     "text": [
      "hong1\n",
      "('hong2', 'hong3', 'kim', 'park')\n",
      "kim\n"
     ]
    }
   ],
   "source": [
    "func1('hong1', 'hong2', 'hong3', 'kim', 'park')"
   ]
  },
  {
   "cell_type": "code",
   "execution_count": 5,
   "id": "482cd4cd",
   "metadata": {},
   "outputs": [],
   "source": [
    "from statistics import mean, variance, stdev"
   ]
  },
  {
   "cell_type": "code",
   "execution_count": 14,
   "id": "292bed25",
   "metadata": {},
   "outputs": [],
   "source": [
    "def statis(func, *data) : \n",
    "    if func == 'avg' :\n",
    "        return mean(data)\n",
    "    elif func == 'var' :\n",
    "        return variance(data)\n",
    "    elif func == 'std' :\n",
    "        return stdev(data)\n",
    "    else :\n",
    "        print('Type Error')"
   ]
  },
  {
   "cell_type": "code",
   "execution_count": 15,
   "id": "933da5da",
   "metadata": {},
   "outputs": [
    {
     "name": "stdout",
     "output_type": "stream",
     "text": [
      "avg = 3\n",
      "var = 2.5\n",
      "std = 1.58\n"
     ]
    }
   ],
   "source": [
    "print('avg =', statis('avg', 1, 2, 3, 4, 5))\n",
    "print('var =', statis('var', 1, 2, 3, 4, 5))\n",
    "print('std =', round(statis('std', 1, 2, 3, 4, 5), 2))"
   ]
  },
  {
   "cell_type": "code",
   "execution_count": 16,
   "id": "0e25d803",
   "metadata": {},
   "outputs": [],
   "source": [
    "def statis2(func, data) : # list로 변수 입력\n",
    "    if func == 'avg' :\n",
    "        return mean(data)\n",
    "    elif func == 'var' :\n",
    "        return variance(data)\n",
    "    elif func == 'std' :\n",
    "        return stdev(data)\n",
    "    else :\n",
    "        print('Type Error')"
   ]
  },
  {
   "cell_type": "code",
   "execution_count": 17,
   "id": "90e06db9",
   "metadata": {},
   "outputs": [
    {
     "name": "stdout",
     "output_type": "stream",
     "text": [
      "avg = 3\n",
      "var = 2.5\n",
      "std = 1.58\n"
     ]
    }
   ],
   "source": [
    "print('avg =', statis2('avg', [1, 2, 3, 4, 5]))\n",
    "print('var =', statis2('var', [1, 2, 3, 4, 5]))\n",
    "print('std =', round(statis2('std', [1, 2, 3, 4, 5]), 2))"
   ]
  },
  {
   "cell_type": "code",
   "execution_count": 18,
   "id": "95f6242e",
   "metadata": {},
   "outputs": [],
   "source": [
    "def emp_func(name, age, **other) : # dict 처리\n",
    "    print(name, age)\n",
    "    print(other)"
   ]
  },
  {
   "cell_type": "code",
   "execution_count": 19,
   "id": "23661b4f",
   "metadata": {},
   "outputs": [
    {
     "name": "stdout",
     "output_type": "stream",
     "text": [
      "hong 23\n",
      "{'addr': '서울', 'height': 180, 'weight': 70}\n"
     ]
    }
   ],
   "source": [
    "emp_func('hong', 23, addr='서울', height=180, weight=70)"
   ]
  },
  {
   "cell_type": "markdown",
   "id": "6a0e74ae",
   "metadata": {},
   "source": [
    "## 람다함수\n",
    "- 정의와 호출을 한 번에\n",
    "- 변수 = lambda 매개변수: 리턴값"
   ]
  },
  {
   "cell_type": "code",
   "execution_count": null,
   "id": "038aca30",
   "metadata": {},
   "outputs": [],
   "source": []
  },
  {
   "cell_type": "code",
   "execution_count": null,
   "id": "7ce57479",
   "metadata": {},
   "outputs": [],
   "source": []
  }
 ],
 "metadata": {
  "kernelspec": {
   "display_name": "Python 3 (ipykernel)",
   "language": "python",
   "name": "python3"
  },
  "language_info": {
   "codemirror_mode": {
    "name": "ipython",
    "version": 3
   },
   "file_extension": ".py",
   "mimetype": "text/x-python",
   "name": "python",
   "nbconvert_exporter": "python",
   "pygments_lexer": "ipython3",
   "version": "3.9.13"
  }
 },
 "nbformat": 4,
 "nbformat_minor": 5
}
