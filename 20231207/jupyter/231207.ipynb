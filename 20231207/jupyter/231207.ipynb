{
 "cells": [
  {
   "cell_type": "markdown",
   "id": "ee59029a-8c41-49ef-a414-b0a22c4d0852",
   "metadata": {},
   "source": [
    "# request 요청\n",
    "- 모듈: requests"
   ]
  },
  {
   "cell_type": "code",
   "execution_count": 1,
   "id": "f6b1d752-c9a8-4a1b-ab73-74532fb2585d",
   "metadata": {},
   "outputs": [],
   "source": [
    "# pip install requests\n",
    "import requests"
   ]
  },
  {
   "cell_type": "code",
   "execution_count": 16,
   "id": "e767e667-a5ec-462e-8061-84a60c517e5b",
   "metadata": {},
   "outputs": [
    {
     "data": {
      "text/plain": [
       "200"
      ]
     },
     "execution_count": 16,
     "metadata": {},
     "output_type": "execute_result"
    }
   ],
   "source": [
    "url = 'https://movie.daum.net/search'\n",
    "params = {\n",
    "    'q':'서울의 봄#tab=all'\n",
    "}\n",
    "\n",
    "response = requests.get(url, params=params)\n",
    "response.status_code"
   ]
  },
  {
   "cell_type": "markdown",
   "id": "c1c384d5-772c-4e00-8c63-bebbb29c0ec6",
   "metadata": {},
   "source": [
    "# response 응답"
   ]
  },
  {
   "cell_type": "code",
   "execution_count": 17,
   "id": "a1ac6018-c3f5-49ef-bf5c-070db43f7b6b",
   "metadata": {},
   "outputs": [
    {
     "data": {
      "text/plain": [
       "'<!doctype html>\\n<html lang=\"ko\">\\n<head>\\n    <meta charset=\"utf-8\">\\n<title>다음영화</title>\\n\\n<link href=\"//m2.daumcdn.net/img-media/2010ci/Daum_favicon.ico\" rel=\"shortcut icon\">\\n<link rel=\"stylesheet\" type=\"text/css\" href=\"//t1.daumcdn.net/media/kraken/movie/8c9a93d/PcCommonCssBundle.merged.css\" />\\n\\n<script src=\"//t1.daumcdn.net/media/kraken/movie/8c9a93d/common.merged.js\"></script>\\n<script src=\"//t1.daumcdn.net/media/kraken/movie/8c9a93d/PcCommonScriptBundle.merged.js\"></script>\\n<script src=\"//t1.daumcdn.net/cssjs/movie/v2/amchart/amcharts.js\"></script>\\n<script src=\"//t1.daumcdn.net/cssjs/movie/v2/amchart/serial.js\"></script>\\n\\n<meta property=\"og:author\" content=\"다음영화\" />\\n<meta property=\"og:site_name\" content=\"다음영화\" />\\n    <meta property=\"og:title\" content=\"다음영화\" />\\n    <meta property=\"og:image\" content=\"https://t1.daumcdn.net/movie/common/og_default.png\" />\\n    <meta property=\"og:description\" content=\"Daum영화에서 자세한 내용을 확인하세요!\" />\\n</head>\\n\\n<body class=\"\"> \\n    <div class=\"direct-link\"> \\n        <a href=\"#mainContent\">본문 바로가기</a>\\n        <a href=\"#gnbContent\">메뉴 바로가기</a>\\n    </div>\\n    <div class=\"kakao_wrap detail_type\"> \\n<header class=\"kakao_head\" data-tiara-layer=\"gnb\"> \\n    <div class=\"kakaohead_top\">\\n        <div class=\"inner_head\" data-tiara-layer=\"service\">\\n            <h1 class=\"tit_daum\">\\n                <a href=\"https://daum.net\" class=\"link_daum\" data-tiara-layer=\"logo\"><img src=\"https://t1.daumcdn.net/movie/movie2020/pc/rtn/logo_daum.png\" width=\"44\" height=\"18\" class=\"logo_daum\" alt=\"Daum\"></a>\\n                <a href=\"/main\" class=\"tit_service\" data-tiara-layer=\"movie\"><span class=\"ir_wa\">영화</span></a>\\n            </h1>\\n            <strong class=\"screen_out\">관련 서비스</strong>\\n            <ul class=\"list_relservice\">\\n                <li>\\n                    <a href=\"https://news.daum.net\" class=\"link_relservice\" data-tiara-layer=\"news\">뉴스</a>\\n                </li>\\n                <li>\\n                    <a href=\"https://entertain.daum.net\" class=\"link_relservice\" data-tiara-layer=\"enter\">연예</a>\\n                </li>\\n                <li>\\n                    <a href=\"https://sports.daum.net\" class=\"link_relservice\" data-tiara-layer=\"sports\">스포츠</a>\\n                </li>\\n                <li>\\n                    <a href=\"https://auto.daum.net\" class=\"link_relservice\" data-tiara-layer=\"car\">자동차</a>\\n                </li>\\n            </ul>\\n        </div>\\n    </div>\\n\\n    <div id=\"wrapMinidaum\"></div>\\n    <script type=\"text/javascript\">\\n        var minidaum_options = {\\n            // background 타입 지정 관련 옵션. default: white.\\n            bgType: \"white\", // white, dark, custom(no background)\\n\\n\\n            // logout 시 return url 변경 여부 flag : default: false - 다음탑으로 이동\\n            enableLogoutRetun: true, // false - 다음탑으로 이동, true - 현재페이지 혹은 returnUrl 값으로 이동\\n            returnUrl: \\'\\', // default - 현재페이지(window.location.href)\\n\\n\\n            // 실시간 이슈 사용 여부, default: false\\n            disableHotissue: true, // false일 경우 사용, true일 경우 미사용\\n\\n            // 로고 사용 여부, default: false\\n            disableLogo: true, // false일 경우 사용, true일 경우 미사용\\n\\n            // 티아라 사용 여부, default: false\\n            disableTracker: false, // false일 경우 사용, true일 경우 미사용\\n\\n            // 플래시에 의한 레이어 가림 현상 방지 사용 여부, default: false\\n            enableShield: false // false일 경우 미사용, true일 경우 사용\\n        }\\n    </script>\\n    <script src=\"https://go.daum.net/minidaum_pc.daum\" charset=\"utf-8\" type=\"text/javascript\"></script>\\n\\n\\n    <div class=\"kakaohead_menu\">\\n        <div class=\"inner_head\">\\n            <nav id=\"gnbContent\" class=\"gnb_movie\">\\n                <h2 class=\"screen_out\">영화 메인메뉴</h2>\\n                <ul data-tiara-layer=\"tab\">\\n                    <li class=\"home \">\\n                        <a href=\"/main\" class=\"link_gnb\" data-tiara-layer=\"home\">홈</a>\\n                    </li>\\n                    <li class=\"ranking \">\\n                        <a href=\"/ranking/reservation\" class=\"link_gnb\" data-tiara-layer=\"ranking\">랭킹</a>\\n                        <ul class=\"list_subgnb\">\\n                            <li ><a href=\"/ranking/reservation\" class=\"link_subgnb\" data-tiara-layer=\"reserve\">예매순위</a></li>\\n                            <li ><a href=\"/ranking/boxoffice/weekly\" class=\"link_subgnb\" data-tiara-layer=\"boxoffice\">박스오피스</a></li>\\n                            <li ><a href=\"/ranking/ott\" class=\"link_subgnb\" data-tiara-layer=\"ott\">OTT</a></li>\\n                        </ul>\\n                    </li>\\n                    <li class=\"premovie \">\\n                        <a href=\"/premovie/theater\" class=\"link_gnb\" data-tiara-layer=\"premovie\">상영/예정작</a>\\n                        <ul class=\"list_subgnb\">\\n                            <li ><a href=\"/premovie/theater\" class=\"link_subgnb\" data-tiara-layer=\"theater\">영화관</a></li>\\n                            <li ><a href=\"/premovie/netflix\" class=\"link_subgnb\" data-tiara-layer=\"netflix\">넷플릭스</a></li>\\n                            <li ><a href=\"/premovie/watcha\" class=\"link_subgnb\" data-tiara-layer=\"watcha\">왓챠</a></li>\\n                        </ul>\\n                    </li>\\n                    <li class=\"contents \">\\n                        <a href=\"/contents/news\" class=\"link_gnb\" data-tiara-layer=\"contents\">콘텐츠</a>\\n                        <ul class=\"list_subgnb\">\\n                            <li ><a href=\"/contents/news\" class=\"link_subgnb\" data-tiara-layer=\"news\">영화 뉴스</a></li>\\n                            <li ><a href=\"/contents/1boon\" class=\"link_subgnb\" data-tiara-layer=\"1boon\">매거진</a></li>\\n                            <li ><a href=\"/contents/brunch\" class=\"link_subgnb\" data-tiara-layer=\"brunch\">브런치스토리</a></li>\\n                        </ul>\\n                    </li>\\n                </ul>\\n            </nav>\\n            <a href=\"javascript:\" class=\"link_search\">\\n                <span class=\"ico_movie ico_search\">검색하기</span>\\n            </a> \\n            <div class=\"moviesearch_wrap\"> \\n                <h2 class=\"screen_out\">검색</h2>\\n                <form action=\"\" class=\"d_sch\" role=\"search\">\\n                    <fieldset class=\"fld_sch\">\\n                        <legend class=\"screen_out\">검색어 입력폼</legend>\\n                        <div class=\"box_search\" data-tiara-layer=\"service search\">\\n                            <input type=\"input\" class=\"tf_keyword\" name=\"q\" title=\"검색어 입력\" autocomplete=\"off\" autocorrect=\"off\" autocapitalize=\"off\" spellcheck=\"false\" placeholder=\"영화, 인물 검색\"  value=\"\">\\n                            <button type=\"button\" class=\"btn_search\"><span class=\"ico_movie ico_search\">검색</span></button>\\n                        </div>\\n                    </fieldset>\\n                </form>\\n                <div class=\"suggest_layer\">\\n                </div>\\n            </div>\\n        </div>\\n    </div>\\n\\n</header>\\n        <hr class=\"hide\">\\n\\n        <main class=\"kakao_content\">\\n<article id=\"mainContent\" class=\"kakao_article\">\\n    <h2 class=\"screen_out\">검색결과 본문</h2>\\n    <div class=\"section_search\">\\n        <div class=\"box_tit_fixed\" aria-hidden=\"true\"> \\n            <div class=\"inner_tit\">\\n                <h3 class=\"txt_tit\">\\'<em class=\"fc_keyword\"></em>\\' 검색결과</h3>\\n            </div>\\n        </div>\\n        <h3 class=\"tit_movie\">\\'<em class=\"fc_keyword\"></em>\\' 검색결과</h3>\\n        <div class=\"box_searchinfo\">\\n            <div class=\"tabmenu_wrap\">\\n                <strong class=\"screen_out\">검색결과 탭메뉴</strong>\\n                <ul class=\"list_tabmenu\" role=\"tablist\">\\n                    <li class=\"all\" role=\"presentation\">                        <a href=\"javascript:\" class=\"link_tabmenu\" aria-selected=\"false\" aria-disabled=\"false\" role=\"tab\" data-search-type=\"all\">\\n                            <span class=\"txt_tabmenu\">전체</span>\\n                        </a>\\n                    </li>\\n                    <li class=\"movie\" role=\"presentation\">\\n                        <a href=\"javascript:\" class=\"link_tabmenu\" aria-selected=\"false\" aria-disabled=\"false\" role=\"tab\" data-search-type=\"movie\">\\n                            <span class=\"txt_tabmenu\">영화</span>\\n                        </a>\\n                    </li>\\n                    <li class=\"person\" role=\"presentation\">\\n                        <a href=\"javascript:\" class=\"link_tabmenu\" aria-selected=\"false\" aria-disabled=\"false\" role=\"tab\" data-search-type=\"person\">\\n                            <span class=\"txt_tabmenu\">영화인</span>\\n                        </a>\\n                    </li>\\n                    <li class=\"festival\" role=\"presentation\">\\n                        <a href=\"javascript:\" class=\"link_tabmenu\" aria-selected=\"false\" aria-disabled=\"false\" role=\"tab\" data-search-type=\"festival\">\\n                            <span class=\"txt_tabmenu\">영화제</span>\\n                        </a>\\n                    </li>\\n                    <li class=\"company\" role=\"presentation\">\\n                        <a href=\"javascript:\" class=\"link_tabmenu\" aria-selected=\"false\" aria-disabled=\"false\" role=\"tab\" data-search-type=\"company\">\\n                            <span class=\"txt_tabmenu\">영화사</span>\\n                        </a>\\n                    </li>\\n                </ul>\\n            </div>\\n\\n            <h4 class=\"screen_out\">전체</h4>\\n        </div>\\n    </div>\\n</article>        </main>\\n        <hr class=\"hide\">\\n\\n<footer class=\"kakao_foot\" data-tiara-layer=\"footer\">\\n    <div class=\"inner_foot\" data-cloud=\"pc_news_footer\">\\n        <div class=\"direct_link\">\\n            <h2 class=\"screen_out\">바로가기</h2>\\n            <div class=\"direct_bundle\">\\n                <div class=\"item_bundle\">\\n                    <a href=\"/main\" class=\"link_txt\" data-tiara-layer=\"home\">홈</a>\\n                </div>\\n                <div class=\"item_bundle\">\\n                    <a href=\"/ranking/reservation\" class=\"link_txt\" data-tiara-layer=\"ranking\">랭킹</a>\\n                </div>\\n                <div class=\"item_bundle\">\\n                    <a href=\"/premovie/theater\" class=\"link_txt\" data-tiara-layer=\"premovie\">상영예정작</a>\\n                </div>\\n                <div class=\"item_bundle\">\\n                    <a href=\"/contents/news\" class=\"link_txt\" data-tiara-layer=\"contents\">콘텐츠</a>\\n                </div>\\n            </div>\\n        </div>\\n        <h2 class=\"screen_out\">서비스 이용정보</h2>\\n        <div class=\"footer_link\">\\n            <a href=\"//news.daum.net/info/intro\" class=\"link_info\" data-tiara-layer=\"info_daumnews\">다음뉴스 소개</a>\\n            <a href=\"https://magazine.daum.net/daummovie_notice\" class=\"link_info\" data-tiara-layer=\"notice\">공지사항</a>\\n            <a href=\"//news.daum.net/info/bbsrule\" class=\"link_info\" data-tiara-layer=\"bbsrule\">게시물 운영원칙</a>\\n            <a href=\"//policy.daum.net/info/info\" class=\"link_info\" data-tiara-layer=\"policy\">서비스 약관/정책</a>\\n            <a href=\"//with.kakao.com/media\" class=\"link_info\" data-tiara-layer=\"harmony\">뉴스제휴</a>\\n            <a href=\"//business.kakao.com/\" class=\"link_info\" data-tiara-layer=\"adinfo\">비즈니스</a>\\n            <a href=\"//cs.daum.net/redbell/top.html\" class=\"link_info\" data-tiara-layer=\"redbell\">권리침해신고</a>\\n            <a href=\"//cs.daum.net/faq/32.html\" class=\"link_info\" data-tiara-layer=\"movie_consumer\">영화 고객센터</a>\\n        </div>\\n        <div class=\"footer_link\">\\n            <a href=\"//news.daum.net/info/newscenter24\" class=\"link_info\" data-tiara-layer=\"newscenter\">24시간 뉴스센터</a>\\n            <a href=\"//news.daum.net/info/edit\" class=\"link_info\" data-tiara-layer=\"principle\">서비스원칙</a>\\n            <span class=\"link_info\">기사배열책임자 : 황유지</span>\\n            <span class=\"link_info\">청소년보호책임자 : 손성희</span>\\n        </div>\\n        <div class=\"info_copyright\">\\n            <strong class=\"info_warn\">위 내용에 대한 저작권 및 법적 책임은 자료제공사 또는 <br>글쓴이에 있으며, Kakao의 입장과 다를 수 있습니다.</strong>\\n            <small class=\"txt_copyright\">Copyright © <a href=\"http://www.kakaocorp.com/\" class=\"link_kakao\">Kakao Corp.</a> All rights reserved.</small>\\n        </div>\\n        <a href=\"javascript:\" class=\"btn_top\" data-tiara-layer=\"top_button\"><span class=\"inner_top\"><span class=\"ico_movie ico_top\"></span></span>TOP</a>\\n    </div>\\n</footer>\\n        <script src=\"//t1.daumcdn.net/media/kraken/movie/8c9a93d/PcSearchBundle.merged.js\"></script>\\n\\n<script src=\"//t1.daumcdn.net/media/kraken/movie/8c9a93d/PcCommonEventBundle.merged.js\"></script>    </div>\\n</body>\\n</html>'"
      ]
     },
     "execution_count": 17,
     "metadata": {},
     "output_type": "execute_result"
    }
   ],
   "source": [
    "raw_data = response.text\n",
    "raw_data"
   ]
  },
  {
   "cell_type": "markdown",
   "id": "4c47feac-f6a7-424b-934e-7299f7da4808",
   "metadata": {},
   "source": [
    "# process 처리"
   ]
  },
  {
   "cell_type": "code",
   "execution_count": 9,
   "id": "d9d3d16b-05e9-43d8-9df4-7f45d949e75c",
   "metadata": {},
   "outputs": [],
   "source": [
    "# pip install beautifulsoup4\n",
    "from bs4 import BeautifulSoup"
   ]
  },
  {
   "cell_type": "code",
   "execution_count": 18,
   "id": "a4d941d3-9784-444f-aa3d-c76783e79a53",
   "metadata": {},
   "outputs": [
    {
     "data": {
      "text/plain": [
       "<!DOCTYPE html>\n",
       "\n",
       "<html lang=\"ko\">\n",
       "<head>\n",
       "<meta charset=\"utf-8\"/>\n",
       "<title>다음영화</title>\n",
       "<link href=\"//m2.daumcdn.net/img-media/2010ci/Daum_favicon.ico\" rel=\"shortcut icon\"/>\n",
       "<link href=\"//t1.daumcdn.net/media/kraken/movie/8c9a93d/PcCommonCssBundle.merged.css\" rel=\"stylesheet\" type=\"text/css\">\n",
       "<script src=\"//t1.daumcdn.net/media/kraken/movie/8c9a93d/common.merged.js\"></script>\n",
       "<script src=\"//t1.daumcdn.net/media/kraken/movie/8c9a93d/PcCommonScriptBundle.merged.js\"></script>\n",
       "<script src=\"//t1.daumcdn.net/cssjs/movie/v2/amchart/amcharts.js\"></script>\n",
       "<script src=\"//t1.daumcdn.net/cssjs/movie/v2/amchart/serial.js\"></script>\n",
       "<meta content=\"다음영화\" property=\"og:author\">\n",
       "<meta content=\"다음영화\" property=\"og:site_name\"/>\n",
       "<meta content=\"다음영화\" property=\"og:title\"/>\n",
       "<meta content=\"https://t1.daumcdn.net/movie/common/og_default.png\" property=\"og:image\"/>\n",
       "<meta content=\"Daum영화에서 자세한 내용을 확인하세요!\" property=\"og:description\"/>\n",
       "</meta></link></head>\n",
       "<body class=\"\">\n",
       "<div class=\"direct-link\">\n",
       "<a href=\"#mainContent\">본문 바로가기</a>\n",
       "<a href=\"#gnbContent\">메뉴 바로가기</a>\n",
       "</div>\n",
       "<div class=\"kakao_wrap detail_type\">\n",
       "<header class=\"kakao_head\" data-tiara-layer=\"gnb\">\n",
       "<div class=\"kakaohead_top\">\n",
       "<div class=\"inner_head\" data-tiara-layer=\"service\">\n",
       "<h1 class=\"tit_daum\">\n",
       "<a class=\"link_daum\" data-tiara-layer=\"logo\" href=\"https://daum.net\"><img alt=\"Daum\" class=\"logo_daum\" height=\"18\" src=\"https://t1.daumcdn.net/movie/movie2020/pc/rtn/logo_daum.png\" width=\"44\"/></a>\n",
       "<a class=\"tit_service\" data-tiara-layer=\"movie\" href=\"/main\"><span class=\"ir_wa\">영화</span></a>\n",
       "</h1>\n",
       "<strong class=\"screen_out\">관련 서비스</strong>\n",
       "<ul class=\"list_relservice\">\n",
       "<li>\n",
       "<a class=\"link_relservice\" data-tiara-layer=\"news\" href=\"https://news.daum.net\">뉴스</a>\n",
       "</li>\n",
       "<li>\n",
       "<a class=\"link_relservice\" data-tiara-layer=\"enter\" href=\"https://entertain.daum.net\">연예</a>\n",
       "</li>\n",
       "<li>\n",
       "<a class=\"link_relservice\" data-tiara-layer=\"sports\" href=\"https://sports.daum.net\">스포츠</a>\n",
       "</li>\n",
       "<li>\n",
       "<a class=\"link_relservice\" data-tiara-layer=\"car\" href=\"https://auto.daum.net\">자동차</a>\n",
       "</li>\n",
       "</ul>\n",
       "</div>\n",
       "</div>\n",
       "<div id=\"wrapMinidaum\"></div>\n",
       "<script type=\"text/javascript\">\n",
       "        var minidaum_options = {\n",
       "            // background 타입 지정 관련 옵션. default: white.\n",
       "            bgType: \"white\", // white, dark, custom(no background)\n",
       "\n",
       "\n",
       "            // logout 시 return url 변경 여부 flag : default: false - 다음탑으로 이동\n",
       "            enableLogoutRetun: true, // false - 다음탑으로 이동, true - 현재페이지 혹은 returnUrl 값으로 이동\n",
       "            returnUrl: '', // default - 현재페이지(window.location.href)\n",
       "\n",
       "\n",
       "            // 실시간 이슈 사용 여부, default: false\n",
       "            disableHotissue: true, // false일 경우 사용, true일 경우 미사용\n",
       "\n",
       "            // 로고 사용 여부, default: false\n",
       "            disableLogo: true, // false일 경우 사용, true일 경우 미사용\n",
       "\n",
       "            // 티아라 사용 여부, default: false\n",
       "            disableTracker: false, // false일 경우 사용, true일 경우 미사용\n",
       "\n",
       "            // 플래시에 의한 레이어 가림 현상 방지 사용 여부, default: false\n",
       "            enableShield: false // false일 경우 미사용, true일 경우 사용\n",
       "        }\n",
       "    </script>\n",
       "<script charset=\"utf-8\" src=\"https://go.daum.net/minidaum_pc.daum\" type=\"text/javascript\"></script>\n",
       "<div class=\"kakaohead_menu\">\n",
       "<div class=\"inner_head\">\n",
       "<nav class=\"gnb_movie\" id=\"gnbContent\">\n",
       "<h2 class=\"screen_out\">영화 메인메뉴</h2>\n",
       "<ul data-tiara-layer=\"tab\">\n",
       "<li class=\"home\">\n",
       "<a class=\"link_gnb\" data-tiara-layer=\"home\" href=\"/main\">홈</a>\n",
       "</li>\n",
       "<li class=\"ranking\">\n",
       "<a class=\"link_gnb\" data-tiara-layer=\"ranking\" href=\"/ranking/reservation\">랭킹</a>\n",
       "<ul class=\"list_subgnb\">\n",
       "<li><a class=\"link_subgnb\" data-tiara-layer=\"reserve\" href=\"/ranking/reservation\">예매순위</a></li>\n",
       "<li><a class=\"link_subgnb\" data-tiara-layer=\"boxoffice\" href=\"/ranking/boxoffice/weekly\">박스오피스</a></li>\n",
       "<li><a class=\"link_subgnb\" data-tiara-layer=\"ott\" href=\"/ranking/ott\">OTT</a></li>\n",
       "</ul>\n",
       "</li>\n",
       "<li class=\"premovie\">\n",
       "<a class=\"link_gnb\" data-tiara-layer=\"premovie\" href=\"/premovie/theater\">상영/예정작</a>\n",
       "<ul class=\"list_subgnb\">\n",
       "<li><a class=\"link_subgnb\" data-tiara-layer=\"theater\" href=\"/premovie/theater\">영화관</a></li>\n",
       "<li><a class=\"link_subgnb\" data-tiara-layer=\"netflix\" href=\"/premovie/netflix\">넷플릭스</a></li>\n",
       "<li><a class=\"link_subgnb\" data-tiara-layer=\"watcha\" href=\"/premovie/watcha\">왓챠</a></li>\n",
       "</ul>\n",
       "</li>\n",
       "<li class=\"contents\">\n",
       "<a class=\"link_gnb\" data-tiara-layer=\"contents\" href=\"/contents/news\">콘텐츠</a>\n",
       "<ul class=\"list_subgnb\">\n",
       "<li><a class=\"link_subgnb\" data-tiara-layer=\"news\" href=\"/contents/news\">영화 뉴스</a></li>\n",
       "<li><a class=\"link_subgnb\" data-tiara-layer=\"1boon\" href=\"/contents/1boon\">매거진</a></li>\n",
       "<li><a class=\"link_subgnb\" data-tiara-layer=\"brunch\" href=\"/contents/brunch\">브런치스토리</a></li>\n",
       "</ul>\n",
       "</li>\n",
       "</ul>\n",
       "</nav>\n",
       "<a class=\"link_search\" href=\"javascript:\">\n",
       "<span class=\"ico_movie ico_search\">검색하기</span>\n",
       "</a>\n",
       "<div class=\"moviesearch_wrap\">\n",
       "<h2 class=\"screen_out\">검색</h2>\n",
       "<form action=\"\" class=\"d_sch\" role=\"search\">\n",
       "<fieldset class=\"fld_sch\">\n",
       "<legend class=\"screen_out\">검색어 입력폼</legend>\n",
       "<div class=\"box_search\" data-tiara-layer=\"service search\">\n",
       "<input autocapitalize=\"off\" autocomplete=\"off\" autocorrect=\"off\" class=\"tf_keyword\" name=\"q\" placeholder=\"영화, 인물 검색\" spellcheck=\"false\" title=\"검색어 입력\" type=\"input\" value=\"\"/>\n",
       "<button class=\"btn_search\" type=\"button\"><span class=\"ico_movie ico_search\">검색</span></button>\n",
       "</div>\n",
       "</fieldset>\n",
       "</form>\n",
       "<div class=\"suggest_layer\">\n",
       "</div>\n",
       "</div>\n",
       "</div>\n",
       "</div>\n",
       "</header>\n",
       "<hr class=\"hide\"/>\n",
       "<main class=\"kakao_content\">\n",
       "<article class=\"kakao_article\" id=\"mainContent\">\n",
       "<h2 class=\"screen_out\">검색결과 본문</h2>\n",
       "<div class=\"section_search\">\n",
       "<div aria-hidden=\"true\" class=\"box_tit_fixed\">\n",
       "<div class=\"inner_tit\">\n",
       "<h3 class=\"txt_tit\">'<em class=\"fc_keyword\"></em>' 검색결과</h3>\n",
       "</div>\n",
       "</div>\n",
       "<h3 class=\"tit_movie\">'<em class=\"fc_keyword\"></em>' 검색결과</h3>\n",
       "<div class=\"box_searchinfo\">\n",
       "<div class=\"tabmenu_wrap\">\n",
       "<strong class=\"screen_out\">검색결과 탭메뉴</strong>\n",
       "<ul class=\"list_tabmenu\" role=\"tablist\">\n",
       "<li class=\"all\" role=\"presentation\"> <a aria-disabled=\"false\" aria-selected=\"false\" class=\"link_tabmenu\" data-search-type=\"all\" href=\"javascript:\" role=\"tab\">\n",
       "<span class=\"txt_tabmenu\">전체</span>\n",
       "</a>\n",
       "</li>\n",
       "<li class=\"movie\" role=\"presentation\">\n",
       "<a aria-disabled=\"false\" aria-selected=\"false\" class=\"link_tabmenu\" data-search-type=\"movie\" href=\"javascript:\" role=\"tab\">\n",
       "<span class=\"txt_tabmenu\">영화</span>\n",
       "</a>\n",
       "</li>\n",
       "<li class=\"person\" role=\"presentation\">\n",
       "<a aria-disabled=\"false\" aria-selected=\"false\" class=\"link_tabmenu\" data-search-type=\"person\" href=\"javascript:\" role=\"tab\">\n",
       "<span class=\"txt_tabmenu\">영화인</span>\n",
       "</a>\n",
       "</li>\n",
       "<li class=\"festival\" role=\"presentation\">\n",
       "<a aria-disabled=\"false\" aria-selected=\"false\" class=\"link_tabmenu\" data-search-type=\"festival\" href=\"javascript:\" role=\"tab\">\n",
       "<span class=\"txt_tabmenu\">영화제</span>\n",
       "</a>\n",
       "</li>\n",
       "<li class=\"company\" role=\"presentation\">\n",
       "<a aria-disabled=\"false\" aria-selected=\"false\" class=\"link_tabmenu\" data-search-type=\"company\" href=\"javascript:\" role=\"tab\">\n",
       "<span class=\"txt_tabmenu\">영화사</span>\n",
       "</a>\n",
       "</li>\n",
       "</ul>\n",
       "</div>\n",
       "<h4 class=\"screen_out\">전체</h4>\n",
       "</div>\n",
       "</div>\n",
       "</article> </main>\n",
       "<hr class=\"hide\"/>\n",
       "<footer class=\"kakao_foot\" data-tiara-layer=\"footer\">\n",
       "<div class=\"inner_foot\" data-cloud=\"pc_news_footer\">\n",
       "<div class=\"direct_link\">\n",
       "<h2 class=\"screen_out\">바로가기</h2>\n",
       "<div class=\"direct_bundle\">\n",
       "<div class=\"item_bundle\">\n",
       "<a class=\"link_txt\" data-tiara-layer=\"home\" href=\"/main\">홈</a>\n",
       "</div>\n",
       "<div class=\"item_bundle\">\n",
       "<a class=\"link_txt\" data-tiara-layer=\"ranking\" href=\"/ranking/reservation\">랭킹</a>\n",
       "</div>\n",
       "<div class=\"item_bundle\">\n",
       "<a class=\"link_txt\" data-tiara-layer=\"premovie\" href=\"/premovie/theater\">상영예정작</a>\n",
       "</div>\n",
       "<div class=\"item_bundle\">\n",
       "<a class=\"link_txt\" data-tiara-layer=\"contents\" href=\"/contents/news\">콘텐츠</a>\n",
       "</div>\n",
       "</div>\n",
       "</div>\n",
       "<h2 class=\"screen_out\">서비스 이용정보</h2>\n",
       "<div class=\"footer_link\">\n",
       "<a class=\"link_info\" data-tiara-layer=\"info_daumnews\" href=\"//news.daum.net/info/intro\">다음뉴스 소개</a>\n",
       "<a class=\"link_info\" data-tiara-layer=\"notice\" href=\"https://magazine.daum.net/daummovie_notice\">공지사항</a>\n",
       "<a class=\"link_info\" data-tiara-layer=\"bbsrule\" href=\"//news.daum.net/info/bbsrule\">게시물 운영원칙</a>\n",
       "<a class=\"link_info\" data-tiara-layer=\"policy\" href=\"//policy.daum.net/info/info\">서비스 약관/정책</a>\n",
       "<a class=\"link_info\" data-tiara-layer=\"harmony\" href=\"//with.kakao.com/media\">뉴스제휴</a>\n",
       "<a class=\"link_info\" data-tiara-layer=\"adinfo\" href=\"//business.kakao.com/\">비즈니스</a>\n",
       "<a class=\"link_info\" data-tiara-layer=\"redbell\" href=\"//cs.daum.net/redbell/top.html\">권리침해신고</a>\n",
       "<a class=\"link_info\" data-tiara-layer=\"movie_consumer\" href=\"//cs.daum.net/faq/32.html\">영화 고객센터</a>\n",
       "</div>\n",
       "<div class=\"footer_link\">\n",
       "<a class=\"link_info\" data-tiara-layer=\"newscenter\" href=\"//news.daum.net/info/newscenter24\">24시간 뉴스센터</a>\n",
       "<a class=\"link_info\" data-tiara-layer=\"principle\" href=\"//news.daum.net/info/edit\">서비스원칙</a>\n",
       "<span class=\"link_info\">기사배열책임자 : 황유지</span>\n",
       "<span class=\"link_info\">청소년보호책임자 : 손성희</span>\n",
       "</div>\n",
       "<div class=\"info_copyright\">\n",
       "<strong class=\"info_warn\">위 내용에 대한 저작권 및 법적 책임은 자료제공사 또는 <br/>글쓴이에 있으며, Kakao의 입장과 다를 수 있습니다.</strong>\n",
       "<small class=\"txt_copyright\">Copyright © <a class=\"link_kakao\" href=\"http://www.kakaocorp.com/\">Kakao Corp.</a> All rights reserved.</small>\n",
       "</div>\n",
       "<a class=\"btn_top\" data-tiara-layer=\"top_button\" href=\"javascript:\"><span class=\"inner_top\"><span class=\"ico_movie ico_top\"></span></span>TOP</a>\n",
       "</div>\n",
       "</footer>\n",
       "<script src=\"//t1.daumcdn.net/media/kraken/movie/8c9a93d/PcSearchBundle.merged.js\"></script>\n",
       "<script src=\"//t1.daumcdn.net/media/kraken/movie/8c9a93d/PcCommonEventBundle.merged.js\"></script> </div>\n",
       "</body>\n",
       "</html>"
      ]
     },
     "execution_count": 18,
     "metadata": {},
     "output_type": "execute_result"
    }
   ],
   "source": [
    "soup = BeautifulSoup(raw_data)\n",
    "soup"
   ]
  },
  {
   "cell_type": "code",
   "execution_count": 22,
   "id": "879d6dc3-6ac3-4307-8ba4-b5fe1d77ae37",
   "metadata": {},
   "outputs": [
    {
     "data": {
      "text/plain": [
       "('다음영화', '다음영화', '다음영화')"
      ]
     },
     "execution_count": 22,
     "metadata": {},
     "output_type": "execute_result"
    }
   ],
   "source": [
    "title = soup.title\n",
    "title.string, title.text, title.get_text()"
   ]
  },
  {
   "cell_type": "code",
   "execution_count": 25,
   "id": "484c93ce-19ff-4c4f-8edb-30008fee1f4a",
   "metadata": {},
   "outputs": [
    {
     "data": {
      "text/plain": [
       "<a href=\"#mainContent\">본문 바로가기</a>"
      ]
     },
     "execution_count": 25,
     "metadata": {},
     "output_type": "execute_result"
    }
   ],
   "source": [
    "soup.a"
   ]
  },
  {
   "cell_type": "code",
   "execution_count": 26,
   "id": "efbfbf87-3e3f-46ed-b936-e265c3fc83ca",
   "metadata": {},
   "outputs": [
    {
     "data": {
      "text/plain": [
       "[<a href=\"#mainContent\">본문 바로가기</a>,\n",
       " <a href=\"#gnbContent\">메뉴 바로가기</a>,\n",
       " <a class=\"link_daum\" data-tiara-layer=\"logo\" href=\"https://daum.net\"><img alt=\"Daum\" class=\"logo_daum\" height=\"18\" src=\"https://t1.daumcdn.net/movie/movie2020/pc/rtn/logo_daum.png\" width=\"44\"/></a>,\n",
       " <a class=\"tit_service\" data-tiara-layer=\"movie\" href=\"/main\"><span class=\"ir_wa\">영화</span></a>,\n",
       " <a class=\"link_relservice\" data-tiara-layer=\"news\" href=\"https://news.daum.net\">뉴스</a>,\n",
       " <a class=\"link_relservice\" data-tiara-layer=\"enter\" href=\"https://entertain.daum.net\">연예</a>,\n",
       " <a class=\"link_relservice\" data-tiara-layer=\"sports\" href=\"https://sports.daum.net\">스포츠</a>,\n",
       " <a class=\"link_relservice\" data-tiara-layer=\"car\" href=\"https://auto.daum.net\">자동차</a>,\n",
       " <a class=\"link_gnb\" data-tiara-layer=\"home\" href=\"/main\">홈</a>,\n",
       " <a class=\"link_gnb\" data-tiara-layer=\"ranking\" href=\"/ranking/reservation\">랭킹</a>,\n",
       " <a class=\"link_subgnb\" data-tiara-layer=\"reserve\" href=\"/ranking/reservation\">예매순위</a>,\n",
       " <a class=\"link_subgnb\" data-tiara-layer=\"boxoffice\" href=\"/ranking/boxoffice/weekly\">박스오피스</a>,\n",
       " <a class=\"link_subgnb\" data-tiara-layer=\"ott\" href=\"/ranking/ott\">OTT</a>,\n",
       " <a class=\"link_gnb\" data-tiara-layer=\"premovie\" href=\"/premovie/theater\">상영/예정작</a>,\n",
       " <a class=\"link_subgnb\" data-tiara-layer=\"theater\" href=\"/premovie/theater\">영화관</a>,\n",
       " <a class=\"link_subgnb\" data-tiara-layer=\"netflix\" href=\"/premovie/netflix\">넷플릭스</a>,\n",
       " <a class=\"link_subgnb\" data-tiara-layer=\"watcha\" href=\"/premovie/watcha\">왓챠</a>,\n",
       " <a class=\"link_gnb\" data-tiara-layer=\"contents\" href=\"/contents/news\">콘텐츠</a>,\n",
       " <a class=\"link_subgnb\" data-tiara-layer=\"news\" href=\"/contents/news\">영화 뉴스</a>,\n",
       " <a class=\"link_subgnb\" data-tiara-layer=\"1boon\" href=\"/contents/1boon\">매거진</a>,\n",
       " <a class=\"link_subgnb\" data-tiara-layer=\"brunch\" href=\"/contents/brunch\">브런치스토리</a>,\n",
       " <a class=\"link_search\" href=\"javascript:\">\n",
       " <span class=\"ico_movie ico_search\">검색하기</span>\n",
       " </a>,\n",
       " <a aria-disabled=\"false\" aria-selected=\"false\" class=\"link_tabmenu\" data-search-type=\"all\" href=\"javascript:\" role=\"tab\">\n",
       " <span class=\"txt_tabmenu\">전체</span>\n",
       " </a>,\n",
       " <a aria-disabled=\"false\" aria-selected=\"false\" class=\"link_tabmenu\" data-search-type=\"movie\" href=\"javascript:\" role=\"tab\">\n",
       " <span class=\"txt_tabmenu\">영화</span>\n",
       " </a>,\n",
       " <a aria-disabled=\"false\" aria-selected=\"false\" class=\"link_tabmenu\" data-search-type=\"person\" href=\"javascript:\" role=\"tab\">\n",
       " <span class=\"txt_tabmenu\">영화인</span>\n",
       " </a>,\n",
       " <a aria-disabled=\"false\" aria-selected=\"false\" class=\"link_tabmenu\" data-search-type=\"festival\" href=\"javascript:\" role=\"tab\">\n",
       " <span class=\"txt_tabmenu\">영화제</span>\n",
       " </a>,\n",
       " <a aria-disabled=\"false\" aria-selected=\"false\" class=\"link_tabmenu\" data-search-type=\"company\" href=\"javascript:\" role=\"tab\">\n",
       " <span class=\"txt_tabmenu\">영화사</span>\n",
       " </a>,\n",
       " <a class=\"link_txt\" data-tiara-layer=\"home\" href=\"/main\">홈</a>,\n",
       " <a class=\"link_txt\" data-tiara-layer=\"ranking\" href=\"/ranking/reservation\">랭킹</a>,\n",
       " <a class=\"link_txt\" data-tiara-layer=\"premovie\" href=\"/premovie/theater\">상영예정작</a>,\n",
       " <a class=\"link_txt\" data-tiara-layer=\"contents\" href=\"/contents/news\">콘텐츠</a>,\n",
       " <a class=\"link_info\" data-tiara-layer=\"info_daumnews\" href=\"//news.daum.net/info/intro\">다음뉴스 소개</a>,\n",
       " <a class=\"link_info\" data-tiara-layer=\"notice\" href=\"https://magazine.daum.net/daummovie_notice\">공지사항</a>,\n",
       " <a class=\"link_info\" data-tiara-layer=\"bbsrule\" href=\"//news.daum.net/info/bbsrule\">게시물 운영원칙</a>,\n",
       " <a class=\"link_info\" data-tiara-layer=\"policy\" href=\"//policy.daum.net/info/info\">서비스 약관/정책</a>,\n",
       " <a class=\"link_info\" data-tiara-layer=\"harmony\" href=\"//with.kakao.com/media\">뉴스제휴</a>,\n",
       " <a class=\"link_info\" data-tiara-layer=\"adinfo\" href=\"//business.kakao.com/\">비즈니스</a>,\n",
       " <a class=\"link_info\" data-tiara-layer=\"redbell\" href=\"//cs.daum.net/redbell/top.html\">권리침해신고</a>,\n",
       " <a class=\"link_info\" data-tiara-layer=\"movie_consumer\" href=\"//cs.daum.net/faq/32.html\">영화 고객센터</a>,\n",
       " <a class=\"link_info\" data-tiara-layer=\"newscenter\" href=\"//news.daum.net/info/newscenter24\">24시간 뉴스센터</a>,\n",
       " <a class=\"link_info\" data-tiara-layer=\"principle\" href=\"//news.daum.net/info/edit\">서비스원칙</a>,\n",
       " <a class=\"link_kakao\" href=\"http://www.kakaocorp.com/\">Kakao Corp.</a>,\n",
       " <a class=\"btn_top\" data-tiara-layer=\"top_button\" href=\"javascript:\"><span class=\"inner_top\"><span class=\"ico_movie ico_top\"></span></span>TOP</a>]"
      ]
     },
     "execution_count": 26,
     "metadata": {},
     "output_type": "execute_result"
    }
   ],
   "source": [
    "soup('a')"
   ]
  },
  {
   "cell_type": "code",
   "execution_count": 27,
   "id": "1b7596b0-f96d-4164-8d69-43c485d7016f",
   "metadata": {},
   "outputs": [
    {
     "data": {
      "text/plain": [
       "<a href=\"#mainContent\">본문 바로가기</a>"
      ]
     },
     "execution_count": 27,
     "metadata": {},
     "output_type": "execute_result"
    }
   ],
   "source": [
    "first_a = soup('a')[0]\n",
    "first_a"
   ]
  },
  {
   "cell_type": "code",
   "execution_count": 28,
   "id": "af6fcc97-22c5-4ac3-9f00-51e483a2c6cc",
   "metadata": {},
   "outputs": [
    {
     "data": {
      "text/plain": [
       "'#mainContent'"
      ]
     },
     "execution_count": 28,
     "metadata": {},
     "output_type": "execute_result"
    }
   ],
   "source": [
    "first_a.attrs['href']"
   ]
  },
  {
   "cell_type": "code",
   "execution_count": 33,
   "id": "0b032b9f-6108-4280-8384-90fbac8c1351",
   "metadata": {},
   "outputs": [
    {
     "data": {
      "text/plain": [
       "<a href=\"#mainContent\">본문 바로가기</a>"
      ]
     },
     "execution_count": 33,
     "metadata": {},
     "output_type": "execute_result"
    }
   ],
   "source": [
    "soup.find('a')"
   ]
  },
  {
   "cell_type": "code",
   "execution_count": 37,
   "id": "a59ba8ec-234b-448a-ac9c-bb224c514769",
   "metadata": {},
   "outputs": [
    {
     "data": {
      "text/plain": [
       "('본문 바로가기', '#mainContent')"
      ]
     },
     "execution_count": 37,
     "metadata": {},
     "output_type": "execute_result"
    }
   ],
   "source": [
    "first_a = soup.find_all('a')[0]\n",
    "first_a.string, first_a.attrs['href']"
   ]
  },
  {
   "cell_type": "markdown",
   "id": "21d7d3e0-7b35-43a6-8349-1cc6496ab958",
   "metadata": {},
   "source": [
    "# save 저장"
   ]
  },
  {
   "cell_type": "code",
   "execution_count": null,
   "id": "f8f5e24c-6ad3-4a1d-a3c7-de7c0dcd6d7c",
   "metadata": {},
   "outputs": [],
   "source": []
  },
  {
   "cell_type": "code",
   "execution_count": null,
   "id": "8683d4fc-c3d7-496e-85d6-827c65178914",
   "metadata": {},
   "outputs": [],
   "source": []
  },
  {
   "cell_type": "code",
   "execution_count": null,
   "id": "436bbb60-2ec0-4502-ac5d-db68a8e61efc",
   "metadata": {},
   "outputs": [],
   "source": []
  },
  {
   "cell_type": "code",
   "execution_count": null,
   "id": "d71b565e-b6a5-4fda-bcf8-bf87989253c4",
   "metadata": {},
   "outputs": [],
   "source": []
  },
  {
   "cell_type": "code",
   "execution_count": null,
   "id": "a92bc465-2681-4a4b-bcbf-ea21e9ed6654",
   "metadata": {},
   "outputs": [],
   "source": []
  },
  {
   "cell_type": "code",
   "execution_count": null,
   "id": "c60c734d-dca4-4a70-923c-016874d5b85f",
   "metadata": {},
   "outputs": [],
   "source": []
  },
  {
   "cell_type": "code",
   "execution_count": null,
   "id": "5df86dbb-8967-4e7b-90f0-7d20f3f34ae2",
   "metadata": {},
   "outputs": [],
   "source": []
  },
  {
   "cell_type": "code",
   "execution_count": null,
   "id": "7181621e-9c9f-42d8-abfd-10820330cbc3",
   "metadata": {},
   "outputs": [],
   "source": []
  },
  {
   "cell_type": "code",
   "execution_count": null,
   "id": "9728714f-6097-4e30-9eab-3938936a690c",
   "metadata": {},
   "outputs": [],
   "source": []
  },
  {
   "cell_type": "code",
   "execution_count": null,
   "id": "82585131-12ad-4242-999a-09948aa02375",
   "metadata": {},
   "outputs": [],
   "source": []
  },
  {
   "cell_type": "code",
   "execution_count": null,
   "id": "2d2af5b9-a89c-4aa0-b0f8-b01f2907e2e2",
   "metadata": {},
   "outputs": [],
   "source": []
  },
  {
   "cell_type": "code",
   "execution_count": null,
   "id": "94f34eb8-7a97-40a4-adb4-07bfa1dfeb14",
   "metadata": {},
   "outputs": [],
   "source": []
  },
  {
   "cell_type": "code",
   "execution_count": null,
   "id": "68d998f3-4e6d-4c62-9b0c-872a395b68f9",
   "metadata": {},
   "outputs": [],
   "source": []
  }
 ],
 "metadata": {
  "kernelspec": {
   "display_name": "Python 3 (ipykernel)",
   "language": "python",
   "name": "python3"
  },
  "language_info": {
   "codemirror_mode": {
    "name": "ipython",
    "version": 3
   },
   "file_extension": ".py",
   "mimetype": "text/x-python",
   "name": "python",
   "nbconvert_exporter": "python",
   "pygments_lexer": "ipython3",
   "version": "3.11.5"
  },
  "widgets": {
   "application/vnd.jupyter.widget-state+json": {
    "state": {},
    "version_major": 2,
    "version_minor": 0
   }
  }
 },
 "nbformat": 4,
 "nbformat_minor": 5
}
