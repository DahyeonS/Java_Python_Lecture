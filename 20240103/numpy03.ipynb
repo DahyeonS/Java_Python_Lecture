{
  "cells": [
    {
      "cell_type": "markdown",
      "metadata": {
        "id": "view-in-github",
        "colab_type": "text"
      },
      "source": [
        "<a href=\"https://colab.research.google.com/github/DahyeonS/Java_Python_Lecture/blob/main/20240103/numpy03.ipynb\" target=\"_parent\"><img src=\"https://colab.research.google.com/assets/colab-badge.svg\" alt=\"Open In Colab\"/></a>"
      ]
    },
    {
      "cell_type": "markdown",
      "metadata": {
        "school_cell_uuid": "0ea1cb2d648c4b32b4a470ceaff6e365",
        "id": "5CoIxhb9-d7C"
      },
      "source": [
        "# 3.3 배열의 연산"
      ]
    },
    {
      "cell_type": "markdown",
      "metadata": {
        "school_cell_uuid": "ba121181d3504a5b8630ac1c7ac3c380",
        "id": "KzuOQrYn-d7E"
      },
      "source": [
        "## 벡터화 연산"
      ]
    },
    {
      "cell_type": "markdown",
      "metadata": {
        "id": "ANggTnS8-d7F"
      },
      "source": [
        "`벡터화 연산`"
      ]
    },
    {
      "cell_type": "markdown",
      "metadata": {
        "school_cell_uuid": "38debffc28524cfb8cf4e16be44a3682",
        "id": "u1SmQcY5-d7F"
      },
      "source": [
        "앞서 넘파이가 벡터화 연산(vectorized operation)을 지원한다고 이야기하였다. 벡터화 연산을 쓰면 명시적으로 반복문을 사용하지 않고도 배열의 모든 원소에 대해 반복연산을 할 수 있다. 벡터화 연산의 또다른 장점은 선형 대수 공식과 동일한 아주 간단한 파이썬 코드를 작성할 수 있다는 점이다."
      ]
    },
    {
      "cell_type": "markdown",
      "metadata": {
        "school_cell_uuid": "8179c80979ee4153b3575cf27f34de9c",
        "id": "kRyxzTpZ-d7F"
      },
      "source": [
        "예를 들어 선형 대수에서 두 벡터의 합은 다음과 같이 구한다.\n",
        "\n",
        "$$\n",
        "x = \\begin{bmatrix}1 \\\\ 2 \\\\ 3 \\\\ \\vdots \\\\ 10000 \\end{bmatrix}, \\;\\;\\;\\;\n",
        "y = \\begin{bmatrix}10001 \\\\ 10002 \\\\ 10003 \\\\ \\vdots \\\\ 20000 \\end{bmatrix},\n",
        "$$\n",
        "\n",
        "일 때, 두 벡터의 합\n",
        "\n",
        "$$ z = x + y $$\n",
        "\n",
        "은 다음과 같이 구한다.\n",
        "\n",
        "$$\n",
        "\\begin{bmatrix}1 \\\\ 2 \\\\ 3 \\\\ \\vdots \\\\ 10000 \\end{bmatrix} +\n",
        "\\begin{bmatrix}10001 \\\\ 10002 \\\\ 10003 \\\\ \\vdots \\\\ 20000 \\end{bmatrix}\n",
        "= \\begin{bmatrix}1+10001 \\\\ 2+10002 \\\\ 3+10003 \\\\ \\vdots \\\\ 10000+20000 \\end{bmatrix}\n",
        "= \\begin{bmatrix}10002 \\\\ 10004 \\\\ 10006 \\\\ \\vdots \\\\ 30000 \\end{bmatrix}\n",
        "$$"
      ]
    },
    {
      "cell_type": "markdown",
      "metadata": {
        "id": "9KRWLDZJ-d7F"
      },
      "source": [
        "`%%time`"
      ]
    },
    {
      "cell_type": "markdown",
      "metadata": {
        "school_cell_uuid": "cae255330dad415dbdb11d952c933179",
        "id": "GpjXuIw7-d7G"
      },
      "source": [
        "만약 벡터화 연산을 사용하지 않는다면 이 연산은 반복문을 사용하여 다음과 같이 만들어야 한다. 이 코드에서 `%%time`은 셀 코드의 실행시간을 측정하는 아이파이썬(IPython) 매직(magic) 명령이다."
      ]
    },
    {
      "cell_type": "code",
      "source": [
        "import numpy as np"
      ],
      "metadata": {
        "id": "JZEwzmYSNlMq"
      },
      "execution_count": 1,
      "outputs": []
    },
    {
      "cell_type": "code",
      "execution_count": 22,
      "metadata": {
        "school_cell_uuid": "43a02345a5b34bf49920731d1399407a",
        "id": "5hWPk_hi-d7G"
      },
      "outputs": [],
      "source": [
        "x = np.arange(1, 10001)\n",
        "y = np.arange(10001, 20001)"
      ]
    },
    {
      "cell_type": "code",
      "execution_count": 17,
      "metadata": {
        "school_cell_uuid": "e394589a9f0549ef99a19ef1ac56a10d",
        "id": "o45KjZkv-d7H",
        "outputId": "65ecd05c-9fc9-4361-d461-65784eb7eb38",
        "colab": {
          "base_uri": "https://localhost:8080/"
        }
      },
      "outputs": [
        {
          "output_type": "stream",
          "name": "stdout",
          "text": [
            "CPU times: user 6.9 ms, sys: 989 µs, total: 7.89 ms\n",
            "Wall time: 7.65 ms\n"
          ]
        }
      ],
      "source": [
        "%%time\n",
        "z = np.zeros_like(x)\n",
        "for i in range(10000):\n",
        "    z[i] = x[i] + y[i]"
      ]
    },
    {
      "cell_type": "code",
      "source": [
        "x = range(1, 10001)\n",
        "y = range(10001, 20001)"
      ],
      "metadata": {
        "id": "IWcjgxtj2Rgo"
      },
      "execution_count": 18,
      "outputs": []
    },
    {
      "cell_type": "code",
      "source": [
        "%%time\n",
        "z = []\n",
        "for i in range(10000):\n",
        "    z.append(x[i] + y[i])"
      ],
      "metadata": {
        "id": "mHDS-Wdp1xxj",
        "outputId": "ea45c5aa-699c-4dc6-d889-43ebb7153341",
        "colab": {
          "base_uri": "https://localhost:8080/"
        }
      },
      "execution_count": 19,
      "outputs": [
        {
          "output_type": "stream",
          "name": "stdout",
          "text": [
            "CPU times: user 6.23 ms, sys: 0 ns, total: 6.23 ms\n",
            "Wall time: 6.29 ms\n"
          ]
        }
      ]
    },
    {
      "cell_type": "code",
      "execution_count": 23,
      "metadata": {
        "school_cell_uuid": "27efabf67f2147fbbc970362322736b5",
        "id": "sBtrv0xX-d7I",
        "outputId": "cb9eaeff-5dd9-4536-9ce7-001a4ba8fade",
        "colab": {
          "base_uri": "https://localhost:8080/"
        }
      },
      "outputs": [
        {
          "output_type": "execute_result",
          "data": {
            "text/plain": [
              "[10002, 10004, 10006, 10008, 10010, 10012, 10014, 10016, 10018, 10020]"
            ]
          },
          "metadata": {},
          "execution_count": 23
        }
      ],
      "source": [
        "z[:10]"
      ]
    },
    {
      "cell_type": "markdown",
      "metadata": {
        "school_cell_uuid": "70c218b99c184c379374730cf167e061",
        "id": "LVUvkn-b-d7I"
      },
      "source": [
        "그러나 벡터화 연산을 사용하면 덧셈 연산 하나로 끝난다. 위에서 보인 선형 대수의 벡터 기호를 사용한 연산과 결과가 완전히 동일하다. 연산 속도도 벡터화 연산이 훨씬 빠르다."
      ]
    },
    {
      "cell_type": "code",
      "execution_count": 24,
      "metadata": {
        "school_cell_uuid": "4b5879e2324a486a88b73abc04678509",
        "id": "BhZ-pf_W-d7I",
        "outputId": "27cada15-bb19-43b4-acf4-2b2c66b6a7dd",
        "colab": {
          "base_uri": "https://localhost:8080/"
        }
      },
      "outputs": [
        {
          "output_type": "stream",
          "name": "stdout",
          "text": [
            "CPU times: user 1.13 ms, sys: 0 ns, total: 1.13 ms\n",
            "Wall time: 3.5 ms\n"
          ]
        }
      ],
      "source": [
        "%%time\n",
        "z = x + y"
      ]
    },
    {
      "cell_type": "code",
      "execution_count": 25,
      "metadata": {
        "school_cell_uuid": "ebb8b1551efd401486476b0078ec9dca",
        "id": "zApxe5PB-d7J",
        "outputId": "8228d05e-dab2-448c-c659-907e927b8aa7",
        "colab": {
          "base_uri": "https://localhost:8080/"
        }
      },
      "outputs": [
        {
          "output_type": "execute_result",
          "data": {
            "text/plain": [
              "array([10002, 10004, 10006, 10008, 10010, 10012, 10014, 10016, 10018,\n",
              "       10020])"
            ]
          },
          "metadata": {},
          "execution_count": 25
        }
      ],
      "source": [
        "z[:10]"
      ]
    },
    {
      "cell_type": "markdown",
      "metadata": {
        "school_cell_uuid": "9e19a482944f43058bab8b740322d316",
        "id": "VEDaJqXb-d7J"
      },
      "source": [
        "사칙 연산뿐 아니라 비교 연산과 같은 논리 연산도 벡터화 연산이 가능하다."
      ]
    },
    {
      "cell_type": "code",
      "execution_count": 26,
      "metadata": {
        "school_cell_uuid": "038b4a36fce64eb285ef8532939a5162",
        "id": "IUAFi4e9-d7J"
      },
      "outputs": [],
      "source": [
        "a = np.array([1, 2, 3, 4])\n",
        "b = np.array([4, 2, 2, 4])"
      ]
    },
    {
      "cell_type": "code",
      "execution_count": 27,
      "metadata": {
        "school_cell_uuid": "e1d4177a018e491d9bc8a5ce4eb9da77",
        "id": "RH8xPOWB-d7J",
        "outputId": "420b75ae-c57b-4733-c3a3-d308e803a9ba",
        "colab": {
          "base_uri": "https://localhost:8080/"
        }
      },
      "outputs": [
        {
          "output_type": "execute_result",
          "data": {
            "text/plain": [
              "array([False,  True, False,  True])"
            ]
          },
          "metadata": {},
          "execution_count": 27
        }
      ],
      "source": [
        "a == b"
      ]
    },
    {
      "cell_type": "code",
      "execution_count": 28,
      "metadata": {
        "school_cell_uuid": "440891a6627b474eaa23579f1c0252e8",
        "id": "hgC2Ofw5-d7J",
        "outputId": "305c161a-302b-4a10-8d6e-cadf81d7972c",
        "colab": {
          "base_uri": "https://localhost:8080/"
        }
      },
      "outputs": [
        {
          "output_type": "execute_result",
          "data": {
            "text/plain": [
              "array([False,  True,  True,  True])"
            ]
          },
          "metadata": {},
          "execution_count": 28
        }
      ],
      "source": [
        "a >= b"
      ]
    },
    {
      "cell_type": "markdown",
      "metadata": {
        "school_cell_uuid": "e5090626165c4845b510453b35b18807",
        "id": "wRYE3qj0-d7K"
      },
      "source": [
        "만약 배열의 각 원소들을 일일히 비교하는 것이 아니라 배열의 모든 원소가 다 같은지 알고 싶다면 `all` 명령을 사용하면 된다."
      ]
    },
    {
      "cell_type": "code",
      "execution_count": 29,
      "metadata": {
        "school_cell_uuid": "ed4036684b2f48998a3884955559dbb3",
        "id": "IyhgW-zA-d7K"
      },
      "outputs": [],
      "source": [
        "a = np.array([1, 2, 3, 4])\n",
        "b = np.array([4, 2, 2, 4])\n",
        "c = np.array([1, 2, 3, 4])"
      ]
    },
    {
      "cell_type": "code",
      "execution_count": 30,
      "metadata": {
        "school_cell_uuid": "47af2826504f4d7cb245c22e6bfa53a0",
        "id": "VOfQbHj3-d7K",
        "outputId": "b2c67a64-9a37-429a-c981-facc35d928e1",
        "colab": {
          "base_uri": "https://localhost:8080/"
        }
      },
      "outputs": [
        {
          "output_type": "execute_result",
          "data": {
            "text/plain": [
              "False"
            ]
          },
          "metadata": {},
          "execution_count": 30
        }
      ],
      "source": [
        "np.all(a == b)"
      ]
    },
    {
      "cell_type": "code",
      "execution_count": 31,
      "metadata": {
        "school_cell_uuid": "2ea792fe0083434babcdcf05827b60a9",
        "id": "oHvzJgP0-d7K",
        "outputId": "634daf08-0676-4672-c4f4-ae4d0798ed6a",
        "colab": {
          "base_uri": "https://localhost:8080/"
        }
      },
      "outputs": [
        {
          "output_type": "execute_result",
          "data": {
            "text/plain": [
              "True"
            ]
          },
          "metadata": {},
          "execution_count": 31
        }
      ],
      "source": [
        "np.all(a == c)"
      ]
    },
    {
      "cell_type": "markdown",
      "metadata": {
        "school_cell_uuid": "961b42ba92dc421a9d3267050dd50a3c",
        "id": "1p_Bb7-P-d7K"
      },
      "source": [
        "지수 함수, 로그 함수 등의 수학 함수도 벡터화 연산을 지원한다."
      ]
    },
    {
      "cell_type": "code",
      "execution_count": 32,
      "metadata": {
        "school_cell_uuid": "4af16308f8b24b4a916e20bbf4f2c754",
        "id": "Qhr4guPR-d7L",
        "outputId": "df14f5fa-7eb9-4d9a-d378-211ed34d67c7",
        "colab": {
          "base_uri": "https://localhost:8080/"
        }
      },
      "outputs": [
        {
          "output_type": "execute_result",
          "data": {
            "text/plain": [
              "array([0, 1, 2, 3, 4])"
            ]
          },
          "metadata": {},
          "execution_count": 32
        }
      ],
      "source": [
        "a = np.arange(5)\n",
        "a"
      ]
    },
    {
      "cell_type": "code",
      "execution_count": 33,
      "metadata": {
        "school_cell_uuid": "c233a6049ecd4a2e8e9da7431a1816cf",
        "id": "gfEQF02j-d7L",
        "outputId": "6a60bccb-f7ae-49c5-eaa1-6fbb582ec01f",
        "colab": {
          "base_uri": "https://localhost:8080/"
        }
      },
      "outputs": [
        {
          "output_type": "execute_result",
          "data": {
            "text/plain": [
              "array([ 1.        ,  2.71828183,  7.3890561 , 20.08553692, 54.59815003])"
            ]
          },
          "metadata": {},
          "execution_count": 33
        }
      ],
      "source": [
        "np.exp(a)"
      ]
    },
    {
      "cell_type": "code",
      "execution_count": 34,
      "metadata": {
        "school_cell_uuid": "4bf8599c6b4f4f239a3516037d8f1aff",
        "id": "43Ma1HV4-d7L",
        "outputId": "8be71863-0312-4546-ea97-05b00a575e59",
        "colab": {
          "base_uri": "https://localhost:8080/"
        }
      },
      "outputs": [
        {
          "output_type": "execute_result",
          "data": {
            "text/plain": [
              "array([    1,    10,   100,  1000, 10000])"
            ]
          },
          "metadata": {},
          "execution_count": 34
        }
      ],
      "source": [
        "10 ** a"
      ]
    },
    {
      "cell_type": "code",
      "execution_count": 36,
      "metadata": {
        "school_cell_uuid": "1ead02961e2e4465ac03343eb69f8c49",
        "id": "mTlzq2dD-d7L",
        "outputId": "ec6a28f2-b1d0-4c45-fd97-93e9a0e85423",
        "colab": {
          "base_uri": "https://localhost:8080/"
        }
      },
      "outputs": [
        {
          "output_type": "execute_result",
          "data": {
            "text/plain": [
              "array([0.        , 0.69314718, 1.09861229, 1.38629436, 1.60943791])"
            ]
          },
          "metadata": {},
          "execution_count": 36
        }
      ],
      "source": [
        "np.log(a + 1)"
      ]
    },
    {
      "cell_type": "markdown",
      "metadata": {
        "school_cell_uuid": "cc41e574e2e1442fa056f8705c573ed1",
        "id": "QUuvHmgV-d7M"
      },
      "source": [
        "## 스칼라와 벡터/행렬의 곱셈"
      ]
    },
    {
      "cell_type": "markdown",
      "metadata": {
        "school_cell_uuid": "e8a4db7d3b1c4b73a0e62940873bc121",
        "id": "Vc2xZOms-d7M"
      },
      "source": [
        "스칼라와 벡터/행렬의 곱도 선형 대수에서 사용하는 식과 넘파이 코드가 일치한다."
      ]
    },
    {
      "cell_type": "code",
      "execution_count": 35,
      "metadata": {
        "school_cell_uuid": "3e970677dacd48bf884d5af62a17ce73",
        "id": "LhqV8RUG-d7M",
        "outputId": "5d154366-4efa-46b8-ae0b-41422f8f42ab",
        "colab": {
          "base_uri": "https://localhost:8080/"
        }
      },
      "outputs": [
        {
          "output_type": "execute_result",
          "data": {
            "text/plain": [
              "array([0, 1, 2, 3, 4, 5, 6, 7, 8, 9])"
            ]
          },
          "metadata": {},
          "execution_count": 35
        }
      ],
      "source": [
        "x = np.arange(10)\n",
        "x"
      ]
    },
    {
      "cell_type": "code",
      "execution_count": 37,
      "metadata": {
        "school_cell_uuid": "a7a2cde01e804680ab9be92e00985ac2",
        "scrolled": true,
        "id": "T96XzIht-d7M",
        "outputId": "8a878dff-7140-43a9-faa3-5436d31e78de",
        "colab": {
          "base_uri": "https://localhost:8080/"
        }
      },
      "outputs": [
        {
          "output_type": "execute_result",
          "data": {
            "text/plain": [
              "array([  0, 100, 200, 300, 400, 500, 600, 700, 800, 900])"
            ]
          },
          "metadata": {},
          "execution_count": 37
        }
      ],
      "source": [
        "100 * x"
      ]
    },
    {
      "cell_type": "code",
      "execution_count": 38,
      "metadata": {
        "school_cell_uuid": "3e970677dacd48bf884d5af62a17ce73",
        "id": "VZfox7Ji-d7M",
        "outputId": "49135968-e61d-4d7d-fa23-935f483422fd",
        "colab": {
          "base_uri": "https://localhost:8080/"
        }
      },
      "outputs": [
        {
          "output_type": "execute_result",
          "data": {
            "text/plain": [
              "array([[ 0,  1,  2,  3],\n",
              "       [ 4,  5,  6,  7],\n",
              "       [ 8,  9, 10, 11]])"
            ]
          },
          "metadata": {},
          "execution_count": 38
        }
      ],
      "source": [
        "x = np.arange(12).reshape(3, 4)\n",
        "x"
      ]
    },
    {
      "cell_type": "code",
      "execution_count": 39,
      "metadata": {
        "school_cell_uuid": "a7a2cde01e804680ab9be92e00985ac2",
        "scrolled": true,
        "id": "vTrlAnBk-d7N",
        "outputId": "303bb839-9727-44f3-b6e9-da4a4b903159",
        "colab": {
          "base_uri": "https://localhost:8080/"
        }
      },
      "outputs": [
        {
          "output_type": "execute_result",
          "data": {
            "text/plain": [
              "array([[   0,  100,  200,  300],\n",
              "       [ 400,  500,  600,  700],\n",
              "       [ 800,  900, 1000, 1100]])"
            ]
          },
          "metadata": {},
          "execution_count": 39
        }
      ],
      "source": [
        "100 * x"
      ]
    },
    {
      "cell_type": "markdown",
      "metadata": {
        "school_cell_uuid": "39e05f909eee4a9a8b4a5d8df423c017",
        "id": "IMe42qnr-d7N"
      },
      "source": [
        "## 브로드캐스팅"
      ]
    },
    {
      "cell_type": "markdown",
      "metadata": {
        "id": "1x6rLfPd-d7N"
      },
      "source": [
        "`브로드캐스팅`"
      ]
    },
    {
      "cell_type": "markdown",
      "metadata": {
        "school_cell_uuid": "24c93d5c01da41ff8deaabcf8c01bd48",
        "id": "qjNd0ZCR-d7N"
      },
      "source": [
        "벡터(또는 행렬)끼리 덧셈 혹은 뺄셈을 하려면 두 벡터(또는 행렬)의 크기가 같아야 한다. 넘파이에서는 서로 다른 크기를 가진 두 배열의 사칙 연산도 지원한다. 이 기능을 브로드캐스팅(broadcasting)이라고 하는데 크기가 작은 배열을 자동으로 반복 확장하여 크기가 큰 배열에 맞추는 방벙이다."
      ]
    },
    {
      "cell_type": "markdown",
      "metadata": {
        "school_cell_uuid": "f07fd37026384e37b5048b465b583f9f",
        "id": "hFs9KBWO-d7N"
      },
      "source": [
        "예를 들어 다음과 같이 벡터와 스칼라를 더하는 경우를 생각하자.\n",
        "\n",
        "$$\n",
        "x = \\begin{bmatrix}0 \\\\ 1 \\\\ 2 \\\\ 3 \\\\ 4 \\end{bmatrix}, \\;\\;\\;\\;\n",
        "x + 1 = \\begin{bmatrix}0 \\\\ 1 \\\\ 2 \\\\ 3 \\\\ 4 \\end{bmatrix} + 1 = ?\n",
        "$$\n"
      ]
    },
    {
      "cell_type": "markdown",
      "metadata": {
        "school_cell_uuid": "aa1da390d7fa41a0bb1e5af4858c5707",
        "id": "LiC94QyV-d7N"
      },
      "source": [
        "브로드캐스팅은 다음과 같이 스칼라를 벡터와 같은 크기로 확장시켜서 덧셈 계산을 하는 것이다.\n",
        "\n",
        "$$\n",
        "\\begin{bmatrix}0 \\\\ 1 \\\\ 2 \\\\ 3 \\\\ 4 \\end{bmatrix} + 1 =\n",
        "\\begin{bmatrix}0 \\\\ 1 \\\\ 2 \\\\ 3 \\\\ 4 \\end{bmatrix} +  \\begin{bmatrix}1 \\\\ 1 \\\\ 1 \\\\ 1 \\\\ 1 \\end{bmatrix} =\n",
        "\\begin{bmatrix}1 \\\\ 2 \\\\ 3 \\\\ 4 \\\\ 5 \\end{bmatrix}\n",
        "$$"
      ]
    },
    {
      "cell_type": "code",
      "execution_count": 40,
      "metadata": {
        "school_cell_uuid": "dfa8f380fcd843ce89c134ad843552a6",
        "id": "sSlnVlbq-d7N",
        "outputId": "36e14003-bbce-42bf-aa4b-b98d8798c0fd",
        "colab": {
          "base_uri": "https://localhost:8080/"
        }
      },
      "outputs": [
        {
          "output_type": "execute_result",
          "data": {
            "text/plain": [
              "array([0, 1, 2, 3, 4])"
            ]
          },
          "metadata": {},
          "execution_count": 40
        }
      ],
      "source": [
        "x = np.arange(5)\n",
        "x"
      ]
    },
    {
      "cell_type": "code",
      "execution_count": 41,
      "metadata": {
        "school_cell_uuid": "dfa8f380fcd843ce89c134ad843552a6",
        "id": "XlhlJj2G-d7O",
        "outputId": "a95a6823-4774-4ad4-9d87-2e1d0fa59c3f",
        "colab": {
          "base_uri": "https://localhost:8080/"
        }
      },
      "outputs": [
        {
          "output_type": "execute_result",
          "data": {
            "text/plain": [
              "array([1, 1, 1, 1, 1])"
            ]
          },
          "metadata": {},
          "execution_count": 41
        }
      ],
      "source": [
        "y = np.ones_like(x)\n",
        "y"
      ]
    },
    {
      "cell_type": "code",
      "execution_count": 42,
      "metadata": {
        "school_cell_uuid": "dfa8f380fcd843ce89c134ad843552a6",
        "id": "bw7hHCnF-d7Y",
        "outputId": "35612442-f659-48a0-b433-204c2f6fe008",
        "colab": {
          "base_uri": "https://localhost:8080/"
        }
      },
      "outputs": [
        {
          "output_type": "execute_result",
          "data": {
            "text/plain": [
              "array([1, 2, 3, 4, 5])"
            ]
          },
          "metadata": {},
          "execution_count": 42
        }
      ],
      "source": [
        "x + y"
      ]
    },
    {
      "cell_type": "code",
      "execution_count": 43,
      "metadata": {
        "school_cell_uuid": "bf8acff86f344876bf50fa9fd952bcca",
        "id": "-YZDE3Ag-d7Y",
        "outputId": "289dbedc-a7d6-4105-b4c3-b76d00077f57",
        "colab": {
          "base_uri": "https://localhost:8080/"
        }
      },
      "outputs": [
        {
          "output_type": "execute_result",
          "data": {
            "text/plain": [
              "array([1, 2, 3, 4, 5])"
            ]
          },
          "metadata": {},
          "execution_count": 43
        }
      ],
      "source": [
        "x + 1"
      ]
    },
    {
      "cell_type": "markdown",
      "metadata": {
        "school_cell_uuid": "b34ef12b44ae467fac2b3d6961a97423",
        "id": "T1kpu__e-d7Z"
      },
      "source": [
        "브로드캐스팅은 다음처럼 더 차원이 높은 경우에도 적용된다.\n",
        "\n",
        "$$\n",
        "\\begin{bmatrix}0 & 1 & 2 \\\\ 1 & 2 & 3 \\\\ 2 & 3 & 4 \\\\ 3 & 4 & 5 \\\\ 4 & 5 & 6 \\end{bmatrix}\n",
        "+\n",
        "\\begin{bmatrix}0 \\\\ 1 \\\\ 2 \\\\ 3 \\\\ 4 \\end{bmatrix}\n",
        "=\n",
        "\\begin{bmatrix}0 & 1 & 2 \\\\ 1 & 2 & 3 \\\\ 2 & 3 & 4 \\\\ 3 & 4 & 5 \\\\ 4 & 5 & 6 \\end{bmatrix}\n",
        "+\n",
        "\\begin{bmatrix}0 & 0 & 0 \\\\ 1 & 1 & 1 \\\\ 2 & 2 & 2 \\\\ 3 & 3 & 3 \\\\ 4 & 4 & 4 \\end{bmatrix}\n",
        "$$\n",
        "\n",
        "$$\n",
        "\\begin{bmatrix}0 & 1 & 2 \\\\ 1 & 2 & 3 \\\\ 2 & 3 & 4 \\\\ 3 & 4 & 5 \\\\ 4 & 5 & 6 \\end{bmatrix}\n",
        "+\n",
        "\\begin{bmatrix}0 & 1 & 2 \\end{bmatrix}\n",
        "=\n",
        "\\begin{bmatrix}0 & 1 & 2 \\\\ 1 & 2 & 3 \\\\ 2 & 3 & 4 \\\\ 3 & 4 & 5 \\\\ 4 & 5 & 6 \\end{bmatrix}\n",
        "+\n",
        "\\begin{bmatrix}0 & 1 & 2 \\\\ 0 & 1 & 2 \\\\ 0 & 1 & 2 \\\\ 0 & 1 & 2 \\\\ 0 & 1 & 2 \\end{bmatrix}\n",
        "$$"
      ]
    },
    {
      "cell_type": "code",
      "source": [
        "range(7)[:3]"
      ],
      "metadata": {
        "colab": {
          "base_uri": "https://localhost:8080/"
        },
        "id": "t_Ri5STvPKfV",
        "outputId": "d46dff63-a5da-4ea3-84e1-e2c136ef4dc8"
      },
      "execution_count": 44,
      "outputs": [
        {
          "output_type": "execute_result",
          "data": {
            "text/plain": [
              "range(0, 3)"
            ]
          },
          "metadata": {},
          "execution_count": 44
        }
      ]
    },
    {
      "cell_type": "code",
      "source": [
        "[range(7)[i:i + 3] for i in range(5)]"
      ],
      "metadata": {
        "colab": {
          "base_uri": "https://localhost:8080/"
        },
        "id": "iPykDyGjPAUH",
        "outputId": "935459a9-eb4f-4561-f25a-591d46ac4976"
      },
      "execution_count": 45,
      "outputs": [
        {
          "output_type": "execute_result",
          "data": {
            "text/plain": [
              "[range(0, 3), range(1, 4), range(2, 5), range(3, 6), range(4, 7)]"
            ]
          },
          "metadata": {},
          "execution_count": 45
        }
      ]
    },
    {
      "cell_type": "code",
      "execution_count": 46,
      "metadata": {
        "school_cell_uuid": "59fe53f652234f1bb0149eb08d781531",
        "id": "yvJeNVqV-d7Z",
        "outputId": "5eaa8ba5-2a02-4314-8b88-04fcde220a01",
        "colab": {
          "base_uri": "https://localhost:8080/"
        }
      },
      "outputs": [
        {
          "output_type": "execute_result",
          "data": {
            "text/plain": [
              "array([[0, 1, 2],\n",
              "       [1, 2, 3],\n",
              "       [2, 3, 4],\n",
              "       [3, 4, 5],\n",
              "       [4, 5, 6]])"
            ]
          },
          "metadata": {},
          "execution_count": 46
        }
      ],
      "source": [
        "x = np.vstack([range(7)[i:i + 3] for i in range(5)])\n",
        "x"
      ]
    },
    {
      "cell_type": "code",
      "execution_count": 47,
      "metadata": {
        "school_cell_uuid": "55d00c71cc3647dba5e4a6c5efc9b707",
        "id": "DVvdKl7N-d7Z",
        "outputId": "1c49047d-793c-45a1-db64-7fbe34306b20",
        "colab": {
          "base_uri": "https://localhost:8080/"
        }
      },
      "outputs": [
        {
          "output_type": "execute_result",
          "data": {
            "text/plain": [
              "array([[0],\n",
              "       [1],\n",
              "       [2],\n",
              "       [3],\n",
              "       [4]])"
            ]
          },
          "metadata": {},
          "execution_count": 47
        }
      ],
      "source": [
        "y = np.arange(5)[:, np.newaxis]\n",
        "y"
      ]
    },
    {
      "cell_type": "code",
      "execution_count": 48,
      "metadata": {
        "school_cell_uuid": "fbc9d7e17b1c4e8693f556170f3bdc05",
        "id": "ZkcsrByt-d7Z",
        "outputId": "4d8d2365-e648-4a24-eee6-ecbf66c78341",
        "colab": {
          "base_uri": "https://localhost:8080/"
        }
      },
      "outputs": [
        {
          "output_type": "execute_result",
          "data": {
            "text/plain": [
              "array([[ 0,  1,  2],\n",
              "       [ 2,  3,  4],\n",
              "       [ 4,  5,  6],\n",
              "       [ 6,  7,  8],\n",
              "       [ 8,  9, 10]])"
            ]
          },
          "metadata": {},
          "execution_count": 48
        }
      ],
      "source": [
        "x + y"
      ]
    },
    {
      "cell_type": "code",
      "execution_count": 49,
      "metadata": {
        "school_cell_uuid": "211b13e4553e4e7eaef544c17e52472c",
        "id": "aK94ws5W-d7a",
        "outputId": "f75e8831-f5e8-4492-d0eb-e4257fb7738e",
        "colab": {
          "base_uri": "https://localhost:8080/"
        }
      },
      "outputs": [
        {
          "output_type": "execute_result",
          "data": {
            "text/plain": [
              "array([0, 1, 2])"
            ]
          },
          "metadata": {},
          "execution_count": 49
        }
      ],
      "source": [
        "y = np.arange(3)\n",
        "y"
      ]
    },
    {
      "cell_type": "code",
      "execution_count": 50,
      "metadata": {
        "school_cell_uuid": "1492f4e735d74a0cb5299157e08bbcc4",
        "id": "m0F2V-gL-d7a",
        "outputId": "45a9ccc8-8b53-4e80-ee45-7d1f67f4a217",
        "colab": {
          "base_uri": "https://localhost:8080/"
        }
      },
      "outputs": [
        {
          "output_type": "execute_result",
          "data": {
            "text/plain": [
              "array([[0, 2, 4],\n",
              "       [1, 3, 5],\n",
              "       [2, 4, 6],\n",
              "       [3, 5, 7],\n",
              "       [4, 6, 8]])"
            ]
          },
          "metadata": {},
          "execution_count": 50
        }
      ],
      "source": [
        "x + y"
      ]
    },
    {
      "cell_type": "markdown",
      "metadata": {
        "school_cell_uuid": "152f82a6ff9c47d19b20604001ee1474",
        "id": "6h5_aio6-d7a"
      },
      "source": [
        "## 차원 축소 연산"
      ]
    },
    {
      "cell_type": "markdown",
      "metadata": {
        "id": "tk4dWvHD-d7a"
      },
      "source": [
        "`차원 축소 연산`"
      ]
    },
    {
      "cell_type": "markdown",
      "metadata": {
        "school_cell_uuid": "ea6de8294ef24f8a90e3a7f5b1af333d",
        "id": "e0XbL_Jb-d7a"
      },
      "source": [
        "행렬의 하나의 행에 있는 원소들을 하나의 데이터 집합으로 보고 그 집합의 평균을 구하면 각 행에 대해 하나의 숫자가 나오게 된다. 예를 들어 10x5 크기의 2차원 배열에 대해 행-평균을 구하면 10개의 숫자를 가진 1차원 벡터가 나오게 된다. 이러한 연산을 차원 축소(dimension reduction) 연산이라고 한다.\n",
        "\n",
        "넘파이는 다음과 같은 차원 축소 연산 명령 혹은 메서드를 지원한다.\n",
        "\n",
        "* 최대/최소: `min`, `max`, `argmin`, `argmax`\n",
        "* 통계: `sum`, `mean`, `median`, `std`, `var`\n",
        "* 불리언: `all`, `any`"
      ]
    },
    {
      "cell_type": "code",
      "execution_count": 51,
      "metadata": {
        "school_cell_uuid": "ccd1df25573247b681fc618470aabb40",
        "id": "6-VmvAp7-d7b",
        "outputId": "c41a3a38-14a5-4b2d-843a-b139b64897bc",
        "colab": {
          "base_uri": "https://localhost:8080/"
        }
      },
      "outputs": [
        {
          "output_type": "execute_result",
          "data": {
            "text/plain": [
              "array([1, 2, 3, 4])"
            ]
          },
          "metadata": {},
          "execution_count": 51
        }
      ],
      "source": [
        "x = np.array([1, 2, 3, 4])\n",
        "x"
      ]
    },
    {
      "cell_type": "code",
      "execution_count": 52,
      "metadata": {
        "school_cell_uuid": "f07e9a58c1ab4596956b8a58c4e3ac6c",
        "id": "sr5fNnpw-d7b",
        "outputId": "8d31434a-5519-4d16-84c3-294475d35099",
        "colab": {
          "base_uri": "https://localhost:8080/"
        }
      },
      "outputs": [
        {
          "output_type": "execute_result",
          "data": {
            "text/plain": [
              "10"
            ]
          },
          "metadata": {},
          "execution_count": 52
        }
      ],
      "source": [
        "np.sum(x)"
      ]
    },
    {
      "cell_type": "code",
      "execution_count": 53,
      "metadata": {
        "school_cell_uuid": "749d2e630fea473c85521031502592b0",
        "id": "VqTOXCur-d7b",
        "outputId": "8021542d-b5ad-4a0a-f27e-b114b7e8e58a",
        "colab": {
          "base_uri": "https://localhost:8080/"
        }
      },
      "outputs": [
        {
          "output_type": "execute_result",
          "data": {
            "text/plain": [
              "10"
            ]
          },
          "metadata": {},
          "execution_count": 53
        }
      ],
      "source": [
        "x.sum()"
      ]
    },
    {
      "cell_type": "code",
      "execution_count": 54,
      "metadata": {
        "school_cell_uuid": "f3ff024a3bdb40a491510909ae687c65",
        "id": "gIKUgm98-d7b"
      },
      "outputs": [],
      "source": [
        "x = np.array([1, 3, 2])"
      ]
    },
    {
      "cell_type": "code",
      "execution_count": 55,
      "metadata": {
        "school_cell_uuid": "851b3b39dc2d4f859db76e514c21c136",
        "id": "fOU8Kdx7-d7c",
        "outputId": "f8fb4cc4-17cd-4054-e792-e580e666e0a7",
        "colab": {
          "base_uri": "https://localhost:8080/"
        }
      },
      "outputs": [
        {
          "output_type": "execute_result",
          "data": {
            "text/plain": [
              "1"
            ]
          },
          "metadata": {},
          "execution_count": 55
        }
      ],
      "source": [
        "x.min()"
      ]
    },
    {
      "cell_type": "code",
      "execution_count": 56,
      "metadata": {
        "school_cell_uuid": "5a6fe785d97d4d1fa6dd4ae9fb4ad5af",
        "id": "kV8--90v-d7c",
        "outputId": "36f21f78-3d28-4c3f-d814-a98490128b28",
        "colab": {
          "base_uri": "https://localhost:8080/"
        }
      },
      "outputs": [
        {
          "output_type": "execute_result",
          "data": {
            "text/plain": [
              "3"
            ]
          },
          "metadata": {},
          "execution_count": 56
        }
      ],
      "source": [
        "x.max()"
      ]
    },
    {
      "cell_type": "code",
      "execution_count": 57,
      "metadata": {
        "school_cell_uuid": "cbd68049b33140138d9a6af780ec9533",
        "id": "kIF96a8J-d7c",
        "outputId": "4e340a64-9bbf-4486-bc4a-29fce969df39",
        "colab": {
          "base_uri": "https://localhost:8080/"
        }
      },
      "outputs": [
        {
          "output_type": "execute_result",
          "data": {
            "text/plain": [
              "0"
            ]
          },
          "metadata": {},
          "execution_count": 57
        }
      ],
      "source": [
        "x.argmin()  # 최솟값의 위치"
      ]
    },
    {
      "cell_type": "code",
      "execution_count": 58,
      "metadata": {
        "school_cell_uuid": "26877674221441929d8195b7ee82a412",
        "id": "QDwoA76P-d7c",
        "outputId": "9a3fcb1c-eaae-411c-ec3d-f9974d2da4f2",
        "colab": {
          "base_uri": "https://localhost:8080/"
        }
      },
      "outputs": [
        {
          "output_type": "execute_result",
          "data": {
            "text/plain": [
              "1"
            ]
          },
          "metadata": {},
          "execution_count": 58
        }
      ],
      "source": [
        "x.argmax()  # 최댓값의 위치"
      ]
    },
    {
      "cell_type": "code",
      "execution_count": 59,
      "metadata": {
        "school_cell_uuid": "a48208d67a88470481d9dcd009e1640f",
        "id": "PJ21lZOt-d7c"
      },
      "outputs": [],
      "source": [
        "x = np.array([1, 2, 3, 1])"
      ]
    },
    {
      "cell_type": "code",
      "execution_count": 60,
      "metadata": {
        "school_cell_uuid": "1ebcfd5b08c7458bb541566b6f84d532",
        "id": "lmjs1K8w-d7d",
        "outputId": "bbc0856b-7ed2-46e3-ef64-d9e7c528c9b4",
        "colab": {
          "base_uri": "https://localhost:8080/"
        }
      },
      "outputs": [
        {
          "output_type": "execute_result",
          "data": {
            "text/plain": [
              "1.75"
            ]
          },
          "metadata": {},
          "execution_count": 60
        }
      ],
      "source": [
        "x.mean()"
      ]
    },
    {
      "cell_type": "code",
      "execution_count": 61,
      "metadata": {
        "school_cell_uuid": "da921453ae0c446d86200dc122ce3c4f",
        "id": "VexJSAa2-d7d",
        "outputId": "ecfb6b46-57b5-403b-9321-366edb0b7c4a",
        "colab": {
          "base_uri": "https://localhost:8080/"
        }
      },
      "outputs": [
        {
          "output_type": "execute_result",
          "data": {
            "text/plain": [
              "1.5"
            ]
          },
          "metadata": {},
          "execution_count": 61
        }
      ],
      "source": [
        "np.median(x)"
      ]
    },
    {
      "cell_type": "code",
      "execution_count": 62,
      "metadata": {
        "school_cell_uuid": "04a4b7c6a8594bf59be69dcd92040e06",
        "id": "ZTkIb0Fl-d7d",
        "outputId": "5dc91ebb-965a-440d-b251-fa587286f4a2",
        "colab": {
          "base_uri": "https://localhost:8080/"
        }
      },
      "outputs": [
        {
          "output_type": "execute_result",
          "data": {
            "text/plain": [
              "False"
            ]
          },
          "metadata": {},
          "execution_count": 62
        }
      ],
      "source": [
        "np.all([True, True, False])"
      ]
    },
    {
      "cell_type": "code",
      "execution_count": 63,
      "metadata": {
        "school_cell_uuid": "215b302170434d4cbb182ea9abd141ef",
        "id": "BXTgtv4K-d7d",
        "outputId": "5345b52a-784c-4f3d-c6e7-26205c82ea54",
        "colab": {
          "base_uri": "https://localhost:8080/"
        }
      },
      "outputs": [
        {
          "output_type": "execute_result",
          "data": {
            "text/plain": [
              "True"
            ]
          },
          "metadata": {},
          "execution_count": 63
        }
      ],
      "source": [
        "np.any([True, True, False])"
      ]
    },
    {
      "cell_type": "code",
      "execution_count": 69,
      "metadata": {
        "school_cell_uuid": "53d2c41136214f21b893c6dc0578f7d1",
        "id": "sd-mhN6k-d7d",
        "outputId": "b57f6077-8a15-40b6-fcf0-ce6023863ef9",
        "colab": {
          "base_uri": "https://localhost:8080/"
        }
      },
      "outputs": [
        {
          "output_type": "execute_result",
          "data": {
            "text/plain": [
              "array([[0, 0, 0, ..., 0, 0, 0],\n",
              "       [0, 0, 0, ..., 0, 0, 0],\n",
              "       [0, 0, 0, ..., 0, 0, 0],\n",
              "       ...,\n",
              "       [0, 0, 0, ..., 0, 0, 0],\n",
              "       [0, 0, 0, ..., 0, 0, 0],\n",
              "       [0, 0, 0, ..., 0, 0, 0]])"
            ]
          },
          "metadata": {},
          "execution_count": 69
        }
      ],
      "source": [
        "a = np.zeros((100, 100), dtype=int)\n",
        "a"
      ]
    },
    {
      "cell_type": "code",
      "execution_count": 70,
      "metadata": {
        "school_cell_uuid": "66d3a722a6fb44aaa61ee946f4cf13c9",
        "id": "aEugFcgz-d7e",
        "outputId": "28bce1a7-2b98-4d4f-e9ca-326b93cc8987",
        "colab": {
          "base_uri": "https://localhost:8080/"
        }
      },
      "outputs": [
        {
          "output_type": "execute_result",
          "data": {
            "text/plain": [
              "(False, True)"
            ]
          },
          "metadata": {},
          "execution_count": 70
        }
      ],
      "source": [
        "np.any(a != 0), np.any(a == 0)"
      ]
    },
    {
      "cell_type": "code",
      "execution_count": 71,
      "metadata": {
        "school_cell_uuid": "26b68ab134e340f9a16de4e831ce7b2d",
        "id": "XlWbvvGu-d7e",
        "outputId": "85b5cd40-2ebd-4088-b491-48916468c291",
        "colab": {
          "base_uri": "https://localhost:8080/"
        }
      },
      "outputs": [
        {
          "output_type": "execute_result",
          "data": {
            "text/plain": [
              "(True, True)"
            ]
          },
          "metadata": {},
          "execution_count": 71
        }
      ],
      "source": [
        "np.all(a == a), np.all(a == 0)"
      ]
    },
    {
      "cell_type": "code",
      "execution_count": 72,
      "metadata": {
        "school_cell_uuid": "02bbac130d5d4c7bb7fa4eae977da963",
        "id": "BL7q8BEU-d7e"
      },
      "outputs": [],
      "source": [
        "a = np.array([1, 2, 3, 2])\n",
        "b = np.array([2, 2, 3, 2])\n",
        "c = np.array([6, 4, 4, 5])"
      ]
    },
    {
      "cell_type": "code",
      "execution_count": 73,
      "metadata": {
        "school_cell_uuid": "97d7966c360843698e71eb562753d221",
        "id": "MTGUJpI5-d7e",
        "outputId": "0675c069-e7c0-4d27-9ae6-5c51d2bbe156",
        "colab": {
          "base_uri": "https://localhost:8080/"
        }
      },
      "outputs": [
        {
          "output_type": "execute_result",
          "data": {
            "text/plain": [
              "True"
            ]
          },
          "metadata": {},
          "execution_count": 73
        }
      ],
      "source": [
        "((a <= b) & (b <= c)).all()"
      ]
    },
    {
      "cell_type": "markdown",
      "metadata": {
        "school_cell_uuid": "3135e5446c87490d9cbbc359e8b1cf24",
        "id": "Vc6bVhqI-d7e"
      },
      "source": [
        "연산의 대상이 2차원 이상인 경우에는 어느 차원으로 계산을 할 지를 `axis` 인수를 사용하여 지시한다. `axis=0`인 경우는 열 연산, `axis=1`인 경우는 행 연산이다. `axis` 인수는 대부분의 차원 축소 명령에 적용할 수 있다."
      ]
    },
    {
      "cell_type": "code",
      "execution_count": 74,
      "metadata": {
        "school_cell_uuid": "48aad9731e19468388f4fa39fbe31584",
        "id": "QxSzn3FH-d7f",
        "outputId": "db101831-7e51-44db-dc85-9523644024a5",
        "colab": {
          "base_uri": "https://localhost:8080/"
        }
      },
      "outputs": [
        {
          "output_type": "execute_result",
          "data": {
            "text/plain": [
              "array([[1, 1],\n",
              "       [2, 2]])"
            ]
          },
          "metadata": {},
          "execution_count": 74
        }
      ],
      "source": [
        "x = np.array([\n",
        "    [1, 1],\n",
        "    [2, 2]\n",
        "    ])\n",
        "x"
      ]
    },
    {
      "cell_type": "code",
      "execution_count": 75,
      "metadata": {
        "school_cell_uuid": "8f8e657146b746019cc03ae7f5cc57a1",
        "id": "-xn0GrTE-d7f",
        "outputId": "ea0c0f8b-3a4e-4866-a00d-db9291730489",
        "colab": {
          "base_uri": "https://localhost:8080/"
        }
      },
      "outputs": [
        {
          "output_type": "execute_result",
          "data": {
            "text/plain": [
              "6"
            ]
          },
          "metadata": {},
          "execution_count": 75
        }
      ],
      "source": [
        "x.sum()"
      ]
    },
    {
      "cell_type": "code",
      "execution_count": 76,
      "metadata": {
        "school_cell_uuid": "7a4a9a4d94e54b43873cd679486a47aa",
        "id": "P8B24aDP-d7f",
        "outputId": "2d33d278-a806-4766-d5ec-a230128d2aa6",
        "colab": {
          "base_uri": "https://localhost:8080/"
        }
      },
      "outputs": [
        {
          "output_type": "execute_result",
          "data": {
            "text/plain": [
              "array([3, 3])"
            ]
          },
          "metadata": {},
          "execution_count": 76
        }
      ],
      "source": [
        "x.sum(axis=0)   # 열 합계"
      ]
    },
    {
      "cell_type": "code",
      "execution_count": 77,
      "metadata": {
        "school_cell_uuid": "6d40f79e6f8c42e6bdb39777570da8c1",
        "id": "S_00By7H-d7f",
        "outputId": "f4cc18d9-34cd-424d-ee63-0d1ee3d461d4",
        "colab": {
          "base_uri": "https://localhost:8080/"
        }
      },
      "outputs": [
        {
          "output_type": "execute_result",
          "data": {
            "text/plain": [
              "array([2, 4])"
            ]
          },
          "metadata": {},
          "execution_count": 77
        }
      ],
      "source": [
        "x.sum(axis=1)   # 행 합계"
      ]
    },
    {
      "cell_type": "markdown",
      "metadata": {
        "bootstrap": {
          "panel": {
            "class": "panel-default"
          }
        },
        "school_cell_uuid": "578d1791e48d4e02987babe67cf6c1b2",
        "id": "SZzcS447-d7f"
      },
      "source": [
        "\n",
        "**연습**\n",
        "```\n",
        "실수로 이루어진 5 x 6 형태의 데이터 행렬을 만들고 이 데이터에 대해 다음과 같은 값을 구한다.\n",
        "\n",
        "1. 전체의 최댓값\n",
        "2. 각 행의 합\n",
        "3. 각 행의 최댓값\n",
        "4. 각 열의 평균\n",
        "5. 각 열의 최솟값\n",
        "```"
      ]
    },
    {
      "cell_type": "code",
      "source": [
        "arr = np.arange(30).reshape(6, 5)\n",
        "arr"
      ],
      "metadata": {
        "id": "0NI5NjGn8H4l",
        "outputId": "28134122-2ecf-4722-9cd0-b2d585bd92f7",
        "colab": {
          "base_uri": "https://localhost:8080/"
        }
      },
      "execution_count": 95,
      "outputs": [
        {
          "output_type": "execute_result",
          "data": {
            "text/plain": [
              "array([[ 0,  1,  2,  3,  4],\n",
              "       [ 5,  6,  7,  8,  9],\n",
              "       [10, 11, 12, 13, 14],\n",
              "       [15, 16, 17, 18, 19],\n",
              "       [20, 21, 22, 23, 24],\n",
              "       [25, 26, 27, 28, 29]])"
            ]
          },
          "metadata": {},
          "execution_count": 95
        }
      ]
    },
    {
      "cell_type": "code",
      "source": [
        "#1\n",
        "arr.max()"
      ],
      "metadata": {
        "id": "eg5Ya-lm9lqY",
        "outputId": "db37e92c-6245-470f-9c3a-bd883aff9cbc",
        "colab": {
          "base_uri": "https://localhost:8080/"
        }
      },
      "execution_count": 94,
      "outputs": [
        {
          "output_type": "execute_result",
          "data": {
            "text/plain": [
              "29"
            ]
          },
          "metadata": {},
          "execution_count": 94
        }
      ]
    },
    {
      "cell_type": "code",
      "source": [
        "# 2\n",
        "arr.sum(axis=1)"
      ],
      "metadata": {
        "id": "GrkjKM0A9pUo",
        "outputId": "e6be8da2-55aa-4d6d-e51c-8433bfec33e0",
        "colab": {
          "base_uri": "https://localhost:8080/"
        }
      },
      "execution_count": 96,
      "outputs": [
        {
          "output_type": "execute_result",
          "data": {
            "text/plain": [
              "array([ 10,  35,  60,  85, 110, 135])"
            ]
          },
          "metadata": {},
          "execution_count": 96
        }
      ]
    },
    {
      "cell_type": "code",
      "source": [
        "# 3\n",
        "arr.max(axis=1)"
      ],
      "metadata": {
        "id": "ThnkXpBT9rU5",
        "outputId": "ac255482-d57e-45a1-aa32-0f5a19ac306b",
        "colab": {
          "base_uri": "https://localhost:8080/"
        }
      },
      "execution_count": 98,
      "outputs": [
        {
          "output_type": "execute_result",
          "data": {
            "text/plain": [
              "array([ 4,  9, 14, 19, 24, 29])"
            ]
          },
          "metadata": {},
          "execution_count": 98
        }
      ]
    },
    {
      "cell_type": "code",
      "source": [
        "# 4\n",
        "arr.mean(axis=0)"
      ],
      "metadata": {
        "id": "qq2L_i9r9vcJ",
        "outputId": "ea01c6f0-8502-46b6-be45-07fe54f35f50",
        "colab": {
          "base_uri": "https://localhost:8080/"
        }
      },
      "execution_count": 103,
      "outputs": [
        {
          "output_type": "execute_result",
          "data": {
            "text/plain": [
              "array([12.5, 13.5, 14.5, 15.5, 16.5])"
            ]
          },
          "metadata": {},
          "execution_count": 103
        }
      ]
    },
    {
      "cell_type": "code",
      "source": [
        "# 5\n",
        "arr.min(axis=0)"
      ],
      "metadata": {
        "id": "kRNoizo3914b",
        "outputId": "0f91d8fe-191f-47ba-c208-ebfa62840c4a",
        "colab": {
          "base_uri": "https://localhost:8080/"
        }
      },
      "execution_count": 102,
      "outputs": [
        {
          "output_type": "execute_result",
          "data": {
            "text/plain": [
              "array([0, 1, 2, 3, 4])"
            ]
          },
          "metadata": {},
          "execution_count": 102
        }
      ]
    },
    {
      "cell_type": "markdown",
      "metadata": {
        "school_cell_uuid": "d17ff3d97f5c44328e267ce8eb1e8678",
        "id": "a5l-DUVN-d7g"
      },
      "source": [
        "## 정렬"
      ]
    },
    {
      "cell_type": "markdown",
      "metadata": {
        "id": "ePAXiDzc-d7g"
      },
      "source": [
        "`sort`\n"
      ]
    },
    {
      "cell_type": "markdown",
      "metadata": {
        "school_cell_uuid": "f2ef1af38f9a4c59804902e1773d5e00",
        "id": "iT3-mHXq-d7g"
      },
      "source": [
        "`sort` 함수나 메서드를 사용하여 배열 안의 원소를 크기에 따라 정렬하여 새로운 배열을 만들 수도 있다. 2차원 이상인 경우에는 행이나 열을 각각 따로따로 정렬하는데 `axis` 인수를 사용하여 행을 정렬할 것인지 열을 정렬한 것인지 결정한다. `axis=0`이면 각각의 행을 따로따로 정렬하고 `axis=1`이면 각각의 열을 따로따로 정렬한다. 디폴트 값은 -1 즉 가장 안쪽(나중)의 차원이다."
      ]
    },
    {
      "cell_type": "code",
      "execution_count": null,
      "metadata": {
        "school_cell_uuid": "386747b5e06c4272b95c6d4478e2522c",
        "id": "KkQyqzVY-d7h",
        "outputId": "bb09446e-724e-4ffa-b948-c283c55de3c9",
        "colab": {
          "base_uri": "https://localhost:8080/"
        }
      },
      "outputs": [
        {
          "output_type": "execute_result",
          "data": {
            "text/plain": [
              "array([[ 4,  3,  5,  7],\n",
              "       [ 1, 12, 11,  9],\n",
              "       [ 2, 15,  1, 14]])"
            ]
          },
          "metadata": {},
          "execution_count": 45
        }
      ],
      "source": [
        "a = np.array([[4,  3,  5,  7],\n",
        "              [1, 12, 11,  9],\n",
        "              [2, 15,  1, 14]])\n",
        "a"
      ]
    },
    {
      "cell_type": "code",
      "execution_count": null,
      "metadata": {
        "school_cell_uuid": "01b1287f88e84ef08e7415973ca6f017",
        "id": "dy3QmzBb-d7h",
        "outputId": "5f5755e4-c321-41fc-cba7-228400ebf185",
        "colab": {
          "base_uri": "https://localhost:8080/"
        }
      },
      "outputs": [
        {
          "output_type": "execute_result",
          "data": {
            "text/plain": [
              "array([[ 3,  4,  5,  7],\n",
              "       [ 1,  9, 11, 12],\n",
              "       [ 1,  2, 14, 15]])"
            ]
          },
          "metadata": {},
          "execution_count": 46
        }
      ],
      "source": [
        "np.sort(a)  #  행방향 axis=-1 또는 axis=1 과 동일"
      ]
    },
    {
      "cell_type": "code",
      "execution_count": null,
      "metadata": {
        "school_cell_uuid": "bc176ba6937b40939a1f3695826cdc40",
        "id": "Tuh7foFa-d7h",
        "outputId": "8970eeec-eb74-4654-a5f9-9e48c91fdcae",
        "colab": {
          "base_uri": "https://localhost:8080/"
        }
      },
      "outputs": [
        {
          "output_type": "execute_result",
          "data": {
            "text/plain": [
              "array([[ 1,  3,  1,  7],\n",
              "       [ 2, 12,  5,  9],\n",
              "       [ 4, 15, 11, 14]])"
            ]
          },
          "metadata": {},
          "execution_count": 47
        }
      ],
      "source": [
        "np.sort(a, axis=0) # 열방향"
      ]
    },
    {
      "cell_type": "markdown",
      "metadata": {
        "school_cell_uuid": "161d08b9dd474c8c80909173bba9d0ea",
        "id": "1-Vy7rWk-d7i"
      },
      "source": [
        "sort 메서드는 해당 객체의 자료 자체가 변화하는 자체변화(in-place) 메서드이므로 사용할 때 주의를 기울여야 한다."
      ]
    },
    {
      "cell_type": "code",
      "source": [
        "a"
      ],
      "metadata": {
        "colab": {
          "base_uri": "https://localhost:8080/"
        },
        "id": "4DuZk_l6TCkU",
        "outputId": "c81da249-e684-4eeb-b783-c8e185413113"
      },
      "execution_count": null,
      "outputs": [
        {
          "output_type": "execute_result",
          "data": {
            "text/plain": [
              "array([[ 4,  3,  5,  7],\n",
              "       [ 1, 12, 11,  9],\n",
              "       [ 2, 15,  1, 14]])"
            ]
          },
          "metadata": {},
          "execution_count": 48
        }
      ]
    },
    {
      "cell_type": "code",
      "execution_count": null,
      "metadata": {
        "school_cell_uuid": "494139fb7a73493a89398ce82a0c14f1",
        "id": "EG0iXef0-d7i",
        "outputId": "0f5ca0c1-1f94-4b16-c59a-27d124c60158",
        "colab": {
          "base_uri": "https://localhost:8080/"
        }
      },
      "outputs": [
        {
          "output_type": "execute_result",
          "data": {
            "text/plain": [
              "array([[ 3,  4,  5,  7],\n",
              "       [ 1,  9, 11, 12],\n",
              "       [ 1,  2, 14, 15]])"
            ]
          },
          "metadata": {},
          "execution_count": 49
        }
      ],
      "source": [
        "a.sort(axis=1)\n",
        "a"
      ]
    },
    {
      "cell_type": "markdown",
      "metadata": {
        "id": "23a_rYzx-d7j"
      },
      "source": [
        "`argsort`"
      ]
    },
    {
      "cell_type": "markdown",
      "metadata": {
        "school_cell_uuid": "4c45b841324441a49d4ceb8cf20f1772",
        "id": "ITdPrq2R-d7j"
      },
      "source": [
        "만약 자료를 정렬하는 것이 아니라 순서만 알고 싶다면 `argsort` 명령을 사용한다."
      ]
    },
    {
      "cell_type": "code",
      "execution_count": null,
      "metadata": {
        "school_cell_uuid": "119343dfb907415785d7846b51ceeb53",
        "id": "8nqG8-6D-d7j",
        "outputId": "ffd3476c-11e1-4954-f636-7ad7a3eee31f"
      },
      "outputs": [
        {
          "data": {
            "text/plain": [
              "array([2, 3, 1, 0])"
            ]
          },
          "execution_count": 55,
          "metadata": {},
          "output_type": "execute_result"
        }
      ],
      "source": [
        "a = np.array([42, 38, 12, 25])\n",
        "j = np.argsort(a)\n",
        "j"
      ]
    },
    {
      "cell_type": "code",
      "execution_count": null,
      "metadata": {
        "school_cell_uuid": "6f0f76d6d9eb4352a5ba8a388b130a2e",
        "id": "vPhQQ0yf-d7j",
        "outputId": "fa738824-5bb0-43bc-c3d7-5fdae58690ef"
      },
      "outputs": [
        {
          "data": {
            "text/plain": [
              "array([12, 25, 38, 42])"
            ]
          },
          "execution_count": 56,
          "metadata": {},
          "output_type": "execute_result"
        }
      ],
      "source": [
        "a[j]"
      ]
    },
    {
      "cell_type": "code",
      "execution_count": null,
      "metadata": {
        "school_cell_uuid": "82e58925d9b44196bf4edadb65b014e6",
        "id": "A0AG2-Lj-d7k",
        "outputId": "dd8852be-f972-4975-8ffa-768ecf663c39"
      },
      "outputs": [
        {
          "data": {
            "text/plain": [
              "array([12, 25, 38, 42])"
            ]
          },
          "execution_count": 57,
          "metadata": {},
          "output_type": "execute_result"
        }
      ],
      "source": [
        "np.sort(a)"
      ]
    },
    {
      "cell_type": "markdown",
      "metadata": {
        "bootstrap": {
          "panel": {
            "class": "panel-default"
          }
        },
        "school_cell_uuid": "d9c45fe2b21b439295a0b6b482dfee49",
        "id": "lom3yqki-d7k"
      },
      "source": [
        "**연습**\n",
        "\n",
        "다음 배열은 첫번째 행(row)에 학번, 두번째 행에 영어 성적, 세번째 행에 수학 성적을 적은 배열이다. 영어 성적을 기준으로 각 열(column)을 재정렬하라.\n",
        "\n",
        "```\n",
        "array([[  1,    2,    3,    4],\n",
        "       [ 46,   99,  100,   71],\n",
        "       [ 81,   59,   90,  100]])\n",
        "```\n"
      ]
    },
    {
      "cell_type": "code",
      "execution_count": null,
      "metadata": {
        "id": "I31gbyk8-d7k"
      },
      "outputs": [],
      "source": []
    }
  ],
  "metadata": {
    "kernelspec": {
      "display_name": "Python 3",
      "language": "python",
      "name": "python3"
    },
    "language_info": {
      "codemirror_mode": {
        "name": "ipython",
        "version": 3
      },
      "file_extension": ".py",
      "mimetype": "text/x-python",
      "name": "python",
      "nbconvert_exporter": "python",
      "pygments_lexer": "ipython3",
      "version": "3.8.3"
    },
    "colab": {
      "provenance": [],
      "include_colab_link": true
    }
  },
  "nbformat": 4,
  "nbformat_minor": 0
}