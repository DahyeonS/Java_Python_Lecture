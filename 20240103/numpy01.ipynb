{
  "cells": [
    {
      "cell_type": "markdown",
      "metadata": {
        "id": "view-in-github",
        "colab_type": "text"
      },
      "source": [
        "<a href=\"https://colab.research.google.com/github/DahyeonS/Java_Python_Lecture/blob/main/20240103/numpy01.ipynb\" target=\"_parent\"><img src=\"https://colab.research.google.com/assets/colab-badge.svg\" alt=\"Open In Colab\"/></a>"
      ]
    },
    {
      "cell_type": "markdown",
      "metadata": {
        "school_cell_uuid": "1d5d014482ab49ad8d4028b5ce0dcdeb",
        "id": "b_N774Fee6hH"
      },
      "source": [
        "# Numpy 넘파이"
      ]
    },
    {
      "cell_type": "markdown",
      "metadata": {
        "id": "ymL57EX6e6hK"
      },
      "source": [
        "- 파이썬에서 배열을 사용하기 위한 표준 패키지\n",
        "- NumPy와 패키지의 핵심은 ndarray  배열 객체"
      ]
    },
    {
      "cell_type": "markdown",
      "metadata": {
        "school_cell_uuid": "f7843625353f44dea6e562e075d86228",
        "id": "enVRv72We6hL"
      },
      "source": [
        "## ndarray가 list, tuple 과 다른 점"
      ]
    },
    {
      "cell_type": "markdown",
      "metadata": {
        "id": "W6i9MqG5e6hM"
      },
      "source": [
        "- 모든 원소가 같은 자료형\n",
        "- 크기가 고정, 크기 변경시에는 새로운 메모리에 할당 됨"
      ]
    },
    {
      "cell_type": "markdown",
      "metadata": {
        "id": "PqEC2DhAe6hM"
      },
      "source": [
        "## ndarray식을 계산"
      ]
    },
    {
      "cell_type": "markdown",
      "metadata": {
        "id": "JcZTMHFRe6hM"
      },
      "source": [
        "- 수치해석용 파이썬 패키지\n",
        "- 다차원의 배열 자료구조 클래스인 ndarray 클래스를 지원\n",
        "- 벡터와 행렬을 사용하는 선형대수 계산에 주로 사용\n",
        "- 넘파이의 배열 연산은 C로 구현된 내부 반복문을 사용하기 때문에 파이썬 반복문에 비해 속도가 빠름\n",
        "- 벡터화 연산(vectorized operation)을 이용하여 간단한 코드로도 복잡한 선형 대수 연산을 수행\n",
        "- 배열 인덱싱(array indexing)을 사용한 질의(Query) 기능을 이용하여 간단한 코드로도 복잡한 수식을 계산"
      ]
    },
    {
      "cell_type": "markdown",
      "metadata": {
        "id": "4R6sxC1Ae6hN"
      },
      "source": [
        "```{margin}\n",
        "벡터화 연산(vectorized operation)\n",
        "반복문을 사용하지 않고도 배열의 모든 원소에 대해 반복연산이 가능\n",
        "```"
      ]
    },
    {
      "cell_type": "markdown",
      "metadata": {
        "school_cell_uuid": "e3b31d1562df432198df5f1a4e74f992",
        "id": "TOAB6aDue6hN"
      },
      "source": [
        "## 넘파이 패키지 import"
      ]
    },
    {
      "cell_type": "markdown",
      "metadata": {
        "school_cell_uuid": "f666b97051b94071a2b004d589c3ba33",
        "id": "jUcSK6fee6hN"
      },
      "source": [
        "- np라는 별명으로 import 하는 것이 관례"
      ]
    },
    {
      "cell_type": "code",
      "execution_count": null,
      "metadata": {
        "id": "HYq99K0_e6hN"
      },
      "outputs": [],
      "source": [
        "# pip install numpy"
      ]
    },
    {
      "cell_type": "code",
      "execution_count": 3,
      "metadata": {
        "school_cell_uuid": "7dcc7126d45b41569e7f8271381184dc",
        "id": "9bvLKHUbe6hO",
        "outputId": "c98e2156-fcd9-45b2-efb8-03bbedfe3841",
        "colab": {
          "base_uri": "https://localhost:8080/",
          "height": 35
        }
      },
      "outputs": [
        {
          "output_type": "execute_result",
          "data": {
            "text/plain": [
              "'1.23.5'"
            ],
            "application/vnd.google.colaboratory.intrinsic+json": {
              "type": "string"
            }
          },
          "metadata": {},
          "execution_count": 3
        }
      ],
      "source": [
        "import numpy as np\n",
        "np.__version__"
      ]
    },
    {
      "cell_type": "markdown",
      "metadata": {
        "school_cell_uuid": "ee071c08f58c41f68f4b6da25ebecccd",
        "id": "WQY_yDd0e6hP"
      },
      "source": [
        "## 1차원 배열 만들기"
      ]
    },
    {
      "cell_type": "markdown",
      "metadata": {
        "id": "SENSnxove6hP"
      },
      "source": [
        "### array() : ndarray 생성 함수\n"
      ]
    },
    {
      "cell_type": "code",
      "execution_count": 4,
      "metadata": {
        "school_cell_uuid": "afeba59dccfe4175b4d3369a1e88b525",
        "id": "C7_sQaWWe6hP",
        "outputId": "41f191a6-50fd-4ce1-8ebe-577a184c9225",
        "colab": {
          "base_uri": "https://localhost:8080/"
        }
      },
      "outputs": [
        {
          "output_type": "execute_result",
          "data": {
            "text/plain": [
              "array([0, 1, 2, 3, 4, 5, 6, 7, 8, 9])"
            ]
          },
          "metadata": {},
          "execution_count": 4
        }
      ],
      "source": [
        "data = range(10)\n",
        "arr = np.array(data)\n",
        "arr"
      ]
    },
    {
      "cell_type": "code",
      "execution_count": 5,
      "metadata": {
        "school_cell_uuid": "afeba59dccfe4175b4d3369a1e88b525",
        "id": "KOxkWqp5e6hQ",
        "outputId": "351ad2fb-08fc-4583-b55c-a589e121b96d",
        "colab": {
          "base_uri": "https://localhost:8080/"
        }
      },
      "outputs": [
        {
          "output_type": "execute_result",
          "data": {
            "text/plain": [
              "array([0, 1, 2, 3, 4, 5, 6, 7, 8, 9])"
            ]
          },
          "metadata": {},
          "execution_count": 5
        }
      ],
      "source": [
        "data = list(range(10))\n",
        "arr = np.array(data)\n",
        "arr"
      ]
    },
    {
      "cell_type": "markdown",
      "metadata": {
        "school_cell_uuid": "288889aa9d304d9197d37c76a9e9e69f",
        "id": "gYyZ5QyMe6hQ"
      },
      "source": [
        "### type() : 자료형 확인"
      ]
    },
    {
      "cell_type": "code",
      "execution_count": 6,
      "metadata": {
        "school_cell_uuid": "a6194df0afae4814bf2cdd90ab68ceab",
        "id": "6M7Y1_RMe6hQ",
        "outputId": "d840a433-8a68-4fec-e16f-f6ec36ba9d20",
        "colab": {
          "base_uri": "https://localhost:8080/"
        }
      },
      "outputs": [
        {
          "output_type": "execute_result",
          "data": {
            "text/plain": [
              "numpy.ndarray"
            ]
          },
          "metadata": {},
          "execution_count": 6
        }
      ],
      "source": [
        "type(arr)"
      ]
    },
    {
      "cell_type": "markdown",
      "metadata": {
        "id": "vMCW2Y5Te6hQ"
      },
      "source": [
        "### list로 역변환 가능"
      ]
    },
    {
      "cell_type": "code",
      "execution_count": 7,
      "metadata": {
        "id": "fjDGOClKe6hQ",
        "outputId": "5cc3da83-8709-4800-8a40-67ccc8ffd81d",
        "colab": {
          "base_uri": "https://localhost:8080/"
        }
      },
      "outputs": [
        {
          "output_type": "execute_result",
          "data": {
            "text/plain": [
              "[0, 1, 2, 3, 4, 5, 6, 7, 8, 9]"
            ]
          },
          "metadata": {},
          "execution_count": 7
        }
      ],
      "source": [
        "data = list(arr)\n",
        "data"
      ]
    },
    {
      "cell_type": "markdown",
      "metadata": {
        "school_cell_uuid": "48a3dc367a26446b996d746f901aa219",
        "id": "EeEKvjsCe6hQ"
      },
      "source": [
        "## 벡터화 연산(vectorized operation)"
      ]
    },
    {
      "cell_type": "markdown",
      "metadata": {
        "school_cell_uuid": "194b49dd2d754adf84543561635c43f8",
        "id": "496udBqRe6hR"
      },
      "source": [
        "- ndarray는 반복 연산을 하나의 명령어로 처리하는 벡터화 연산(vectorized operation)을 지원"
      ]
    },
    {
      "cell_type": "code",
      "execution_count": 8,
      "metadata": {
        "school_cell_uuid": "f0b12731085740e0ba726b012447f86a",
        "id": "XLSHoVTpe6hR"
      },
      "outputs": [],
      "source": [
        "data = list(range(10))"
      ]
    },
    {
      "cell_type": "markdown",
      "metadata": {
        "school_cell_uuid": "a09ae0694f3e48d78f4e69311f986c8a",
        "id": "jHkX5YN9e6hR"
      },
      "source": [
        "- for 반복문을 사용하는 연산 : python 기본 연산"
      ]
    },
    {
      "cell_type": "code",
      "execution_count": 9,
      "metadata": {
        "school_cell_uuid": "7dffaa9dc59e40cc89b9f2360f227193",
        "id": "7pu_KYk3e6hR",
        "outputId": "90823e3a-5f3c-4175-eb1c-7479e614a0dd",
        "colab": {
          "base_uri": "https://localhost:8080/"
        }
      },
      "outputs": [
        {
          "output_type": "execute_result",
          "data": {
            "text/plain": [
              "[0, 2, 4, 6, 8, 10, 12, 14, 16, 18]"
            ]
          },
          "metadata": {},
          "execution_count": 9
        }
      ],
      "source": [
        "rs = []\n",
        "for i in data:\n",
        "    rs.append(2 * i)\n",
        "rs"
      ]
    },
    {
      "cell_type": "code",
      "execution_count": 10,
      "metadata": {
        "id": "taOSbktte6hR",
        "outputId": "0c6f7be3-4be0-46bb-f5b6-1fbe0ab9415f",
        "colab": {
          "base_uri": "https://localhost:8080/"
        }
      },
      "outputs": [
        {
          "output_type": "execute_result",
          "data": {
            "text/plain": [
              "[0, 2, 4, 6, 8, 10, 12, 14, 16, 18]"
            ]
          },
          "metadata": {},
          "execution_count": 10
        }
      ],
      "source": [
        "rs = [i*2 for i in data]\n",
        "rs"
      ]
    },
    {
      "cell_type": "markdown",
      "metadata": {
        "school_cell_uuid": "aeb067be23cf4c72acc470ef7aecea50",
        "id": "MZnoYGWze6hR"
      },
      "source": [
        "- 벡터화 연산"
      ]
    },
    {
      "cell_type": "code",
      "execution_count": 11,
      "metadata": {
        "school_cell_uuid": "2ed2bac262574db28eabe979e1dfe7f1",
        "id": "4mTXUnGGe6hS",
        "outputId": "2fbf1b26-94b0-4e6a-acd9-b411c37879f0",
        "colab": {
          "base_uri": "https://localhost:8080/"
        }
      },
      "outputs": [
        {
          "output_type": "execute_result",
          "data": {
            "text/plain": [
              "array([0, 1, 2, 3, 4, 5, 6, 7, 8, 9])"
            ]
          },
          "metadata": {},
          "execution_count": 11
        }
      ],
      "source": [
        "x = np.array(data)\n",
        "x"
      ]
    },
    {
      "cell_type": "code",
      "execution_count": 12,
      "metadata": {
        "school_cell_uuid": "d6fc4d077406403185e13e3b93188e63",
        "id": "W7vfF7wFe6hS",
        "outputId": "af098d6f-d9b0-4551-c65e-140482f355d6",
        "colab": {
          "base_uri": "https://localhost:8080/"
        }
      },
      "outputs": [
        {
          "output_type": "execute_result",
          "data": {
            "text/plain": [
              "array([ 0,  2,  4,  6,  8, 10, 12, 14, 16, 18])"
            ]
          },
          "metadata": {},
          "execution_count": 12
        }
      ],
      "source": [
        "rs = 2 * x\n",
        "rs"
      ]
    },
    {
      "cell_type": "markdown",
      "metadata": {
        "school_cell_uuid": "7d9078be25c14571bd0c662e15fd8b0d",
        "id": "NZclBHuGe6hS"
      },
      "source": [
        "* 참고 : 일반적인 리스트 객체에 정수를 곱하면 객체의 크기가 정수배 만큼으로 증가"
      ]
    },
    {
      "cell_type": "code",
      "execution_count": 13,
      "metadata": {
        "school_cell_uuid": "a7938d441f6f447ea4f75e2a318693ca",
        "id": "jNgjFfDle6hS",
        "outputId": "64c13fef-527a-4968-ce35-6e908e54784c",
        "colab": {
          "base_uri": "https://localhost:8080/"
        }
      },
      "outputs": [
        {
          "output_type": "execute_result",
          "data": {
            "text/plain": [
              "[0, 1, 2, 3, 4, 5, 6, 7, 8, 9, 0, 1, 2, 3, 4, 5, 6, 7, 8, 9]"
            ]
          },
          "metadata": {},
          "execution_count": 13
        }
      ],
      "source": [
        "data * 2"
      ]
    },
    {
      "cell_type": "markdown",
      "metadata": {
        "school_cell_uuid": "4d67dfa48a7c4f58b1602a44709e61d5",
        "id": "eFOSRDVfe6hS"
      },
      "source": [
        "- 벡터화 연산은 비교 연산과 논리 연산을 포함한 모든 종류의 수학 연산에 대해 적용"
      ]
    },
    {
      "cell_type": "code",
      "execution_count": 14,
      "metadata": {
        "school_cell_uuid": "8deee9a63356446a97383cf4fb221eed",
        "id": "09uE05HWe6hT"
      },
      "outputs": [],
      "source": [
        "a = np.array([1, 2, 3])\n",
        "b = np.array([10, 20, 30])"
      ]
    },
    {
      "cell_type": "code",
      "execution_count": 15,
      "metadata": {
        "school_cell_uuid": "98792bb1ad1e447fa7356fb22aa40d86",
        "id": "nA2FrDlce6hT",
        "outputId": "a0cf4d60-3c1b-4b99-8f59-c91045b30972",
        "colab": {
          "base_uri": "https://localhost:8080/"
        }
      },
      "outputs": [
        {
          "output_type": "execute_result",
          "data": {
            "text/plain": [
              "array([12, 24, 36])"
            ]
          },
          "metadata": {},
          "execution_count": 15
        }
      ],
      "source": [
        "2 * a + b"
      ]
    },
    {
      "cell_type": "code",
      "execution_count": 16,
      "metadata": {
        "school_cell_uuid": "26477a92c60342778fb4991f7bc36026",
        "id": "ot8KnjDHe6hT",
        "outputId": "490a538a-ea2a-444a-cf69-0c3f6974a2b4",
        "colab": {
          "base_uri": "https://localhost:8080/"
        }
      },
      "outputs": [
        {
          "output_type": "execute_result",
          "data": {
            "text/plain": [
              "array([False,  True, False])"
            ]
          },
          "metadata": {},
          "execution_count": 16
        }
      ],
      "source": [
        "a == 2"
      ]
    },
    {
      "cell_type": "code",
      "execution_count": 17,
      "metadata": {
        "school_cell_uuid": "a7654eee079a404fa1aef17ddc0554ca",
        "id": "lYDgkPbGe6hT",
        "outputId": "dd6e9c96-dc57-427e-86e4-9e35b6199a32",
        "colab": {
          "base_uri": "https://localhost:8080/"
        }
      },
      "outputs": [
        {
          "output_type": "execute_result",
          "data": {
            "text/plain": [
              "array([False,  True,  True])"
            ]
          },
          "metadata": {},
          "execution_count": 17
        }
      ],
      "source": [
        "b > 10"
      ]
    },
    {
      "cell_type": "code",
      "execution_count": 18,
      "metadata": {
        "school_cell_uuid": "682f4db02aaa4edd8f3235a0d56934a5",
        "id": "8k8FXz4fe6hT",
        "outputId": "bad0bbb7-5a58-4266-d546-dbdc5b55e42a",
        "colab": {
          "base_uri": "https://localhost:8080/"
        }
      },
      "outputs": [
        {
          "output_type": "execute_result",
          "data": {
            "text/plain": [
              "array([False,  True, False])"
            ]
          },
          "metadata": {},
          "execution_count": 18
        }
      ],
      "source": [
        "(a == 2) & (b > 10)"
      ]
    },
    {
      "cell_type": "markdown",
      "metadata": {
        "school_cell_uuid": "ebc04b8bb8fa41bba5a41fddd3bf8666",
        "id": "KSoCEyD4e6hU"
      },
      "source": [
        "## 2차원 배열"
      ]
    },
    {
      "cell_type": "markdown",
      "metadata": {
        "school_cell_uuid": "378f0b8ae4634096ad09c417627b2061",
        "id": "tXoL6fmMe6hU"
      },
      "source": [
        "- `ndarray` 2차원 배열, 3차원 배열 등의 다차원 배열 자료 구조를 지원\n",
        "- 2차원 배열은 행렬(matrix), 행렬에서는 가로줄을 행(row)과 세로줄을 열(column)로 구성 됨\n",
        "- 2개의 행과 3개의 열을 가지는 2 x 3 배열이 됨"
      ]
    },
    {
      "cell_type": "code",
      "execution_count": 19,
      "metadata": {
        "school_cell_uuid": "797f19075e4f4003b382715c1d6e9138",
        "id": "nNun4Qw9e6hU",
        "outputId": "ace35908-cb34-4dfd-d60f-11b0161679ae",
        "colab": {
          "base_uri": "https://localhost:8080/"
        }
      },
      "outputs": [
        {
          "output_type": "execute_result",
          "data": {
            "text/plain": [
              "array([[0, 1, 2],\n",
              "       [3, 4, 5]])"
            ]
          },
          "metadata": {},
          "execution_count": 19
        }
      ],
      "source": [
        "a = np.array([\n",
        "    [0, 1, 2],\n",
        "    [3, 4, 5]\n",
        "])  # 2 x 3 array\n",
        "a"
      ]
    },
    {
      "cell_type": "code",
      "execution_count": 20,
      "metadata": {
        "school_cell_uuid": "1630c5bd29cc4b07998cfe5ff7814f45",
        "id": "77CBXnqse6hZ",
        "outputId": "264fc800-b52b-4e15-91e4-4e792fbac71e",
        "colab": {
          "base_uri": "https://localhost:8080/"
        }
      },
      "outputs": [
        {
          "output_type": "execute_result",
          "data": {
            "text/plain": [
              "2"
            ]
          },
          "metadata": {},
          "execution_count": 20
        }
      ],
      "source": [
        "# 행의 갯수\n",
        "len(a)"
      ]
    },
    {
      "cell_type": "code",
      "execution_count": 21,
      "metadata": {
        "school_cell_uuid": "75e93d35ef5c463dad24eef20d3f3e31",
        "id": "WlKu_cLse6hZ",
        "outputId": "1f451f55-cb7c-44ef-9dbc-2e3d8b928b6f",
        "colab": {
          "base_uri": "https://localhost:8080/"
        }
      },
      "outputs": [
        {
          "output_type": "execute_result",
          "data": {
            "text/plain": [
              "3"
            ]
          },
          "metadata": {},
          "execution_count": 21
        }
      ],
      "source": [
        "# 열의 갯수\n",
        "len(a[0])"
      ]
    },
    {
      "cell_type": "markdown",
      "metadata": {
        "school_cell_uuid": "bc89de5ce6a940338743361ca3e7daff",
        "id": "pdYiAuFJe6ha"
      },
      "source": [
        "## 3차원 배열"
      ]
    },
    {
      "cell_type": "markdown",
      "metadata": {
        "school_cell_uuid": "efadb2d4c81a4a6b87f55661b01da5e7",
        "id": "0AMJHZFfe6ha"
      },
      "source": [
        "- list 3개로 3차원 배열 생성\n",
        "- 3 x 2 x 3 배열은 2 x 3 행렬이 3개 있다는 의미\n",
        "- 앞의 3은 2 x 3의 2차 평면의 깊이나 높이"
      ]
    },
    {
      "cell_type": "code",
      "execution_count": 22,
      "metadata": {
        "school_cell_uuid": "fedd59bc2e414e72a285d8d9aee29faf",
        "id": "CdQanO7Ee6ha"
      },
      "outputs": [],
      "source": [
        "a = np.array([\n",
        "                [\n",
        "                    [1, 2, 3],\n",
        "                    [4, 5, 6]\n",
        "                ],\n",
        "                [\n",
        "                    [10, 20, 30],\n",
        "                    [40, 50, 60]\n",
        "                ],\n",
        "                [\n",
        "                    [100, 200, 300],\n",
        "                    [400, 500, 600]\n",
        "                ],\n",
        "            ])   # 4 x 2 x 3 array"
      ]
    },
    {
      "cell_type": "markdown",
      "metadata": {
        "school_cell_uuid": "c6f7e632b6d046efac91acedd7bad09a",
        "id": "AV5_hf8De6ha"
      },
      "source": [
        "3차원 배열의 깊이, 행, 열은 다음과 같이 구할 수 있다."
      ]
    },
    {
      "cell_type": "code",
      "execution_count": 23,
      "metadata": {
        "school_cell_uuid": "228226e0146340f3b4d170833fa561a5",
        "id": "-wLiI1jne6ha",
        "outputId": "623fc7ed-a8db-4f15-ebfd-9e92db8a6ad0",
        "colab": {
          "base_uri": "https://localhost:8080/"
        }
      },
      "outputs": [
        {
          "output_type": "execute_result",
          "data": {
            "text/plain": [
              "(3, 2, 3)"
            ]
          },
          "metadata": {},
          "execution_count": 23
        }
      ],
      "source": [
        "len(a), len(a[0]), len(a[0][0])"
      ]
    },
    {
      "cell_type": "markdown",
      "metadata": {
        "school_cell_uuid": "435df86b52ed4804ac61ac2cbba9c59c",
        "id": "NFEO899Ge6hb"
      },
      "source": [
        "## 배열의 차원과 크기 알아내기"
      ]
    },
    {
      "cell_type": "markdown",
      "metadata": {
        "id": "TSCKFpXje6hb"
      },
      "source": [
        "### ndim : 배열의 차원 확인"
      ]
    },
    {
      "cell_type": "markdown",
      "metadata": {
        "id": "MRXZgjvRe6hb"
      },
      "source": [
        "### shape : 배열의 크기 확인"
      ]
    },
    {
      "cell_type": "code",
      "execution_count": 24,
      "metadata": {
        "school_cell_uuid": "0fb769f05ec249cf9e7d2c20941c37b9",
        "id": "1OKXnMuIe6hb",
        "outputId": "ae7916e5-f325-488f-8823-c1a0ce663301",
        "colab": {
          "base_uri": "https://localhost:8080/"
        }
      },
      "outputs": [
        {
          "output_type": "stream",
          "name": "stdout",
          "text": [
            "3\n",
            "(3, 2, 3)\n"
          ]
        }
      ],
      "source": [
        "print(a.ndim)\n",
        "print(a.shape)"
      ]
    },
    {
      "cell_type": "markdown",
      "metadata": {
        "school_cell_uuid": "d4755f7878e541e7bb13e019ff9a9083",
        "id": "h6XuAFMhe6hb"
      },
      "source": [
        "## 배열의 인덱싱"
      ]
    },
    {
      "cell_type": "markdown",
      "metadata": {
        "school_cell_uuid": "ad44a47e3f2f4eb6956a2be0fece6f3f",
        "id": "4DpE0WSMe6hb"
      },
      "source": [
        "- ndarray의 인덱싱은 리스트의 인덱싱과 동일 함"
      ]
    },
    {
      "cell_type": "code",
      "execution_count": 25,
      "metadata": {
        "school_cell_uuid": "f7a6485287dc428c80fd57426c8bbffa",
        "id": "JnjD9nzre6hc"
      },
      "outputs": [],
      "source": [
        "a = np.array(range(5))"
      ]
    },
    {
      "cell_type": "code",
      "execution_count": 26,
      "metadata": {
        "school_cell_uuid": "19a6dcba1b9b4a719a192a6dd4daea0d",
        "id": "6c4Nxqege6hc",
        "outputId": "82d6001d-4f89-4149-f1e5-0f1456d1f5fa",
        "colab": {
          "base_uri": "https://localhost:8080/"
        }
      },
      "outputs": [
        {
          "output_type": "execute_result",
          "data": {
            "text/plain": [
              "2"
            ]
          },
          "metadata": {},
          "execution_count": 26
        }
      ],
      "source": [
        "a[2]"
      ]
    },
    {
      "cell_type": "code",
      "execution_count": 27,
      "metadata": {
        "school_cell_uuid": "c34f99447c0a495aa1a5ffd62a07dd84",
        "id": "i7d5DZWbe6hc",
        "outputId": "0dc770a3-0501-4fed-a839-4d40c129c28e",
        "colab": {
          "base_uri": "https://localhost:8080/"
        }
      },
      "outputs": [
        {
          "output_type": "execute_result",
          "data": {
            "text/plain": [
              "4"
            ]
          },
          "metadata": {},
          "execution_count": 27
        }
      ],
      "source": [
        "a[-1]"
      ]
    },
    {
      "cell_type": "markdown",
      "metadata": {
        "id": "IUpfgyyKe6hc"
      },
      "source": [
        "## 축(axis)"
      ]
    },
    {
      "cell_type": "markdown",
      "metadata": {
        "school_cell_uuid": "738eb68556a74178bea7c08a1ed83df8",
        "id": "rUZbS8oLe6hc"
      },
      "source": [
        "### 1차원\n",
        "- 행 x 방향이거나 열 y 방향 일 수 있음\n",
        "- 일반 적인인 경우 행을 나타 냄"
      ]
    },
    {
      "cell_type": "code",
      "execution_count": 28,
      "metadata": {
        "id": "OWRbd5CXe6hd",
        "outputId": "6d30168f-5d5b-47e5-eaa5-d05651f3c2c9",
        "colab": {
          "base_uri": "https://localhost:8080/"
        }
      },
      "outputs": [
        {
          "output_type": "stream",
          "name": "stdout",
          "text": [
            "1\n",
            "(3,)\n"
          ]
        }
      ],
      "source": [
        "a = np.array(range(3))\n",
        "print(a.ndim)\n",
        "print(a.shape)"
      ]
    },
    {
      "cell_type": "markdown",
      "metadata": {
        "id": "cJxYP8MQe6hd"
      },
      "source": [
        "### 2차원\n",
        "- 행 x, 열 y"
      ]
    },
    {
      "cell_type": "code",
      "execution_count": 29,
      "metadata": {
        "school_cell_uuid": "9576398b7fcf4e4e95739ba9643f782c",
        "id": "J9wrSNGPe6hd",
        "outputId": "8fecb71f-bb1e-46c0-ec6c-2030aa1755ce",
        "colab": {
          "base_uri": "https://localhost:8080/"
        }
      },
      "outputs": [
        {
          "output_type": "stream",
          "name": "stdout",
          "text": [
            "2\n",
            "(2, 3)\n"
          ]
        }
      ],
      "source": [
        "a = np.array([\n",
        "    [0, 1, 2],\n",
        "    [3, 4, 5]\n",
        "])\n",
        "print(a.ndim)\n",
        "print(a.shape)"
      ]
    },
    {
      "cell_type": "code",
      "execution_count": 30,
      "metadata": {
        "school_cell_uuid": "3db29f4a615749fbbe5d95c211ff8b44",
        "id": "-OHfRB0Ee6hd",
        "outputId": "db39564d-9ae0-49a5-b4df-6d33d9f29404",
        "colab": {
          "base_uri": "https://localhost:8080/"
        }
      },
      "outputs": [
        {
          "output_type": "execute_result",
          "data": {
            "text/plain": [
              "(0, 0)"
            ]
          },
          "metadata": {},
          "execution_count": 30
        }
      ],
      "source": [
        "a[0][0] , a[0, 0] # 첫번째 행의 첫번째 열"
      ]
    },
    {
      "cell_type": "code",
      "execution_count": 31,
      "metadata": {
        "school_cell_uuid": "5c1286972e914d98a09fed0e20443a2c",
        "id": "VkqWMBmIe6hd",
        "outputId": "a3ffb6be-1069-4ab7-eb2f-3cdd79c9dbcd",
        "colab": {
          "base_uri": "https://localhost:8080/"
        }
      },
      "outputs": [
        {
          "output_type": "execute_result",
          "data": {
            "text/plain": [
              "(1, 1)"
            ]
          },
          "metadata": {},
          "execution_count": 31
        }
      ],
      "source": [
        "a[0][1], a[0, 1]  # 첫번째 행의 두번째 열"
      ]
    },
    {
      "cell_type": "code",
      "execution_count": 32,
      "metadata": {
        "school_cell_uuid": "83fac0298f70445c9d7a65a373c4780a",
        "id": "08_XRNoce6he",
        "outputId": "87a99a85-8c45-4f2f-cbc7-0ba11f548726",
        "colab": {
          "base_uri": "https://localhost:8080/"
        }
      },
      "outputs": [
        {
          "output_type": "execute_result",
          "data": {
            "text/plain": [
              "(5, 5)"
            ]
          },
          "metadata": {},
          "execution_count": 32
        }
      ],
      "source": [
        "a[-1][-1], a[-1, -1]  # 마지막 행의 마지막 열"
      ]
    },
    {
      "cell_type": "markdown",
      "metadata": {
        "id": "9J9LnFvze6he"
      },
      "source": [
        "### 3차원\n",
        "- 깊이(높이) z,\n",
        "행 x, 열 y"
      ]
    },
    {
      "cell_type": "code",
      "execution_count": 33,
      "metadata": {
        "id": "qxVvQsBie6he",
        "outputId": "eebbce93-9e89-4433-e35b-3c108776a69a",
        "colab": {
          "base_uri": "https://localhost:8080/"
        }
      },
      "outputs": [
        {
          "output_type": "stream",
          "name": "stdout",
          "text": [
            "3\n",
            "(2, 2, 3)\n"
          ]
        }
      ],
      "source": [
        "a = np.array(\n",
        "    [\n",
        "        [\n",
        "            [1, 2, 3],\n",
        "            [4, 5, 6]\n",
        "        ],\n",
        "        [\n",
        "            [10, 20, 30],\n",
        "            [40, 50, 60]\n",
        "        ]\n",
        "])\n",
        "print(a.ndim)\n",
        "print(a.shape)"
      ]
    },
    {
      "cell_type": "code",
      "execution_count": 34,
      "metadata": {
        "id": "MRzKsurCe6he",
        "outputId": "16847fd6-c278-4531-9da3-99f4bdc3803a",
        "colab": {
          "base_uri": "https://localhost:8080/"
        }
      },
      "outputs": [
        {
          "output_type": "execute_result",
          "data": {
            "text/plain": [
              "array([[1, 2, 3],\n",
              "       [4, 5, 6]])"
            ]
          },
          "metadata": {},
          "execution_count": 34
        }
      ],
      "source": [
        "a[0]"
      ]
    },
    {
      "cell_type": "code",
      "execution_count": 35,
      "metadata": {
        "id": "1B3crceye6hf",
        "outputId": "ef7faeef-7e35-43b5-bdd8-9a7313642401",
        "colab": {
          "base_uri": "https://localhost:8080/"
        }
      },
      "outputs": [
        {
          "output_type": "execute_result",
          "data": {
            "text/plain": [
              "(array([1, 2, 3]), array([1, 2, 3]))"
            ]
          },
          "metadata": {},
          "execution_count": 35
        }
      ],
      "source": [
        "a[0][0], a[0, 0]"
      ]
    },
    {
      "cell_type": "code",
      "execution_count": 36,
      "metadata": {
        "id": "Hj2E7HVfe6hf",
        "outputId": "c7b6a9e5-b9bf-406f-f923-fe139bf2deb8",
        "colab": {
          "base_uri": "https://localhost:8080/"
        }
      },
      "outputs": [
        {
          "output_type": "execute_result",
          "data": {
            "text/plain": [
              "(1, 1)"
            ]
          },
          "metadata": {},
          "execution_count": 36
        }
      ],
      "source": [
        "a[0][0][0], a[0, 0, 0]"
      ]
    },
    {
      "cell_type": "markdown",
      "metadata": {
        "school_cell_uuid": "f657419442c941f786574146a89c39db",
        "id": "jvFsCBLEe6hf"
      },
      "source": [
        "## 배열 슬라이싱"
      ]
    },
    {
      "cell_type": "markdown",
      "metadata": {
        "school_cell_uuid": "d0b3eb8e9625482ab825b6ebb701c69c",
        "id": "RyDXSk5Ue6hf"
      },
      "source": [
        "- ndarray의 인덱싱은 리스트의 인덱싱과 동일 함"
      ]
    },
    {
      "cell_type": "code",
      "execution_count": 37,
      "metadata": {
        "school_cell_uuid": "1ea4a86c5ab34105bfaf76fb7eb56e86",
        "id": "1rkJSH7ne6hf",
        "outputId": "43f2c7bf-5051-4b41-e272-7e746179524d",
        "colab": {
          "base_uri": "https://localhost:8080/"
        }
      },
      "outputs": [
        {
          "output_type": "execute_result",
          "data": {
            "text/plain": [
              "array([[ 1,  2,  3,  4,  5],\n",
              "       [ 6,  7,  8,  9, 10]])"
            ]
          },
          "metadata": {},
          "execution_count": 37
        }
      ],
      "source": [
        "a = np.array([\n",
        "    range(1,6),\n",
        "    range(6,11)\n",
        "])\n",
        "a"
      ]
    },
    {
      "cell_type": "code",
      "execution_count": null,
      "metadata": {
        "school_cell_uuid": "bfea4995adda4a0382bada20bc976a78",
        "id": "pCDyTff_e6hf",
        "outputId": "fb6f4b8f-0840-43ce-a506-e04833686809"
      },
      "outputs": [
        {
          "data": {
            "text/plain": [
              "array([1, 2, 3, 4, 5])"
            ]
          },
          "execution_count": 41,
          "metadata": {},
          "output_type": "execute_result"
        }
      ],
      "source": [
        "a[0, :]  # 첫번째 행 전체"
      ]
    },
    {
      "cell_type": "code",
      "execution_count": null,
      "metadata": {
        "school_cell_uuid": "54129ca14dfa46acb37258649dc4fbf0",
        "id": "AmesoQR1e6hg",
        "outputId": "045a22e6-b5ab-4aab-ff92-977e5d616173"
      },
      "outputs": [
        {
          "data": {
            "text/plain": [
              "array([2, 7])"
            ]
          },
          "execution_count": 42,
          "metadata": {},
          "output_type": "execute_result"
        }
      ],
      "source": [
        "a[:, 1]  # 두번째 열 전체"
      ]
    },
    {
      "cell_type": "code",
      "execution_count": null,
      "metadata": {
        "school_cell_uuid": "feb44b302247499eb76a58b904231483",
        "id": "AHOuzNhIe6hg",
        "outputId": "4bcd10ce-1bb8-4533-fc5c-ac6d554b4cc6"
      },
      "outputs": [
        {
          "data": {
            "text/plain": [
              "array([ 7,  8,  9, 10])"
            ]
          },
          "execution_count": 43,
          "metadata": {},
          "output_type": "execute_result"
        }
      ],
      "source": [
        "a[1, 1:]  # 두번째 행의 두번째 열부터 끝열까지"
      ]
    },
    {
      "cell_type": "code",
      "execution_count": null,
      "metadata": {
        "school_cell_uuid": "feb44b302247499eb76a58b904231483",
        "id": "t-CcgGI-e6hg",
        "outputId": "78f7d744-276b-45ac-f583-0979dc7b7090"
      },
      "outputs": [
        {
          "data": {
            "text/plain": [
              "array([[1, 2],\n",
              "       [6, 7]])"
            ]
          },
          "execution_count": 44,
          "metadata": {},
          "output_type": "execute_result"
        }
      ],
      "source": [
        "a[:2, :2]"
      ]
    },
    {
      "cell_type": "markdown",
      "metadata": {
        "bootstrap": {
          "panel": {
            "class": "panel-default"
          }
        },
        "school_cell_uuid": "bfbc3bb02fa04461bffff66bf2d96fb8",
        "id": "lNhJ76Qxe6hg"
      },
      "source": [
        "**연습**\n",
        "```\n",
        "arr = np.array([\n",
        "    [ 1,  2,  3,  4, 5],\n",
        "    [ 6,  7,  8,  9, 10],\n",
        "    [ 11, 12, 13, 14, 15]\n",
        "])\n",
        "```\n",
        "\n",
        "1. 값 8 인덱싱\n",
        "2. 배열 [8, 13] 슬라이싱\n",
        "5. 배열 [[3, 4], [8, 9]] 슬라이싱\n"
      ]
    },
    {
      "cell_type": "code",
      "execution_count": null,
      "metadata": {
        "id": "9UVxFvlfe6hg",
        "outputId": "c6a3e597-8166-43a8-d228-dc9e8f1216f9"
      },
      "outputs": [
        {
          "name": "stdout",
          "output_type": "stream",
          "text": [
            "8\n",
            "[ 8 13]\n",
            "[[3 4]\n",
            " [8 9]]\n"
          ]
        }
      ],
      "source": [
        "arr = np.array([\n",
        "    [ 1,  2,  3,  4, 5],\n",
        "    [ 6,  7,  8,  9, 10],\n",
        "    [ 11, 12, 13, 14, 15]\n",
        "])\n",
        "print(arr[1,2])\n",
        "print(arr[1:3, 2])\n",
        "print(arr[:2, 2:4])"
      ]
    },
    {
      "cell_type": "markdown",
      "metadata": {
        "school_cell_uuid": "2b04625edebb49ce8af7c00153172289",
        "id": "mEwX24mre6hh"
      },
      "source": [
        "## 팬시 인덱싱(fancy indexing)"
      ]
    },
    {
      "cell_type": "markdown",
      "metadata": {
        "school_cell_uuid": "cc146df0c9264066b015e5de670df9ef",
        "id": "zMTLaRHVe6hh"
      },
      "source": [
        "- 인덱스 배열을 전달 한번에 여러 요소에 접근\n",
        "- 불리언(Boolean) 배열 방식과 정수 배열 방식 두가지"
      ]
    },
    {
      "cell_type": "markdown",
      "metadata": {
        "school_cell_uuid": "1c77e028d6464214bba1143b460c42a3",
        "id": "Z1u_uX9Ke6hh"
      },
      "source": [
        "### 불리안 배열 인덱싱 방식"
      ]
    },
    {
      "cell_type": "code",
      "execution_count": null,
      "metadata": {
        "school_cell_uuid": "229c36ab3d0243e1b35039a3eb61843b",
        "id": "SbSMoKVDe6hh",
        "outputId": "b30dec6f-46ea-47ad-81bf-e9934476771b"
      },
      "outputs": [
        {
          "data": {
            "text/plain": [
              "array([0, 2, 4, 6, 8])"
            ]
          },
          "execution_count": 43,
          "metadata": {},
          "output_type": "execute_result"
        }
      ],
      "source": [
        "# 짝수만 선택\n",
        "a = np.array(range(10)\n",
        "b = np.array([True, False, True, False, True,\n",
        "               False, True, False, True, False])\n",
        "a[b]"
      ]
    },
    {
      "cell_type": "markdown",
      "metadata": {
        "school_cell_uuid": "f8e440768c02451fae3c4c1b82054379",
        "id": "wzUt3_oce6hh"
      },
      "source": [
        "#### 비교, 논리 연산으로 구현\n",
        "- 논리연산자 : |, &\n",
        "- 논리연산시 비교 연산은 () 필요"
      ]
    },
    {
      "cell_type": "code",
      "execution_count": null,
      "metadata": {
        "id": "ppFJo3ive6hi",
        "outputId": "f03c90de-d9a7-4ad0-97f8-2337ef65593f"
      },
      "outputs": [
        {
          "data": {
            "text/plain": [
              "array([ True, False,  True, False,  True, False,  True, False,  True,\n",
              "       False])"
            ]
          },
          "execution_count": 56,
          "metadata": {},
          "output_type": "execute_result"
        }
      ],
      "source": [
        "a = np.array(range(10))\n",
        "b = a % 2 == 0\n",
        "print(b)\n",
        "a[b]"
      ]
    },
    {
      "cell_type": "code",
      "execution_count": null,
      "metadata": {
        "school_cell_uuid": "24e11eda2d6c4f1c9322c1d99270b110",
        "id": "1gAJDLWhe6hi",
        "outputId": "5ee87404-dfc4-43e3-8e17-b2227bd95466"
      },
      "outputs": [
        {
          "data": {
            "text/plain": [
              "array([0, 2, 4, 6, 8])"
            ]
          },
          "execution_count": 59,
          "metadata": {},
          "output_type": "execute_result"
        }
      ],
      "source": [
        "# 간단 표현\n",
        "a[a % 2 == 0]"
      ]
    },
    {
      "cell_type": "code",
      "execution_count": null,
      "metadata": {
        "school_cell_uuid": "24e11eda2d6c4f1c9322c1d99270b110",
        "id": "6DoqHXfke6hi",
        "outputId": "8dc00334-4b64-4760-a7df-8e9368e135d7"
      },
      "outputs": [
        {
          "data": {
            "text/plain": [
              "array([6, 7, 8, 9])"
            ]
          },
          "execution_count": 60,
          "metadata": {},
          "output_type": "execute_result"
        }
      ],
      "source": [
        "# 5보다 큰 자료 선택\n",
        "a[a > 5]"
      ]
    },
    {
      "cell_type": "code",
      "execution_count": null,
      "metadata": {
        "id": "PHMbppGre6hi",
        "outputId": "d6ce08e4-d17c-4719-ba91-809c86cd81af"
      },
      "outputs": [
        {
          "data": {
            "text/plain": [
              "array([82, 36, 32, 18, 14])"
            ]
          },
          "execution_count": 96,
          "metadata": {},
          "output_type": "execute_result"
        }
      ],
      "source": [
        "# 5보다 큰 짝수 자료 선택\n",
        "# a[a > 5 & a%2==0] # Error\n",
        "a[(a > 5) & (a%2==0)]"
      ]
    },
    {
      "cell_type": "markdown",
      "metadata": {
        "school_cell_uuid": "8dddb10b268d4959bd377704e5cc0c73",
        "id": "r98WAWBXe6hi"
      },
      "source": [
        "### 정수 배열 인덱싱\n",
        "- 인덱스 정수 배열로 입력"
      ]
    },
    {
      "cell_type": "code",
      "execution_count": null,
      "metadata": {
        "id": "imXi8k5oe6hj",
        "outputId": "e19e49c6-11ae-49e7-c1fc-111f7817249e"
      },
      "outputs": [
        {
          "data": {
            "text/plain": [
              "[18, 16, 45, 2, 31, 18, 67, 79, 40, 22]"
            ]
          },
          "execution_count": 71,
          "metadata": {},
          "output_type": "execute_result"
        }
      ],
      "source": [
        "from random import randint\n",
        "[randint(1,100) for r in range(10)]"
      ]
    },
    {
      "cell_type": "code",
      "execution_count": null,
      "metadata": {
        "school_cell_uuid": "d3450c62bcf346838f5084b261bdd4a4",
        "id": "0OfcN0Yhe6hj",
        "outputId": "84264bff-6086-490b-e8c5-cd03ac07c985"
      },
      "outputs": [
        {
          "name": "stdout",
          "output_type": "stream",
          "text": [
            "[82 15  4 95 36 32 29 18 95 14]\n",
            "[8 1 9 6 0 0 1 3 3 8]\n"
          ]
        },
        {
          "data": {
            "text/plain": [
              "array([95, 15, 14, 29, 82, 82, 15, 95, 95, 95])"
            ]
          },
          "execution_count": 82,
          "metadata": {},
          "output_type": "execute_result"
        }
      ],
      "source": [
        "import random\n",
        "random.seed(42)\n",
        "a = np.array([random.randint(1,100) for r in range(10)])\n",
        "i = np.array([random.randint(0,9) for r in range(10)])\n",
        "print(a)\n",
        "print(i)\n",
        "a[i]"
      ]
    },
    {
      "cell_type": "markdown",
      "metadata": {
        "school_cell_uuid": "6639a282bf6f4fa5b0db092af7705abe",
        "id": "soO_GJc1e6hj"
      },
      "source": [
        "- 배열 인덱스의 크기가 원래의 배열 크기와 달라도 상관 없음"
      ]
    },
    {
      "cell_type": "code",
      "execution_count": null,
      "metadata": {
        "school_cell_uuid": "e0d44d88947b445a829eff3a626d0f41",
        "id": "cQKj_7n3e6hj",
        "outputId": "363e0927-f640-471f-9cd1-77a6462d7858"
      },
      "outputs": [
        {
          "name": "stdout",
          "output_type": "stream",
          "text": [
            "[3 4 1 3 1 6 4 7 5 2 5 5 3 4 1 9 2 8 3 2] 20\n"
          ]
        },
        {
          "data": {
            "text/plain": [
              "array([95, 36, 15, 95, 15, 29, 36, 18, 32,  4, 32, 32, 95, 36, 15, 14,  4,\n",
              "       95, 95,  4])"
            ]
          },
          "execution_count": 85,
          "metadata": {},
          "output_type": "execute_result"
        }
      ],
      "source": [
        "i = np.array([random.randint(0,9) for r in range(20)])\n",
        "print(i,len(i))\n",
        "a[i]"
      ]
    },
    {
      "cell_type": "markdown",
      "metadata": {
        "school_cell_uuid": "5eac3dc885ae43a29c1e02aa32bc5f55",
        "id": "-tzD4gTze6hj"
      },
      "source": [
        "- 배열 인덱싱은 다차원 배열의 각 차원에 대해서도 가능"
      ]
    },
    {
      "cell_type": "code",
      "execution_count": null,
      "metadata": {
        "school_cell_uuid": "7150f017d94848af886bb9783aa0337b",
        "id": "xWPSkOc8e6hj",
        "outputId": "722f9fbb-0de6-4aab-f753-57332d1bebc2"
      },
      "outputs": [
        {
          "data": {
            "text/plain": [
              "array([[ 1,  2,  3,  4,  5],\n",
              "       [ 6,  7,  8,  9, 10],\n",
              "       [11, 12, 13, 14, 15]])"
            ]
          },
          "execution_count": 97,
          "metadata": {},
          "output_type": "execute_result"
        }
      ],
      "source": [
        "a = np.array([\n",
        "    [1, 2, 3, 4, 5],\n",
        "    [6, 7, 8, 9, 10],\n",
        "    [11, 12, 13, 14, 15]\n",
        "])\n",
        "a"
      ]
    },
    {
      "cell_type": "code",
      "execution_count": null,
      "metadata": {
        "school_cell_uuid": "2f482ef754064b7399bc7128276bdb25",
        "id": "Ja7ks7HTe6hk",
        "outputId": "ecf52e4a-2f5c-4d7b-f968-3660d356962c"
      },
      "outputs": [
        {
          "data": {
            "text/plain": [
              "array([[ 1,  4],\n",
              "       [ 6,  9],\n",
              "       [11, 14]])"
            ]
          },
          "execution_count": 99,
          "metadata": {},
          "output_type": "execute_result"
        }
      ],
      "source": [
        "a[:, [True, False, False, True, False]]"
      ]
    },
    {
      "cell_type": "code",
      "execution_count": null,
      "metadata": {
        "school_cell_uuid": "adf49263d3be41d389ef9a4a475d65ad",
        "id": "I8bqCBize6hk",
        "outputId": "32c0c43a-b7bb-4161-f431-dc539859f523"
      },
      "outputs": [
        {
          "data": {
            "text/plain": [
              "array([[11, 12, 13, 14, 15],\n",
              "       [ 1,  2,  3,  4,  5],\n",
              "       [ 6,  7,  8,  9, 10]])"
            ]
          },
          "execution_count": 101,
          "metadata": {},
          "output_type": "execute_result"
        }
      ],
      "source": [
        "a[[2, 0, 1], :]"
      ]
    },
    {
      "cell_type": "markdown",
      "metadata": {
        "id": "hMziY9BHe6hk"
      },
      "source": [
        "**연습**\n",
        "\n",
        "```\n",
        "arr = np.array(range(1,31)\n",
        "```\n",
        "\n",
        "1. 3의 배수 출력\n",
        "2. 3의 배수이거나 5의 배수 출력\n",
        "3. 3의 배수이고 5의 배수 출력"
      ]
    },
    {
      "cell_type": "code",
      "execution_count": null,
      "metadata": {
        "id": "s_oEILcRe6hk",
        "outputId": "f926223a-2128-4d5c-ade2-574795ea5049"
      },
      "outputs": [
        {
          "data": {
            "text/plain": [
              "array([ 1,  2,  3,  4,  5,  6,  7,  8,  9, 10, 11, 12, 13, 14, 15, 16, 17,\n",
              "       18, 19, 20, 21, 22, 23, 24, 25, 26, 27, 28, 29, 30])"
            ]
          },
          "execution_count": 104,
          "metadata": {},
          "output_type": "execute_result"
        }
      ],
      "source": [
        "arr = np.array(range(1,31))\n",
        "arr"
      ]
    },
    {
      "cell_type": "code",
      "execution_count": null,
      "metadata": {
        "id": "ibuqNrywe6hk",
        "outputId": "d6fa38b2-23c5-4177-abd7-0198f1a926aa"
      },
      "outputs": [
        {
          "data": {
            "text/plain": [
              "array([ 3,  6,  9, 12, 15, 18, 21, 24, 27, 30])"
            ]
          },
          "execution_count": 106,
          "metadata": {},
          "output_type": "execute_result"
        }
      ],
      "source": [
        "# 1\n",
        "arr[arr % 3 ==0]"
      ]
    },
    {
      "cell_type": "code",
      "execution_count": null,
      "metadata": {
        "id": "UCFIsRgie6hl",
        "outputId": "5514423c-a639-49b5-d9ac-a7c3172bd049"
      },
      "outputs": [
        {
          "data": {
            "text/plain": [
              "array([ 3,  5,  6,  9, 10, 12, 15, 18, 20, 21, 24, 25, 27, 30])"
            ]
          },
          "execution_count": 107,
          "metadata": {},
          "output_type": "execute_result"
        }
      ],
      "source": [
        "# 2\n",
        "arr[(arr % 3 ==0) | (arr % 5 == 0)]"
      ]
    },
    {
      "cell_type": "code",
      "execution_count": null,
      "metadata": {
        "id": "1W-mAXP6e6hl",
        "outputId": "a9d1b530-1cc8-4967-fb66-c58bf18e1ae4"
      },
      "outputs": [
        {
          "data": {
            "text/plain": [
              "array([15, 30])"
            ]
          },
          "execution_count": 108,
          "metadata": {},
          "output_type": "execute_result"
        }
      ],
      "source": [
        "# 3\n",
        "arr[(arr % 3 ==0) & (arr % 5 == 0)]"
      ]
    },
    {
      "cell_type": "code",
      "execution_count": null,
      "metadata": {
        "id": "iniyKIh7e6hl"
      },
      "outputs": [],
      "source": []
    }
  ],
  "metadata": {
    "celltoolbar": "Edit Metadata",
    "kernelspec": {
      "display_name": "Python 3 (ipykernel)",
      "language": "python",
      "name": "python3"
    },
    "language_info": {
      "codemirror_mode": {
        "name": "ipython",
        "version": 3
      },
      "file_extension": ".py",
      "mimetype": "text/x-python",
      "name": "python",
      "nbconvert_exporter": "python",
      "pygments_lexer": "ipython3",
      "version": "3.11.5"
    },
    "colab": {
      "provenance": [],
      "include_colab_link": true
    }
  },
  "nbformat": 4,
  "nbformat_minor": 0
}