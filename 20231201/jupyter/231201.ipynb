{
 "cells": [
  {
   "cell_type": "code",
   "execution_count": 8,
   "id": "a912ed57",
   "metadata": {},
   "outputs": [
    {
     "data": {
      "text/plain": [
       "45"
      ]
     },
     "execution_count": 8,
     "metadata": {},
     "output_type": "execute_result"
    }
   ],
   "source": [
    "person = {'name':'홍길동', 'pay':350, 'age':45}\n",
    "person['age']"
   ]
  },
  {
   "cell_type": "code",
   "execution_count": 11,
   "id": "ada935d6",
   "metadata": {},
   "outputs": [
    {
     "data": {
      "text/plain": [
       "{'name': '홍길동', 'pay': 350, 'age': 45, 'email': b'hong@email.com'}"
      ]
     },
     "execution_count": 11,
     "metadata": {},
     "output_type": "execute_result"
    }
   ],
   "source": [
    "person['email'] = b'hong@email.com'\n",
    "person"
   ]
  },
  {
   "cell_type": "code",
   "execution_count": 13,
   "id": "086313c3",
   "metadata": {},
   "outputs": [
    {
     "name": "stdout",
     "output_type": "stream",
     "text": [
      "45\n"
     ]
    }
   ],
   "source": [
    "if 'age' in person :\n",
    "    print(person['age'])"
   ]
  },
  {
   "cell_type": "code",
   "execution_count": 14,
   "id": "7ba8218a",
   "metadata": {},
   "outputs": [
    {
     "data": {
      "text/plain": [
       "dict_keys(['name', 'pay', 'age', 'email'])"
      ]
     },
     "execution_count": 14,
     "metadata": {},
     "output_type": "execute_result"
    }
   ],
   "source": [
    "person.keys()"
   ]
  },
  {
   "cell_type": "code",
   "execution_count": 16,
   "id": "710884bc",
   "metadata": {},
   "outputs": [
    {
     "name": "stdout",
     "output_type": "stream",
     "text": [
      "name 홍길동\n",
      "pay 350\n",
      "age 45\n",
      "email b'hong@email.com'\n"
     ]
    }
   ],
   "source": [
    "for key in person.keys() :\n",
    "    print(key, person[key])"
   ]
  },
  {
   "cell_type": "code",
   "execution_count": 17,
   "id": "ab781e81",
   "metadata": {
    "scrolled": false
   },
   "outputs": [
    {
     "name": "stdout",
     "output_type": "stream",
     "text": [
      "홍길동\n",
      "350\n",
      "45\n",
      "b'hong@email.com'\n"
     ]
    }
   ],
   "source": [
    "for v in person.values() :\n",
    "    print(v)"
   ]
  },
  {
   "cell_type": "code",
   "execution_count": 18,
   "id": "e960ab44",
   "metadata": {
    "scrolled": true
   },
   "outputs": [
    {
     "name": "stdout",
     "output_type": "stream",
     "text": [
      "('name', '홍길동')\n",
      "('pay', 350)\n",
      "('age', 45)\n",
      "('email', b'hong@email.com')\n"
     ]
    }
   ],
   "source": [
    "for item in person.items() :\n",
    "    print(item)"
   ]
  },
  {
   "cell_type": "code",
   "execution_count": 20,
   "id": "f5f7277b",
   "metadata": {},
   "outputs": [
    {
     "name": "stdout",
     "output_type": "stream",
     "text": [
      "name 홍길동\n",
      "pay 350\n",
      "age 45\n",
      "email b'hong@email.com'\n"
     ]
    }
   ],
   "source": [
    "for k, v in person.items() :\n",
    "    print(k, v)"
   ]
  },
  {
   "cell_type": "code",
   "execution_count": 22,
   "id": "1d147d4a",
   "metadata": {},
   "outputs": [
    {
     "data": {
      "text/plain": [
       "('홍길동', '홍길동')"
      ]
     },
     "execution_count": 22,
     "metadata": {},
     "output_type": "execute_result"
    }
   ],
   "source": [
    "person['name'], person.get('name')"
   ]
  },
  {
   "cell_type": "code",
   "execution_count": 24,
   "id": "a09a4509",
   "metadata": {},
   "outputs": [
    {
     "name": "stdout",
     "output_type": "stream",
     "text": [
      "None\n"
     ]
    }
   ],
   "source": [
    "print(person.get('n'))"
   ]
  },
  {
   "cell_type": "code",
   "execution_count": 25,
   "id": "eda389b2",
   "metadata": {},
   "outputs": [
    {
     "data": {
      "text/plain": [
       "{}"
      ]
     },
     "execution_count": 25,
     "metadata": {},
     "output_type": "execute_result"
    }
   ],
   "source": [
    "person.clear()\n",
    "person"
   ]
  },
  {
   "cell_type": "code",
   "execution_count": 26,
   "id": "340e26fe",
   "metadata": {},
   "outputs": [
    {
     "data": {
      "text/plain": [
       "{'광해': [9.24, 1200], '공작': [7.86, 500], '관상': [8.01, 900]}"
      ]
     },
     "execution_count": 26,
     "metadata": {},
     "output_type": "execute_result"
    }
   ],
   "source": [
    "movie = {\n",
    "    '광해':[9.24, 1200],\n",
    "    '공작':[7.86, 500],\n",
    "    '관상':[8.01, 900],\n",
    "}\n",
    "movie"
   ]
  },
  {
   "cell_type": "code",
   "execution_count": 28,
   "id": "a8387d4b",
   "metadata": {},
   "outputs": [
    {
     "name": "stdout",
     "output_type": "stream",
     "text": [
      "[9.24, 1200]\n",
      "[7.86, 500]\n",
      "[8.01, 900]\n"
     ]
    }
   ],
   "source": [
    "for item in movie.items() :\n",
    "    print(item[1])"
   ]
  },
  {
   "cell_type": "code",
   "execution_count": 30,
   "id": "b799df3c",
   "metadata": {},
   "outputs": [
    {
     "name": "stdout",
     "output_type": "stream",
     "text": [
      "[9.24, 1200]\n",
      "[7.86, 500]\n",
      "[8.01, 900]\n"
     ]
    }
   ],
   "source": [
    "for k, v in movie.items() :\n",
    "    print(v)"
   ]
  },
  {
   "cell_type": "markdown",
   "id": "842bb729",
   "metadata": {},
   "source": [
    "###  문) 평점 8 이상인 영화 제목과 누적관객수 출력하기"
   ]
  },
  {
   "cell_type": "code",
   "execution_count": 33,
   "id": "da9912a0",
   "metadata": {},
   "outputs": [
    {
     "data": {
      "text/plain": [
       "(['광해', '관상'], 2100)"
      ]
     },
     "execution_count": 33,
     "metadata": {},
     "output_type": "execute_result"
    }
   ],
   "source": [
    "tot = 0\n",
    "title = []\n",
    "for k, v in movie.items() :\n",
    "    if v[0] >= 8 :\n",
    "        tot += v[1]\n",
    "        title.append(k)\n",
    "title, tot"
   ]
  },
  {
   "cell_type": "markdown",
   "id": "7ecafb5f",
   "metadata": {},
   "source": [
    "### 단어 수 세기"
   ]
  },
  {
   "cell_type": "code",
   "execution_count": 41,
   "id": "0d3522e6",
   "metadata": {},
   "outputs": [
    {
     "data": {
      "text/plain": [
       "{'code': 1, 'band': 3, 'abc': 2}"
      ]
     },
     "execution_count": 41,
     "metadata": {},
     "output_type": "execute_result"
    }
   ],
   "source": [
    "charset = ['abc', 'code', 'band', 'band', 'abc', 'band']\n",
    "words = {}\n",
    "\n",
    "char = list(set(charset))\n",
    "for i in range(len(char)) :\n",
    "    words[char[i]] = charset.count(char[i])\n",
    "words"
   ]
  },
  {
   "cell_type": "code",
   "execution_count": 42,
   "id": "bb877bad",
   "metadata": {},
   "outputs": [
    {
     "data": {
      "text/plain": [
       "{'abc': 2, 'code': 1, 'band': 3}"
      ]
     },
     "execution_count": 42,
     "metadata": {},
     "output_type": "execute_result"
    }
   ],
   "source": [
    "charset = ['abc', 'code', 'band', 'band', 'abc', 'band']\n",
    "words = {}\n",
    "\n",
    "for w in charset :\n",
    "    if w in words :\n",
    "        words[w] += 1\n",
    "    else :\n",
    "        words[w] = 1\n",
    "words"
   ]
  },
  {
   "cell_type": "code",
   "execution_count": 46,
   "id": "f5b2adcd",
   "metadata": {},
   "outputs": [
    {
     "data": {
      "text/plain": [
       "{'abc': 2, 'code': 1, 'band': 3}"
      ]
     },
     "execution_count": 46,
     "metadata": {},
     "output_type": "execute_result"
    }
   ],
   "source": [
    "charset = ['abc', 'code', 'band', 'band', 'abc', 'band']\n",
    "words = {}\n",
    "\n",
    "for w in charset :\n",
    "    words[w] = words.get(w, 0) + 1\n",
    "words"
   ]
  },
  {
   "cell_type": "markdown",
   "id": "e4dc7adf",
   "metadata": {},
   "source": [
    "### 글자 수 세기"
   ]
  },
  {
   "cell_type": "code",
   "execution_count": 40,
   "id": "1e59a71d",
   "metadata": {},
   "outputs": [
    {
     "data": {
      "text/plain": [
       "{'c': 3, 'n': 3, 'a': 5, 'e': 1, 'o': 1, 'b': 5, 'd': 4}"
      ]
     },
     "execution_count": 40,
     "metadata": {},
     "output_type": "execute_result"
    }
   ],
   "source": [
    "charset = ['abc', 'code', 'band', 'band', 'abc', 'band']\n",
    "char = ''.join(charset)\n",
    "a = {}\n",
    "\n",
    "c = list(set(char))\n",
    "for i in range(len(c)) :\n",
    "    a[c[i]] = char.count(c[i])\n",
    "a"
   ]
  },
  {
   "cell_type": "code",
   "execution_count": 47,
   "id": "e16dfe9c",
   "metadata": {},
   "outputs": [
    {
     "data": {
      "text/plain": [
       "{'a': 5, 'b': 5, 'c': 3, 'o': 1, 'd': 4, 'e': 1, 'n': 3}"
      ]
     },
     "execution_count": 47,
     "metadata": {},
     "output_type": "execute_result"
    }
   ],
   "source": [
    "charset = ['abc', 'code', 'band', 'band', 'abc', 'band']\n",
    "a = {}\n",
    "\n",
    "for w in ''.join(charset) :\n",
    "    a[w] = a.get(w, 0) + 1\n",
    "a"
   ]
  },
  {
   "cell_type": "code",
   "execution_count": 54,
   "id": "104637a8",
   "metadata": {},
   "outputs": [
    {
     "name": "stdout",
     "output_type": "stream",
     "text": [
      "2399440799872 2399440799872 2399444010752\n",
      "True False False\n"
     ]
    }
   ],
   "source": [
    "a = [1, 2, 3]\n",
    "b = a # 참조\n",
    "c = a[:] # 복사\n",
    "print(id(a), id(b), id(c))\n",
    "print(id(a)==id(b), id(a)==id(c), id(b)==id(c))"
   ]
  },
  {
   "cell_type": "code",
   "execution_count": 56,
   "id": "c26501b2",
   "metadata": {},
   "outputs": [
    {
     "name": "stdout",
     "output_type": "stream",
     "text": [
      "2399440799872 2399444010752 2399442076096\n",
      "False False\n"
     ]
    }
   ],
   "source": [
    "d = a.copy()\n",
    "print(id(a), id(c), id(d))\n",
    "print(id(a)==id(d), id(c)==id(d))"
   ]
  },
  {
   "cell_type": "markdown",
   "id": "5c7d7308",
   "metadata": {},
   "source": [
    "# 깊은 복사"
   ]
  },
  {
   "cell_type": "code",
   "execution_count": 64,
   "id": "38df29b9",
   "metadata": {},
   "outputs": [
    {
     "data": {
      "text/plain": [
       "('aaa', 'aaa')"
      ]
     },
     "execution_count": 64,
     "metadata": {},
     "output_type": "execute_result"
    }
   ],
   "source": [
    "a[0] = ['a', 'b', 'c']\n",
    "b = a[:]\n",
    "a[0][0] = 'aaa' # b[0][0]도 동시에 변경\n",
    "a[0][0], b[0][0] # 2차원 이상은 깊은 복사 필요"
   ]
  },
  {
   "cell_type": "code",
   "execution_count": 67,
   "id": "0ffc5e85",
   "metadata": {},
   "outputs": [
    {
     "data": {
      "text/plain": [
       "([['aaa', 'b', 'c'], 2, 3], [['a', 'b', 'c'], 2, 3])"
      ]
     },
     "execution_count": 67,
     "metadata": {},
     "output_type": "execute_result"
    }
   ],
   "source": [
    "import copy\n",
    "\n",
    "b = copy.deepcopy(a) # 깊은 복사\n",
    "b[0][0] = 'a'\n",
    "a, b"
   ]
  },
  {
   "cell_type": "code",
   "execution_count": 104,
   "id": "ed006b6b",
   "metadata": {},
   "outputs": [
    {
     "data": {
      "text/plain": [
       "[82, 15, 4, 95, 36, 32, 29, 18, 95, 14]"
      ]
     },
     "execution_count": 104,
     "metadata": {},
     "output_type": "execute_result"
    }
   ],
   "source": [
    "import random\n",
    "\n",
    "dataset = []\n",
    "random.seed(42)\n",
    "for i in range(10) :\n",
    "    r = random.randint(1, 100)\n",
    "    dataset.append(r)\n",
    "dataset"
   ]
  },
  {
   "cell_type": "code",
   "execution_count": 79,
   "id": "a01f89a7",
   "metadata": {},
   "outputs": [
    {
     "data": {
      "text/plain": [
       "(95, 4)"
      ]
     },
     "execution_count": 79,
     "metadata": {},
     "output_type": "execute_result"
    }
   ],
   "source": [
    "max_num = min_num = dataset[0]\n",
    "for i in dataset :\n",
    "    if max_num < i :\n",
    "        max_num = i\n",
    "    if min_num > i :\n",
    "        min_num = i\n",
    "max_num, min_num"
   ]
  },
  {
   "cell_type": "code",
   "execution_count": 72,
   "id": "ca5e794d",
   "metadata": {},
   "outputs": [
    {
     "data": {
      "text/plain": [
       "(95, 4)"
      ]
     },
     "execution_count": 72,
     "metadata": {},
     "output_type": "execute_result"
    }
   ],
   "source": [
    "max(dataset), min(dataset)"
   ]
  },
  {
   "cell_type": "code",
   "execution_count": 81,
   "id": "a770354c",
   "metadata": {},
   "outputs": [
    {
     "data": {
      "text/plain": [
       "[4, 14, 15, 18, 29, 32, 36, 82, 95, 95]"
      ]
     },
     "execution_count": 81,
     "metadata": {},
     "output_type": "execute_result"
    }
   ],
   "source": [
    "dataset.sort()\n",
    "dataset"
   ]
  },
  {
   "cell_type": "code",
   "execution_count": 82,
   "id": "22dcefc6",
   "metadata": {},
   "outputs": [
    {
     "data": {
      "text/plain": [
       "[95, 95, 82, 36, 32, 29, 18, 15, 14, 4]"
      ]
     },
     "execution_count": 82,
     "metadata": {},
     "output_type": "execute_result"
    }
   ],
   "source": [
    "dataset.sort(reverse=True)\n",
    "dataset"
   ]
  },
  {
   "cell_type": "code",
   "execution_count": 91,
   "id": "8152b6ab",
   "metadata": {},
   "outputs": [
    {
     "data": {
      "text/plain": [
       "['ArithmeticError',\n",
       " 'AssertionError',\n",
       " 'AttributeError',\n",
       " 'BaseException',\n",
       " 'BlockingIOError',\n",
       " 'BrokenPipeError',\n",
       " 'BufferError',\n",
       " 'BytesWarning',\n",
       " 'ChildProcessError',\n",
       " 'ConnectionAbortedError',\n",
       " 'ConnectionError',\n",
       " 'ConnectionRefusedError',\n",
       " 'ConnectionResetError',\n",
       " 'DeprecationWarning',\n",
       " 'EOFError',\n",
       " 'Ellipsis',\n",
       " 'EnvironmentError',\n",
       " 'Exception',\n",
       " 'False',\n",
       " 'FileExistsError',\n",
       " 'FileNotFoundError',\n",
       " 'FloatingPointError',\n",
       " 'FutureWarning',\n",
       " 'GeneratorExit',\n",
       " 'IOError',\n",
       " 'ImportError',\n",
       " 'ImportWarning',\n",
       " 'IndentationError',\n",
       " 'IndexError',\n",
       " 'InterruptedError',\n",
       " 'IsADirectoryError',\n",
       " 'KeyError',\n",
       " 'KeyboardInterrupt',\n",
       " 'LookupError',\n",
       " 'MemoryError',\n",
       " 'ModuleNotFoundError',\n",
       " 'NameError',\n",
       " 'None',\n",
       " 'NotADirectoryError',\n",
       " 'NotImplemented',\n",
       " 'NotImplementedError',\n",
       " 'OSError',\n",
       " 'OverflowError',\n",
       " 'PendingDeprecationWarning',\n",
       " 'PermissionError',\n",
       " 'ProcessLookupError',\n",
       " 'RecursionError',\n",
       " 'ReferenceError',\n",
       " 'ResourceWarning',\n",
       " 'RuntimeError',\n",
       " 'RuntimeWarning',\n",
       " 'StopAsyncIteration',\n",
       " 'StopIteration',\n",
       " 'SyntaxError',\n",
       " 'SyntaxWarning',\n",
       " 'SystemError',\n",
       " 'SystemExit',\n",
       " 'TabError',\n",
       " 'TimeoutError',\n",
       " 'True',\n",
       " 'TypeError',\n",
       " 'UnboundLocalError',\n",
       " 'UnicodeDecodeError',\n",
       " 'UnicodeEncodeError',\n",
       " 'UnicodeError',\n",
       " 'UnicodeTranslateError',\n",
       " 'UnicodeWarning',\n",
       " 'UserWarning',\n",
       " 'ValueError',\n",
       " 'Warning',\n",
       " 'WindowsError',\n",
       " 'ZeroDivisionError',\n",
       " '__IPYTHON__',\n",
       " '__build_class__',\n",
       " '__debug__',\n",
       " '__doc__',\n",
       " '__import__',\n",
       " '__loader__',\n",
       " '__name__',\n",
       " '__package__',\n",
       " '__spec__',\n",
       " 'abs',\n",
       " 'all',\n",
       " 'any',\n",
       " 'ascii',\n",
       " 'bin',\n",
       " 'bool',\n",
       " 'breakpoint',\n",
       " 'bytearray',\n",
       " 'bytes',\n",
       " 'callable',\n",
       " 'chr',\n",
       " 'classmethod',\n",
       " 'compile',\n",
       " 'complex',\n",
       " 'copyright',\n",
       " 'credits',\n",
       " 'delattr',\n",
       " 'dict',\n",
       " 'dir',\n",
       " 'display',\n",
       " 'divmod',\n",
       " 'enumerate',\n",
       " 'eval',\n",
       " 'exec',\n",
       " 'execfile',\n",
       " 'filter',\n",
       " 'float',\n",
       " 'format',\n",
       " 'frozenset',\n",
       " 'get_ipython',\n",
       " 'getattr',\n",
       " 'globals',\n",
       " 'hasattr',\n",
       " 'hash',\n",
       " 'help',\n",
       " 'hex',\n",
       " 'id',\n",
       " 'input',\n",
       " 'int',\n",
       " 'isinstance',\n",
       " 'issubclass',\n",
       " 'iter',\n",
       " 'len',\n",
       " 'license',\n",
       " 'list',\n",
       " 'locals',\n",
       " 'map',\n",
       " 'max',\n",
       " 'memoryview',\n",
       " 'min',\n",
       " 'next',\n",
       " 'object',\n",
       " 'oct',\n",
       " 'open',\n",
       " 'ord',\n",
       " 'pow',\n",
       " 'print',\n",
       " 'property',\n",
       " 'range',\n",
       " 'repr',\n",
       " 'reversed',\n",
       " 'round',\n",
       " 'runfile',\n",
       " 'set',\n",
       " 'setattr',\n",
       " 'slice',\n",
       " 'sorted',\n",
       " 'staticmethod',\n",
       " 'str',\n",
       " 'sum',\n",
       " 'super',\n",
       " 'tuple',\n",
       " 'type',\n",
       " 'vars',\n",
       " 'zip']"
      ]
     },
     "execution_count": 91,
     "metadata": {},
     "output_type": "execute_result"
    }
   ],
   "source": [
    "import builtins\n",
    "dir(builtins)"
   ]
  },
  {
   "cell_type": "code",
   "execution_count": 95,
   "id": "05f7dcfd",
   "metadata": {},
   "outputs": [
    {
     "data": {
      "text/plain": [
       "(42, 30.5)"
      ]
     },
     "execution_count": 95,
     "metadata": {},
     "output_type": "execute_result"
    }
   ],
   "source": [
    "import statistics as stat\n",
    "\n",
    "stat.mean(dataset), stat.median(dataset)"
   ]
  },
  {
   "cell_type": "code",
   "execution_count": 96,
   "id": "da4720b2",
   "metadata": {},
   "outputs": [
    {
     "data": {
      "text/plain": [
       "(1228.4444444444443, 35.04917180825311)"
      ]
     },
     "execution_count": 96,
     "metadata": {},
     "output_type": "execute_result"
    }
   ],
   "source": [
    "from statistics import variance, stdev\n",
    "\n",
    "variance(dataset), stdev(dataset)"
   ]
  },
  {
   "cell_type": "code",
   "execution_count": 105,
   "id": "200f5b0b",
   "metadata": {},
   "outputs": [
    {
     "data": {
      "text/plain": [
       "33.250563904992646"
      ]
     },
     "execution_count": 105,
     "metadata": {},
     "output_type": "execute_result"
    }
   ],
   "source": [
    "import numpy as np\n",
    "\n",
    "np.sqrt(np.var(dataset))"
   ]
  },
  {
   "cell_type": "code",
   "execution_count": 106,
   "id": "3962cf2f",
   "metadata": {},
   "outputs": [],
   "source": [
    "import pandas as pd"
   ]
  },
  {
   "cell_type": "code",
   "execution_count": 107,
   "id": "7c5496d0",
   "metadata": {},
   "outputs": [
    {
     "data": {
      "text/plain": [
       "<zip at 0x22eab9baac0>"
      ]
     },
     "execution_count": 107,
     "metadata": {},
     "output_type": "execute_result"
    }
   ],
   "source": [
    "a = ['a', 'b', 'c']\n",
    "b = [1, 2, 3]\n",
    "zip(a, b)"
   ]
  },
  {
   "cell_type": "code",
   "execution_count": 109,
   "id": "175bf4c7",
   "metadata": {},
   "outputs": [
    {
     "data": {
      "text/plain": [
       "{'a': 1, 'b': 2, 'c': 3}"
      ]
     },
     "execution_count": 109,
     "metadata": {},
     "output_type": "execute_result"
    }
   ],
   "source": [
    "dict(list(zip(a, b)))"
   ]
  },
  {
   "cell_type": "code",
   "execution_count": 110,
   "id": "620dd9c8",
   "metadata": {},
   "outputs": [
    {
     "data": {
      "text/plain": [
       "{'a': [1, 1], 'b': [2, 2], 'c': [3, 3]}"
      ]
     },
     "execution_count": 110,
     "metadata": {},
     "output_type": "execute_result"
    }
   ],
   "source": [
    "a = ['a', 'b', 'c']\n",
    "b = [[1, 1], [2, 2], [3, 3]]\n",
    "dict(list(zip(a, b)))"
   ]
  },
  {
   "cell_type": "code",
   "execution_count": 111,
   "id": "c9bae91e",
   "metadata": {},
   "outputs": [],
   "source": [
    "def func1() :\n",
    "    print('func1')"
   ]
  },
  {
   "cell_type": "code",
   "execution_count": 112,
   "id": "61789280",
   "metadata": {},
   "outputs": [
    {
     "name": "stdout",
     "output_type": "stream",
     "text": [
      "func1\n"
     ]
    }
   ],
   "source": [
    "func1()"
   ]
  },
  {
   "cell_type": "code",
   "execution_count": 114,
   "id": "20d54a99",
   "metadata": {},
   "outputs": [
    {
     "name": "stdout",
     "output_type": "stream",
     "text": [
      "5\n"
     ]
    }
   ],
   "source": [
    "def func1(n) :\n",
    "    print(n)\n",
    "\n",
    "func1(5)"
   ]
  },
  {
   "cell_type": "code",
   "execution_count": 115,
   "id": "a79c728d",
   "metadata": {},
   "outputs": [
    {
     "name": "stdout",
     "output_type": "stream",
     "text": [
      "15\n"
     ]
    }
   ],
   "source": [
    "def func1(x, y) :\n",
    "    z = x + y\n",
    "    print(z)\n",
    "\n",
    "func1(5, 10)"
   ]
  },
  {
   "cell_type": "code",
   "execution_count": 117,
   "id": "f499bc62",
   "metadata": {},
   "outputs": [],
   "source": [
    "def refFunc(x) :\n",
    "    pass"
   ]
  },
  {
   "cell_type": "code",
   "execution_count": 118,
   "id": "529e37b8",
   "metadata": {},
   "outputs": [],
   "source": [
    "l = [1, 2, 3]\n",
    "refFunc(l)"
   ]
  },
  {
   "cell_type": "code",
   "execution_count": 119,
   "id": "e6a5c881",
   "metadata": {},
   "outputs": [
    {
     "data": {
      "text/plain": [
       "100"
      ]
     },
     "execution_count": 119,
     "metadata": {},
     "output_type": "execute_result"
    }
   ],
   "source": [
    "def refFunc(x) :\n",
    "    x[0] = 100\n",
    "\n",
    "refFunc(l)\n",
    "l[0]"
   ]
  },
  {
   "cell_type": "code",
   "execution_count": 120,
   "id": "0e10eca6",
   "metadata": {},
   "outputs": [
    {
     "data": {
      "text/plain": [
       "1"
      ]
     },
     "execution_count": 120,
     "metadata": {},
     "output_type": "execute_result"
    }
   ],
   "source": [
    "l = [1, 2, 3]\n",
    "refFunc(l[:])\n",
    "l[0]"
   ]
  },
  {
   "cell_type": "code",
   "execution_count": 121,
   "id": "4188f76b",
   "metadata": {},
   "outputs": [],
   "source": [
    "def calc(x, y) :\n",
    "    add = x + y\n",
    "    sub = x - y\n",
    "    mul = x * y\n",
    "    div = x / y\n",
    "    return add, sub, mul, div # 튜플"
   ]
  },
  {
   "cell_type": "code",
   "execution_count": 122,
   "id": "cb27fa16",
   "metadata": {},
   "outputs": [
    {
     "data": {
      "text/plain": [
       "(15, 5, 50, 2.0)"
      ]
     },
     "execution_count": 122,
     "metadata": {},
     "output_type": "execute_result"
    }
   ],
   "source": [
    "calc(10, 5) # 튜플"
   ]
  },
  {
   "cell_type": "code",
   "execution_count": 124,
   "id": "795f0651",
   "metadata": {},
   "outputs": [
    {
     "name": "stdout",
     "output_type": "stream",
     "text": [
      "(15, 5, 50, 2.0)\n",
      "15 5 50 2.0\n"
     ]
    }
   ],
   "source": [
    "rs = calc(10, 5)\n",
    "add, sub, mul, div = calc(10, 5)\n",
    "\n",
    "print(rs)\n",
    "print(add, sub, mul, div)"
   ]
  },
  {
   "cell_type": "code",
   "execution_count": 126,
   "id": "709af1d0",
   "metadata": {},
   "outputs": [
    {
     "data": {
      "text/plain": [
       "(15, 15)"
      ]
     },
     "execution_count": 126,
     "metadata": {},
     "output_type": "execute_result"
    }
   ],
   "source": [
    "rs[0], add"
   ]
  }
 ],
 "metadata": {
  "kernelspec": {
   "display_name": "Python 3 (ipykernel)",
   "language": "python",
   "name": "python3"
  },
  "language_info": {
   "codemirror_mode": {
    "name": "ipython",
    "version": 3
   },
   "file_extension": ".py",
   "mimetype": "text/x-python",
   "name": "python",
   "nbconvert_exporter": "python",
   "pygments_lexer": "ipython3",
   "version": "3.9.13"
  }
 },
 "nbformat": 4,
 "nbformat_minor": 5
}
