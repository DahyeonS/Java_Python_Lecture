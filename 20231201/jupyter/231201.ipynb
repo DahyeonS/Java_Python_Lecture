{
 "cells": [
  {
   "cell_type": "code",
   "execution_count": 8,
   "id": "f11c6c83",
   "metadata": {},
   "outputs": [
    {
     "data": {
      "text/plain": [
       "45"
      ]
     },
     "execution_count": 8,
     "metadata": {},
     "output_type": "execute_result"
    }
   ],
   "source": [
    "person = {'name':'홍길동', 'pay':350, 'age':45}\n",
    "person['age']"
   ]
  },
  {
   "cell_type": "code",
   "execution_count": 11,
   "id": "4f9ca838",
   "metadata": {},
   "outputs": [
    {
     "data": {
      "text/plain": [
       "{'name': '홍길동', 'pay': 350, 'age': 45, 'email': b'hong@email.com'}"
      ]
     },
     "execution_count": 11,
     "metadata": {},
     "output_type": "execute_result"
    }
   ],
   "source": [
    "person['email'] = b'hong@email.com'\n",
    "person"
   ]
  },
  {
   "cell_type": "code",
   "execution_count": 13,
   "id": "e1f504e6",
   "metadata": {},
   "outputs": [
    {
     "name": "stdout",
     "output_type": "stream",
     "text": [
      "45\n"
     ]
    }
   ],
   "source": [
    "if 'age' in person :\n",
    "    print(person['age'])"
   ]
  },
  {
   "cell_type": "code",
   "execution_count": 14,
   "id": "91f5fd90",
   "metadata": {},
   "outputs": [
    {
     "data": {
      "text/plain": [
       "dict_keys(['name', 'pay', 'age', 'email'])"
      ]
     },
     "execution_count": 14,
     "metadata": {},
     "output_type": "execute_result"
    }
   ],
   "source": [
    "person.keys()"
   ]
  },
  {
   "cell_type": "code",
   "execution_count": 16,
   "id": "d872fe28",
   "metadata": {},
   "outputs": [
    {
     "name": "stdout",
     "output_type": "stream",
     "text": [
      "name 홍길동\n",
      "pay 350\n",
      "age 45\n",
      "email b'hong@email.com'\n"
     ]
    }
   ],
   "source": [
    "for key in person.keys() :\n",
    "    print(key, person[key])"
   ]
  },
  {
   "cell_type": "code",
   "execution_count": 17,
   "id": "cd5e0a74",
   "metadata": {
    "scrolled": false
   },
   "outputs": [
    {
     "name": "stdout",
     "output_type": "stream",
     "text": [
      "홍길동\n",
      "350\n",
      "45\n",
      "b'hong@email.com'\n"
     ]
    }
   ],
   "source": [
    "for v in person.values() :\n",
    "    print(v)"
   ]
  },
  {
   "cell_type": "code",
   "execution_count": 18,
   "id": "7b37e77b",
   "metadata": {
    "scrolled": true
   },
   "outputs": [
    {
     "name": "stdout",
     "output_type": "stream",
     "text": [
      "('name', '홍길동')\n",
      "('pay', 350)\n",
      "('age', 45)\n",
      "('email', b'hong@email.com')\n"
     ]
    }
   ],
   "source": [
    "for item in person.items() :\n",
    "    print(item)"
   ]
  },
  {
   "cell_type": "code",
   "execution_count": 20,
   "id": "f6a46dce",
   "metadata": {},
   "outputs": [
    {
     "name": "stdout",
     "output_type": "stream",
     "text": [
      "name 홍길동\n",
      "pay 350\n",
      "age 45\n",
      "email b'hong@email.com'\n"
     ]
    }
   ],
   "source": [
    "for k, v in person.items() :\n",
    "    print(k, v)"
   ]
  },
  {
   "cell_type": "code",
   "execution_count": 22,
   "id": "1427862f",
   "metadata": {},
   "outputs": [
    {
     "data": {
      "text/plain": [
       "('홍길동', '홍길동')"
      ]
     },
     "execution_count": 22,
     "metadata": {},
     "output_type": "execute_result"
    }
   ],
   "source": [
    "person['name'], person.get('name')"
   ]
  },
  {
   "cell_type": "code",
   "execution_count": 24,
   "id": "ab237f5e",
   "metadata": {},
   "outputs": [
    {
     "name": "stdout",
     "output_type": "stream",
     "text": [
      "None\n"
     ]
    }
   ],
   "source": [
    "print(person.get('n'))"
   ]
  },
  {
   "cell_type": "code",
   "execution_count": 25,
   "id": "5ea2ccec",
   "metadata": {},
   "outputs": [
    {
     "data": {
      "text/plain": [
       "{}"
      ]
     },
     "execution_count": 25,
     "metadata": {},
     "output_type": "execute_result"
    }
   ],
   "source": [
    "person.clear()\n",
    "person"
   ]
  },
  {
   "cell_type": "code",
   "execution_count": 26,
   "id": "bc7b2d47",
   "metadata": {},
   "outputs": [
    {
     "data": {
      "text/plain": [
       "{'광해': [9.24, 1200], '공작': [7.86, 500], '관상': [8.01, 900]}"
      ]
     },
     "execution_count": 26,
     "metadata": {},
     "output_type": "execute_result"
    }
   ],
   "source": [
    "movie = {\n",
    "    '광해':[9.24, 1200],\n",
    "    '공작':[7.86, 500],\n",
    "    '관상':[8.01, 900],\n",
    "}\n",
    "movie"
   ]
  },
  {
   "cell_type": "code",
   "execution_count": 28,
   "id": "409f9c97",
   "metadata": {},
   "outputs": [
    {
     "name": "stdout",
     "output_type": "stream",
     "text": [
      "[9.24, 1200]\n",
      "[7.86, 500]\n",
      "[8.01, 900]\n"
     ]
    }
   ],
   "source": [
    "for item in movie.items() :\n",
    "    print(item[1])"
   ]
  },
  {
   "cell_type": "code",
   "execution_count": 30,
   "id": "3fe89d1a",
   "metadata": {},
   "outputs": [
    {
     "name": "stdout",
     "output_type": "stream",
     "text": [
      "[9.24, 1200]\n",
      "[7.86, 500]\n",
      "[8.01, 900]\n"
     ]
    }
   ],
   "source": [
    "for k, v in movie.items() :\n",
    "    print(v)"
   ]
  },
  {
   "cell_type": "markdown",
   "id": "604f44bb",
   "metadata": {},
   "source": [
    "###  문) 평점 8 이상인 영화 제목과 누적관객수 출력하기"
   ]
  },
  {
   "cell_type": "code",
   "execution_count": 33,
   "id": "1ae5bed0",
   "metadata": {},
   "outputs": [
    {
     "data": {
      "text/plain": [
       "(['광해', '관상'], 2100)"
      ]
     },
     "execution_count": 33,
     "metadata": {},
     "output_type": "execute_result"
    }
   ],
   "source": [
    "tot = 0\n",
    "title = []\n",
    "for k, v in movie.items() :\n",
    "    if v[0] >= 8 :\n",
    "        tot += v[1]\n",
    "        title.append(k)\n",
    "title, tot"
   ]
  },
  {
   "cell_type": "markdown",
   "id": "571292be",
   "metadata": {},
   "source": [
    "### 단어 수 세기"
   ]
  },
  {
   "cell_type": "code",
   "execution_count": 41,
   "id": "5b1e0fcd",
   "metadata": {},
   "outputs": [
    {
     "data": {
      "text/plain": [
       "{'code': 1, 'band': 3, 'abc': 2}"
      ]
     },
     "execution_count": 41,
     "metadata": {},
     "output_type": "execute_result"
    }
   ],
   "source": [
    "charset = ['abc', 'code', 'band', 'band', 'abc', 'band']\n",
    "words = {}\n",
    "\n",
    "char = list(set(charset))\n",
    "for i in range(len(char)) :\n",
    "    words[char[i]] = charset.count(char[i])\n",
    "words"
   ]
  },
  {
   "cell_type": "code",
   "execution_count": 42,
   "id": "71821490",
   "metadata": {},
   "outputs": [
    {
     "data": {
      "text/plain": [
       "{'abc': 2, 'code': 1, 'band': 3}"
      ]
     },
     "execution_count": 42,
     "metadata": {},
     "output_type": "execute_result"
    }
   ],
   "source": [
    "charset = ['abc', 'code', 'band', 'band', 'abc', 'band']\n",
    "words = {}\n",
    "\n",
    "for w in charset :\n",
    "    if w in words :\n",
    "        words[w] += 1\n",
    "    else :\n",
    "        words[w] = 1\n",
    "words"
   ]
  },
  {
   "cell_type": "code",
   "execution_count": 46,
   "id": "fca05a71",
   "metadata": {},
   "outputs": [
    {
     "data": {
      "text/plain": [
       "{'abc': 2, 'code': 1, 'band': 3}"
      ]
     },
     "execution_count": 46,
     "metadata": {},
     "output_type": "execute_result"
    }
   ],
   "source": [
    "charset = ['abc', 'code', 'band', 'band', 'abc', 'band']\n",
    "words = {}\n",
    "\n",
    "for w in charset :\n",
    "    words[w] = words.get(w, 0) + 1\n",
    "words"
   ]
  },
  {
   "cell_type": "markdown",
   "id": "cb91eee6",
   "metadata": {},
   "source": [
    "### 글자 수 세기"
   ]
  },
  {
   "cell_type": "code",
   "execution_count": 40,
   "id": "f613307d",
   "metadata": {},
   "outputs": [
    {
     "data": {
      "text/plain": [
       "{'c': 3, 'n': 3, 'a': 5, 'e': 1, 'o': 1, 'b': 5, 'd': 4}"
      ]
     },
     "execution_count": 40,
     "metadata": {},
     "output_type": "execute_result"
    }
   ],
   "source": [
    "charset = ['abc', 'code', 'band', 'band', 'abc', 'band']\n",
    "char = ''.join(charset)\n",
    "a = {}\n",
    "\n",
    "c = list(set(char))\n",
    "for i in range(len(c)) :\n",
    "    a[c[i]] = char.count(c[i])\n",
    "a"
   ]
  },
  {
   "cell_type": "code",
   "execution_count": 47,
   "id": "c3e20d36",
   "metadata": {},
   "outputs": [
    {
     "data": {
      "text/plain": [
       "{'a': 5, 'b': 5, 'c': 3, 'o': 1, 'd': 4, 'e': 1, 'n': 3}"
      ]
     },
     "execution_count": 47,
     "metadata": {},
     "output_type": "execute_result"
    }
   ],
   "source": [
    "charset = ['abc', 'code', 'band', 'band', 'abc', 'band']\n",
    "a = {}\n",
    "\n",
    "for w in ''.join(charset) :\n",
    "    a[w] = a.get(w, 0) + 1\n",
    "a"
   ]
  },
  {
   "cell_type": "code",
   "execution_count": 54,
   "id": "e097da81",
   "metadata": {},
   "outputs": [
    {
     "name": "stdout",
     "output_type": "stream",
     "text": [
      "2399440799872 2399440799872 2399444010752\n",
      "True False False\n"
     ]
    }
   ],
   "source": [
    "a = [1, 2, 3]\n",
    "b = a # 참조\n",
    "c = a[:] # 복사\n",
    "print(id(a), id(b), id(c))\n",
    "print(id(a)==id(b), id(a)==id(c), id(b)==id(c))"
   ]
  },
  {
   "cell_type": "code",
   "execution_count": 56,
   "id": "8c7935ec",
   "metadata": {},
   "outputs": [
    {
     "name": "stdout",
     "output_type": "stream",
     "text": [
      "2399440799872 2399444010752 2399442076096\n",
      "False False\n"
     ]
    }
   ],
   "source": [
    "d = a.copy()\n",
    "print(id(a), id(c), id(d))\n",
    "print(id(a)==id(d), id(c)==id(d))"
   ]
  },
  {
   "cell_type": "markdown",
   "id": "962c5b2a",
   "metadata": {},
   "source": [
    "# 깊은 복사"
   ]
  },
  {
   "cell_type": "code",
   "execution_count": 64,
   "id": "9cae0fd4",
   "metadata": {},
   "outputs": [
    {
     "data": {
      "text/plain": [
       "('aaa', 'aaa')"
      ]
     },
     "execution_count": 64,
     "metadata": {},
     "output_type": "execute_result"
    }
   ],
   "source": [
    "a[0] = ['a', 'b', 'c']\n",
    "b = a[:]\n",
    "a[0][0] = 'aaa' # b[0][0]도 동시에 변경\n",
    "a[0][0], b[0][0] # 2차원 이상은 깊은 복사 필요"
   ]
  },
  {
   "cell_type": "code",
   "execution_count": 67,
   "id": "4a1ffdb6",
   "metadata": {},
   "outputs": [
    {
     "data": {
      "text/plain": [
       "([['aaa', 'b', 'c'], 2, 3], [['a', 'b', 'c'], 2, 3])"
      ]
     },
     "execution_count": 67,
     "metadata": {},
     "output_type": "execute_result"
    }
   ],
   "source": [
    "import copy\n",
    "\n",
    "b = copy.deepcopy(a) # 깊은 복사\n",
    "b[0][0] = 'a'\n",
    "a, b"
   ]
  },
  {
   "cell_type": "code",
   "execution_count": 127,
   "id": "f9c13c0c",
   "metadata": {},
   "outputs": [
    {
     "data": {
      "text/plain": [
       "[82, 15, 4, 95, 36, 32, 29, 18, 95, 14]"
      ]
     },
     "execution_count": 127,
     "metadata": {},
     "output_type": "execute_result"
    }
   ],
   "source": [
    "import random\n",
    "\n",
    "dataset = []\n",
    "random.seed(42)\n",
    "for i in range(10) :\n",
    "    r = random.randint(1, 100)\n",
    "    dataset.append(r)\n",
    "dataset"
   ]
  },
  {
   "cell_type": "code",
   "execution_count": 79,
   "id": "11663e9d",
   "metadata": {},
   "outputs": [
    {
     "data": {
      "text/plain": [
       "(95, 4)"
      ]
     },
     "execution_count": 79,
     "metadata": {},
     "output_type": "execute_result"
    }
   ],
   "source": [
    "max_num = min_num = dataset[0]\n",
    "for i in dataset :\n",
    "    if max_num < i :\n",
    "        max_num = i\n",
    "    if min_num > i :\n",
    "        min_num = i\n",
    "max_num, min_num"
   ]
  },
  {
   "cell_type": "code",
   "execution_count": 72,
   "id": "1285edfc",
   "metadata": {},
   "outputs": [
    {
     "data": {
      "text/plain": [
       "(95, 4)"
      ]
     },
     "execution_count": 72,
     "metadata": {},
     "output_type": "execute_result"
    }
   ],
   "source": [
    "max(dataset), min(dataset)"
   ]
  },
  {
   "cell_type": "code",
   "execution_count": 81,
   "id": "274ec14f",
   "metadata": {},
   "outputs": [
    {
     "data": {
      "text/plain": [
       "[4, 14, 15, 18, 29, 32, 36, 82, 95, 95]"
      ]
     },
     "execution_count": 81,
     "metadata": {},
     "output_type": "execute_result"
    }
   ],
   "source": [
    "dataset.sort()\n",
    "dataset"
   ]
  },
  {
   "cell_type": "code",
   "execution_count": 82,
   "id": "ecd49700",
   "metadata": {},
   "outputs": [
    {
     "data": {
      "text/plain": [
       "[95, 95, 82, 36, 32, 29, 18, 15, 14, 4]"
      ]
     },
     "execution_count": 82,
     "metadata": {},
     "output_type": "execute_result"
    }
   ],
   "source": [
    "dataset.sort(reverse=True)\n",
    "dataset"
   ]
  },
  {
   "cell_type": "code",
   "execution_count": 91,
   "id": "8e546793",
   "metadata": {},
   "outputs": [
    {
     "data": {
      "text/plain": [
       "['ArithmeticError',\n",
       " 'AssertionError',\n",
       " 'AttributeError',\n",
       " 'BaseException',\n",
       " 'BlockingIOError',\n",
       " 'BrokenPipeError',\n",
       " 'BufferError',\n",
       " 'BytesWarning',\n",
       " 'ChildProcessError',\n",
       " 'ConnectionAbortedError',\n",
       " 'ConnectionError',\n",
       " 'ConnectionRefusedError',\n",
       " 'ConnectionResetError',\n",
       " 'DeprecationWarning',\n",
       " 'EOFError',\n",
       " 'Ellipsis',\n",
       " 'EnvironmentError',\n",
       " 'Exception',\n",
       " 'False',\n",
       " 'FileExistsError',\n",
       " 'FileNotFoundError',\n",
       " 'FloatingPointError',\n",
       " 'FutureWarning',\n",
       " 'GeneratorExit',\n",
       " 'IOError',\n",
       " 'ImportError',\n",
       " 'ImportWarning',\n",
       " 'IndentationError',\n",
       " 'IndexError',\n",
       " 'InterruptedError',\n",
       " 'IsADirectoryError',\n",
       " 'KeyError',\n",
       " 'KeyboardInterrupt',\n",
       " 'LookupError',\n",
       " 'MemoryError',\n",
       " 'ModuleNotFoundError',\n",
       " 'NameError',\n",
       " 'None',\n",
       " 'NotADirectoryError',\n",
       " 'NotImplemented',\n",
       " 'NotImplementedError',\n",
       " 'OSError',\n",
       " 'OverflowError',\n",
       " 'PendingDeprecationWarning',\n",
       " 'PermissionError',\n",
       " 'ProcessLookupError',\n",
       " 'RecursionError',\n",
       " 'ReferenceError',\n",
       " 'ResourceWarning',\n",
       " 'RuntimeError',\n",
       " 'RuntimeWarning',\n",
       " 'StopAsyncIteration',\n",
       " 'StopIteration',\n",
       " 'SyntaxError',\n",
       " 'SyntaxWarning',\n",
       " 'SystemError',\n",
       " 'SystemExit',\n",
       " 'TabError',\n",
       " 'TimeoutError',\n",
       " 'True',\n",
       " 'TypeError',\n",
       " 'UnboundLocalError',\n",
       " 'UnicodeDecodeError',\n",
       " 'UnicodeEncodeError',\n",
       " 'UnicodeError',\n",
       " 'UnicodeTranslateError',\n",
       " 'UnicodeWarning',\n",
       " 'UserWarning',\n",
       " 'ValueError',\n",
       " 'Warning',\n",
       " 'WindowsError',\n",
       " 'ZeroDivisionError',\n",
       " '__IPYTHON__',\n",
       " '__build_class__',\n",
       " '__debug__',\n",
       " '__doc__',\n",
       " '__import__',\n",
       " '__loader__',\n",
       " '__name__',\n",
       " '__package__',\n",
       " '__spec__',\n",
       " 'abs',\n",
       " 'all',\n",
       " 'any',\n",
       " 'ascii',\n",
       " 'bin',\n",
       " 'bool',\n",
       " 'breakpoint',\n",
       " 'bytearray',\n",
       " 'bytes',\n",
       " 'callable',\n",
       " 'chr',\n",
       " 'classmethod',\n",
       " 'compile',\n",
       " 'complex',\n",
       " 'copyright',\n",
       " 'credits',\n",
       " 'delattr',\n",
       " 'dict',\n",
       " 'dir',\n",
       " 'display',\n",
       " 'divmod',\n",
       " 'enumerate',\n",
       " 'eval',\n",
       " 'exec',\n",
       " 'execfile',\n",
       " 'filter',\n",
       " 'float',\n",
       " 'format',\n",
       " 'frozenset',\n",
       " 'get_ipython',\n",
       " 'getattr',\n",
       " 'globals',\n",
       " 'hasattr',\n",
       " 'hash',\n",
       " 'help',\n",
       " 'hex',\n",
       " 'id',\n",
       " 'input',\n",
       " 'int',\n",
       " 'isinstance',\n",
       " 'issubclass',\n",
       " 'iter',\n",
       " 'len',\n",
       " 'license',\n",
       " 'list',\n",
       " 'locals',\n",
       " 'map',\n",
       " 'max',\n",
       " 'memoryview',\n",
       " 'min',\n",
       " 'next',\n",
       " 'object',\n",
       " 'oct',\n",
       " 'open',\n",
       " 'ord',\n",
       " 'pow',\n",
       " 'print',\n",
       " 'property',\n",
       " 'range',\n",
       " 'repr',\n",
       " 'reversed',\n",
       " 'round',\n",
       " 'runfile',\n",
       " 'set',\n",
       " 'setattr',\n",
       " 'slice',\n",
       " 'sorted',\n",
       " 'staticmethod',\n",
       " 'str',\n",
       " 'sum',\n",
       " 'super',\n",
       " 'tuple',\n",
       " 'type',\n",
       " 'vars',\n",
       " 'zip']"
      ]
     },
     "execution_count": 91,
     "metadata": {},
     "output_type": "execute_result"
    }
   ],
   "source": [
    "import builtins\n",
    "dir(builtins)"
   ]
  },
  {
   "cell_type": "code",
   "execution_count": 95,
   "id": "a19bfcad",
   "metadata": {},
   "outputs": [
    {
     "data": {
      "text/plain": [
       "(42, 30.5)"
      ]
     },
     "execution_count": 95,
     "metadata": {},
     "output_type": "execute_result"
    }
   ],
   "source": [
    "import statistics as stat\n",
    "\n",
    "stat.mean(dataset), stat.median(dataset)"
   ]
  },
  {
   "cell_type": "code",
   "execution_count": 96,
   "id": "0b915b2a",
   "metadata": {},
   "outputs": [
    {
     "data": {
      "text/plain": [
       "(1228.4444444444443, 35.04917180825311)"
      ]
     },
     "execution_count": 96,
     "metadata": {},
     "output_type": "execute_result"
    }
   ],
   "source": [
    "from statistics import variance, stdev\n",
    "\n",
    "variance(dataset), stdev(dataset)"
   ]
  },
  {
   "cell_type": "code",
   "execution_count": 129,
   "id": "cb12bb8f",
   "metadata": {},
   "outputs": [
    {
     "data": {
      "text/plain": [
       "33.250563904992646"
      ]
     },
     "execution_count": 129,
     "metadata": {},
     "output_type": "execute_result"
    }
   ],
   "source": [
    "import numpy as np\n",
    "\n",
    "np.sqrt(np.var(dataset))"
   ]
  },
  {
   "cell_type": "code",
   "execution_count": 106,
   "id": "a1195642",
   "metadata": {},
   "outputs": [],
   "source": [
    "import pandas as pd"
   ]
  },
  {
   "cell_type": "code",
   "execution_count": 107,
   "id": "ebf23d88",
   "metadata": {},
   "outputs": [
    {
     "data": {
      "text/plain": [
       "<zip at 0x22eab9baac0>"
      ]
     },
     "execution_count": 107,
     "metadata": {},
     "output_type": "execute_result"
    }
   ],
   "source": [
    "a = ['a', 'b', 'c']\n",
    "b = [1, 2, 3]\n",
    "zip(a, b)"
   ]
  },
  {
   "cell_type": "code",
   "execution_count": 109,
   "id": "815b5394",
   "metadata": {},
   "outputs": [
    {
     "data": {
      "text/plain": [
       "{'a': 1, 'b': 2, 'c': 3}"
      ]
     },
     "execution_count": 109,
     "metadata": {},
     "output_type": "execute_result"
    }
   ],
   "source": [
    "dict(list(zip(a, b)))"
   ]
  },
  {
   "cell_type": "code",
   "execution_count": 110,
   "id": "825f1310",
   "metadata": {},
   "outputs": [
    {
     "data": {
      "text/plain": [
       "{'a': [1, 1], 'b': [2, 2], 'c': [3, 3]}"
      ]
     },
     "execution_count": 110,
     "metadata": {},
     "output_type": "execute_result"
    }
   ],
   "source": [
    "a = ['a', 'b', 'c']\n",
    "b = [[1, 1], [2, 2], [3, 3]]\n",
    "dict(list(zip(a, b)))"
   ]
  },
  {
   "cell_type": "code",
   "execution_count": 111,
   "id": "555affaa",
   "metadata": {},
   "outputs": [],
   "source": [
    "def func1() :\n",
    "    print('func1')"
   ]
  },
  {
   "cell_type": "code",
   "execution_count": 112,
   "id": "c5fa05fb",
   "metadata": {},
   "outputs": [
    {
     "name": "stdout",
     "output_type": "stream",
     "text": [
      "func1\n"
     ]
    }
   ],
   "source": [
    "func1()"
   ]
  },
  {
   "cell_type": "code",
   "execution_count": 114,
   "id": "641e78e8",
   "metadata": {},
   "outputs": [
    {
     "name": "stdout",
     "output_type": "stream",
     "text": [
      "5\n"
     ]
    }
   ],
   "source": [
    "def func1(n) :\n",
    "    print(n)\n",
    "\n",
    "func1(5)"
   ]
  },
  {
   "cell_type": "code",
   "execution_count": 115,
   "id": "1378879d",
   "metadata": {},
   "outputs": [
    {
     "name": "stdout",
     "output_type": "stream",
     "text": [
      "15\n"
     ]
    }
   ],
   "source": [
    "def func1(x, y) :\n",
    "    z = x + y\n",
    "    print(z)\n",
    "\n",
    "func1(5, 10)"
   ]
  },
  {
   "cell_type": "code",
   "execution_count": 117,
   "id": "4493f0c3",
   "metadata": {},
   "outputs": [],
   "source": [
    "def refFunc(x) :\n",
    "    pass"
   ]
  },
  {
   "cell_type": "code",
   "execution_count": 118,
   "id": "79fd4cf6",
   "metadata": {},
   "outputs": [],
   "source": [
    "l = [1, 2, 3]\n",
    "refFunc(l)"
   ]
  },
  {
   "cell_type": "code",
   "execution_count": 119,
   "id": "3247e3f1",
   "metadata": {},
   "outputs": [
    {
     "data": {
      "text/plain": [
       "100"
      ]
     },
     "execution_count": 119,
     "metadata": {},
     "output_type": "execute_result"
    }
   ],
   "source": [
    "def refFunc(x) :\n",
    "    x[0] = 100\n",
    "\n",
    "refFunc(l)\n",
    "l[0]"
   ]
  },
  {
   "cell_type": "code",
   "execution_count": 120,
   "id": "bb7cb86d",
   "metadata": {},
   "outputs": [
    {
     "data": {
      "text/plain": [
       "1"
      ]
     },
     "execution_count": 120,
     "metadata": {},
     "output_type": "execute_result"
    }
   ],
   "source": [
    "l = [1, 2, 3]\n",
    "refFunc(l[:])\n",
    "l[0]"
   ]
  },
  {
   "cell_type": "code",
   "execution_count": 121,
   "id": "6a7872b7",
   "metadata": {},
   "outputs": [],
   "source": [
    "def calc(x, y) :\n",
    "    add = x + y\n",
    "    sub = x - y\n",
    "    mul = x * y\n",
    "    div = x / y\n",
    "    return add, sub, mul, div # 튜플"
   ]
  },
  {
   "cell_type": "code",
   "execution_count": 122,
   "id": "effd856d",
   "metadata": {},
   "outputs": [
    {
     "data": {
      "text/plain": [
       "(15, 5, 50, 2.0)"
      ]
     },
     "execution_count": 122,
     "metadata": {},
     "output_type": "execute_result"
    }
   ],
   "source": [
    "calc(10, 5) # 튜플"
   ]
  },
  {
   "cell_type": "code",
   "execution_count": 124,
   "id": "37638a56",
   "metadata": {},
   "outputs": [
    {
     "name": "stdout",
     "output_type": "stream",
     "text": [
      "(15, 5, 50, 2.0)\n",
      "15 5 50 2.0\n"
     ]
    }
   ],
   "source": [
    "rs = calc(10, 5)\n",
    "add, sub, mul, div = calc(10, 5)\n",
    "\n",
    "print(rs)\n",
    "print(add, sub, mul, div)"
   ]
  },
  {
   "cell_type": "code",
   "execution_count": 126,
   "id": "310ec45a",
   "metadata": {},
   "outputs": [
    {
     "data": {
      "text/plain": [
       "(15, 15)"
      ]
     },
     "execution_count": 126,
     "metadata": {},
     "output_type": "execute_result"
    }
   ],
   "source": [
    "rs[0], add"
   ]
  },
  {
   "cell_type": "markdown",
   "id": "5d98560a",
   "metadata": {},
   "source": [
    "## 산포도"
   ]
  },
  {
   "cell_type": "code",
   "execution_count": 151,
   "id": "8e34f805",
   "metadata": {},
   "outputs": [
    {
     "data": {
      "text/plain": [
       "[-2.333333333333333,\n",
       " -0.33333333333333304,\n",
       " 0.666666666666667,\n",
       " 1.666666666666667,\n",
       " -3.333333333333333,\n",
       " 3.666666666666667]"
      ]
     },
     "execution_count": 151,
     "metadata": {},
     "output_type": "execute_result"
    }
   ],
   "source": [
    "import statistics as stat\n",
    "x = [2, 4, 5, 6, 1, 8]\n",
    "avg = stat.mean(x)\n",
    "[i - avg for i in x] # 편차"
   ]
  },
  {
   "cell_type": "code",
   "execution_count": 152,
   "id": "44e6794b",
   "metadata": {},
   "outputs": [
    {
     "data": {
      "text/plain": [
       "33.33333333333333"
      ]
     },
     "execution_count": 152,
     "metadata": {},
     "output_type": "execute_result"
    }
   ],
   "source": [
    "diff = [(i - avg)**2 for i in x]\n",
    "sum(diff)"
   ]
  },
  {
   "cell_type": "code",
   "execution_count": 153,
   "id": "912bebf8",
   "metadata": {},
   "outputs": [
    {
     "data": {
      "text/plain": [
       "6.666666666666666"
      ]
     },
     "execution_count": 153,
     "metadata": {},
     "output_type": "execute_result"
    }
   ],
   "source": [
    "var = sum(diff) / (len(x) - 1)\n",
    "var"
   ]
  },
  {
   "cell_type": "code",
   "execution_count": 154,
   "id": "ceacb9d0",
   "metadata": {},
   "outputs": [
    {
     "data": {
      "text/plain": [
       "(4.333333333333333, 2.581988897471611)"
      ]
     },
     "execution_count": 154,
     "metadata": {},
     "output_type": "execute_result"
    }
   ],
   "source": [
    "import math\n",
    "\n",
    "std = math.sqrt(var)\n",
    "avg, std"
   ]
  },
  {
   "cell_type": "code",
   "execution_count": 155,
   "id": "1e6db807",
   "metadata": {},
   "outputs": [
    {
     "data": {
      "text/plain": [
       "(6.67, 2.58)"
      ]
     },
     "execution_count": 155,
     "metadata": {},
     "output_type": "execute_result"
    }
   ],
   "source": [
    "from statistics import mean, variance\n",
    "from math import sqrt, pow\n",
    "\n",
    "def Avg(data) :\n",
    "    avg = mean(data)\n",
    "    return avg\n",
    "\n",
    "def var_sd(data) :\n",
    "    avg = Avg(data)\n",
    "    diff = [pow(d - avg, 2) for d in data]\n",
    "    var = sum(diff) / (len(data) - 1)\n",
    "    std = sqrt(var)\n",
    "    return var, std\n",
    "\n",
    "dataset = [2, 4, 5, 6, 1, 8]\n",
    "var, sd = var_sd(dataset)\n",
    "round(var, 2), round(sd, 2)"
   ]
  },
  {
   "cell_type": "markdown",
   "id": "b2f11569",
   "metadata": {},
   "source": [
    "## 피타고라스 정리 함수"
   ]
  },
  {
   "cell_type": "code",
   "execution_count": 159,
   "id": "e67a9762",
   "metadata": {},
   "outputs": [
    {
     "name": "stdout",
     "output_type": "stream",
     "text": [
      "피타고라스 정리 3변: 8 6 10\n"
     ]
    }
   ],
   "source": [
    "def pytha(s, t) :\n",
    "    a = s ** 2 - t ** 2\n",
    "    b = 2 * s * t\n",
    "    c = s ** 2 + t ** 2\n",
    "    print('피타고라스 정리 3변:', a, b, c)\n",
    "\n",
    "pytha(3, 1)"
   ]
  }
 ],
 "metadata": {
  "kernelspec": {
   "display_name": "Python 3 (ipykernel)",
   "language": "python",
   "name": "python3"
  },
  "language_info": {
   "codemirror_mode": {
    "name": "ipython",
    "version": 3
   },
   "file_extension": ".py",
   "mimetype": "text/x-python",
   "name": "python",
   "nbconvert_exporter": "python",
   "pygments_lexer": "ipython3",
   "version": "3.9.13"
  }
 },
 "nbformat": 4,
 "nbformat_minor": 5
}
