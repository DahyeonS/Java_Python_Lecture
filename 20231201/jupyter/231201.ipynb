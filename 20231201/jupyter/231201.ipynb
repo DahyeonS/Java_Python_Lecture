{
 "cells": [
  {
   "cell_type": "code",
   "execution_count": 8,
   "id": "dc47241e",
   "metadata": {},
   "outputs": [
    {
     "data": {
      "text/plain": [
       "45"
      ]
     },
     "execution_count": 8,
     "metadata": {},
     "output_type": "execute_result"
    }
   ],
   "source": [
    "person = {'name':'홍길동', 'pay':350, 'age':45}\n",
    "person['age']"
   ]
  },
  {
   "cell_type": "code",
   "execution_count": 11,
   "id": "8f1cb0c7",
   "metadata": {},
   "outputs": [
    {
     "data": {
      "text/plain": [
       "{'name': '홍길동', 'pay': 350, 'age': 45, 'email': b'hong@email.com'}"
      ]
     },
     "execution_count": 11,
     "metadata": {},
     "output_type": "execute_result"
    }
   ],
   "source": [
    "person['email'] = b'hong@email.com'\n",
    "person"
   ]
  },
  {
   "cell_type": "code",
   "execution_count": 13,
   "id": "fbaf7f8b",
   "metadata": {},
   "outputs": [
    {
     "name": "stdout",
     "output_type": "stream",
     "text": [
      "45\n"
     ]
    }
   ],
   "source": [
    "if 'age' in person :\n",
    "    print(person['age'])"
   ]
  },
  {
   "cell_type": "code",
   "execution_count": 14,
   "id": "c5f9423f",
   "metadata": {},
   "outputs": [
    {
     "data": {
      "text/plain": [
       "dict_keys(['name', 'pay', 'age', 'email'])"
      ]
     },
     "execution_count": 14,
     "metadata": {},
     "output_type": "execute_result"
    }
   ],
   "source": [
    "person.keys()"
   ]
  },
  {
   "cell_type": "code",
   "execution_count": 16,
   "id": "3d6af672",
   "metadata": {},
   "outputs": [
    {
     "name": "stdout",
     "output_type": "stream",
     "text": [
      "name 홍길동\n",
      "pay 350\n",
      "age 45\n",
      "email b'hong@email.com'\n"
     ]
    }
   ],
   "source": [
    "for key in person.keys() :\n",
    "    print(key, person[key])"
   ]
  },
  {
   "cell_type": "code",
   "execution_count": 17,
   "id": "bcfb44ef",
   "metadata": {
    "scrolled": false
   },
   "outputs": [
    {
     "name": "stdout",
     "output_type": "stream",
     "text": [
      "홍길동\n",
      "350\n",
      "45\n",
      "b'hong@email.com'\n"
     ]
    }
   ],
   "source": [
    "for v in person.values() :\n",
    "    print(v)"
   ]
  },
  {
   "cell_type": "code",
   "execution_count": 18,
   "id": "a5d551e8",
   "metadata": {
    "scrolled": true
   },
   "outputs": [
    {
     "name": "stdout",
     "output_type": "stream",
     "text": [
      "('name', '홍길동')\n",
      "('pay', 350)\n",
      "('age', 45)\n",
      "('email', b'hong@email.com')\n"
     ]
    }
   ],
   "source": [
    "for item in person.items() :\n",
    "    print(item)"
   ]
  },
  {
   "cell_type": "code",
   "execution_count": 20,
   "id": "0a454f8a",
   "metadata": {},
   "outputs": [
    {
     "name": "stdout",
     "output_type": "stream",
     "text": [
      "name 홍길동\n",
      "pay 350\n",
      "age 45\n",
      "email b'hong@email.com'\n"
     ]
    }
   ],
   "source": [
    "for k, v in person.items() :\n",
    "    print(k, v)"
   ]
  },
  {
   "cell_type": "code",
   "execution_count": 22,
   "id": "9fa7cc31",
   "metadata": {},
   "outputs": [
    {
     "data": {
      "text/plain": [
       "('홍길동', '홍길동')"
      ]
     },
     "execution_count": 22,
     "metadata": {},
     "output_type": "execute_result"
    }
   ],
   "source": [
    "person['name'], person.get('name')"
   ]
  },
  {
   "cell_type": "code",
   "execution_count": 24,
   "id": "1a2b83bc",
   "metadata": {},
   "outputs": [
    {
     "name": "stdout",
     "output_type": "stream",
     "text": [
      "None\n"
     ]
    }
   ],
   "source": [
    "print(person.get('n'))"
   ]
  },
  {
   "cell_type": "code",
   "execution_count": 25,
   "id": "3af2df53",
   "metadata": {},
   "outputs": [
    {
     "data": {
      "text/plain": [
       "{}"
      ]
     },
     "execution_count": 25,
     "metadata": {},
     "output_type": "execute_result"
    }
   ],
   "source": [
    "person.clear()\n",
    "person"
   ]
  },
  {
   "cell_type": "code",
   "execution_count": 26,
   "id": "6b11253d",
   "metadata": {},
   "outputs": [
    {
     "data": {
      "text/plain": [
       "{'광해': [9.24, 1200], '공작': [7.86, 500], '관상': [8.01, 900]}"
      ]
     },
     "execution_count": 26,
     "metadata": {},
     "output_type": "execute_result"
    }
   ],
   "source": [
    "movie = {\n",
    "    '광해':[9.24, 1200],\n",
    "    '공작':[7.86, 500],\n",
    "    '관상':[8.01, 900],\n",
    "}\n",
    "movie"
   ]
  },
  {
   "cell_type": "code",
   "execution_count": 28,
   "id": "e0a0ea95",
   "metadata": {},
   "outputs": [
    {
     "name": "stdout",
     "output_type": "stream",
     "text": [
      "[9.24, 1200]\n",
      "[7.86, 500]\n",
      "[8.01, 900]\n"
     ]
    }
   ],
   "source": [
    "for item in movie.items() :\n",
    "    print(item[1])"
   ]
  },
  {
   "cell_type": "code",
   "execution_count": 30,
   "id": "c7cb9dc2",
   "metadata": {},
   "outputs": [
    {
     "name": "stdout",
     "output_type": "stream",
     "text": [
      "[9.24, 1200]\n",
      "[7.86, 500]\n",
      "[8.01, 900]\n"
     ]
    }
   ],
   "source": [
    "for k, v in movie.items() :\n",
    "    print(v)"
   ]
  },
  {
   "cell_type": "markdown",
   "id": "5eb77254",
   "metadata": {},
   "source": [
    "###  문) 평점 8 이상인 영화 제목과 누적관객수 출력하기"
   ]
  },
  {
   "cell_type": "code",
   "execution_count": 33,
   "id": "cd88f856",
   "metadata": {},
   "outputs": [
    {
     "data": {
      "text/plain": [
       "(['광해', '관상'], 2100)"
      ]
     },
     "execution_count": 33,
     "metadata": {},
     "output_type": "execute_result"
    }
   ],
   "source": [
    "tot = 0\n",
    "title = []\n",
    "for k, v in movie.items() :\n",
    "    if v[0] >= 8 :\n",
    "        tot += v[1]\n",
    "        title.append(k)\n",
    "title, tot"
   ]
  },
  {
   "cell_type": "markdown",
   "id": "b377112c",
   "metadata": {},
   "source": [
    "### 단어 수 세기"
   ]
  },
  {
   "cell_type": "code",
   "execution_count": 41,
   "id": "aeb2a735",
   "metadata": {},
   "outputs": [
    {
     "data": {
      "text/plain": [
       "{'code': 1, 'band': 3, 'abc': 2}"
      ]
     },
     "execution_count": 41,
     "metadata": {},
     "output_type": "execute_result"
    }
   ],
   "source": [
    "charset = ['abc', 'code', 'band', 'band', 'abc', 'band']\n",
    "words = {}\n",
    "\n",
    "char = list(set(charset))\n",
    "for i in range(len(char)) :\n",
    "    words[char[i]] = charset.count(char[i])\n",
    "words"
   ]
  },
  {
   "cell_type": "code",
   "execution_count": 42,
   "id": "0f9aa5e0",
   "metadata": {},
   "outputs": [
    {
     "data": {
      "text/plain": [
       "{'abc': 2, 'code': 1, 'band': 3}"
      ]
     },
     "execution_count": 42,
     "metadata": {},
     "output_type": "execute_result"
    }
   ],
   "source": [
    "charset = ['abc', 'code', 'band', 'band', 'abc', 'band']\n",
    "words = {}\n",
    "\n",
    "for w in charset :\n",
    "    if w in words :\n",
    "        words[w] += 1\n",
    "    else :\n",
    "        words[w] = 1\n",
    "words"
   ]
  },
  {
   "cell_type": "code",
   "execution_count": 46,
   "id": "9cbbd05f",
   "metadata": {},
   "outputs": [
    {
     "data": {
      "text/plain": [
       "{'abc': 2, 'code': 1, 'band': 3}"
      ]
     },
     "execution_count": 46,
     "metadata": {},
     "output_type": "execute_result"
    }
   ],
   "source": [
    "charset = ['abc', 'code', 'band', 'band', 'abc', 'band']\n",
    "words = {}\n",
    "\n",
    "for w in charset :\n",
    "    words[w] = words.get(w, 0) + 1\n",
    "words"
   ]
  },
  {
   "cell_type": "markdown",
   "id": "698c073f",
   "metadata": {},
   "source": [
    "### 글자 수 세기"
   ]
  },
  {
   "cell_type": "code",
   "execution_count": 40,
   "id": "016673a9",
   "metadata": {},
   "outputs": [
    {
     "data": {
      "text/plain": [
       "{'c': 3, 'n': 3, 'a': 5, 'e': 1, 'o': 1, 'b': 5, 'd': 4}"
      ]
     },
     "execution_count": 40,
     "metadata": {},
     "output_type": "execute_result"
    }
   ],
   "source": [
    "charset = ['abc', 'code', 'band', 'band', 'abc', 'band']\n",
    "char = ''.join(charset)\n",
    "a = {}\n",
    "\n",
    "c = list(set(char))\n",
    "for i in range(len(c)) :\n",
    "    a[c[i]] = char.count(c[i])\n",
    "a"
   ]
  },
  {
   "cell_type": "code",
   "execution_count": 47,
   "id": "43af3b5d",
   "metadata": {},
   "outputs": [
    {
     "data": {
      "text/plain": [
       "{'a': 5, 'b': 5, 'c': 3, 'o': 1, 'd': 4, 'e': 1, 'n': 3}"
      ]
     },
     "execution_count": 47,
     "metadata": {},
     "output_type": "execute_result"
    }
   ],
   "source": [
    "charset = ['abc', 'code', 'band', 'band', 'abc', 'band']\n",
    "a = {}\n",
    "\n",
    "for w in ''.join(charset) :\n",
    "    a[w] = a.get(w, 0) + 1\n",
    "a"
   ]
  },
  {
   "cell_type": "code",
   "execution_count": 54,
   "id": "f12b8202",
   "metadata": {},
   "outputs": [
    {
     "name": "stdout",
     "output_type": "stream",
     "text": [
      "2399440799872 2399440799872 2399444010752\n",
      "True False False\n"
     ]
    }
   ],
   "source": [
    "a = [1, 2, 3]\n",
    "b = a # 참조\n",
    "c = a[:] # 복사\n",
    "print(id(a), id(b), id(c))\n",
    "print(id(a)==id(b), id(a)==id(c), id(b)==id(c))"
   ]
  },
  {
   "cell_type": "code",
   "execution_count": 56,
   "id": "d0940ad8",
   "metadata": {},
   "outputs": [
    {
     "name": "stdout",
     "output_type": "stream",
     "text": [
      "2399440799872 2399444010752 2399442076096\n",
      "False False\n"
     ]
    }
   ],
   "source": [
    "d = a.copy()\n",
    "print(id(a), id(c), id(d))\n",
    "print(id(a)==id(d), id(c)==id(d))"
   ]
  },
  {
   "cell_type": "markdown",
   "id": "0fd45e7f",
   "metadata": {},
   "source": [
    "# 깊은 복사"
   ]
  },
  {
   "cell_type": "code",
   "execution_count": 64,
   "id": "5abbe4af",
   "metadata": {},
   "outputs": [
    {
     "data": {
      "text/plain": [
       "('aaa', 'aaa')"
      ]
     },
     "execution_count": 64,
     "metadata": {},
     "output_type": "execute_result"
    }
   ],
   "source": [
    "a[0] = ['a', 'b', 'c']\n",
    "b = a[:]\n",
    "a[0][0] = 'aaa' # b[0][0]도 동시에 변경\n",
    "a[0][0], b[0][0] # 2차원 이상은 깊은 복사 필요"
   ]
  },
  {
   "cell_type": "code",
   "execution_count": 67,
   "id": "b41b0589",
   "metadata": {},
   "outputs": [
    {
     "data": {
      "text/plain": [
       "([['aaa', 'b', 'c'], 2, 3], [['a', 'b', 'c'], 2, 3])"
      ]
     },
     "execution_count": 67,
     "metadata": {},
     "output_type": "execute_result"
    }
   ],
   "source": [
    "import copy\n",
    "\n",
    "b = copy.deepcopy(a) # 깊은 복사\n",
    "b[0][0] = 'a'\n",
    "a, b"
   ]
  },
  {
   "cell_type": "code",
   "execution_count": 70,
   "id": "8206bb83",
   "metadata": {},
   "outputs": [
    {
     "data": {
      "text/plain": [
       "[82, 15, 4, 95, 36, 32, 29, 18, 95, 14]"
      ]
     },
     "execution_count": 70,
     "metadata": {},
     "output_type": "execute_result"
    }
   ],
   "source": [
    "import random\n",
    "\n",
    "dataset = []\n",
    "random.seed(42)\n",
    "for i in range(10) :\n",
    "    r = random.randint(1, 100)\n",
    "    dataset.append(r)\n",
    "dataset"
   ]
  },
  {
   "cell_type": "code",
   "execution_count": 77,
   "id": "ed7eacb9",
   "metadata": {},
   "outputs": [
    {
     "data": {
      "text/plain": [
       "(95, 0)"
      ]
     },
     "execution_count": 77,
     "metadata": {},
     "output_type": "execute_result"
    }
   ],
   "source": [
    "max_num = min_num = dataset[i]\n",
    "for i in dataset :\n",
    "    if max_num < i :\n",
    "        max_num = i\n",
    "    if min_num > i :\n",
    "        min_num = i\n",
    "        \n",
    "max_num, min_num"
   ]
  },
  {
   "cell_type": "code",
   "execution_count": 72,
   "id": "b7a9125b",
   "metadata": {},
   "outputs": [
    {
     "data": {
      "text/plain": [
       "(95, 4)"
      ]
     },
     "execution_count": 72,
     "metadata": {},
     "output_type": "execute_result"
    }
   ],
   "source": [
    "max(dataset), min(dataset)"
   ]
  },
  {
   "cell_type": "code",
   "execution_count": null,
   "id": "b2ef6831",
   "metadata": {},
   "outputs": [],
   "source": []
  },
  {
   "cell_type": "code",
   "execution_count": null,
   "id": "41a3a43a",
   "metadata": {},
   "outputs": [],
   "source": []
  },
  {
   "cell_type": "code",
   "execution_count": null,
   "id": "c69d73d1",
   "metadata": {},
   "outputs": [],
   "source": []
  },
  {
   "cell_type": "code",
   "execution_count": null,
   "id": "618a18e2",
   "metadata": {},
   "outputs": [],
   "source": []
  }
 ],
 "metadata": {
  "kernelspec": {
   "display_name": "Python 3 (ipykernel)",
   "language": "python",
   "name": "python3"
  },
  "language_info": {
   "codemirror_mode": {
    "name": "ipython",
    "version": 3
   },
   "file_extension": ".py",
   "mimetype": "text/x-python",
   "name": "python",
   "nbconvert_exporter": "python",
   "pygments_lexer": "ipython3",
   "version": "3.9.13"
  }
 },
 "nbformat": 4,
 "nbformat_minor": 5
}
