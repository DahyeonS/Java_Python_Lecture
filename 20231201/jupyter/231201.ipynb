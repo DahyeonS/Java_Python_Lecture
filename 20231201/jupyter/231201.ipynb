{
 "cells": [
  {
   "cell_type": "code",
   "execution_count": 8,
   "id": "5400ec3b",
   "metadata": {},
   "outputs": [
    {
     "data": {
      "text/plain": [
       "45"
      ]
     },
     "execution_count": 8,
     "metadata": {},
     "output_type": "execute_result"
    }
   ],
   "source": [
    "person = {'name':'홍길동', 'pay':350, 'age':45}\n",
    "person['age']"
   ]
  },
  {
   "cell_type": "code",
   "execution_count": 11,
   "id": "b38505d3",
   "metadata": {},
   "outputs": [
    {
     "data": {
      "text/plain": [
       "{'name': '홍길동', 'pay': 350, 'age': 45, 'email': b'hong@email.com'}"
      ]
     },
     "execution_count": 11,
     "metadata": {},
     "output_type": "execute_result"
    }
   ],
   "source": [
    "person['email'] = b'hong@email.com'\n",
    "person"
   ]
  },
  {
   "cell_type": "code",
   "execution_count": 13,
   "id": "0414b3c2",
   "metadata": {},
   "outputs": [
    {
     "name": "stdout",
     "output_type": "stream",
     "text": [
      "45\n"
     ]
    }
   ],
   "source": [
    "if 'age' in person :\n",
    "    print(person['age'])"
   ]
  },
  {
   "cell_type": "code",
   "execution_count": 14,
   "id": "1d3f2b92",
   "metadata": {},
   "outputs": [
    {
     "data": {
      "text/plain": [
       "dict_keys(['name', 'pay', 'age', 'email'])"
      ]
     },
     "execution_count": 14,
     "metadata": {},
     "output_type": "execute_result"
    }
   ],
   "source": [
    "person.keys()"
   ]
  },
  {
   "cell_type": "code",
   "execution_count": 16,
   "id": "d3447cfb",
   "metadata": {},
   "outputs": [
    {
     "name": "stdout",
     "output_type": "stream",
     "text": [
      "name 홍길동\n",
      "pay 350\n",
      "age 45\n",
      "email b'hong@email.com'\n"
     ]
    }
   ],
   "source": [
    "for key in person.keys() :\n",
    "    print(key, person[key])"
   ]
  },
  {
   "cell_type": "code",
   "execution_count": 17,
   "id": "7625a2f6",
   "metadata": {
    "scrolled": false
   },
   "outputs": [
    {
     "name": "stdout",
     "output_type": "stream",
     "text": [
      "홍길동\n",
      "350\n",
      "45\n",
      "b'hong@email.com'\n"
     ]
    }
   ],
   "source": [
    "for v in person.values() :\n",
    "    print(v)"
   ]
  },
  {
   "cell_type": "code",
   "execution_count": 18,
   "id": "7a2f87b8",
   "metadata": {
    "scrolled": true
   },
   "outputs": [
    {
     "name": "stdout",
     "output_type": "stream",
     "text": [
      "('name', '홍길동')\n",
      "('pay', 350)\n",
      "('age', 45)\n",
      "('email', b'hong@email.com')\n"
     ]
    }
   ],
   "source": [
    "for item in person.items() :\n",
    "    print(item)"
   ]
  },
  {
   "cell_type": "code",
   "execution_count": 20,
   "id": "cc5bb808",
   "metadata": {},
   "outputs": [
    {
     "name": "stdout",
     "output_type": "stream",
     "text": [
      "name 홍길동\n",
      "pay 350\n",
      "age 45\n",
      "email b'hong@email.com'\n"
     ]
    }
   ],
   "source": [
    "for k, v in person.items() :\n",
    "    print(k, v)"
   ]
  },
  {
   "cell_type": "code",
   "execution_count": 22,
   "id": "c0560b50",
   "metadata": {},
   "outputs": [
    {
     "data": {
      "text/plain": [
       "('홍길동', '홍길동')"
      ]
     },
     "execution_count": 22,
     "metadata": {},
     "output_type": "execute_result"
    }
   ],
   "source": [
    "person['name'], person.get('name')"
   ]
  },
  {
   "cell_type": "code",
   "execution_count": 24,
   "id": "2019e11d",
   "metadata": {},
   "outputs": [
    {
     "name": "stdout",
     "output_type": "stream",
     "text": [
      "None\n"
     ]
    }
   ],
   "source": [
    "print(person.get('n'))"
   ]
  },
  {
   "cell_type": "code",
   "execution_count": 25,
   "id": "09df8de7",
   "metadata": {},
   "outputs": [
    {
     "data": {
      "text/plain": [
       "{}"
      ]
     },
     "execution_count": 25,
     "metadata": {},
     "output_type": "execute_result"
    }
   ],
   "source": [
    "person.clear()\n",
    "person"
   ]
  },
  {
   "cell_type": "code",
   "execution_count": 26,
   "id": "75bd105d",
   "metadata": {},
   "outputs": [
    {
     "data": {
      "text/plain": [
       "{'광해': [9.24, 1200], '공작': [7.86, 500], '관상': [8.01, 900]}"
      ]
     },
     "execution_count": 26,
     "metadata": {},
     "output_type": "execute_result"
    }
   ],
   "source": [
    "movie = {\n",
    "    '광해':[9.24, 1200],\n",
    "    '공작':[7.86, 500],\n",
    "    '관상':[8.01, 900],\n",
    "}\n",
    "movie"
   ]
  },
  {
   "cell_type": "code",
   "execution_count": 28,
   "id": "2d10f2fd",
   "metadata": {},
   "outputs": [
    {
     "name": "stdout",
     "output_type": "stream",
     "text": [
      "[9.24, 1200]\n",
      "[7.86, 500]\n",
      "[8.01, 900]\n"
     ]
    }
   ],
   "source": [
    "for item in movie.items() :\n",
    "    print(item[1])"
   ]
  },
  {
   "cell_type": "code",
   "execution_count": 30,
   "id": "0315f55e",
   "metadata": {},
   "outputs": [
    {
     "name": "stdout",
     "output_type": "stream",
     "text": [
      "[9.24, 1200]\n",
      "[7.86, 500]\n",
      "[8.01, 900]\n"
     ]
    }
   ],
   "source": [
    "for k, v in movie.items() :\n",
    "    print(v)"
   ]
  },
  {
   "cell_type": "markdown",
   "id": "a27b11bc",
   "metadata": {},
   "source": [
    "###  문) 평점 8 이상인 영화 제목과 누적관객수 출력하기"
   ]
  },
  {
   "cell_type": "code",
   "execution_count": 33,
   "id": "67e21fdc",
   "metadata": {},
   "outputs": [
    {
     "data": {
      "text/plain": [
       "(['광해', '관상'], 2100)"
      ]
     },
     "execution_count": 33,
     "metadata": {},
     "output_type": "execute_result"
    }
   ],
   "source": [
    "tot = 0\n",
    "title = []\n",
    "for k, v in movie.items() :\n",
    "    if v[0] >= 8 :\n",
    "        tot += v[1]\n",
    "        title.append(k)\n",
    "title, tot"
   ]
  },
  {
   "cell_type": "markdown",
   "id": "2a3f5082",
   "metadata": {},
   "source": [
    "### 단어 수 세기"
   ]
  },
  {
   "cell_type": "code",
   "execution_count": 41,
   "id": "a7061640",
   "metadata": {},
   "outputs": [
    {
     "data": {
      "text/plain": [
       "{'code': 1, 'band': 3, 'abc': 2}"
      ]
     },
     "execution_count": 41,
     "metadata": {},
     "output_type": "execute_result"
    }
   ],
   "source": [
    "charset = ['abc', 'code', 'band', 'band', 'abc', 'band']\n",
    "words = {}\n",
    "\n",
    "char = list(set(charset))\n",
    "for i in range(len(char)) :\n",
    "    words[char[i]] = charset.count(char[i])\n",
    "words"
   ]
  },
  {
   "cell_type": "code",
   "execution_count": 42,
   "id": "4a71509b",
   "metadata": {},
   "outputs": [
    {
     "data": {
      "text/plain": [
       "{'abc': 2, 'code': 1, 'band': 3}"
      ]
     },
     "execution_count": 42,
     "metadata": {},
     "output_type": "execute_result"
    }
   ],
   "source": [
    "charset = ['abc', 'code', 'band', 'band', 'abc', 'band']\n",
    "words = {}\n",
    "\n",
    "for w in charset :\n",
    "    if w in words :\n",
    "        words[w] += 1\n",
    "    else :\n",
    "        words[w] = 1\n",
    "words"
   ]
  },
  {
   "cell_type": "code",
   "execution_count": 46,
   "id": "ad399037",
   "metadata": {},
   "outputs": [
    {
     "data": {
      "text/plain": [
       "{'abc': 2, 'code': 1, 'band': 3}"
      ]
     },
     "execution_count": 46,
     "metadata": {},
     "output_type": "execute_result"
    }
   ],
   "source": [
    "charset = ['abc', 'code', 'band', 'band', 'abc', 'band']\n",
    "words = {}\n",
    "\n",
    "for w in charset :\n",
    "    words[w] = words.get(w, 0) + 1\n",
    "words"
   ]
  },
  {
   "cell_type": "markdown",
   "id": "3b9a4c20",
   "metadata": {},
   "source": [
    "### 글자 수 세기"
   ]
  },
  {
   "cell_type": "code",
   "execution_count": 40,
   "id": "6ca3912b",
   "metadata": {},
   "outputs": [
    {
     "data": {
      "text/plain": [
       "{'c': 3, 'n': 3, 'a': 5, 'e': 1, 'o': 1, 'b': 5, 'd': 4}"
      ]
     },
     "execution_count": 40,
     "metadata": {},
     "output_type": "execute_result"
    }
   ],
   "source": [
    "charset = ['abc', 'code', 'band', 'band', 'abc', 'band']\n",
    "char = ''.join(charset)\n",
    "a = {}\n",
    "\n",
    "c = list(set(char))\n",
    "for i in range(len(c)) :\n",
    "    a[c[i]] = char.count(c[i])\n",
    "a"
   ]
  },
  {
   "cell_type": "code",
   "execution_count": 47,
   "id": "b90c3567",
   "metadata": {},
   "outputs": [
    {
     "data": {
      "text/plain": [
       "{'a': 5, 'b': 5, 'c': 3, 'o': 1, 'd': 4, 'e': 1, 'n': 3}"
      ]
     },
     "execution_count": 47,
     "metadata": {},
     "output_type": "execute_result"
    }
   ],
   "source": [
    "charset = ['abc', 'code', 'band', 'band', 'abc', 'band']\n",
    "a = {}\n",
    "\n",
    "for w in ''.join(charset) :\n",
    "    a[w] = a.get(w, 0) + 1\n",
    "a"
   ]
  }
 ],
 "metadata": {
  "kernelspec": {
   "display_name": "Python 3 (ipykernel)",
   "language": "python",
   "name": "python3"
  },
  "language_info": {
   "codemirror_mode": {
    "name": "ipython",
    "version": 3
   },
   "file_extension": ".py",
   "mimetype": "text/x-python",
   "name": "python",
   "nbconvert_exporter": "python",
   "pygments_lexer": "ipython3",
   "version": "3.9.13"
  }
 },
 "nbformat": 4,
 "nbformat_minor": 5
}
