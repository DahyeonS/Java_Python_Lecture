{
 "cells": [
  {
   "cell_type": "code",
   "execution_count": 1,
   "id": "0d848bd6-af06-4406-b77e-494fbaf19263",
   "metadata": {},
   "outputs": [],
   "source": [
    "import os"
   ]
  },
  {
   "cell_type": "code",
   "execution_count": 2,
   "id": "8f073d03-18bd-40c3-a6f5-e1c3eee54ab1",
   "metadata": {},
   "outputs": [
    {
     "name": "stdout",
     "output_type": "stream",
     "text": [
      "D:\\kdigital2307\\python\\jupyter\n"
     ]
    }
   ],
   "source": [
    "print(os.getcwd())"
   ]
  },
  {
   "cell_type": "code",
   "execution_count": 10,
   "id": "a5910025-c5fb-4d92-9f3a-79be68871e4b",
   "metadata": {},
   "outputs": [
    {
     "name": "stdout",
     "output_type": "stream",
     "text": [
      "programming is fun\n",
      "very fun!\n",
      "have a good time\n",
      "mouse is input device\n",
      "keyboard is input device\n",
      "computer is input output system <class 'str'>\n"
     ]
    }
   ],
   "source": [
    "try :\n",
    "    f = open('./data/ftest.txt', mode='r', encoding='utf-8')\n",
    "    print(f.read(), type(f.read()))\n",
    "\n",
    "    f2 = open('./data/ftest2.txt', mode='w')\n",
    "    s = 'my first python~~\\n'\n",
    "    f2.write(s)\n",
    "\n",
    "    f3 = open('./data/ftest2.txt', mode='a')\n",
    "    s = 'my first python~~222222222'\n",
    "    f3.write(s)\n",
    "except Exception as e :\n",
    "    print(e)\n",
    "finally :\n",
    "    f.close()\n",
    "    f2.close()\n",
    "    f3.close()"
   ]
  },
  {
   "cell_type": "code",
   "execution_count": 19,
   "id": "5207d9cf-d8e3-4541-8b6b-69c294ac16b4",
   "metadata": {},
   "outputs": [
    {
     "name": "stdout",
     "output_type": "stream",
     "text": [
      "['programming is fun', 'very fun!', 'have a good time', 'mouse is input device', 'keyboard is input device', 'computer is input output system']\n",
      "[['programming', 'is', 'fun'], ['very', 'fun!'], ['have', 'a', 'good', 'time'], ['mouse', 'is', 'input', 'device'], ['keyboard', 'is', 'input', 'device'], ['computer', 'is', 'input', 'output', 'system']]\n",
      "['programming', 'is', 'fun', 'very', 'fun!', 'have', 'a', 'good', 'time', 'mouse', 'is', 'input', 'device', 'keyboard', 'is', 'input', 'device', 'computer', 'is', 'input', 'output', 'system']\n"
     ]
    }
   ],
   "source": [
    "try :\n",
    "    f = open('./data/ftest.txt', mode='r')\n",
    "    lines = f.readlines()\n",
    "    doc = []\n",
    "    for line in lines :\n",
    "        doc.append(line.strip()) # 공백/제어문자 제거\n",
    "    print(doc)\n",
    "    words = []\n",
    "    items = []\n",
    "    for word in doc :\n",
    "        words.append(word.split())\n",
    "        for item in word.split() :\n",
    "            items.append(item)\n",
    "    print(words)\n",
    "    print(items)\n",
    "except Exception as e :\n",
    "    print(e)\n",
    "finally :\n",
    "    f.close()"
   ]
  },
  {
   "cell_type": "code",
   "execution_count": 22,
   "id": "5774f890-5117-4b9a-bef8-e40403be6735",
   "metadata": {},
   "outputs": [
    {
     "data": {
      "text/plain": [
       "['first', 'second']"
      ]
     },
     "execution_count": 22,
     "metadata": {},
     "output_type": "execute_result"
    }
   ],
   "source": [
    "txt_data = './data/txt_data/'\n",
    "sub_dir = os.listdir(txt_data)\n",
    "sub_dir"
   ]
  },
  {
   "cell_type": "code",
   "execution_count": 31,
   "id": "00185ea5-f26c-403b-a8a5-f06e628f5a82",
   "metadata": {},
   "outputs": [
    {
     "data": {
      "text/plain": [
       "['./data/txt_data/first\\\\txt01_data.txt',\n",
       " './data/txt_data/first\\\\txt02_data.txt',\n",
       " './data/txt_data/first\\\\txt03_data.txt',\n",
       " './data/txt_data/first\\\\txt04_data.txt',\n",
       " './data/txt_data/first\\\\txt05_data.txt',\n",
       " './data/txt_data/first\\\\txt06_data.txt',\n",
       " './data/txt_data/first\\\\txt07_data.txt',\n",
       " './data/txt_data/first\\\\txt08_data.txt',\n",
       " './data/txt_data/first\\\\txt09_data.txt',\n",
       " './data/txt_data/first\\\\txt10_data.txt']"
      ]
     },
     "execution_count": 31,
     "metadata": {},
     "output_type": "execute_result"
    }
   ],
   "source": [
    "import glob\n",
    "\n",
    "glob.glob('./data/txt_data/first/txt*') # txt로 시작하는 파일 또는 폴더"
   ]
  },
  {
   "cell_type": "code",
   "execution_count": 48,
   "id": "43d6a046-9b8b-44a9-a914-dedd35ffbb23",
   "metadata": {},
   "outputs": [],
   "source": [
    "def text_pro(sub_dir) :\n",
    "    first_txt = []\n",
    "    second_txt = []\n",
    "\n",
    "    for sdir in sub_dir :\n",
    "        dir_name = txt_data + sdir\n",
    "        file_list = os.listdir(dir_name)\n",
    "        for fname in file_list :\n",
    "            file_path = dir_name + '/' + fname\n",
    "            if os.path.isfile(file_path) :\n",
    "                try :\n",
    "                    f = open(file_path, 'r')\n",
    "                    if sdir == 'first' :\n",
    "                        first_txt.append(f.read())\n",
    "                    else :\n",
    "                        second_txt.append(f.read())\n",
    "                except Exception as e :\n",
    "                    print(e)\n",
    "                finally :\n",
    "                    f.close()\n",
    "            else :\n",
    "                print(f'{file_path}는 디렉토리 제외!!')\n",
    "\n",
    "    return first_txt, second_txt"
   ]
  },
  {
   "cell_type": "code",
   "execution_count": 50,
   "id": "5bcb3319-1f10-463b-b50c-c364daad4b8a",
   "metadata": {},
   "outputs": [
    {
     "name": "stdout",
     "output_type": "stream",
     "text": [
      "./data/txt_data/first/test01는 디렉토리 제외!!\n",
      "./data/txt_data/first/test02는 디렉토리 제외!!\n",
      "./data/txt_data/second/test03는 디렉토리 제외!!\n",
      "./data/txt_data/second/test04는 디렉토리 제외!!\n"
     ]
    }
   ],
   "source": [
    "first_txt, second_txt = text_pro(sub_dir)"
   ]
  },
  {
   "cell_type": "code",
   "execution_count": 53,
   "id": "bac2f7a8-7dd1-41c3-88ea-9d6e4961dec6",
   "metadata": {},
   "outputs": [
    {
     "name": "stdout",
     "output_type": "stream",
     "text": [
      "20\n",
      "it is obvious that columbus didn't take them very seriously . \n",
      "when you think about it , this film is not really meditating on the question \" when is a robot no longer a machine , but a human being ? \" , but tells a story about racial discrimination and lack of understanding . \n",
      "andrew is so complex and emotional from the very beginning that the audience immediately accepts him as a human being , and only the society has troubles with it . \n",
      "in other words , it is as far from reality as from the academy awards . \n",
      "further more , there are other annoying problems . \n",
      "to this day no serious filmmaker has dared to speculate about the future in more than 50 years from now . \n",
      "this has not been done for obvious reasons , because the filmmakers are well aware of the fact that they lack the knowledge and imagination to perform such a difficult task . \n",
      "columbus is the first to have crossed that line . \n",
      "the result is , as you might imagine , primitive , unrealistic and incredibly disappointing effort . \n",
      "the world is simply frozen in time . \n",
      "neither the society , fashion , culture or values have changed over 200 years . \n",
      "mom is still working at the kitchen , doing the dishes . \n",
      "when you think back to the late 17th century and then compare it to the world we live in today , you'll see a slightly bigger difference . \n",
      "i am not saying that everything should change . \n",
      "it is unlikely that the human rights will change , but it's even more unlikely that there will not be any progress in science , technology and fashion . \n",
      "i suppose it's possible to watch this as a some sort of bizarre fairytale , but it's really hard . \n",
      "robin williams is hidden behind c and speaking in a robotic way . \n",
      "as always he does a decent job , as does sam neill . \n",
      "but it doesn't really matter. \n"
     ]
    }
   ],
   "source": [
    "row_file = first_txt + second_txt\n",
    "print(len(row_file))\n",
    "print(row_file[-1])"
   ]
  },
  {
   "cell_type": "code",
   "execution_count": null,
   "id": "dfba69df-69b0-4209-be21-7369ec0a67e9",
   "metadata": {},
   "outputs": [],
   "source": []
  },
  {
   "cell_type": "code",
   "execution_count": null,
   "id": "bb5b1000-f2ea-4bd5-a987-4f69b4d867e9",
   "metadata": {},
   "outputs": [],
   "source": []
  },
  {
   "cell_type": "code",
   "execution_count": null,
   "id": "245bcbd4-9f9d-48c8-af27-4cd7bf618cf8",
   "metadata": {},
   "outputs": [],
   "source": []
  },
  {
   "cell_type": "code",
   "execution_count": null,
   "id": "b27dec02-6e6b-4892-8912-5ba49cfde415",
   "metadata": {},
   "outputs": [],
   "source": []
  },
  {
   "cell_type": "code",
   "execution_count": null,
   "id": "9cb7357f-6bbb-48e1-ad5c-a21a1eab68a3",
   "metadata": {},
   "outputs": [],
   "source": []
  },
  {
   "cell_type": "code",
   "execution_count": null,
   "id": "881c487e-3a41-42ed-ad7c-8f22dffe28e2",
   "metadata": {},
   "outputs": [],
   "source": []
  }
 ],
 "metadata": {
  "kernelspec": {
   "display_name": "Python 3 (ipykernel)",
   "language": "python",
   "name": "python3"
  },
  "language_info": {
   "codemirror_mode": {
    "name": "ipython",
    "version": 3
   },
   "file_extension": ".py",
   "mimetype": "text/x-python",
   "name": "python",
   "nbconvert_exporter": "python",
   "pygments_lexer": "ipython3",
   "version": "3.11.5"
  },
  "widgets": {
   "application/vnd.jupyter.widget-state+json": {
    "state": {},
    "version_major": 2,
    "version_minor": 0
   }
  }
 },
 "nbformat": 4,
 "nbformat_minor": 5
}
