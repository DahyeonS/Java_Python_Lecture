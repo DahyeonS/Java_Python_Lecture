{
 "cells": [
  {
   "cell_type": "code",
   "execution_count": 1,
   "id": "0d848bd6-af06-4406-b77e-494fbaf19263",
   "metadata": {},
   "outputs": [],
   "source": [
    "import os"
   ]
  },
  {
   "cell_type": "code",
   "execution_count": 2,
   "id": "8f073d03-18bd-40c3-a6f5-e1c3eee54ab1",
   "metadata": {},
   "outputs": [
    {
     "name": "stdout",
     "output_type": "stream",
     "text": [
      "D:\\kdigital2307\\python\\jupyter\n"
     ]
    }
   ],
   "source": [
    "print(os.getcwd())"
   ]
  },
  {
   "cell_type": "code",
   "execution_count": 10,
   "id": "a5910025-c5fb-4d92-9f3a-79be68871e4b",
   "metadata": {},
   "outputs": [
    {
     "name": "stdout",
     "output_type": "stream",
     "text": [
      "programming is fun\n",
      "very fun!\n",
      "have a good time\n",
      "mouse is input device\n",
      "keyboard is input device\n",
      "computer is input output system <class 'str'>\n"
     ]
    }
   ],
   "source": [
    "try :\n",
    "    f = open('./data/ftest.txt', mode='r', encoding='utf-8')\n",
    "    print(f.read(), type(f.read()))\n",
    "\n",
    "    f2 = open('./data/ftest2.txt', mode='w')\n",
    "    s = 'my first python~~\\n'\n",
    "    f2.write(s)\n",
    "\n",
    "    f3 = open('./data/ftest2.txt', mode='a')\n",
    "    s = 'my first python~~222222222'\n",
    "    f3.write(s)\n",
    "except Exception as e :\n",
    "    print(e)\n",
    "finally :\n",
    "    f.close()\n",
    "    f2.close()\n",
    "    f3.close()"
   ]
  },
  {
   "cell_type": "code",
   "execution_count": 19,
   "id": "5207d9cf-d8e3-4541-8b6b-69c294ac16b4",
   "metadata": {},
   "outputs": [
    {
     "name": "stdout",
     "output_type": "stream",
     "text": [
      "['programming is fun', 'very fun!', 'have a good time', 'mouse is input device', 'keyboard is input device', 'computer is input output system']\n",
      "[['programming', 'is', 'fun'], ['very', 'fun!'], ['have', 'a', 'good', 'time'], ['mouse', 'is', 'input', 'device'], ['keyboard', 'is', 'input', 'device'], ['computer', 'is', 'input', 'output', 'system']]\n",
      "['programming', 'is', 'fun', 'very', 'fun!', 'have', 'a', 'good', 'time', 'mouse', 'is', 'input', 'device', 'keyboard', 'is', 'input', 'device', 'computer', 'is', 'input', 'output', 'system']\n"
     ]
    }
   ],
   "source": [
    "try :\n",
    "    f = open('./data/ftest.txt', mode='r')\n",
    "    lines = f.readlines()\n",
    "    doc = []\n",
    "    for line in lines :\n",
    "        doc.append(line.strip()) # 공백/제어문자 제거\n",
    "    print(doc)\n",
    "    words = []\n",
    "    items = []\n",
    "    for word in doc :\n",
    "        words.append(word.split())\n",
    "        for item in word.split() :\n",
    "            items.append(item)\n",
    "    print(words)\n",
    "    print(items)\n",
    "except Exception as e :\n",
    "    print(e)\n",
    "finally :\n",
    "    f.close()"
   ]
  },
  {
   "cell_type": "code",
   "execution_count": 22,
   "id": "5774f890-5117-4b9a-bef8-e40403be6735",
   "metadata": {},
   "outputs": [
    {
     "data": {
      "text/plain": [
       "['first', 'second']"
      ]
     },
     "execution_count": 22,
     "metadata": {},
     "output_type": "execute_result"
    }
   ],
   "source": [
    "txt_data = './data/txt_data/'\n",
    "sub_dir = os.listdir(txt_data)\n",
    "sub_dir"
   ]
  },
  {
   "cell_type": "code",
   "execution_count": 31,
   "id": "00185ea5-f26c-403b-a8a5-f06e628f5a82",
   "metadata": {},
   "outputs": [
    {
     "data": {
      "text/plain": [
       "['./data/txt_data/first\\\\txt01_data.txt',\n",
       " './data/txt_data/first\\\\txt02_data.txt',\n",
       " './data/txt_data/first\\\\txt03_data.txt',\n",
       " './data/txt_data/first\\\\txt04_data.txt',\n",
       " './data/txt_data/first\\\\txt05_data.txt',\n",
       " './data/txt_data/first\\\\txt06_data.txt',\n",
       " './data/txt_data/first\\\\txt07_data.txt',\n",
       " './data/txt_data/first\\\\txt08_data.txt',\n",
       " './data/txt_data/first\\\\txt09_data.txt',\n",
       " './data/txt_data/first\\\\txt10_data.txt']"
      ]
     },
     "execution_count": 31,
     "metadata": {},
     "output_type": "execute_result"
    }
   ],
   "source": [
    "import glob\n",
    "\n",
    "glob.glob('./data/txt_data/first/txt*') # txt로 시작하는 파일 또는 폴더"
   ]
  },
  {
   "cell_type": "code",
   "execution_count": 48,
   "id": "43d6a046-9b8b-44a9-a914-dedd35ffbb23",
   "metadata": {},
   "outputs": [],
   "source": [
    "def text_pro(sub_dir) :\n",
    "    first_txt = []\n",
    "    second_txt = []\n",
    "\n",
    "    for sdir in sub_dir :\n",
    "        dir_name = txt_data + sdir\n",
    "        file_list = os.listdir(dir_name)\n",
    "        for fname in file_list :\n",
    "            file_path = dir_name + '/' + fname\n",
    "            if os.path.isfile(file_path) :\n",
    "                try :\n",
    "                    f = open(file_path, 'r')\n",
    "                    if sdir == 'first' :\n",
    "                        first_txt.append(f.read())\n",
    "                    else :\n",
    "                        second_txt.append(f.read())\n",
    "                except Exception as e :\n",
    "                    print(e)\n",
    "                finally :\n",
    "                    f.close()\n",
    "            else :\n",
    "                print(f'{file_path}는 디렉토리 제외!!')\n",
    "\n",
    "    return first_txt, second_txt"
   ]
  },
  {
   "cell_type": "code",
   "execution_count": 50,
   "id": "5bcb3319-1f10-463b-b50c-c364daad4b8a",
   "metadata": {},
   "outputs": [
    {
     "name": "stdout",
     "output_type": "stream",
     "text": [
      "./data/txt_data/first/test01는 디렉토리 제외!!\n",
      "./data/txt_data/first/test02는 디렉토리 제외!!\n",
      "./data/txt_data/second/test03는 디렉토리 제외!!\n",
      "./data/txt_data/second/test04는 디렉토리 제외!!\n"
     ]
    }
   ],
   "source": [
    "first_txt, second_txt = text_pro(sub_dir)"
   ]
  },
  {
   "cell_type": "code",
   "execution_count": 53,
   "id": "bac2f7a8-7dd1-41c3-88ea-9d6e4961dec6",
   "metadata": {},
   "outputs": [
    {
     "name": "stdout",
     "output_type": "stream",
     "text": [
      "20\n",
      "it is obvious that columbus didn't take them very seriously . \n",
      "when you think about it , this film is not really meditating on the question \" when is a robot no longer a machine , but a human being ? \" , but tells a story about racial discrimination and lack of understanding . \n",
      "andrew is so complex and emotional from the very beginning that the audience immediately accepts him as a human being , and only the society has troubles with it . \n",
      "in other words , it is as far from reality as from the academy awards . \n",
      "further more , there are other annoying problems . \n",
      "to this day no serious filmmaker has dared to speculate about the future in more than 50 years from now . \n",
      "this has not been done for obvious reasons , because the filmmakers are well aware of the fact that they lack the knowledge and imagination to perform such a difficult task . \n",
      "columbus is the first to have crossed that line . \n",
      "the result is , as you might imagine , primitive , unrealistic and incredibly disappointing effort . \n",
      "the world is simply frozen in time . \n",
      "neither the society , fashion , culture or values have changed over 200 years . \n",
      "mom is still working at the kitchen , doing the dishes . \n",
      "when you think back to the late 17th century and then compare it to the world we live in today , you'll see a slightly bigger difference . \n",
      "i am not saying that everything should change . \n",
      "it is unlikely that the human rights will change , but it's even more unlikely that there will not be any progress in science , technology and fashion . \n",
      "i suppose it's possible to watch this as a some sort of bizarre fairytale , but it's really hard . \n",
      "robin williams is hidden behind c and speaking in a robotic way . \n",
      "as always he does a decent job , as does sam neill . \n",
      "but it doesn't really matter. \n"
     ]
    }
   ],
   "source": [
    "row_file = first_txt + second_txt\n",
    "print(len(row_file))\n",
    "print(row_file[-1])"
   ]
  },
  {
   "cell_type": "code",
   "execution_count": 64,
   "id": "88c14c3e-6a33-4feb-a31e-162de2bb12e9",
   "metadata": {},
   "outputs": [],
   "source": [
    "def text_pro2(sub_dir) :\n",
    "    first_txt = []\n",
    "    second_txt = []\n",
    "\n",
    "    for sdir in sub_dir :\n",
    "        dir_name = txt_data + sdir + '/txt*'\n",
    "        file_list = glob.glob(dir_name)\n",
    "        for fname in file_list :\n",
    "            for file_path in file_list :\n",
    "                if os.path.isfile(file_path) :\n",
    "                    try :\n",
    "                        f = open(file_path, 'r')\n",
    "                        if sdir == 'first' :\n",
    "                            first_txt.append(f.read())\n",
    "                        else :\n",
    "                            second_txt.append(f.read())\n",
    "                    except Exception as e :\n",
    "                        print(e)\n",
    "                    finally :\n",
    "                        f.close()\n",
    "                else :\n",
    "                    print(f'{file_path}는 디렉토리 제외!!')\n",
    "\n",
    "    return first_txt, second_txt"
   ]
  },
  {
   "cell_type": "code",
   "execution_count": 67,
   "id": "dfba69df-69b0-4209-be21-7369ec0a67e9",
   "metadata": {},
   "outputs": [
    {
     "data": {
      "text/plain": [
       "\"maroon thinks that roger's wife , jessica's , possible unfaithfulness to him might be the cause of distraction and tells eddie to get some photos of her in the act before it costs him any more money in reshoots . \\nvaliant takes some photos of jessica playing , `patty cake' with marvin acme ( stubby kaye ) , the owner of toontown ( where all of the cartoon characters live ) and takes them to maroon . \\nupon seeing them , roger is emotionally destroyed and soon after acme is found dead and roger rabbit is the prime suspect . \\nthe rest of the movie follows valiant and roger as they run around town ( and eventually toontown ) trying to clear roger's good name . \\nalong the way they meet judge doom ( christopher lloyd ) a judge-jury-and executioner type who's out to get roger and has discovered the one and only way to kill a `toon . ' \\n`who framed roger rabbit' won 4 academy awards including a special achievement award for richard williams for animation direction and creation of the cartoon characters ( williams and his teams went through the film frame by frame and hand drew the cartoon characters in ) . \\ndirector robert zemekis must be given an equal amount of praise for overseeing the entire production , which included hundreds of animators . \\nalso bob hoskins' performance should be credited. \""
      ]
     },
     "execution_count": 67,
     "metadata": {},
     "output_type": "execute_result"
    }
   ],
   "source": [
    "first_txt, second_txt = text_pro2(sub_dir)\n",
    "first_txt[0]"
   ]
  },
  {
   "cell_type": "markdown",
   "id": "e2035367-8c1b-4754-ad41-ba0165c5edd9",
   "metadata": {},
   "source": [
    "# pickle"
   ]
  },
  {
   "cell_type": "code",
   "execution_count": 68,
   "id": "245bcbd4-9f9d-48c8-af27-4cd7bf618cf8",
   "metadata": {},
   "outputs": [],
   "source": [
    "import pickle"
   ]
  },
  {
   "cell_type": "code",
   "execution_count": 70,
   "id": "b27dec02-6e6b-4892-8912-5ba49cfde415",
   "metadata": {},
   "outputs": [],
   "source": [
    "f = open('./data/row_file_231205.pickle', mode='wb') # 이진파일 저장\n",
    "pickle.dump(row_file, f)"
   ]
  },
  {
   "cell_type": "code",
   "execution_count": 75,
   "id": "9cb7357f-6bbb-48e1-ad5c-a21a1eab68a3",
   "metadata": {},
   "outputs": [
    {
     "data": {
      "text/plain": [
       "[\"maroon thinks that roger's wife , jessica's , possible unfaithfulness to him might be the cause of distraction and tells eddie to get some photos of her in the act before it costs him any more money in reshoots . \\nvaliant takes some photos of jessica playing , `patty cake' with marvin acme ( stubby kaye ) , the owner of toontown ( where all of the cartoon characters live ) and takes them to maroon . \\nupon seeing them , roger is emotionally destroyed and soon after acme is found dead and roger rabbit is the prime suspect . \\nthe rest of the movie follows valiant and roger as they run around town ( and eventually toontown ) trying to clear roger's good name . \\nalong the way they meet judge doom ( christopher lloyd ) a judge-jury-and executioner type who's out to get roger and has discovered the one and only way to kill a `toon . ' \\n`who framed roger rabbit' won 4 academy awards including a special achievement award for richard williams for animation direction and creation of the cartoon characters ( williams and his teams went through the film frame by frame and hand drew the cartoon characters in ) . \\ndirector robert zemekis must be given an equal amount of praise for overseeing the entire production , which included hundreds of animators . \\nalso bob hoskins' performance should be credited. \",\n",
       " 'it shouldn\\'t have surprised me , then , that kundun , a film about a mystical religion , actually turned out to be quite straightforward . \\nthe movie follows the life of the 14th dalai lama , the spiritual and political leader of tibet . \\nthe movie\\'s title is another name for the dalai lama which means \" ocean of wisdom . \" \\nhis story is told in strict chronological order and there are only a few cinematic visions to embellish the literal story . \\n ( one of which makes an interesting statement : pay attention to the film\\'s opening shot and watch where it is repeated . ) \\nwe first glimpse the dalai lama when he is two years old. \\nhis curiosity and self-assuredness capture the attention of a monk wandering in search of the new lama . \\na test is arranged to see if this boy really is the reincarnation of the 13 dalai lamas who have gone before . \\nseveral items belonging to the previous dalai lama are laid before the boy alongside some other items . \\nthe child is asked if he recognizes any of the items as his own.',\n",
       " 'who cowrote the script with emmanuelle bernheim , marcia romano , and marina de van , has turned in a more mature work than his previous , creepy \" see the sea . \" \\nwhile he cleverly never lets us see jean enter the water that fateful day , leaving a number of possibilities - accident ? , suicide ? , escape ? \\n- open , he definitely tips his hand towards a certain outcome . \\ncinematography by antoine hiberli and jeanne lapoirie glides around marie or captures rampling\\'s exotic face in mood divining closeup . \\nin an inventive fantasy scene , marie imagines jean\\'s hands massaging her feet while in a state of auto-arousal . \\nhis two hands become four , then more combined with her own , becoming almost a one person orgy and recalling roman polanski\\'s \" repulsion . \" \\noriginal music by philippe rombi quietly adds to the overall melancholy. ',\n",
       " 'kiki comes to realize not only the beauty of her surroundings , but the innate beauty inside her . \\nseeing kiki regain faith in herself is marvelous , and the principal device used to do it is so sublime that i don\\'t even want to hint at it . \\nthe ending of the movie has a subtle charm combined with a sense of awe and , ironically , the most disney-esque moment i\\'ve ever seen ; if you don\\'t hold your breath in wonder you might want to get medical attention . \\nthe movie steers free of many of the disney conventions : there is no violence , however cartoonish , no song-and-dance number , and kiki\\'s pet cat jiji is more a friend than a comedic sidekick , although jiji is given many funny lines and scenes . \\nhowever , i would be surprised if disney doesn\\'t give jiji more jokes , or at least the voice of some comedian . \\nrefreshingly enough , the moral lesson of the movie is not self-contradicted , a habit disney movies have gotten into . \\n \" beauty and the beast \" \\'s beautiful belle , for instance , learned that beauty was derived from a person\\'s inside , and was then rewarded by having the beast turn into a handsome prince in snazzy clothing . \\nkiki , on the other hand , learns to separate her wardrobe from her self-image , and nothing more is made of her early desires for better clothing than illustrating her increased maturity at the end of the film . \\nanother difference with disney movies is in the style of animation for \" kiki\\'s delivery service \" : not as colorful and dynamic as disney animation can be , but with a greater attention to realism and detail , it fits the movie to a t . this is particularly true with scenes of kiki\\'s flights . \\nthe extreme realism of the birds in flight near kiki is magnificent to behold , and helps these scenes capture the wonder of flight better than any other film i\\'ve ever seen . \\ni\\'m not sure when or how this movie will be released in the united states. ',\n",
       " \"we see matthew broderick , a man torn to a primal state ; he's been unfaithful to his wife , lied to and manipulated his students , and by the same token they've demeaned his masculinity , his self-respect , his desperate attempt at changing the world . \\nand yet , he equates the cause of his pain , his torment , with tracy flick ( reese witherspoon ) . \\nno matter how many students have come and gone , and disappointed him as an educator , she's the real threat . \\nabout to give in , and divulge that she's won by only a lone vote , broderick's mccalister turns in defeat , sees tracy's euphoric celebration in the outside corridor and says , 'no' . \\nthe fact that he simultaneously lusts after her ideologically further illustrates that freudian foundation of entitlement which all men , no matter how obscure , have in their relationships ; a traditional expectation of success , to usurp and surpass women as a proverbial industry . \\nshe can't go higher than him . \\nhe won't allow it. \",\n",
       " \"writer oliver stone and director brian de palma make an explosive combination here . \\nstone's script offers solid storytelling and some fine character development . \\nmontana is fascinating ; uneducated but calculating , a straight shooter who speaks from the heart ; an ambitious , violent man yet one with a conscience . \\na man fiercely protective of his beautiful 20 year old sister , not wanting her to be sucked into the glitzy , dangerous world which he inhabits . \\npacino is dynamite , taking to the role with a brooding , bristling energy which in his more recent films has often degenerated into just simple overracting . \\npfeiffer also registers strongly as the gangstar mole with no inner life . \\nonly once does tony express real affection for her and his desire to have children , and even then you sense all he really wants is a regular screw and a beautiful object to show off to his friends , and she's happy to oblige . \\nthis isn't as meaty a role for pfieffer as sharon stone's was in casino , but its an effective one nonetheless and she aquits herself well . \\nas director , de palma sets up a number of dramatic scenes with his typical stylistic brauva . \\nthe escalating tension he creates in various mob situations - a drug deal gone wrong , an assination attempt - is often thrilling , and in this respect he is every bit the equal of scorese and coppola . \\nwhere he differs from , say , coppola's godfather trilogy is in his overall treatment . \\ncoppola gives his crime sagas an operatic sweep , whereas in scarface de palma opts for a grittier feel . \\nand it perfectly suits the material. \",\n",
       " \"to me , any movie with russian-sounding accents for bad guys , jamaican accents for good guys , and middle eastern-sounding accents for seedy gamblers accents can be expected to be more tongue in cheek than profound . \\nvisually , star wars : episode i --the phantom menace ( 1999 ) is a kid show where parents can take their young ones to marvel at child-friendly cgi characters and wondrous backdrops even if the character dialogue ( mostly geopolitics ) is beyond the level of children . \\nit is left to parents to patiently explain the conversation : droid origins , family lineage , the definitions of terms like blockade , appeasement , federation , alliance , symbiosis , satellite-controlled robots et cetera . \\nat least this much is clear : there's plenty of eye candy , and in the last few minutes it's good guys and joe camel lookalikes versus a caped , horned red devil character and his mechanical hordes . \\nweaknesses : weaknesses lie in the writing and in the performance . \\nat first it seems like the film is to be an invasion story , but then phantom takes an hour-long detour to cover one chariot race before returning to the invasion theme . \\nthis dilutes the central story . \\nadditionally , smaller scenes seem written self consciously , as if they were added more to fill us in on extraneous background information for other movies rather than form an integral part of the present movie . \\nveteran actors liam neeson and ewan mcgregor noticeably outperform the other acting leads .\",\n",
       " 'john believes that his mother is somehow connected to his failed relationships with women , either because of his flawed self-esteem caused by his need for validation , or perhaps because he tends to unconsciously seek out women who remind him of his mother in an oedipal manner . \\nhe comes to the conclusion that since his problems are rooted in his boyhood home , he should move back in with his mother for a while just to see what kinds of feelings come out , and by that be able to sort out why his life is the way it is . \\n \" a great experiment \" , he calls it . \\nbrooks\\' own brand of humor really shines in this film , especially in the interaction john has with his mother . \\nthere\\'s a scene where john has just arrived at his mother\\'s house , and after having driven from los angeles to sausalito , and having explained to his mother about the \" great experiment \" , beatrice asks , \" now explain to me again why you don\\'t want to stay at a hotel . \" \\nshe still doesn\\'t get it , and it is absolutely hilarious . \\nin the same scene , we get little glances at the life his mother leads when she tries to feed him food that is no longer fresh . \\nshe apparently buys in great quantities and refrigerates it until the lettuce is wilted and the sherbet is iced over . \\nwhen john points out the ice on the sherbet , beatrice tells him not to worry about the protective glaze . ',\n",
       " 'the acting and direction is top-notch -- never sappy , always touching . \\na friend of mine once reported that he avoided it because \" i was afraid it would just be really politically correct , and tick me off . \" \\nall i could do was tell him to go in unbiased , and enjoy. \\nit is one of the few movies that has completely reduced me to tears. \\nbut certain memories should not often be rereleased -- in the last few shots , you have to cry. ',\n",
       " \"vail himself is a former prosecutor , and quit because of tensions between himself and the district attorney , played very well by john mahoney ( frasier's father on the tv series ) . \\nthere is an underlying theme of dichotomy in the movie : people have public faces , and private faces . \\nwe see this in the murdered archbishop, in the accused , and , most strongly , defense attorney martin vail . \\nrichard gere does a fairly good job. \\nat first , he appears to be a money- and attention-grabbing lawyer, with no consideration of the truth . \\nbut we see another side, as he becomes a seeker of justice, and comes to believe in his client. \\nalfre woodard , as the judge, is capable, though somewhat wasted in a standard role. \\nlaura linney also does journeyman work ; nothing spectacular, but acceptable. \",\n",
       " 'the background music keeps you in a state of urgency , and even suspense , for the first few conversations . \\nit\\'s only after repeated failures to pay any of this off that you lose all hope. \\nand with speeches like , \" i am thinking of something , but i can only think of that something when i am thinking of something else , \" how can you expect to hold anyone\\'s interest ? \\nto godard\\'s credit , he certainly knows how to frame a scene . \\nthe black and white footage used for the first half of the film is starkly beautiful. \\nwatching edgar read while walking along a train track on a mountain makes you wish you had something to ponder along with him . \\nand if this film had anything poignant to say , you would have , which makes you all the angrier at the numerous missed opportunities . \\nthe environments , be it city or country , are impeccably captured in crisp detail , but the script never complements them . \\nunfortunately , godard also manages to pillage his photographic eye by randomly cutting to black numerous times within any given scene . \\nsometimes these breaks are used for chapter headings , but these are even more cryptic than the spoken words . \\nthe second half is composed of nauseating hyper-color that often blurs the image. \\nyou suddenly feel like a doomed character straight out of scanners. ',\n",
       " 'just that the comic setups are obvious and the payoffs nearly all fall flat . \\nthe four leads are nearly all playing the same character . \\nonly williams stands out ( while still performing on the level of his humor-free comedy rocket man ) , but that is because he\\'s imprisoned throughout most of the film , giving a much needed change of pace ( but mostly swapping one set of obvious gags for another ) . \\nto help out , the film is packed full of cameos . \\nsteven wright , tommy chong , janeane garofalo , willie nelson , snoop doggy dogg , and jon stewart all make appearances at one point or another . \\nnone of them work , beyond the simple \" hey , that\\'s _____ \" level . \\nin fact the funniest work in the film comes from chappelle . \\nnot as his bland pothead lead , but in his second role , as a pot-obsessed rapper , sir smokealot . \\ngranted , it\\'s pretty much a one-joke role , and there aren\\'t a ton of laughs . . . \\n',\n",
       " \"four of the biggest directors in hollywood : quentin tarantino , robert rodriguez , alexander rockwell , and alison anders were all directing one big film with a big and popular cast . \\ni guess it was all just too much because this turned out to be the biggest flop of the year and it could of been great . \\nthe plot : it's new years eve and it's a bellboy's first day on the job . \\nhe encounters many mysterious and kinky hotel guests as he tries to handle all his own problems . \\ntarantino told his directors this plot , and each of them wrote a script . \\nit turned out each of them had written a dark comedy . \\nanders wrote and directed the tale about a coven of witches ( madonna , valeria golino , alicia witt , and ione skye ) , which was the worst one out of all of them . \\nthe second room ( jennifer beals ) was better , but lacking in plot . \\nthis room was about a man who accuses every man of sleeping with his wife . \\nthe third room ( antonio banderas ) was the best roomm , about two rambunctous kids that trash a hotel suite . \\nthe final one ( tarantino , willis ) was about a movie star wanting the bellboy to chop off someone's finger . \\nthe movie was just plain trash. \",\n",
       " \"the sequence was there for a purpose : to evoke a strong emotional response from the viewer . \\ni'm usually a sucker for such scenes and yet this time , i was just sitting there , my emotions untouched . \\nthis remains true through all of the movie which remains emotionally barren . \\nwe never develop connections to the characters ; never given a reason to care . \\nthis ludicrously long epic was directed by andy tennant , whose last film was ever after , one of my favorites of 1998 . \\ni do not doubt tennant's ability to put together a decent movie , but anna and the king , aside from being psychologically inept is also technologically deficient . \\nthe sets and scenery are gorgeous , but the camerawork does nothing to convey its grandeur . \\neven terrence malick managed to do more with flora and fauna in his otherwise abysmal the thin red line than tennant can muster from $75 million worth of props and a shoot in malaysia . \\nwe feel like the camera is restricted to its immediate point of view ; there are no wide tracking shots or sweeping zooms to fill us with larger-than-life awe . \\ni liked both foster and yun-fat , who give entertaining if not terribly involving performances in the two lead roles . \\nfoster's generally stoic persona serves her well here , as she is playing a reserved , formal and rather underdeveloped character . \\nyun-fat is especially effective , perfectly conveying the king of siam's sangfroid permeated with violent outbursts . \\nwhat does anna and the king in is its inability to involve the viewer in its characters and situations . \\nthe cast is great , the director is talented , and the budget is lavish , but this ill-advised remake of the classic rogers and hammerstein movie is unable to utilize any of those things to form a compelling whole . \\nthis is an emotionless costume epic . \\n\",\n",
       " 'cohen had personal interest in the updated version of hammer , but heffron has none . \\nhe shot the movie quickly and clumsily , and although some scenes ring true , most of them are flat , trite , and invariably dull . \\nthe movie features numerous car chases , shoot-outs , and stunts , but heffron\\'s background in television is the dominant tone ; despite the graphic violence and full-frontal nudity , \" i , the jury , \" takes on the air of a made-for-tv quickie , with no real punch or depth . \\nbut the problems in \" i , the jury \" run deeper than the technical . \\nthe central fault in this updating is mike hammer , whose character was lost in the shuffle while updating from the fifties to the eighties . \\nbecause spillane wrote all his hammer mysteries in the first person , hammer\\'s character is central to the tale because all the events are filtered through his persona . \\nwe never really get that impression in the movie -- there is no first-person voice-over narration and some scenes don\\'t have hammer in them at all . \\nconsequently , a great deal of the texture of spillane\\'s storytelling is lost . \\nthe period updating turns out to be a detrimentally bad idea because much of hammer\\'s moral code is thrown to the wind . \\ndespite his characterization as a hard-nosed , violent , misogynistic killer , hammer always stuck fervently to his own moral code . \\nthe title itself , \" i , the jury , \" refers to his anti-establishment notion of being his own law . \\nunlike private eyes who seek out the bad guys and then turn them over the police , hammer both pursues the criminal and exacts the punishment . \\nin this way , he can be seen as \" above the law , \" but he still adheres strictly to her own personal code of conduct , his own morality . \\nthe movie forgoes that aspect of his character , and hammer comes off not only as amoral in society\\'s terms , but in any terms , especially his own . \\nif anything , hammer always had his professionalism , but the movie does away with that in the first three minutes by showing him rolling in the sack with the wife of a client who had paid him to find out if that wife was being unfaithful . \\nmaybe the scene was intended for laughs , but it only cheapens hammer\\'s character and is , by all accounts , a lousy way to start the movie . \\nthe blame for hammer\\'s character can\\'t be laid on assante\\'s shoulders , because despite some unnecessary marlon brandon-like mumbling , he delivers a fine performance . \\nspillane never once described hammer\\'s physical attributes in any of the dozen books in which he appeared , so any actor could conceivably portray him . \\nof course , because of the lack of written description , those who have read spillane\\'s books will have a strong personal notion of what hammer looks like , and therefore almost any screen incarnation will somehow fall short of expectations ( spillane , who played the character himself in 1963\\'s \" the girl hunters , \" is generally considered the best of the film hammers ) . \\nthe rest of actors are most un-noteworthy. ',\n",
       " 'while director steve miner has several horror films on his resume ( including two installments of \" friday the 13th \" and \" halloween h20 \" ) , screenwriter david kelley ( best known as the creator of tv series like \" ally mcbeal \" and \" chicago hope \" ) doesn\\'t seem to have the stomach for a chomp \\'em up flick . \\nthe body count is surprisingly low and doesn\\'t include any of the major characters , and most annoyingly kelly and hector insist that they capture the crocodile alive rather than killing it . \\n ( \" lake placid \" manages to have it both ways-i\\'ll let you discover how for yourself ) . \\nthe croc itself is mostly computer-generated , of course . \\nlike the snake in \" anaconda , \" the thirty-foot monster crocodile doesn\\'t seem real ; it moves too quickly and in ways that seem unnatural . \\n \" lake placid \" also offers little explanation for why a giant crocodile is in maine . \\nthere is a lot of semi-mystical mumbo jumbo about how \" we really don\\'t know much about crocodiles . \" \\nthey would have been better off going with something like the urban myth about alligators in the sewers . \\na movie like this doesn\\'t have to offer much of an explanation ( radioactive mutant ? \\ncreature from outer space ? ) , but it does have to give the audience something to hang their disbelief on . \\npullman and fonda seem to be plodding through the movie on auto-pilot . \\nmost of the time , they\\'re probably thinking about killing their agents or wondering if making this movie marks the end of their careers . \\nplatt and white , on the other hand , seem to be giving their best efforts , and they manage to squeeze a few chuckles out of this sorry script . \\n',\n",
       " 'we, the audience , have been tipped off , given that the film begins by showing us eric ( trevor morgan , \" the patriot \" ) , a young boy , and ben ( mark harelik , \" election \" ) going for a paragliding adventure off that same island that goes awry ( and looks like cheesy rear projection ) . \\ngrant\\'s established back home with a new right hand man , billy brennan ( alessandro nivola , \" love\\'s labour\\'s lost \" ) on site at a dig in montana sorely lacking funds . \\nhe also pays a visit to old flame dr . ellie sattler ( laura dern , \" jurassic park \" ) , now married to another with a young son who calls grant \\'the dinosaur man\\' apparently for the sole purpose of dredging her up again for the film\\'s poorly imagined finale . \\ngrant takes billy along on the kirbys trip , which is really an illegal gambit to save their son , that young paraglider . \\nthe couple aren\\'t millionaires , making grant\\'s check bogus , and they\\'re separated as well ( eric was with amanda\\'s new boyfriend , not that that makes much sense ) , meaning we\\'re in for some gooey family dynamics while waiting for the dino dining . \\nthe kirbys hired hands ( and obvious bait ) are a threesome led by mr . udesky ( michael jeter , \" the gift \" ) . \\n ( didn\\'t anyone consider that casting michael jeter and william h . macy together and not having them be related was a little odd ? ) \\nas directed by joe johnston ( \" october sky , \" \" jumanji \" ) ( spielberg only produced this one ) from a risible script by peter buchman and the \" election \" team of alexander payne & jim taylor , \" jurassic park iii \" is nothing more than a quickie monster flick with a couple of new dinos ( a spinosauraus , which goes head to head with the t-rex , and pteranodons ) . \\nthe plot , as it were , is a series of coincidences combined with extreme leaps of faith and a trifecta of stupid cell phone tricks . \\nthe effects are no longer new , and , as shot by television cinematographer shelly johnson , rather murky looking at times . \\nfilm editing by robert dalva ( \" october sky \" ) was presumably done by machete , to keep this down to a 90 minute run time . \\ni know of no other reason to explain the ridiculous ending which features the survivors confronting a pack of raptors , then being saved by the most ludicrous of logic jumps within a few minutes . \\n\\'original\\' music by don davis just repeats john williams\\' original themes. ',\n",
       " 'state of the art effects fly at a mad pace in this $90 million dollar movie and yet director david kelogg never sets up a convincing atmosphere . \\nhad they replaced all the fancy gizmos with dollar bills they would have wound up with the same effect . \\nwhat we see on the screen is like the raw ingredients of a meal : all of the expensive f/x amounts to nothing . \\npart of the charm of the tv series was its sly irreverence which has gone down the toilet in the condescending movie . \\ncan kids really admire a hero so goody-two-shoes that he screams \" hey ! \\nyou ran a stop sign ! \" \\nwhile hanging off the back bumper of a quickly moving vehicle ? \\ni think that today\\'s children will respond better to somebody dashing , someone ultra-cool . \\nthey ( probably ) receive enough preaching from their parents and its an insult to their intelligence to assume that they want to go to an action movie to see a father figure kick butt . \\nin addition to the more complex complaints above , there\\'s also the simple stuff : inspector gadget is boring , formulaic and achingly implausible . \\nthere\\'s no feeling that the director really cares about his story : more than any other film i\\'ve seen this year , this one really feels like it was made on an assembly line . \\nthere\\'s a popular commercial ( for sprite , but that\\'s irrelevant ) running in movie theaters before features that spoofs the way major studios deal with projects . \\nit consists of studio suits discussing a fictitious ( thank god ) movie called \" death slug \". \\n',\n",
       " 'either way , we get to see a lot of bottoms because the two beautiful women in the crew are both conveniently wearing hot pants during the scenes where the camera shoots upwards while they climb up ladders and -- in the ballroom scene -- christmas trees . \\nthus begins an hour or more of hushed trips down long corridors , through burning rooms , etc . while the ship slowly fills with water behind them . \\nit\\'s a race against the clock which is only mildly interesting . \\nthe poseidon adventure works more as a bad movie to laugh at , with all the melodrama that comes in-between the non-thrilling action scenes . \\nthe one note in borgnine\\'s one-note performance is to be a cranky old man that argues with hackman every step of the way while buttons and the hippie fall in love ( although since there isn\\'t a sex scene , we never find out if his buttons really are red ) and albertson and winters wonder if they\\'ll live to see their grandson\\'s birth . \\nshelley winters provides the most hilarious scene in the movie in a scene toward the end , where water has flooded the next two rooms of the ship and hackman is preparing to dive under with a rope for the rest of them to pull along . \\nwinters , who has been the whiny fat woman throughout the movie ( stevens even not-so- affectionately calls her \" fatass \" in one scene ) , finally finds her purpose . \\n \" i was the underwater swimming champ of new york three years running when i was seventeen , \" she brags , and before hackman can even ask her how she could be seventeen for three years , she\\'s swimming through the water , her skirt billowing up around her hips , showing off her cellulite ( or do you call it shellulite ? ) \\nridden thighs. ',\n",
       " 'it is obvious that columbus didn\\'t take them very seriously . \\nwhen you think about it , this film is not really meditating on the question \" when is a robot no longer a machine , but a human being ? \" , but tells a story about racial discrimination and lack of understanding . \\nandrew is so complex and emotional from the very beginning that the audience immediately accepts him as a human being , and only the society has troubles with it . \\nin other words , it is as far from reality as from the academy awards . \\nfurther more , there are other annoying problems . \\nto this day no serious filmmaker has dared to speculate about the future in more than 50 years from now . \\nthis has not been done for obvious reasons , because the filmmakers are well aware of the fact that they lack the knowledge and imagination to perform such a difficult task . \\ncolumbus is the first to have crossed that line . \\nthe result is , as you might imagine , primitive , unrealistic and incredibly disappointing effort . \\nthe world is simply frozen in time . \\nneither the society , fashion , culture or values have changed over 200 years . \\nmom is still working at the kitchen , doing the dishes . \\nwhen you think back to the late 17th century and then compare it to the world we live in today , you\\'ll see a slightly bigger difference . \\ni am not saying that everything should change . \\nit is unlikely that the human rights will change , but it\\'s even more unlikely that there will not be any progress in science , technology and fashion . \\ni suppose it\\'s possible to watch this as a some sort of bizarre fairytale , but it\\'s really hard . \\nrobin williams is hidden behind c and speaking in a robotic way . \\nas always he does a decent job , as does sam neill . \\nbut it doesn\\'t really matter. ']"
      ]
     },
     "execution_count": 75,
     "metadata": {},
     "output_type": "execute_result"
    }
   ],
   "source": [
    "f = open('./data/row_file_231205.pickle', mode='rb')\n",
    "home_row = pickle.load(f)\n",
    "\n",
    "home_row"
   ]
  },
  {
   "cell_type": "code",
   "execution_count": null,
   "id": "881c487e-3a41-42ed-ad7c-8f22dffe28e2",
   "metadata": {},
   "outputs": [],
   "source": []
  },
  {
   "cell_type": "code",
   "execution_count": null,
   "id": "5536b7fb-2f96-467e-9865-09ba91e9ea9d",
   "metadata": {},
   "outputs": [],
   "source": []
  },
  {
   "cell_type": "code",
   "execution_count": null,
   "id": "e0ed9d53-f40f-4782-a4a4-da860283d401",
   "metadata": {},
   "outputs": [],
   "source": []
  },
  {
   "cell_type": "code",
   "execution_count": null,
   "id": "8d5d8ce0-0763-4cee-8fa5-08202ef06644",
   "metadata": {},
   "outputs": [],
   "source": []
  },
  {
   "cell_type": "code",
   "execution_count": null,
   "id": "b4a2d607-5a03-4c94-9c19-1d8698dc1d4b",
   "metadata": {},
   "outputs": [],
   "source": []
  },
  {
   "cell_type": "code",
   "execution_count": null,
   "id": "40f85e1e-5ff9-4994-b0d2-75671579a48f",
   "metadata": {},
   "outputs": [],
   "source": []
  },
  {
   "cell_type": "code",
   "execution_count": null,
   "id": "d64f4a9e-4b2d-460b-b7c8-5c3e152c8ae0",
   "metadata": {},
   "outputs": [],
   "source": []
  },
  {
   "cell_type": "code",
   "execution_count": null,
   "id": "f8197fc7-293f-4509-802c-e95abab05efb",
   "metadata": {},
   "outputs": [],
   "source": []
  },
  {
   "cell_type": "code",
   "execution_count": null,
   "id": "b7787d1b-94f3-4913-b857-d33914d627bf",
   "metadata": {},
   "outputs": [],
   "source": []
  },
  {
   "cell_type": "code",
   "execution_count": null,
   "id": "4c83cdbb-4e9b-4349-9758-867eb6a40563",
   "metadata": {},
   "outputs": [],
   "source": []
  },
  {
   "cell_type": "code",
   "execution_count": null,
   "id": "f7debb3f-1c9a-4217-96de-6bebec21353c",
   "metadata": {},
   "outputs": [],
   "source": []
  },
  {
   "cell_type": "code",
   "execution_count": null,
   "id": "4aa5ac8a-795f-43e0-b0ef-3d19dcbc6204",
   "metadata": {},
   "outputs": [],
   "source": []
  },
  {
   "cell_type": "code",
   "execution_count": null,
   "id": "0692b2e4-0dd4-4c05-8612-bd342d1b80b5",
   "metadata": {},
   "outputs": [],
   "source": []
  }
 ],
 "metadata": {
  "kernelspec": {
   "display_name": "Python 3 (ipykernel)",
   "language": "python",
   "name": "python3"
  },
  "language_info": {
   "codemirror_mode": {
    "name": "ipython",
    "version": 3
   },
   "file_extension": ".py",
   "mimetype": "text/x-python",
   "name": "python",
   "nbconvert_exporter": "python",
   "pygments_lexer": "ipython3",
   "version": "3.11.5"
  },
  "widgets": {
   "application/vnd.jupyter.widget-state+json": {
    "state": {},
    "version_major": 2,
    "version_minor": 0
   }
  }
 },
 "nbformat": 4,
 "nbformat_minor": 5
}
