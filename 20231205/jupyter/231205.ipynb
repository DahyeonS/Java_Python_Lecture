{
 "cells": [
  {
   "cell_type": "code",
   "execution_count": 1,
   "id": "0d848bd6-af06-4406-b77e-494fbaf19263",
   "metadata": {},
   "outputs": [],
   "source": [
    "import os"
   ]
  },
  {
   "cell_type": "code",
   "execution_count": 2,
   "id": "8f073d03-18bd-40c3-a6f5-e1c3eee54ab1",
   "metadata": {},
   "outputs": [
    {
     "name": "stdout",
     "output_type": "stream",
     "text": [
      "D:\\kdigital2307\\python\\jupyter\n"
     ]
    }
   ],
   "source": [
    "print(os.getcwd())"
   ]
  },
  {
   "cell_type": "code",
   "execution_count": 10,
   "id": "a5910025-c5fb-4d92-9f3a-79be68871e4b",
   "metadata": {},
   "outputs": [
    {
     "name": "stdout",
     "output_type": "stream",
     "text": [
      "programming is fun\n",
      "very fun!\n",
      "have a good time\n",
      "mouse is input device\n",
      "keyboard is input device\n",
      "computer is input output system <class 'str'>\n"
     ]
    }
   ],
   "source": [
    "try :\n",
    "    f = open('./data/ftest.txt', mode='r', encoding='utf-8')\n",
    "    print(f.read(), type(f.read()))\n",
    "\n",
    "    f2 = open('./data/ftest2.txt', mode='w')\n",
    "    s = 'my first python~~\\n'\n",
    "    f2.write(s)\n",
    "\n",
    "    f3 = open('./data/ftest2.txt', mode='a')\n",
    "    s = 'my first python~~222222222'\n",
    "    f3.write(s)\n",
    "except Exception as e :\n",
    "    print(e)\n",
    "finally :\n",
    "    f.close()\n",
    "    f2.close()\n",
    "    f3.close()"
   ]
  },
  {
   "cell_type": "code",
   "execution_count": 19,
   "id": "5207d9cf-d8e3-4541-8b6b-69c294ac16b4",
   "metadata": {},
   "outputs": [
    {
     "name": "stdout",
     "output_type": "stream",
     "text": [
      "['programming is fun', 'very fun!', 'have a good time', 'mouse is input device', 'keyboard is input device', 'computer is input output system']\n",
      "[['programming', 'is', 'fun'], ['very', 'fun!'], ['have', 'a', 'good', 'time'], ['mouse', 'is', 'input', 'device'], ['keyboard', 'is', 'input', 'device'], ['computer', 'is', 'input', 'output', 'system']]\n",
      "['programming', 'is', 'fun', 'very', 'fun!', 'have', 'a', 'good', 'time', 'mouse', 'is', 'input', 'device', 'keyboard', 'is', 'input', 'device', 'computer', 'is', 'input', 'output', 'system']\n"
     ]
    }
   ],
   "source": [
    "try :\n",
    "    f = open('./data/ftest.txt', mode='r')\n",
    "    lines = f.readlines()\n",
    "    doc = []\n",
    "    for line in lines :\n",
    "        doc.append(line.strip()) # 공백/제어문자 제거\n",
    "    print(doc)\n",
    "    words = []\n",
    "    items = []\n",
    "    for word in doc :\n",
    "        words.append(word.split())\n",
    "        for item in word.split() :\n",
    "            items.append(item)\n",
    "    print(words)\n",
    "    print(items)\n",
    "except Exception as e :\n",
    "    print(e)\n",
    "finally :\n",
    "    f.close()"
   ]
  },
  {
   "cell_type": "code",
   "execution_count": 22,
   "id": "5774f890-5117-4b9a-bef8-e40403be6735",
   "metadata": {},
   "outputs": [
    {
     "data": {
      "text/plain": [
       "['first', 'second']"
      ]
     },
     "execution_count": 22,
     "metadata": {},
     "output_type": "execute_result"
    }
   ],
   "source": [
    "txt_data = './data/txt_data/'\n",
    "sub_dir = os.listdir(txt_data)\n",
    "sub_dir"
   ]
  },
  {
   "cell_type": "code",
   "execution_count": 31,
   "id": "00185ea5-f26c-403b-a8a5-f06e628f5a82",
   "metadata": {},
   "outputs": [
    {
     "data": {
      "text/plain": [
       "['./data/txt_data/first\\\\txt01_data.txt',\n",
       " './data/txt_data/first\\\\txt02_data.txt',\n",
       " './data/txt_data/first\\\\txt03_data.txt',\n",
       " './data/txt_data/first\\\\txt04_data.txt',\n",
       " './data/txt_data/first\\\\txt05_data.txt',\n",
       " './data/txt_data/first\\\\txt06_data.txt',\n",
       " './data/txt_data/first\\\\txt07_data.txt',\n",
       " './data/txt_data/first\\\\txt08_data.txt',\n",
       " './data/txt_data/first\\\\txt09_data.txt',\n",
       " './data/txt_data/first\\\\txt10_data.txt']"
      ]
     },
     "execution_count": 31,
     "metadata": {},
     "output_type": "execute_result"
    }
   ],
   "source": [
    "import glob\n",
    "\n",
    "glob.glob('./data/txt_data/first/txt*') # txt로 시작하는 파일 또는 폴더"
   ]
  },
  {
   "cell_type": "code",
   "execution_count": 48,
   "id": "43d6a046-9b8b-44a9-a914-dedd35ffbb23",
   "metadata": {},
   "outputs": [],
   "source": [
    "def text_pro(sub_dir) :\n",
    "    first_txt = []\n",
    "    second_txt = []\n",
    "\n",
    "    for sdir in sub_dir :\n",
    "        dir_name = txt_data + sdir\n",
    "        file_list = os.listdir(dir_name)\n",
    "        for fname in file_list :\n",
    "            file_path = dir_name + '/' + fname\n",
    "            if os.path.isfile(file_path) :\n",
    "                try :\n",
    "                    f = open(file_path, 'r')\n",
    "                    if sdir == 'first' :\n",
    "                        first_txt.append(f.read())\n",
    "                    else :\n",
    "                        second_txt.append(f.read())\n",
    "                except Exception as e :\n",
    "                    print(e)\n",
    "                finally :\n",
    "                    f.close()\n",
    "            else :\n",
    "                print(f'{file_path}는 디렉토리 제외!!')\n",
    "\n",
    "    return first_txt, second_txt"
   ]
  },
  {
   "cell_type": "code",
   "execution_count": 50,
   "id": "5bcb3319-1f10-463b-b50c-c364daad4b8a",
   "metadata": {},
   "outputs": [
    {
     "name": "stdout",
     "output_type": "stream",
     "text": [
      "./data/txt_data/first/test01는 디렉토리 제외!!\n",
      "./data/txt_data/first/test02는 디렉토리 제외!!\n",
      "./data/txt_data/second/test03는 디렉토리 제외!!\n",
      "./data/txt_data/second/test04는 디렉토리 제외!!\n"
     ]
    }
   ],
   "source": [
    "first_txt, second_txt = text_pro(sub_dir)"
   ]
  },
  {
   "cell_type": "code",
   "execution_count": 53,
   "id": "bac2f7a8-7dd1-41c3-88ea-9d6e4961dec6",
   "metadata": {},
   "outputs": [
    {
     "name": "stdout",
     "output_type": "stream",
     "text": [
      "20\n",
      "it is obvious that columbus didn't take them very seriously . \n",
      "when you think about it , this film is not really meditating on the question \" when is a robot no longer a machine , but a human being ? \" , but tells a story about racial discrimination and lack of understanding . \n",
      "andrew is so complex and emotional from the very beginning that the audience immediately accepts him as a human being , and only the society has troubles with it . \n",
      "in other words , it is as far from reality as from the academy awards . \n",
      "further more , there are other annoying problems . \n",
      "to this day no serious filmmaker has dared to speculate about the future in more than 50 years from now . \n",
      "this has not been done for obvious reasons , because the filmmakers are well aware of the fact that they lack the knowledge and imagination to perform such a difficult task . \n",
      "columbus is the first to have crossed that line . \n",
      "the result is , as you might imagine , primitive , unrealistic and incredibly disappointing effort . \n",
      "the world is simply frozen in time . \n",
      "neither the society , fashion , culture or values have changed over 200 years . \n",
      "mom is still working at the kitchen , doing the dishes . \n",
      "when you think back to the late 17th century and then compare it to the world we live in today , you'll see a slightly bigger difference . \n",
      "i am not saying that everything should change . \n",
      "it is unlikely that the human rights will change , but it's even more unlikely that there will not be any progress in science , technology and fashion . \n",
      "i suppose it's possible to watch this as a some sort of bizarre fairytale , but it's really hard . \n",
      "robin williams is hidden behind c and speaking in a robotic way . \n",
      "as always he does a decent job , as does sam neill . \n",
      "but it doesn't really matter. \n"
     ]
    }
   ],
   "source": [
    "row_file = first_txt + second_txt\n",
    "print(len(row_file))\n",
    "print(row_file[-1])"
   ]
  },
  {
   "cell_type": "code",
   "execution_count": 64,
   "id": "88c14c3e-6a33-4feb-a31e-162de2bb12e9",
   "metadata": {},
   "outputs": [],
   "source": [
    "def text_pro2(sub_dir) :\n",
    "    first_txt = []\n",
    "    second_txt = []\n",
    "\n",
    "    for sdir in sub_dir :\n",
    "        dir_name = txt_data + sdir + '/txt*'\n",
    "        file_list = glob.glob(dir_name)\n",
    "        for file_path in file_list :\n",
    "            if os.path.isfile(file_path) :\n",
    "                try :\n",
    "                    f = open(file_path, 'r')\n",
    "                    if sdir == 'first' :\n",
    "                        first_txt.append(f.read())\n",
    "                    else :\n",
    "                        second_txt.append(f.read())\n",
    "                except Exception as e :\n",
    "                    print(e)\n",
    "                finally :\n",
    "                    f.close()\n",
    "            else :\n",
    "                print(f'{file_path}는 디렉토리 제외!!')\n",
    "\n",
    "    return first_txt, second_txt"
   ]
  },
  {
   "cell_type": "code",
   "execution_count": 67,
   "id": "dfba69df-69b0-4209-be21-7369ec0a67e9",
   "metadata": {},
   "outputs": [
    {
     "data": {
      "text/plain": [
       "\"maroon thinks that roger's wife , jessica's , possible unfaithfulness to him might be the cause of distraction and tells eddie to get some photos of her in the act before it costs him any more money in reshoots . \\nvaliant takes some photos of jessica playing , `patty cake' with marvin acme ( stubby kaye ) , the owner of toontown ( where all of the cartoon characters live ) and takes them to maroon . \\nupon seeing them , roger is emotionally destroyed and soon after acme is found dead and roger rabbit is the prime suspect . \\nthe rest of the movie follows valiant and roger as they run around town ( and eventually toontown ) trying to clear roger's good name . \\nalong the way they meet judge doom ( christopher lloyd ) a judge-jury-and executioner type who's out to get roger and has discovered the one and only way to kill a `toon . ' \\n`who framed roger rabbit' won 4 academy awards including a special achievement award for richard williams for animation direction and creation of the cartoon characters ( williams and his teams went through the film frame by frame and hand drew the cartoon characters in ) . \\ndirector robert zemekis must be given an equal amount of praise for overseeing the entire production , which included hundreds of animators . \\nalso bob hoskins' performance should be credited. \""
      ]
     },
     "execution_count": 67,
     "metadata": {},
     "output_type": "execute_result"
    }
   ],
   "source": [
    "first_txt, second_txt = text_pro2(sub_dir)\n",
    "first_txt[0]"
   ]
  },
  {
   "cell_type": "markdown",
   "id": "e2035367-8c1b-4754-ad41-ba0165c5edd9",
   "metadata": {},
   "source": [
    "# pickle"
   ]
  },
  {
   "cell_type": "code",
   "execution_count": 68,
   "id": "245bcbd4-9f9d-48c8-af27-4cd7bf618cf8",
   "metadata": {},
   "outputs": [],
   "source": [
    "import pickle"
   ]
  },
  {
   "cell_type": "code",
   "execution_count": 70,
   "id": "b27dec02-6e6b-4892-8912-5ba49cfde415",
   "metadata": {},
   "outputs": [],
   "source": [
    "f = open('./data/row_file_231205.pickle', mode='wb') # 이진파일 저장\n",
    "pickle.dump(row_file, f)\n",
    "f.close()"
   ]
  },
  {
   "cell_type": "code",
   "execution_count": null,
   "id": "49600e9f-40d5-4db4-b5c9-a2574784dc09",
   "metadata": {},
   "outputs": [],
   "source": [
    "with open('./data/row_file_231205.pickle', mode='wb') as f : # 이진파일 저장\n",
    "    pickle.dump(row_file, f)"
   ]
  },
  {
   "cell_type": "code",
   "execution_count": 75,
   "id": "9cb7357f-6bbb-48e1-ad5c-a21a1eab68a3",
   "metadata": {},
   "outputs": [
    {
     "data": {
      "text/plain": [
       "[\"maroon thinks that roger's wife , jessica's , possible unfaithfulness to him might be the cause of distraction and tells eddie to get some photos of her in the act before it costs him any more money in reshoots . \\nvaliant takes some photos of jessica playing , `patty cake' with marvin acme ( stubby kaye ) , the owner of toontown ( where all of the cartoon characters live ) and takes them to maroon . \\nupon seeing them , roger is emotionally destroyed and soon after acme is found dead and roger rabbit is the prime suspect . \\nthe rest of the movie follows valiant and roger as they run around town ( and eventually toontown ) trying to clear roger's good name . \\nalong the way they meet judge doom ( christopher lloyd ) a judge-jury-and executioner type who's out to get roger and has discovered the one and only way to kill a `toon . ' \\n`who framed roger rabbit' won 4 academy awards including a special achievement award for richard williams for animation direction and creation of the cartoon characters ( williams and his teams went through the film frame by frame and hand drew the cartoon characters in ) . \\ndirector robert zemekis must be given an equal amount of praise for overseeing the entire production , which included hundreds of animators . \\nalso bob hoskins' performance should be credited. \",\n",
       " 'it shouldn\\'t have surprised me , then , that kundun , a film about a mystical religion , actually turned out to be quite straightforward . \\nthe movie follows the life of the 14th dalai lama , the spiritual and political leader of tibet . \\nthe movie\\'s title is another name for the dalai lama which means \" ocean of wisdom . \" \\nhis story is told in strict chronological order and there are only a few cinematic visions to embellish the literal story . \\n ( one of which makes an interesting statement : pay attention to the film\\'s opening shot and watch where it is repeated . ) \\nwe first glimpse the dalai lama when he is two years old. \\nhis curiosity and self-assuredness capture the attention of a monk wandering in search of the new lama . \\na test is arranged to see if this boy really is the reincarnation of the 13 dalai lamas who have gone before . \\nseveral items belonging to the previous dalai lama are laid before the boy alongside some other items . \\nthe child is asked if he recognizes any of the items as his own.',\n",
       " 'who cowrote the script with emmanuelle bernheim , marcia romano , and marina de van , has turned in a more mature work than his previous , creepy \" see the sea . \" \\nwhile he cleverly never lets us see jean enter the water that fateful day , leaving a number of possibilities - accident ? , suicide ? , escape ? \\n- open , he definitely tips his hand towards a certain outcome . \\ncinematography by antoine hiberli and jeanne lapoirie glides around marie or captures rampling\\'s exotic face in mood divining closeup . \\nin an inventive fantasy scene , marie imagines jean\\'s hands massaging her feet while in a state of auto-arousal . \\nhis two hands become four , then more combined with her own , becoming almost a one person orgy and recalling roman polanski\\'s \" repulsion . \" \\noriginal music by philippe rombi quietly adds to the overall melancholy. ',\n",
       " 'kiki comes to realize not only the beauty of her surroundings , but the innate beauty inside her . \\nseeing kiki regain faith in herself is marvelous , and the principal device used to do it is so sublime that i don\\'t even want to hint at it . \\nthe ending of the movie has a subtle charm combined with a sense of awe and , ironically , the most disney-esque moment i\\'ve ever seen ; if you don\\'t hold your breath in wonder you might want to get medical attention . \\nthe movie steers free of many of the disney conventions : there is no violence , however cartoonish , no song-and-dance number , and kiki\\'s pet cat jiji is more a friend than a comedic sidekick , although jiji is given many funny lines and scenes . \\nhowever , i would be surprised if disney doesn\\'t give jiji more jokes , or at least the voice of some comedian . \\nrefreshingly enough , the moral lesson of the movie is not self-contradicted , a habit disney movies have gotten into . \\n \" beauty and the beast \" \\'s beautiful belle , for instance , learned that beauty was derived from a person\\'s inside , and was then rewarded by having the beast turn into a handsome prince in snazzy clothing . \\nkiki , on the other hand , learns to separate her wardrobe from her self-image , and nothing more is made of her early desires for better clothing than illustrating her increased maturity at the end of the film . \\nanother difference with disney movies is in the style of animation for \" kiki\\'s delivery service \" : not as colorful and dynamic as disney animation can be , but with a greater attention to realism and detail , it fits the movie to a t . this is particularly true with scenes of kiki\\'s flights . \\nthe extreme realism of the birds in flight near kiki is magnificent to behold , and helps these scenes capture the wonder of flight better than any other film i\\'ve ever seen . \\ni\\'m not sure when or how this movie will be released in the united states. ',\n",
       " \"we see matthew broderick , a man torn to a primal state ; he's been unfaithful to his wife , lied to and manipulated his students , and by the same token they've demeaned his masculinity , his self-respect , his desperate attempt at changing the world . \\nand yet , he equates the cause of his pain , his torment , with tracy flick ( reese witherspoon ) . \\nno matter how many students have come and gone , and disappointed him as an educator , she's the real threat . \\nabout to give in , and divulge that she's won by only a lone vote , broderick's mccalister turns in defeat , sees tracy's euphoric celebration in the outside corridor and says , 'no' . \\nthe fact that he simultaneously lusts after her ideologically further illustrates that freudian foundation of entitlement which all men , no matter how obscure , have in their relationships ; a traditional expectation of success , to usurp and surpass women as a proverbial industry . \\nshe can't go higher than him . \\nhe won't allow it. \",\n",
       " \"writer oliver stone and director brian de palma make an explosive combination here . \\nstone's script offers solid storytelling and some fine character development . \\nmontana is fascinating ; uneducated but calculating , a straight shooter who speaks from the heart ; an ambitious , violent man yet one with a conscience . \\na man fiercely protective of his beautiful 20 year old sister , not wanting her to be sucked into the glitzy , dangerous world which he inhabits . \\npacino is dynamite , taking to the role with a brooding , bristling energy which in his more recent films has often degenerated into just simple overracting . \\npfeiffer also registers strongly as the gangstar mole with no inner life . \\nonly once does tony express real affection for her and his desire to have children , and even then you sense all he really wants is a regular screw and a beautiful object to show off to his friends , and she's happy to oblige . \\nthis isn't as meaty a role for pfieffer as sharon stone's was in casino , but its an effective one nonetheless and she aquits herself well . \\nas director , de palma sets up a number of dramatic scenes with his typical stylistic brauva . \\nthe escalating tension he creates in various mob situations - a drug deal gone wrong , an assination attempt - is often thrilling , and in this respect he is every bit the equal of scorese and coppola . \\nwhere he differs from , say , coppola's godfather trilogy is in his overall treatment . \\ncoppola gives his crime sagas an operatic sweep , whereas in scarface de palma opts for a grittier feel . \\nand it perfectly suits the material. \",\n",
       " \"to me , any movie with russian-sounding accents for bad guys , jamaican accents for good guys , and middle eastern-sounding accents for seedy gamblers accents can be expected to be more tongue in cheek than profound . \\nvisually , star wars : episode i --the phantom menace ( 1999 ) is a kid show where parents can take their young ones to marvel at child-friendly cgi characters and wondrous backdrops even if the character dialogue ( mostly geopolitics ) is beyond the level of children . \\nit is left to parents to patiently explain the conversation : droid origins , family lineage , the definitions of terms like blockade , appeasement , federation , alliance , symbiosis , satellite-controlled robots et cetera . \\nat least this much is clear : there's plenty of eye candy , and in the last few minutes it's good guys and joe camel lookalikes versus a caped , horned red devil character and his mechanical hordes . \\nweaknesses : weaknesses lie in the writing and in the performance . \\nat first it seems like the film is to be an invasion story , but then phantom takes an hour-long detour to cover one chariot race before returning to the invasion theme . \\nthis dilutes the central story . \\nadditionally , smaller scenes seem written self consciously , as if they were added more to fill us in on extraneous background information for other movies rather than form an integral part of the present movie . \\nveteran actors liam neeson and ewan mcgregor noticeably outperform the other acting leads .\",\n",
       " 'john believes that his mother is somehow connected to his failed relationships with women , either because of his flawed self-esteem caused by his need for validation , or perhaps because he tends to unconsciously seek out women who remind him of his mother in an oedipal manner . \\nhe comes to the conclusion that since his problems are rooted in his boyhood home , he should move back in with his mother for a while just to see what kinds of feelings come out , and by that be able to sort out why his life is the way it is . \\n \" a great experiment \" , he calls it . \\nbrooks\\' own brand of humor really shines in this film , especially in the interaction john has with his mother . \\nthere\\'s a scene where john has just arrived at his mother\\'s house , and after having driven from los angeles to sausalito , and having explained to his mother about the \" great experiment \" , beatrice asks , \" now explain to me again why you don\\'t want to stay at a hotel . \" \\nshe still doesn\\'t get it , and it is absolutely hilarious . \\nin the same scene , we get little glances at the life his mother leads when she tries to feed him food that is no longer fresh . \\nshe apparently buys in great quantities and refrigerates it until the lettuce is wilted and the sherbet is iced over . \\nwhen john points out the ice on the sherbet , beatrice tells him not to worry about the protective glaze . ',\n",
       " 'the acting and direction is top-notch -- never sappy , always touching . \\na friend of mine once reported that he avoided it because \" i was afraid it would just be really politically correct , and tick me off . \" \\nall i could do was tell him to go in unbiased , and enjoy. \\nit is one of the few movies that has completely reduced me to tears. \\nbut certain memories should not often be rereleased -- in the last few shots , you have to cry. ',\n",
       " \"vail himself is a former prosecutor , and quit because of tensions between himself and the district attorney , played very well by john mahoney ( frasier's father on the tv series ) . \\nthere is an underlying theme of dichotomy in the movie : people have public faces , and private faces . \\nwe see this in the murdered archbishop, in the accused , and , most strongly , defense attorney martin vail . \\nrichard gere does a fairly good job. \\nat first , he appears to be a money- and attention-grabbing lawyer, with no consideration of the truth . \\nbut we see another side, as he becomes a seeker of justice, and comes to believe in his client. \\nalfre woodard , as the judge, is capable, though somewhat wasted in a standard role. \\nlaura linney also does journeyman work ; nothing spectacular, but acceptable. \",\n",
       " 'the background music keeps you in a state of urgency , and even suspense , for the first few conversations . \\nit\\'s only after repeated failures to pay any of this off that you lose all hope. \\nand with speeches like , \" i am thinking of something , but i can only think of that something when i am thinking of something else , \" how can you expect to hold anyone\\'s interest ? \\nto godard\\'s credit , he certainly knows how to frame a scene . \\nthe black and white footage used for the first half of the film is starkly beautiful. \\nwatching edgar read while walking along a train track on a mountain makes you wish you had something to ponder along with him . \\nand if this film had anything poignant to say , you would have , which makes you all the angrier at the numerous missed opportunities . \\nthe environments , be it city or country , are impeccably captured in crisp detail , but the script never complements them . \\nunfortunately , godard also manages to pillage his photographic eye by randomly cutting to black numerous times within any given scene . \\nsometimes these breaks are used for chapter headings , but these are even more cryptic than the spoken words . \\nthe second half is composed of nauseating hyper-color that often blurs the image. \\nyou suddenly feel like a doomed character straight out of scanners. ',\n",
       " 'just that the comic setups are obvious and the payoffs nearly all fall flat . \\nthe four leads are nearly all playing the same character . \\nonly williams stands out ( while still performing on the level of his humor-free comedy rocket man ) , but that is because he\\'s imprisoned throughout most of the film , giving a much needed change of pace ( but mostly swapping one set of obvious gags for another ) . \\nto help out , the film is packed full of cameos . \\nsteven wright , tommy chong , janeane garofalo , willie nelson , snoop doggy dogg , and jon stewart all make appearances at one point or another . \\nnone of them work , beyond the simple \" hey , that\\'s _____ \" level . \\nin fact the funniest work in the film comes from chappelle . \\nnot as his bland pothead lead , but in his second role , as a pot-obsessed rapper , sir smokealot . \\ngranted , it\\'s pretty much a one-joke role , and there aren\\'t a ton of laughs . . . \\n',\n",
       " \"four of the biggest directors in hollywood : quentin tarantino , robert rodriguez , alexander rockwell , and alison anders were all directing one big film with a big and popular cast . \\ni guess it was all just too much because this turned out to be the biggest flop of the year and it could of been great . \\nthe plot : it's new years eve and it's a bellboy's first day on the job . \\nhe encounters many mysterious and kinky hotel guests as he tries to handle all his own problems . \\ntarantino told his directors this plot , and each of them wrote a script . \\nit turned out each of them had written a dark comedy . \\nanders wrote and directed the tale about a coven of witches ( madonna , valeria golino , alicia witt , and ione skye ) , which was the worst one out of all of them . \\nthe second room ( jennifer beals ) was better , but lacking in plot . \\nthis room was about a man who accuses every man of sleeping with his wife . \\nthe third room ( antonio banderas ) was the best roomm , about two rambunctous kids that trash a hotel suite . \\nthe final one ( tarantino , willis ) was about a movie star wanting the bellboy to chop off someone's finger . \\nthe movie was just plain trash. \",\n",
       " \"the sequence was there for a purpose : to evoke a strong emotional response from the viewer . \\ni'm usually a sucker for such scenes and yet this time , i was just sitting there , my emotions untouched . \\nthis remains true through all of the movie which remains emotionally barren . \\nwe never develop connections to the characters ; never given a reason to care . \\nthis ludicrously long epic was directed by andy tennant , whose last film was ever after , one of my favorites of 1998 . \\ni do not doubt tennant's ability to put together a decent movie , but anna and the king , aside from being psychologically inept is also technologically deficient . \\nthe sets and scenery are gorgeous , but the camerawork does nothing to convey its grandeur . \\neven terrence malick managed to do more with flora and fauna in his otherwise abysmal the thin red line than tennant can muster from $75 million worth of props and a shoot in malaysia . \\nwe feel like the camera is restricted to its immediate point of view ; there are no wide tracking shots or sweeping zooms to fill us with larger-than-life awe . \\ni liked both foster and yun-fat , who give entertaining if not terribly involving performances in the two lead roles . \\nfoster's generally stoic persona serves her well here , as she is playing a reserved , formal and rather underdeveloped character . \\nyun-fat is especially effective , perfectly conveying the king of siam's sangfroid permeated with violent outbursts . \\nwhat does anna and the king in is its inability to involve the viewer in its characters and situations . \\nthe cast is great , the director is talented , and the budget is lavish , but this ill-advised remake of the classic rogers and hammerstein movie is unable to utilize any of those things to form a compelling whole . \\nthis is an emotionless costume epic . \\n\",\n",
       " 'cohen had personal interest in the updated version of hammer , but heffron has none . \\nhe shot the movie quickly and clumsily , and although some scenes ring true , most of them are flat , trite , and invariably dull . \\nthe movie features numerous car chases , shoot-outs , and stunts , but heffron\\'s background in television is the dominant tone ; despite the graphic violence and full-frontal nudity , \" i , the jury , \" takes on the air of a made-for-tv quickie , with no real punch or depth . \\nbut the problems in \" i , the jury \" run deeper than the technical . \\nthe central fault in this updating is mike hammer , whose character was lost in the shuffle while updating from the fifties to the eighties . \\nbecause spillane wrote all his hammer mysteries in the first person , hammer\\'s character is central to the tale because all the events are filtered through his persona . \\nwe never really get that impression in the movie -- there is no first-person voice-over narration and some scenes don\\'t have hammer in them at all . \\nconsequently , a great deal of the texture of spillane\\'s storytelling is lost . \\nthe period updating turns out to be a detrimentally bad idea because much of hammer\\'s moral code is thrown to the wind . \\ndespite his characterization as a hard-nosed , violent , misogynistic killer , hammer always stuck fervently to his own moral code . \\nthe title itself , \" i , the jury , \" refers to his anti-establishment notion of being his own law . \\nunlike private eyes who seek out the bad guys and then turn them over the police , hammer both pursues the criminal and exacts the punishment . \\nin this way , he can be seen as \" above the law , \" but he still adheres strictly to her own personal code of conduct , his own morality . \\nthe movie forgoes that aspect of his character , and hammer comes off not only as amoral in society\\'s terms , but in any terms , especially his own . \\nif anything , hammer always had his professionalism , but the movie does away with that in the first three minutes by showing him rolling in the sack with the wife of a client who had paid him to find out if that wife was being unfaithful . \\nmaybe the scene was intended for laughs , but it only cheapens hammer\\'s character and is , by all accounts , a lousy way to start the movie . \\nthe blame for hammer\\'s character can\\'t be laid on assante\\'s shoulders , because despite some unnecessary marlon brandon-like mumbling , he delivers a fine performance . \\nspillane never once described hammer\\'s physical attributes in any of the dozen books in which he appeared , so any actor could conceivably portray him . \\nof course , because of the lack of written description , those who have read spillane\\'s books will have a strong personal notion of what hammer looks like , and therefore almost any screen incarnation will somehow fall short of expectations ( spillane , who played the character himself in 1963\\'s \" the girl hunters , \" is generally considered the best of the film hammers ) . \\nthe rest of actors are most un-noteworthy. ',\n",
       " 'while director steve miner has several horror films on his resume ( including two installments of \" friday the 13th \" and \" halloween h20 \" ) , screenwriter david kelley ( best known as the creator of tv series like \" ally mcbeal \" and \" chicago hope \" ) doesn\\'t seem to have the stomach for a chomp \\'em up flick . \\nthe body count is surprisingly low and doesn\\'t include any of the major characters , and most annoyingly kelly and hector insist that they capture the crocodile alive rather than killing it . \\n ( \" lake placid \" manages to have it both ways-i\\'ll let you discover how for yourself ) . \\nthe croc itself is mostly computer-generated , of course . \\nlike the snake in \" anaconda , \" the thirty-foot monster crocodile doesn\\'t seem real ; it moves too quickly and in ways that seem unnatural . \\n \" lake placid \" also offers little explanation for why a giant crocodile is in maine . \\nthere is a lot of semi-mystical mumbo jumbo about how \" we really don\\'t know much about crocodiles . \" \\nthey would have been better off going with something like the urban myth about alligators in the sewers . \\na movie like this doesn\\'t have to offer much of an explanation ( radioactive mutant ? \\ncreature from outer space ? ) , but it does have to give the audience something to hang their disbelief on . \\npullman and fonda seem to be plodding through the movie on auto-pilot . \\nmost of the time , they\\'re probably thinking about killing their agents or wondering if making this movie marks the end of their careers . \\nplatt and white , on the other hand , seem to be giving their best efforts , and they manage to squeeze a few chuckles out of this sorry script . \\n',\n",
       " 'we, the audience , have been tipped off , given that the film begins by showing us eric ( trevor morgan , \" the patriot \" ) , a young boy , and ben ( mark harelik , \" election \" ) going for a paragliding adventure off that same island that goes awry ( and looks like cheesy rear projection ) . \\ngrant\\'s established back home with a new right hand man , billy brennan ( alessandro nivola , \" love\\'s labour\\'s lost \" ) on site at a dig in montana sorely lacking funds . \\nhe also pays a visit to old flame dr . ellie sattler ( laura dern , \" jurassic park \" ) , now married to another with a young son who calls grant \\'the dinosaur man\\' apparently for the sole purpose of dredging her up again for the film\\'s poorly imagined finale . \\ngrant takes billy along on the kirbys trip , which is really an illegal gambit to save their son , that young paraglider . \\nthe couple aren\\'t millionaires , making grant\\'s check bogus , and they\\'re separated as well ( eric was with amanda\\'s new boyfriend , not that that makes much sense ) , meaning we\\'re in for some gooey family dynamics while waiting for the dino dining . \\nthe kirbys hired hands ( and obvious bait ) are a threesome led by mr . udesky ( michael jeter , \" the gift \" ) . \\n ( didn\\'t anyone consider that casting michael jeter and william h . macy together and not having them be related was a little odd ? ) \\nas directed by joe johnston ( \" october sky , \" \" jumanji \" ) ( spielberg only produced this one ) from a risible script by peter buchman and the \" election \" team of alexander payne & jim taylor , \" jurassic park iii \" is nothing more than a quickie monster flick with a couple of new dinos ( a spinosauraus , which goes head to head with the t-rex , and pteranodons ) . \\nthe plot , as it were , is a series of coincidences combined with extreme leaps of faith and a trifecta of stupid cell phone tricks . \\nthe effects are no longer new , and , as shot by television cinematographer shelly johnson , rather murky looking at times . \\nfilm editing by robert dalva ( \" october sky \" ) was presumably done by machete , to keep this down to a 90 minute run time . \\ni know of no other reason to explain the ridiculous ending which features the survivors confronting a pack of raptors , then being saved by the most ludicrous of logic jumps within a few minutes . \\n\\'original\\' music by don davis just repeats john williams\\' original themes. ',\n",
       " 'state of the art effects fly at a mad pace in this $90 million dollar movie and yet director david kelogg never sets up a convincing atmosphere . \\nhad they replaced all the fancy gizmos with dollar bills they would have wound up with the same effect . \\nwhat we see on the screen is like the raw ingredients of a meal : all of the expensive f/x amounts to nothing . \\npart of the charm of the tv series was its sly irreverence which has gone down the toilet in the condescending movie . \\ncan kids really admire a hero so goody-two-shoes that he screams \" hey ! \\nyou ran a stop sign ! \" \\nwhile hanging off the back bumper of a quickly moving vehicle ? \\ni think that today\\'s children will respond better to somebody dashing , someone ultra-cool . \\nthey ( probably ) receive enough preaching from their parents and its an insult to their intelligence to assume that they want to go to an action movie to see a father figure kick butt . \\nin addition to the more complex complaints above , there\\'s also the simple stuff : inspector gadget is boring , formulaic and achingly implausible . \\nthere\\'s no feeling that the director really cares about his story : more than any other film i\\'ve seen this year , this one really feels like it was made on an assembly line . \\nthere\\'s a popular commercial ( for sprite , but that\\'s irrelevant ) running in movie theaters before features that spoofs the way major studios deal with projects . \\nit consists of studio suits discussing a fictitious ( thank god ) movie called \" death slug \". \\n',\n",
       " 'either way , we get to see a lot of bottoms because the two beautiful women in the crew are both conveniently wearing hot pants during the scenes where the camera shoots upwards while they climb up ladders and -- in the ballroom scene -- christmas trees . \\nthus begins an hour or more of hushed trips down long corridors , through burning rooms , etc . while the ship slowly fills with water behind them . \\nit\\'s a race against the clock which is only mildly interesting . \\nthe poseidon adventure works more as a bad movie to laugh at , with all the melodrama that comes in-between the non-thrilling action scenes . \\nthe one note in borgnine\\'s one-note performance is to be a cranky old man that argues with hackman every step of the way while buttons and the hippie fall in love ( although since there isn\\'t a sex scene , we never find out if his buttons really are red ) and albertson and winters wonder if they\\'ll live to see their grandson\\'s birth . \\nshelley winters provides the most hilarious scene in the movie in a scene toward the end , where water has flooded the next two rooms of the ship and hackman is preparing to dive under with a rope for the rest of them to pull along . \\nwinters , who has been the whiny fat woman throughout the movie ( stevens even not-so- affectionately calls her \" fatass \" in one scene ) , finally finds her purpose . \\n \" i was the underwater swimming champ of new york three years running when i was seventeen , \" she brags , and before hackman can even ask her how she could be seventeen for three years , she\\'s swimming through the water , her skirt billowing up around her hips , showing off her cellulite ( or do you call it shellulite ? ) \\nridden thighs. ',\n",
       " 'it is obvious that columbus didn\\'t take them very seriously . \\nwhen you think about it , this film is not really meditating on the question \" when is a robot no longer a machine , but a human being ? \" , but tells a story about racial discrimination and lack of understanding . \\nandrew is so complex and emotional from the very beginning that the audience immediately accepts him as a human being , and only the society has troubles with it . \\nin other words , it is as far from reality as from the academy awards . \\nfurther more , there are other annoying problems . \\nto this day no serious filmmaker has dared to speculate about the future in more than 50 years from now . \\nthis has not been done for obvious reasons , because the filmmakers are well aware of the fact that they lack the knowledge and imagination to perform such a difficult task . \\ncolumbus is the first to have crossed that line . \\nthe result is , as you might imagine , primitive , unrealistic and incredibly disappointing effort . \\nthe world is simply frozen in time . \\nneither the society , fashion , culture or values have changed over 200 years . \\nmom is still working at the kitchen , doing the dishes . \\nwhen you think back to the late 17th century and then compare it to the world we live in today , you\\'ll see a slightly bigger difference . \\ni am not saying that everything should change . \\nit is unlikely that the human rights will change , but it\\'s even more unlikely that there will not be any progress in science , technology and fashion . \\ni suppose it\\'s possible to watch this as a some sort of bizarre fairytale , but it\\'s really hard . \\nrobin williams is hidden behind c and speaking in a robotic way . \\nas always he does a decent job , as does sam neill . \\nbut it doesn\\'t really matter. ']"
      ]
     },
     "execution_count": 75,
     "metadata": {},
     "output_type": "execute_result"
    }
   ],
   "source": [
    "f = open('./data/row_file_231205.pickle', mode='rb')\n",
    "home_row = pickle.load(f)\n",
    "f.close()\n",
    "\n",
    "home_row"
   ]
  },
  {
   "cell_type": "code",
   "execution_count": null,
   "id": "9ba6ca2b-3737-4c9f-b43f-c3b26be40aef",
   "metadata": {},
   "outputs": [],
   "source": [
    "with open('./data/row_file_231205.pickle', mode='rb') as f :\n",
    "    home_row = pickle.load(f)\n",
    "\n",
    "home_row"
   ]
  },
  {
   "cell_type": "code",
   "execution_count": 81,
   "id": "881c487e-3a41-42ed-ad7c-8f22dffe28e2",
   "metadata": {},
   "outputs": [
    {
     "data": {
      "text/plain": [
       "('2.1.1', '1.26.2', '1.11.4')"
      ]
     },
     "execution_count": 81,
     "metadata": {},
     "output_type": "execute_result"
    }
   ],
   "source": [
    "import pandas as pd\n",
    "import numpy as np\n",
    "import scipy as sc\n",
    "\n",
    "pd.__version__, np.__version__, sc.__version__"
   ]
  },
  {
   "cell_type": "code",
   "execution_count": 79,
   "id": "5536b7fb-2f96-467e-9865-09ba91e9ea9d",
   "metadata": {},
   "outputs": [
    {
     "name": "stdout",
     "output_type": "stream",
     "text": [
      "Collecting scipy\n",
      "  Downloading scipy-1.11.4-cp311-cp311-win_amd64.whl.metadata (60 kB)\n",
      "     ---------------------------------------- 0.0/60.4 kB ? eta -:--:--\n",
      "     ------------ ------------------------- 20.5/60.4 kB 330.3 kB/s eta 0:00:01\n",
      "     -------------------------------------- 60.4/60.4 kB 809.0 kB/s eta 0:00:00\n",
      "Requirement already satisfied: numpy<1.28.0,>=1.21.6 in d:\\anaconda\\lib\\site-packages (from scipy) (1.26.2)\n",
      "Downloading scipy-1.11.4-cp311-cp311-win_amd64.whl (44.1 MB)\n",
      "   ---------------------------------------- 0.0/44.1 MB ? eta -:--:--\n",
      "    --------------------------------------- 0.6/44.1 MB 11.5 MB/s eta 0:00:04\n",
      "   - -------------------------------------- 1.1/44.1 MB 11.8 MB/s eta 0:00:04\n",
      "   - -------------------------------------- 1.7/44.1 MB 11.9 MB/s eta 0:00:04\n",
      "   -- ------------------------------------- 2.2/44.1 MB 11.9 MB/s eta 0:00:04\n",
      "   -- ------------------------------------- 2.8/44.1 MB 11.9 MB/s eta 0:00:04\n",
      "   --- ------------------------------------ 3.3/44.1 MB 11.9 MB/s eta 0:00:04\n",
      "   --- ------------------------------------ 3.9/44.1 MB 11.8 MB/s eta 0:00:04\n",
      "   ---- ----------------------------------- 4.4/44.1 MB 11.7 MB/s eta 0:00:04\n",
      "   ---- ----------------------------------- 5.0/44.1 MB 11.7 MB/s eta 0:00:04\n",
      "   ---- ----------------------------------- 5.5/44.1 MB 11.7 MB/s eta 0:00:04\n",
      "   ----- ---------------------------------- 6.1/44.1 MB 11.7 MB/s eta 0:00:04\n",
      "   ----- ---------------------------------- 6.6/44.1 MB 11.7 MB/s eta 0:00:04\n",
      "   ------ --------------------------------- 7.1/44.1 MB 11.7 MB/s eta 0:00:04\n",
      "   ------ --------------------------------- 7.7/44.1 MB 11.7 MB/s eta 0:00:04\n",
      "   ------- -------------------------------- 8.2/44.1 MB 11.7 MB/s eta 0:00:04\n",
      "   ------- -------------------------------- 8.8/44.1 MB 11.7 MB/s eta 0:00:04\n",
      "   -------- ------------------------------- 9.3/44.1 MB 11.7 MB/s eta 0:00:03\n",
      "   -------- ------------------------------- 9.9/44.1 MB 11.7 MB/s eta 0:00:03\n",
      "   --------- ------------------------------ 10.5/44.1 MB 11.7 MB/s eta 0:00:03\n",
      "   --------- ------------------------------ 11.0/44.1 MB 11.7 MB/s eta 0:00:03\n",
      "   ---------- ----------------------------- 11.6/44.1 MB 11.7 MB/s eta 0:00:03\n",
      "   ---------- ----------------------------- 12.1/44.1 MB 11.7 MB/s eta 0:00:03\n",
      "   ----------- ---------------------------- 12.7/44.1 MB 11.7 MB/s eta 0:00:03\n",
      "   ----------- ---------------------------- 13.2/44.1 MB 11.7 MB/s eta 0:00:03\n",
      "   ------------ --------------------------- 13.8/44.1 MB 11.7 MB/s eta 0:00:03\n",
      "   ------------ --------------------------- 14.3/44.1 MB 11.7 MB/s eta 0:00:03\n",
      "   ------------- -------------------------- 14.8/44.1 MB 11.7 MB/s eta 0:00:03\n",
      "   ------------- -------------------------- 15.4/44.1 MB 11.7 MB/s eta 0:00:03\n",
      "   -------------- ------------------------- 15.9/44.1 MB 11.7 MB/s eta 0:00:03\n",
      "   -------------- ------------------------- 16.5/44.1 MB 11.7 MB/s eta 0:00:03\n",
      "   --------------- ------------------------ 17.0/44.1 MB 11.7 MB/s eta 0:00:03\n",
      "   --------------- ------------------------ 17.6/44.1 MB 11.7 MB/s eta 0:00:03\n",
      "   ---------------- ----------------------- 18.1/44.1 MB 11.9 MB/s eta 0:00:03\n",
      "   ---------------- ----------------------- 18.6/44.1 MB 11.9 MB/s eta 0:00:03\n",
      "   ----------------- ---------------------- 19.2/44.1 MB 11.9 MB/s eta 0:00:03\n",
      "   ----------------- ---------------------- 19.7/44.1 MB 11.9 MB/s eta 0:00:03\n",
      "   ------------------ --------------------- 20.3/44.1 MB 11.9 MB/s eta 0:00:03\n",
      "   ------------------ --------------------- 20.8/44.1 MB 11.9 MB/s eta 0:00:02\n",
      "   ------------------- -------------------- 21.4/44.1 MB 11.9 MB/s eta 0:00:02\n",
      "   ------------------- -------------------- 22.0/44.1 MB 11.9 MB/s eta 0:00:02\n",
      "   -------------------- ------------------- 22.5/44.1 MB 11.9 MB/s eta 0:00:02\n",
      "   -------------------- ------------------- 23.0/44.1 MB 11.9 MB/s eta 0:00:02\n",
      "   --------------------- ------------------ 23.6/44.1 MB 11.9 MB/s eta 0:00:02\n",
      "   --------------------- ------------------ 24.1/44.1 MB 11.9 MB/s eta 0:00:02\n",
      "   ---------------------- ----------------- 24.7/44.1 MB 11.9 MB/s eta 0:00:02\n",
      "   ---------------------- ----------------- 25.2/44.1 MB 11.7 MB/s eta 0:00:02\n",
      "   ----------------------- ---------------- 25.7/44.1 MB 11.7 MB/s eta 0:00:02\n",
      "   ----------------------- ---------------- 26.3/44.1 MB 11.7 MB/s eta 0:00:02\n",
      "   ------------------------ --------------- 26.8/44.1 MB 11.7 MB/s eta 0:00:02\n",
      "   ------------------------ --------------- 27.4/44.1 MB 11.7 MB/s eta 0:00:02\n",
      "   ------------------------- -------------- 27.9/44.1 MB 11.7 MB/s eta 0:00:02\n",
      "   ------------------------- -------------- 28.4/44.1 MB 11.7 MB/s eta 0:00:02\n",
      "   -------------------------- ------------- 29.0/44.1 MB 11.9 MB/s eta 0:00:02\n",
      "   -------------------------- ------------- 29.5/44.1 MB 11.9 MB/s eta 0:00:02\n",
      "   --------------------------- ------------ 30.0/44.1 MB 11.9 MB/s eta 0:00:02\n",
      "   --------------------------- ------------ 30.6/44.1 MB 11.9 MB/s eta 0:00:02\n",
      "   ---------------------------- ----------- 31.0/44.1 MB 11.7 MB/s eta 0:00:02\n",
      "   ---------------------------- ----------- 31.7/44.1 MB 11.9 MB/s eta 0:00:02\n",
      "   ----------------------------- ---------- 32.2/44.1 MB 11.9 MB/s eta 0:00:01\n",
      "   ----------------------------- ---------- 32.7/44.1 MB 11.7 MB/s eta 0:00:01\n",
      "   ------------------------------ --------- 33.3/44.1 MB 11.7 MB/s eta 0:00:01\n",
      "   ------------------------------ --------- 33.8/44.1 MB 11.7 MB/s eta 0:00:01\n",
      "   ------------------------------- -------- 34.4/44.1 MB 11.7 MB/s eta 0:00:01\n",
      "   ------------------------------- -------- 34.9/44.1 MB 11.7 MB/s eta 0:00:01\n",
      "   -------------------------------- ------- 35.5/44.1 MB 11.7 MB/s eta 0:00:01\n",
      "   -------------------------------- ------- 36.0/44.1 MB 11.7 MB/s eta 0:00:01\n",
      "   --------------------------------- ------ 36.6/44.1 MB 11.7 MB/s eta 0:00:01\n",
      "   --------------------------------- ------ 37.1/44.1 MB 11.7 MB/s eta 0:00:01\n",
      "   ---------------------------------- ----- 37.7/44.1 MB 11.7 MB/s eta 0:00:01\n",
      "   ---------------------------------- ----- 38.2/44.1 MB 11.9 MB/s eta 0:00:01\n",
      "   ----------------------------------- ---- 38.8/44.1 MB 11.9 MB/s eta 0:00:01\n",
      "   ----------------------------------- ---- 39.3/44.1 MB 11.9 MB/s eta 0:00:01\n",
      "   ------------------------------------ --- 39.8/44.1 MB 11.9 MB/s eta 0:00:01\n",
      "   ------------------------------------ --- 40.4/44.1 MB 11.9 MB/s eta 0:00:01\n",
      "   ------------------------------------- -- 40.9/44.1 MB 11.9 MB/s eta 0:00:01\n",
      "   ------------------------------------- -- 41.5/44.1 MB 11.9 MB/s eta 0:00:01\n",
      "   -------------------------------------- - 42.0/44.1 MB 11.9 MB/s eta 0:00:01\n",
      "   -------------------------------------- - 42.5/44.1 MB 11.9 MB/s eta 0:00:01\n",
      "   ---------------------------------------  43.1/44.1 MB 11.7 MB/s eta 0:00:01\n",
      "   ---------------------------------------  43.6/44.1 MB 11.7 MB/s eta 0:00:01\n",
      "   ---------------------------------------  44.1/44.1 MB 11.9 MB/s eta 0:00:01\n",
      "   ---------------------------------------- 44.1/44.1 MB 11.1 MB/s eta 0:00:00\n",
      "Installing collected packages: scipy\n",
      "Successfully installed scipy-1.11.4\n",
      "Note: you may need to restart the kernel to use updated packages.\n"
     ]
    }
   ],
   "source": [
    "pip install scipy"
   ]
  },
  {
   "cell_type": "code",
   "execution_count": 80,
   "id": "e0ed9d53-f40f-4782-a4a4-da860283d401",
   "metadata": {},
   "outputs": [
    {
     "name": "stdout",
     "output_type": "stream",
     "text": [
      "Collecting scikit-learn\n",
      "  Downloading scikit_learn-1.3.2-cp311-cp311-win_amd64.whl.metadata (11 kB)\n",
      "Requirement already satisfied: numpy<2.0,>=1.17.3 in d:\\anaconda\\lib\\site-packages (from scikit-learn) (1.26.2)\n",
      "Requirement already satisfied: scipy>=1.5.0 in d:\\anaconda\\lib\\site-packages (from scikit-learn) (1.11.4)\n",
      "Collecting joblib>=1.1.1 (from scikit-learn)\n",
      "  Downloading joblib-1.3.2-py3-none-any.whl.metadata (5.4 kB)\n",
      "Collecting threadpoolctl>=2.0.0 (from scikit-learn)\n",
      "  Downloading threadpoolctl-3.2.0-py3-none-any.whl.metadata (10.0 kB)\n",
      "Downloading scikit_learn-1.3.2-cp311-cp311-win_amd64.whl (9.2 MB)\n",
      "   ---------------------------------------- 0.0/9.2 MB ? eta -:--:--\n",
      "   - -------------------------------------- 0.4/9.2 MB 8.5 MB/s eta 0:00:02\n",
      "   ---- ----------------------------------- 1.0/9.2 MB 10.1 MB/s eta 0:00:01\n",
      "   ------ --------------------------------- 1.5/9.2 MB 10.6 MB/s eta 0:00:01\n",
      "   -------- ------------------------------- 2.0/9.2 MB 10.8 MB/s eta 0:00:01\n",
      "   ----------- ---------------------------- 2.6/9.2 MB 11.0 MB/s eta 0:00:01\n",
      "   ------------- -------------------------- 3.2/9.2 MB 11.2 MB/s eta 0:00:01\n",
      "   ---------------- ----------------------- 3.7/9.2 MB 11.2 MB/s eta 0:00:01\n",
      "   ------------------ --------------------- 4.2/9.2 MB 11.3 MB/s eta 0:00:01\n",
      "   -------------------- ------------------- 4.8/9.2 MB 11.3 MB/s eta 0:00:01\n",
      "   ----------------------- ---------------- 5.3/9.2 MB 11.4 MB/s eta 0:00:01\n",
      "   ------------------------- -------------- 5.9/9.2 MB 11.4 MB/s eta 0:00:01\n",
      "   --------------------------- ------------ 6.4/9.2 MB 11.4 MB/s eta 0:00:01\n",
      "   ------------------------------ --------- 7.0/9.2 MB 11.5 MB/s eta 0:00:01\n",
      "   -------------------------------- ------- 7.5/9.2 MB 11.5 MB/s eta 0:00:01\n",
      "   ----------------------------------- ---- 8.1/9.2 MB 11.5 MB/s eta 0:00:01\n",
      "   ------------------------------------- -- 8.6/9.2 MB 11.5 MB/s eta 0:00:01\n",
      "   ---------------------------------------  9.2/9.2 MB 11.5 MB/s eta 0:00:01\n",
      "   ---------------------------------------- 9.2/9.2 MB 11.3 MB/s eta 0:00:00\n",
      "Downloading joblib-1.3.2-py3-none-any.whl (302 kB)\n",
      "   ---------------------------------------- 0.0/302.2 kB ? eta -:--:--\n",
      "   ---------------------------------------- 302.2/302.2 kB 9.4 MB/s eta 0:00:00\n",
      "Downloading threadpoolctl-3.2.0-py3-none-any.whl (15 kB)\n",
      "Installing collected packages: threadpoolctl, joblib, scikit-learn\n",
      "Successfully installed joblib-1.3.2 scikit-learn-1.3.2 threadpoolctl-3.2.0\n",
      "Note: you may need to restart the kernel to use updated packages.\n"
     ]
    }
   ],
   "source": [
    "pip install scikit-learn"
   ]
  },
  {
   "cell_type": "code",
   "execution_count": 1,
   "id": "8d5d8ce0-0763-4cee-8fa5-08202ef06644",
   "metadata": {},
   "outputs": [
    {
     "name": "stdout",
     "output_type": "stream",
     "text": [
      "Collecting pymysql\n",
      "  Downloading PyMySQL-1.1.0-py3-none-any.whl.metadata (4.4 kB)\n",
      "Downloading PyMySQL-1.1.0-py3-none-any.whl (44 kB)\n",
      "   ---------------------------------------- 0.0/44.8 kB ? eta -:--:--\n",
      "   ---------------------------------------- 44.8/44.8 kB 1.1 MB/s eta 0:00:00\n",
      "Installing collected packages: pymysql\n",
      "Successfully installed pymysql-1.1.0\n",
      "Note: you may need to restart the kernel to use updated packages.\n"
     ]
    }
   ],
   "source": [
    "pip install pymysql"
   ]
  },
  {
   "cell_type": "code",
   "execution_count": 3,
   "id": "b4a2d607-5a03-4c94-9c19-1d8698dc1d4b",
   "metadata": {},
   "outputs": [
    {
     "data": {
      "text/plain": [
       "'1.4.6'"
      ]
     },
     "execution_count": 3,
     "metadata": {},
     "output_type": "execute_result"
    }
   ],
   "source": [
    "import pymysql\n",
    "\n",
    "pymysql.__version__"
   ]
  },
  {
   "cell_type": "code",
   "execution_count": 3,
   "id": "40f85e1e-5ff9-4994-b0d2-75671579a48f",
   "metadata": {},
   "outputs": [
    {
     "name": "stdout",
     "output_type": "stream",
     "text": [
      "conn OK!!\n"
     ]
    }
   ],
   "source": [
    "try :\n",
    "    conn = pymysql.connect(host='localhost',\n",
    "                           user='root',\n",
    "                           password='rpass',\n",
    "                           db='kdigital2307')\n",
    "    print('conn OK!!')\n",
    "except Exception as e :\n",
    "    print(e)\n",
    "finally :\n",
    "    conn.close()"
   ]
  },
  {
   "cell_type": "code",
   "execution_count": 6,
   "id": "d64f4a9e-4b2d-460b-b7c8-5c3e152c8ae0",
   "metadata": {},
   "outputs": [
    {
     "name": "stdout",
     "output_type": "stream",
     "text": [
      "cnt = 0\n"
     ]
    }
   ],
   "source": [
    "try :\n",
    "    conn = pymysql.connect(host='localhost',\n",
    "                           user='root',\n",
    "                           password='rpass',\n",
    "                           db='kdigital2307')\n",
    "    cursor = conn.cursor()\n",
    "    sql = 'SELECT COUNT(*) FROM users'\n",
    "    cursor.execute(sql)\n",
    "    cnt = cursor.fetchone() # (0, )\n",
    "    print('cnt =', cnt[0])\n",
    "except Exception as e :\n",
    "    print(e)\n",
    "finally :\n",
    "    cursor.close()\n",
    "    conn.close()"
   ]
  },
  {
   "cell_type": "code",
   "execution_count": 7,
   "id": "f8197fc7-293f-4509-802c-e95abab05efb",
   "metadata": {},
   "outputs": [
    {
     "name": "stdout",
     "output_type": "stream",
     "text": [
      "cnt = 0\n"
     ]
    }
   ],
   "source": [
    "try :\n",
    "    conn = pymysql.connect(host='localhost',\n",
    "                           user='root',\n",
    "                           password='rpass',\n",
    "                           db='kdigital2307')\n",
    "    with conn.cursor() as cursor :\n",
    "        sql = 'SELECT COUNT(*) FROM users'\n",
    "        cursor.execute(sql)\n",
    "        cnt = cursor.fetchone() # (0, )\n",
    "        print('cnt =', cnt[0])\n",
    "except Exception as e :\n",
    "    print(e)\n",
    "finally :\n",
    "    conn.close()"
   ]
  },
  {
   "cell_type": "code",
   "execution_count": 8,
   "id": "b7787d1b-94f3-4913-b857-d33914d627bf",
   "metadata": {},
   "outputs": [
    {
     "name": "stdout",
     "output_type": "stream",
     "text": [
      "cnt = 0\n"
     ]
    }
   ],
   "source": [
    "try :\n",
    "    with pymysql.connect(host='localhost',\n",
    "                           user='root',\n",
    "                           password='rpass',\n",
    "                           db='kdigital2307') as conn :\n",
    "        with conn.cursor() as cursor :\n",
    "            sql = 'SELECT COUNT(*) FROM users'\n",
    "            cursor.execute(sql)\n",
    "            cnt = cursor.fetchone() # (0, )\n",
    "            print('cnt =', cnt[0])\n",
    "except Exception as e :\n",
    "    print(e)"
   ]
  },
  {
   "cell_type": "code",
   "execution_count": 14,
   "id": "4c83cdbb-4e9b-4349-9758-867eb6a40563",
   "metadata": {},
   "outputs": [
    {
     "name": "stdout",
     "output_type": "stream",
     "text": [
      "(1, 'hong1@', '1111')\n",
      "1 hong1@ 1111\n"
     ]
    }
   ],
   "source": [
    "with pymysql.connect(host='localhost',\n",
    "                     user='root',\n",
    "                     password='rpass',\n",
    "                     db='kdigital2307') as conn :\n",
    "    with conn.cursor() as cursor :\n",
    "        sql = 'SELECT * FROM users'\n",
    "        cursor.execute(sql)\n",
    "        user = cursor.fetchone()\n",
    "        print(user)\n",
    "        print(user[0], user[1], user[2])"
   ]
  },
  {
   "cell_type": "code",
   "execution_count": 21,
   "id": "f7debb3f-1c9a-4217-96de-6bebec21353c",
   "metadata": {},
   "outputs": [
    {
     "name": "stdout",
     "output_type": "stream",
     "text": [
      "((1, 'hong1@', '1111'), (2, 'hong2@', '2222'))\n"
     ]
    }
   ],
   "source": [
    "with pymysql.connect(host='localhost',\n",
    "                     user='root',\n",
    "                     password='rpass',\n",
    "                     db='kdigital2307') as conn :\n",
    "    with conn.cursor() as cursor :\n",
    "        sql = 'SELECT * FROM users'\n",
    "        cursor.execute(sql)\n",
    "        users = cursor.fetchall()\n",
    "        print(users)"
   ]
  },
  {
   "cell_type": "code",
   "execution_count": 22,
   "id": "4aa5ac8a-795f-43e0-b0ef-3d19dcbc6204",
   "metadata": {},
   "outputs": [
    {
     "name": "stdout",
     "output_type": "stream",
     "text": [
      "{'id': 1, 'email': 'hong1@', 'password': '1111'}\n",
      "{'id': 2, 'email': 'hong2@', 'password': '2222'}\n"
     ]
    }
   ],
   "source": [
    "with pymysql.connect(host='localhost',\n",
    "                     user='root',\n",
    "                     password='rpass',\n",
    "                     db='kdigital2307',\n",
    "                     cursorclass=pymysql.cursors.DictCursor) as conn : # dict 형태\n",
    "    with conn.cursor() as cursor :\n",
    "        sql = 'SELECT * FROM users'\n",
    "        cursor.execute(sql)\n",
    "        users = cursor.fetchall()\n",
    "        for row in users :\n",
    "            print(row)"
   ]
  },
  {
   "cell_type": "code",
   "execution_count": 16,
   "id": "0692b2e4-0dd4-4c05-8612-bd342d1b80b5",
   "metadata": {},
   "outputs": [
    {
     "name": "stdout",
     "output_type": "stream",
     "text": [
      "None\n"
     ]
    }
   ],
   "source": [
    "with pymysql.connect(host='localhost',\n",
    "                     user='root',\n",
    "                     password='rpass',\n",
    "                     db='kdigital2307',\n",
    "                     cursorclass=pymysql.cursors.DictCursor) as conn : # dict 형태\n",
    "    with conn.cursor() as cursor :\n",
    "        sql = 'INSERT INTO users(email, password) VALUES (\"hong2@\", \"2222\")'\n",
    "        cursor.execute(sql)\n",
    "        rs = cursor.fetchone()\n",
    "        print(rs)\n",
    "    conn.commit()"
   ]
  },
  {
   "cell_type": "code",
   "execution_count": 23,
   "id": "109321eb-99b5-4840-b18e-e6adcc443dbf",
   "metadata": {},
   "outputs": [
    {
     "name": "stdout",
     "output_type": "stream",
     "text": [
      "None\n"
     ]
    }
   ],
   "source": [
    "with pymysql.connect(host='localhost',\n",
    "                     user='root',\n",
    "                     password='rpass',\n",
    "                     db='kdigital2307',\n",
    "                     cursorclass=pymysql.cursors.DictCursor) as conn : # dict 형태\n",
    "    with conn.cursor() as cursor :\n",
    "        sql = 'INSERT INTO users(email, password) VALUES (%s, %s)'\n",
    "        cursor.execute(sql, (email, password))\n",
    "        rs = cursor.fetchone()\n",
    "        print(rs)\n",
    "    conn.commit()"
   ]
  },
  {
   "cell_type": "code",
   "execution_count": 14,
   "id": "2a96b18f-fc57-42dd-b389-f9fa84eeadfe",
   "metadata": {},
   "outputs": [],
   "source": [
    "def select_all() :\n",
    "    with pymysql.connect(host='localhost',\n",
    "                     user='root',\n",
    "                     password='rpass',\n",
    "                     db='kdigital2307',\n",
    "                     cursorclass=pymysql.cursors.DictCursor) as conn : # dict 형태\n",
    "        with conn.cursor() as cursor :\n",
    "            sql = 'SELECT * FROM users'\n",
    "            cursor.execute(sql)\n",
    "            users = cursor.fetchall()\n",
    "            return users"
   ]
  },
  {
   "cell_type": "code",
   "execution_count": 15,
   "id": "f16c08ed-2ce9-41d7-8565-e2d7fba3386d",
   "metadata": {},
   "outputs": [
    {
     "name": "stdout",
     "output_type": "stream",
     "text": [
      "{'id': 1, 'email': 'hong1@', 'password': '1111'}\n",
      "{'id': 2, 'email': 'hong2@', 'password': '2222'}\n",
      "{'id': 3, 'email': 'hong3@', 'password': '3333'}\n"
     ]
    }
   ],
   "source": [
    "users = select_all()\n",
    "for row in users :\n",
    "    print(row)"
   ]
  },
  {
   "cell_type": "code",
   "execution_count": 6,
   "id": "7590e534-5336-48b0-8a33-346bea5f7981",
   "metadata": {},
   "outputs": [],
   "source": [
    "def select_one(id) :\n",
    "        with pymysql.connect(host='localhost',\n",
    "                     user='root',\n",
    "                     password='rpass',\n",
    "                     db='kdigital2307',\n",
    "                     cursorclass=pymysql.cursors.DictCursor) as conn : # dict 형태\n",
    "            with conn.cursor() as cursor :\n",
    "                sql = 'SELECT * FROM users WHERE id = %s'\n",
    "                cursor.execute(sql, (id, ))\n",
    "                user = cursor.fetchall()\n",
    "                return user"
   ]
  },
  {
   "cell_type": "code",
   "execution_count": 7,
   "id": "24c4ab94-90e6-459d-ae10-991de9edc5d9",
   "metadata": {},
   "outputs": [
    {
     "name": "stdout",
     "output_type": "stream",
     "text": [
      "{'id': 3, 'email': 'hong3@', 'password': '3333'}\n"
     ]
    }
   ],
   "source": [
    "user = select_one(3)\n",
    "print(user[0])"
   ]
  },
  {
   "cell_type": "code",
   "execution_count": 38,
   "id": "f7e53e6c-7275-45bb-8507-d3d8864d2f93",
   "metadata": {},
   "outputs": [],
   "source": [
    "def user_update(id, email, password) :\n",
    "    with pymysql.connect(host='localhost',\n",
    "                         user='root',\n",
    "                         password='rpass',\n",
    "                         db='kdigital2307',\n",
    "                         cursorclass=pymysql.cursors.DictCursor) as conn : # dict 형태\n",
    "        with conn.cursor() as cursor :\n",
    "            sql = 'UPDATE users SET email = %s, password = %s WHERE id = %s'\n",
    "            cursor.execute(sql, (email, password, id))\n",
    "            rs = cursor.fetchone()\n",
    "            print(rs)\n",
    "        conn.commit()"
   ]
  },
  {
   "cell_type": "code",
   "execution_count": 39,
   "id": "db101da2-c6ac-4ba9-9376-370c4c4503a7",
   "metadata": {},
   "outputs": [
    {
     "name": "stdout",
     "output_type": "stream",
     "text": [
      "None\n"
     ]
    }
   ],
   "source": [
    "user_update(1, 'hong@email.com', '1212')"
   ]
  },
  {
   "cell_type": "code",
   "execution_count": 41,
   "id": "e865e7ad-65b9-44f6-94e3-43925f690c96",
   "metadata": {},
   "outputs": [
    {
     "name": "stdout",
     "output_type": "stream",
     "text": [
      "None\n"
     ]
    }
   ],
   "source": [
    "user_update(1, 'hong1@', '1111')"
   ]
  },
  {
   "cell_type": "code",
   "execution_count": 1,
   "id": "0d170634-07f0-4dcf-b74d-cb8eb0962d00",
   "metadata": {},
   "outputs": [],
   "source": [
    "def user_insert(email, password) :\n",
    "    with pymysql.connect(host='localhost',\n",
    "                         user='root',\n",
    "                         password='rpass',\n",
    "                         db='kdigital2307',\n",
    "                         cursorclass=pymysql.cursors.DictCursor) as conn : # dict 형태\n",
    "        with conn.cursor() as cursor :\n",
    "            sql = 'INSERT INTO users(email, password) VALUES (%s, %s)'\n",
    "            cursor.execute(sql, (email, password))\n",
    "            rs = cursor.lastrowid\n",
    "            print(rs)\n",
    "        conn.commit()"
   ]
  },
  {
   "cell_type": "code",
   "execution_count": 4,
   "id": "dcc32034-96c0-42c3-b72b-42b6dbbf4add",
   "metadata": {},
   "outputs": [
    {
     "name": "stdout",
     "output_type": "stream",
     "text": [
      "5\n"
     ]
    }
   ],
   "source": [
    "user_insert('hong4@', '4444')"
   ]
  },
  {
   "cell_type": "code",
   "execution_count": 10,
   "id": "f55b8596-27d4-49de-9924-97366cc65fcf",
   "metadata": {},
   "outputs": [],
   "source": [
    "def user_delete(id) :\n",
    "    with pymysql.connect(host='localhost',\n",
    "                         user='root',\n",
    "                         password='rpass',\n",
    "                         db='kdigital2307',\n",
    "                         cursorclass=pymysql.cursors.DictCursor) as conn : # dict 형태\n",
    "        with conn.cursor() as cursor :\n",
    "            sql = 'DELETE FROM users WHERE id = %s'\n",
    "            cursor.execute(sql, (id, ))\n",
    "            rs = cursor.fetchone()\n",
    "            print(rs)\n",
    "        conn.commit()"
   ]
  },
  {
   "cell_type": "code",
   "execution_count": 13,
   "id": "d458f030-9de5-4345-8cab-19355f4a3b9c",
   "metadata": {},
   "outputs": [
    {
     "name": "stdout",
     "output_type": "stream",
     "text": [
      "None\n"
     ]
    }
   ],
   "source": [
    "user_delete(4)"
   ]
  },
  {
   "cell_type": "code",
   "execution_count": null,
   "id": "8b359663-62d4-4980-a3b5-7c8dd69d4d90",
   "metadata": {},
   "outputs": [],
   "source": [
    "# MSSQL 예제\n",
    "import pymssql\n",
    "\n",
    "def select_all_mssql() :\n",
    "    with pymssql.connect(host='localhost',\n",
    "                     user='sa',\n",
    "                     password='sapass',\n",
    "                     database='memberdb') as conn : # dict 형태\n",
    "        with conn.cursor() as cursor :\n",
    "            sql = 'SELECT * FROM users'\n",
    "            cursor.execute(sql)\n",
    "            users = cursor.fetchall()\n",
    "            return users\n",
    "\n",
    "def user_insert_mssql(id, pw, name, age) :\n",
    "    with pymssql.connect(host='localhost',\n",
    "                         user='sa',\n",
    "                         password='sapass',\n",
    "                         database='kdigital2307') as conn : # dict 형태\n",
    "        with conn.cursor() as cursor :\n",
    "            sql = 'INSERT INTO users(id, pw, name, age) VALUES (%s, %s, %s, %s)'\n",
    "            cursor.execute(sql, (id, pw, name, age))\n",
    "            rs = cursor.fetchone()\n",
    "            print(rs)\n",
    "        conn.commit()"
   ]
  },
  {
   "cell_type": "code",
   "execution_count": 16,
   "id": "a3b90cf7-cd99-4404-b4b1-c993e4e24426",
   "metadata": {},
   "outputs": [],
   "source": [
    "import sqlite3"
   ]
  },
  {
   "cell_type": "code",
   "execution_count": 19,
   "id": "06c361c9-335c-4c2a-9240-b050918fba76",
   "metadata": {},
   "outputs": [
    {
     "name": "stdout",
     "output_type": "stream",
     "text": [
      "ok\n"
     ]
    }
   ],
   "source": [
    "with sqlite3.connect('./data/python.db') as conn :\n",
    "    print('ok')"
   ]
  },
  {
   "cell_type": "code",
   "execution_count": 23,
   "id": "9c9f70ac-ea00-4e0c-8a12-f6d71966ef2d",
   "metadata": {},
   "outputs": [
    {
     "name": "stdout",
     "output_type": "stream",
     "text": [
      "ok\n"
     ]
    }
   ],
   "source": [
    "table = '''\n",
    "CREATE TABLE miniboard ( \n",
    "idx INTEGER NOT NULL PRIMARY KEY AUTOINCREMENT, \n",
    "writer TEXT NOT NULL, \n",
    "title TEXT NOT NULL, \n",
    "content TEXT NOT NULL, \n",
    "regdate TEXT NOT NULL DEFAULT (datetime('now','localtime'))\n",
    ")\n",
    "'''\n",
    "\n",
    "with sqlite3.connect('./data/python.db') as conn :\n",
    "    cursor = conn.cursor()\n",
    "    cursor.execute(table)\n",
    "    print('ok')"
   ]
  },
  {
   "cell_type": "code",
   "execution_count": 25,
   "id": "6200e6a7-b242-4121-b5ec-8f827f325bdf",
   "metadata": {},
   "outputs": [],
   "source": [
    "def insert_sqlite3(data) :\n",
    "    with sqlite3.connect('./data/python.db') as conn :\n",
    "        cursor = conn.cursor()\n",
    "        sql = 'INSERT INTO miniboard(writer, title, content) VALUES (?, ?, ?)'\n",
    "        cursor.execute(sql, data)\n",
    "        print('ok')"
   ]
  },
  {
   "cell_type": "code",
   "execution_count": 26,
   "id": "5a99d44f-2a3f-4ae6-bf06-0fc9282249af",
   "metadata": {},
   "outputs": [
    {
     "name": "stdout",
     "output_type": "stream",
     "text": [
      "ok\n"
     ]
    }
   ],
   "source": [
    "data = 'hong', 'title1', 'content1'\n",
    "insert_sqlite3(data)"
   ]
  },
  {
   "cell_type": "code",
   "execution_count": 73,
   "id": "39b87d1d-3e9d-410a-93d7-8401dc902c54",
   "metadata": {},
   "outputs": [],
   "source": [
    "def select_sqlite3() :\n",
    "    with sqlite3.connect('./data/python.db') as conn :\n",
    "        cursor = conn.cursor()\n",
    "        sql = 'SELECT * FROM miniboard'\n",
    "        cursor.execute(sql)\n",
    "        rs = cursor.fetchall()\n",
    "        return rs"
   ]
  },
  {
   "cell_type": "code",
   "execution_count": 88,
   "id": "7cf2af26-c69e-4309-9048-2cee849164cf",
   "metadata": {},
   "outputs": [],
   "source": [
    "def select_sqlite3_dict() :\n",
    "    with sqlite3.connect('./data/python.db') as conn :\n",
    "        conn.row_factory = sqlite3.Row\n",
    "        cursor = conn.cursor()\n",
    "        sql = 'SELECT * FROM miniboard'\n",
    "        cursor.execute(sql)\n",
    "        rs = cursor.fetchall()\n",
    "        rs_list = []\n",
    "        rs_dict = []\n",
    "        for r in rs :\n",
    "            rs_list.append(list(r))\n",
    "            rs_dict.append(dict(r))\n",
    "        return rs_list, rs_dict"
   ]
  },
  {
   "cell_type": "code",
   "execution_count": 74,
   "id": "ac68bdfd-f817-4589-9da4-2ffa5a39ab8a",
   "metadata": {},
   "outputs": [
    {
     "name": "stdout",
     "output_type": "stream",
     "text": [
      "(1, 'hong', 'title1', 'content1', '2023-12-05 15:05:49')\n"
     ]
    }
   ],
   "source": [
    "rs = select_sqlite3()\n",
    "for row in rs :\n",
    "    print(row)"
   ]
  },
  {
   "cell_type": "code",
   "execution_count": 89,
   "id": "5c7355c6-4d7a-414d-9bd4-6807a24c28a4",
   "metadata": {},
   "outputs": [
    {
     "name": "stdout",
     "output_type": "stream",
     "text": [
      "[[1, 'hong', 'title1', 'content1', '2023-12-05 15:05:49']]\n",
      "[{'idx': 1, 'writer': 'hong', 'title': 'title1', 'content': 'content1', 'regdate': '2023-12-05 15:05:49'}]\n"
     ]
    }
   ],
   "source": [
    "rs_list, rs_dict = select_sqlite3_dict()\n",
    "print(rs_list)\n",
    "print(rs_dict)"
   ]
  },
  {
   "cell_type": "code",
   "execution_count": 66,
   "id": "2890d9de-a2e3-4271-9aed-79ae67a49406",
   "metadata": {},
   "outputs": [
    {
     "name": "stdout",
     "output_type": "stream",
     "text": [
      "[<sqlite3.Row object at 0x000001C61DAEADA0>]\n"
     ]
    }
   ],
   "source": [
    "rs = select_sqlite3_dict()\n",
    "print(rs)"
   ]
  },
  {
   "cell_type": "code",
   "execution_count": 47,
   "id": "ae37b4b2-9694-4851-bd6b-c13b6539ed6f",
   "metadata": {},
   "outputs": [],
   "source": [
    "def update_sqlite3(data) :\n",
    "    with sqlite3.connect('./data/python.db') as conn :\n",
    "        cursor = conn.cursor()\n",
    "        sql = 'UPDATE miniboard SET writer = ?, title = ?, content = ? WHERE idx = ?'\n",
    "        cursor.execute(sql, data)\n",
    "        print('ok')"
   ]
  },
  {
   "cell_type": "code",
   "execution_count": 50,
   "id": "e0266f46-d2d0-4ca0-9007-ba5d0ecb223b",
   "metadata": {},
   "outputs": [
    {
     "name": "stdout",
     "output_type": "stream",
     "text": [
      "ok\n"
     ]
    }
   ],
   "source": [
    "data = 'hong1', '1111', '1111', '1'\n",
    "\n",
    "update_sqlite3(data)"
   ]
  },
  {
   "cell_type": "code",
   "execution_count": 57,
   "id": "89decbb5-b8fc-4912-b5d2-c19bd95d79bf",
   "metadata": {},
   "outputs": [],
   "source": [
    "def delete_sqlite3(data) :\n",
    "    with sqlite3.connect('./data/python.db') as conn :\n",
    "        cursor = conn.cursor()\n",
    "        sql = 'DELETE FROM miniboard WHERE idx = ?'\n",
    "        cursor.execute(sql, data)\n",
    "        print('ok')"
   ]
  },
  {
   "cell_type": "code",
   "execution_count": 58,
   "id": "92b70cb9-067c-4041-9933-4562200d35cd",
   "metadata": {},
   "outputs": [
    {
     "name": "stdout",
     "output_type": "stream",
     "text": [
      "ok\n"
     ]
    }
   ],
   "source": [
    "data = (2,)\n",
    "\n",
    "delete_sqlite3(data)"
   ]
  },
  {
   "cell_type": "code",
   "execution_count": 90,
   "id": "efd7c53b-2ccd-4122-be2c-2ff1d81e98c7",
   "metadata": {},
   "outputs": [],
   "source": [
    "import pandas as pd\n",
    "import sqlite3"
   ]
  },
  {
   "cell_type": "code",
   "execution_count": 91,
   "id": "4844044a-92ab-4e40-bf4c-c1499cb65414",
   "metadata": {},
   "outputs": [],
   "source": [
    "def select_pandas() :\n",
    "    with sqlite3.connect('./data/python.db') as conn :\n",
    "        sql = 'SELECT * FROM miniboard'\n",
    "        rs = pd.read_sql_query(sql, conn)\n",
    "        print(type(rs))\n",
    "        return rs"
   ]
  },
  {
   "cell_type": "code",
   "execution_count": 100,
   "id": "37bec7aa-5a79-43a1-a652-dfdd7a696af4",
   "metadata": {},
   "outputs": [
    {
     "name": "stdout",
     "output_type": "stream",
     "text": [
      "<class 'pandas.core.frame.DataFrame'>\n"
     ]
    },
    {
     "data": {
      "text/html": [
       "<div>\n",
       "<style scoped>\n",
       "    .dataframe tbody tr th:only-of-type {\n",
       "        vertical-align: middle;\n",
       "    }\n",
       "\n",
       "    .dataframe tbody tr th {\n",
       "        vertical-align: top;\n",
       "    }\n",
       "\n",
       "    .dataframe thead th {\n",
       "        text-align: right;\n",
       "    }\n",
       "</style>\n",
       "<table border=\"1\" class=\"dataframe\">\n",
       "  <thead>\n",
       "    <tr style=\"text-align: right;\">\n",
       "      <th></th>\n",
       "      <th>idx</th>\n",
       "      <th>writer</th>\n",
       "      <th>title</th>\n",
       "      <th>content</th>\n",
       "      <th>regdate</th>\n",
       "    </tr>\n",
       "  </thead>\n",
       "  <tbody>\n",
       "    <tr>\n",
       "      <th>0</th>\n",
       "      <td>1</td>\n",
       "      <td>hong</td>\n",
       "      <td>title1</td>\n",
       "      <td>content1</td>\n",
       "      <td>2023-12-05 15:05:49</td>\n",
       "    </tr>\n",
       "  </tbody>\n",
       "</table>\n",
       "</div>"
      ],
      "text/plain": [
       "   idx writer   title   content              regdate\n",
       "0    1   hong  title1  content1  2023-12-05 15:05:49"
      ]
     },
     "execution_count": 100,
     "metadata": {},
     "output_type": "execute_result"
    }
   ],
   "source": [
    "df = select_pandas()\n",
    "df"
   ]
  },
  {
   "cell_type": "code",
   "execution_count": 101,
   "id": "0724db42-a060-45dd-aaf8-c8b545eaabd1",
   "metadata": {},
   "outputs": [
    {
     "data": {
      "text/plain": [
       "{'idx': 0    1\n",
       " Name: idx, dtype: int64,\n",
       " 'writer': 0    hong\n",
       " Name: writer, dtype: object,\n",
       " 'title': 0    title1\n",
       " Name: title, dtype: object,\n",
       " 'content': 0    content1\n",
       " Name: content, dtype: object,\n",
       " 'regdate': 0    2023-12-05 15:05:49\n",
       " Name: regdate, dtype: object}"
      ]
     },
     "execution_count": 101,
     "metadata": {},
     "output_type": "execute_result"
    }
   ],
   "source": [
    "dict(df)"
   ]
  },
  {
   "cell_type": "code",
   "execution_count": 102,
   "id": "695228c2-7a3a-451a-87f8-07578e44f9c4",
   "metadata": {},
   "outputs": [
    {
     "name": "stdout",
     "output_type": "stream",
     "text": [
      "Collecting tinydb\n",
      "  Downloading tinydb-4.8.0-py3-none-any.whl.metadata (6.2 kB)\n",
      "Downloading tinydb-4.8.0-py3-none-any.whl (24 kB)\n",
      "Installing collected packages: tinydb\n",
      "Successfully installed tinydb-4.8.0\n",
      "Note: you may need to restart the kernel to use updated packages.\n"
     ]
    }
   ],
   "source": [
    "pip install tinydb"
   ]
  },
  {
   "cell_type": "markdown",
   "id": "0ff224c8-401f-4070-97b5-7e0f5ed7df8b",
   "metadata": {},
   "source": [
    "# NoSQL"
   ]
  },
  {
   "cell_type": "code",
   "execution_count": 103,
   "id": "433ae7b5-44ae-49bc-8f1d-52d50a98ec79",
   "metadata": {},
   "outputs": [],
   "source": [
    "from tinydb import TinyDB, Query"
   ]
  },
  {
   "cell_type": "code",
   "execution_count": 104,
   "id": "2ae15758-bda7-414a-9ed5-a1aa6c7f2897",
   "metadata": {},
   "outputs": [],
   "source": [
    "db = TinyDB('./data/db.json')"
   ]
  },
  {
   "cell_type": "markdown",
   "id": "7863a16e-6e6f-4d44-b490-d278701ff6f5",
   "metadata": {},
   "source": [
    "#### insert"
   ]
  },
  {
   "cell_type": "code",
   "execution_count": 105,
   "id": "d48b35d5-1aef-4535-9c1b-cf5ec029117f",
   "metadata": {},
   "outputs": [
    {
     "data": {
      "text/plain": [
       "2"
      ]
     },
     "execution_count": 105,
     "metadata": {},
     "output_type": "execute_result"
    }
   ],
   "source": [
    "db.insert({'type':'apple', 'count':7})\n",
    "db.insert({'type':'peach', 'count':3})"
   ]
  },
  {
   "cell_type": "markdown",
   "id": "bc27a3c0-0860-44ef-a3ee-c695536715ab",
   "metadata": {},
   "source": [
    "#### select"
   ]
  },
  {
   "cell_type": "code",
   "execution_count": 111,
   "id": "1aa85559-f047-4016-a098-6d143123daa1",
   "metadata": {},
   "outputs": [
    {
     "data": {
      "text/plain": [
       "[{'type': 'apple', 'count': 7}, {'type': 'peach', 'count': 3}]"
      ]
     },
     "execution_count": 111,
     "metadata": {},
     "output_type": "execute_result"
    }
   ],
   "source": [
    "db.all()"
   ]
  },
  {
   "cell_type": "code",
   "execution_count": 112,
   "id": "b1bdb11b-09e3-46db-a7f2-d0730390ce74",
   "metadata": {},
   "outputs": [
    {
     "data": {
      "text/plain": [
       "{'type': 'apple', 'count': 7}"
      ]
     },
     "execution_count": 112,
     "metadata": {},
     "output_type": "execute_result"
    }
   ],
   "source": [
    "db.all()[0]"
   ]
  },
  {
   "cell_type": "code",
   "execution_count": 113,
   "id": "c5c6ecfa-531e-40d5-a2ba-4132e712a849",
   "metadata": {},
   "outputs": [
    {
     "data": {
      "text/plain": [
       "'apple'"
      ]
     },
     "execution_count": 113,
     "metadata": {},
     "output_type": "execute_result"
    }
   ],
   "source": [
    "db.all()[0]['type']"
   ]
  },
  {
   "cell_type": "code",
   "execution_count": 114,
   "id": "09fcaa7a-ac0d-422f-9163-8cb585dfb1f6",
   "metadata": {},
   "outputs": [
    {
     "name": "stdout",
     "output_type": "stream",
     "text": [
      "{'type': 'apple', 'count': 7}\n",
      "{'type': 'peach', 'count': 3}\n"
     ]
    }
   ],
   "source": [
    "for i in db :\n",
    "    print(i)"
   ]
  },
  {
   "cell_type": "code",
   "execution_count": 116,
   "id": "7900a24d-ae57-4ac0-b4a5-01fc37c52a48",
   "metadata": {},
   "outputs": [
    {
     "data": {
      "text/plain": [
       "[{'type': 'apple', 'count': 7}, {'type': 'peach', 'count': 3}]"
      ]
     },
     "execution_count": 116,
     "metadata": {},
     "output_type": "execute_result"
    }
   ],
   "source": [
    "[i for i in db]"
   ]
  },
  {
   "cell_type": "code",
   "execution_count": 129,
   "id": "879fced7-5f45-4c34-90bf-77ddab31da8a",
   "metadata": {},
   "outputs": [
    {
     "name": "stdout",
     "output_type": "stream",
     "text": [
      "[{'type': 'peach', 'count': 3}]\n",
      "[{'type': 'apple', 'count': 7}, {'type': 'peach', 'count': 3}]\n"
     ]
    }
   ],
   "source": [
    "q = Query()\n",
    "search_type = db.search(q.type == 'peach')\n",
    "search_count = db.search(q.count > 2)\n",
    "print(search_type)\n",
    "print(search_count)"
   ]
  },
  {
   "cell_type": "markdown",
   "id": "dd3ae07a-9123-4333-91cf-c8cd222267ae",
   "metadata": {},
   "source": [
    "#### update"
   ]
  },
  {
   "cell_type": "code",
   "execution_count": 131,
   "id": "ae938881-7622-4bef-90b6-2faaebb0d1ab",
   "metadata": {},
   "outputs": [
    {
     "data": {
      "text/plain": [
       "[{'type': 'apple', 'count': 10}, {'type': 'peach', 'count': 3}]"
      ]
     },
     "execution_count": 131,
     "metadata": {},
     "output_type": "execute_result"
    }
   ],
   "source": [
    "db.update({'count':10}, q.type == 'apple')\n",
    "db.all()"
   ]
  },
  {
   "cell_type": "markdown",
   "id": "8de04223-7819-4b5c-9d8b-e6c709e19291",
   "metadata": {},
   "source": [
    "#### delete"
   ]
  },
  {
   "cell_type": "code",
   "execution_count": 132,
   "id": "883e372b-bee0-4734-b278-3427d7da4122",
   "metadata": {},
   "outputs": [
    {
     "data": {
      "text/plain": [
       "[{'type': 'apple', 'count': 10}]"
      ]
     },
     "execution_count": 132,
     "metadata": {},
     "output_type": "execute_result"
    }
   ],
   "source": [
    "db.remove(q.count < 5)\n",
    "db.all()"
   ]
  },
  {
   "cell_type": "markdown",
   "id": "717956aa-2061-46d1-beec-04dc982c9228",
   "metadata": {},
   "source": [
    "#### truncate"
   ]
  },
  {
   "cell_type": "code",
   "execution_count": 133,
   "id": "9f7dac22-6b36-47c1-83ba-3ca90cc4c494",
   "metadata": {},
   "outputs": [
    {
     "data": {
      "text/plain": [
       "[]"
      ]
     },
     "execution_count": 133,
     "metadata": {},
     "output_type": "execute_result"
    }
   ],
   "source": [
    "db.truncate()\n",
    "db.all()"
   ]
  },
  {
   "cell_type": "markdown",
   "id": "3b95b6f1-9b20-421a-af8f-0a20f9cb2fa1",
   "metadata": {},
   "source": [
    "#### create table"
   ]
  },
  {
   "cell_type": "code",
   "execution_count": 141,
   "id": "14b70502-0117-49ed-a2e9-c33c87f4bce1",
   "metadata": {},
   "outputs": [],
   "source": [
    "fruits = db.table('fruits')"
   ]
  },
  {
   "cell_type": "code",
   "execution_count": 142,
   "id": "617311de-0c81-4108-b04b-ece4b6c93ea2",
   "metadata": {},
   "outputs": [
    {
     "data": {
      "text/plain": [
       "2"
      ]
     },
     "execution_count": 142,
     "metadata": {},
     "output_type": "execute_result"
    }
   ],
   "source": [
    "fruits.insert({'type':'apple', 'count':7})\n",
    "fruits.insert({'type':'peach', 'count':3})"
   ]
  },
  {
   "cell_type": "code",
   "execution_count": 143,
   "id": "526944f0-ab10-4f86-b790-8f64fa5f73e2",
   "metadata": {},
   "outputs": [
    {
     "data": {
      "text/plain": [
       "[{'type': 'apple', 'count': 7}, {'type': 'peach', 'count': 3}]"
      ]
     },
     "execution_count": 143,
     "metadata": {},
     "output_type": "execute_result"
    }
   ],
   "source": [
    "fruits.all()"
   ]
  },
  {
   "cell_type": "code",
   "execution_count": 144,
   "id": "54f27f14-9e8c-45d0-a7cc-7eda565a3621",
   "metadata": {},
   "outputs": [
    {
     "data": {
      "text/plain": [
       "[]"
      ]
     },
     "execution_count": 144,
     "metadata": {},
     "output_type": "execute_result"
    }
   ],
   "source": [
    "db.all()"
   ]
  },
  {
   "cell_type": "markdown",
   "id": "b65ceb9e-945b-4beb-810d-4540adf6302a",
   "metadata": {},
   "source": [
    "#### drop table"
   ]
  },
  {
   "cell_type": "code",
   "execution_count": 140,
   "id": "41a1b97e-396e-43d1-9de5-5c86f759d10c",
   "metadata": {},
   "outputs": [],
   "source": [
    "db.drop_table('fruits')"
   ]
  },
  {
   "cell_type": "code",
   "execution_count": 151,
   "id": "68785c63-fd5f-4745-b99f-79d065ff3037",
   "metadata": {},
   "outputs": [],
   "source": [
    "import requests\n",
    "from tinydb import TinyDB, Query"
   ]
  },
  {
   "cell_type": "code",
   "execution_count": 155,
   "id": "e4060a64-9538-40c2-a77d-4f1053554a64",
   "metadata": {},
   "outputs": [],
   "source": [
    "url = 'https://www.dhlottery.co.kr/common.do?method=getLottoNumber&drwNo=1096'\n",
    "response = requests.get(url)"
   ]
  },
  {
   "cell_type": "code",
   "execution_count": 157,
   "id": "20f160a9-6dd2-4ca0-8b48-6b6e8d7c102c",
   "metadata": {},
   "outputs": [],
   "source": [
    "if response.status_code == 200 :\n",
    "    rs = response.json()\n",
    "    db = TinyDB('./data/lotto.json')\n",
    "    table = db.table('lotto')\n",
    "    table.insert(rs)"
   ]
  },
  {
   "cell_type": "code",
   "execution_count": 158,
   "id": "47f71f51-0547-4f59-8d7e-09e824001a86",
   "metadata": {},
   "outputs": [
    {
     "data": {
      "text/plain": [
       "[{'totSellamnt': 105753078000,\n",
       "  'returnValue': 'success',\n",
       "  'drwNoDate': '2023-12-02',\n",
       "  'firstWinamnt': 2539391175,\n",
       "  'drwtNo6': 43,\n",
       "  'drwtNo4': 19,\n",
       "  'firstPrzwnerCo': 10,\n",
       "  'drwtNo5': 23,\n",
       "  'bnusNo': 34,\n",
       "  'firstAccumamnt': 25393911750,\n",
       "  'drwNo': 1096,\n",
       "  'drwtNo2': 12,\n",
       "  'drwtNo3': 16,\n",
       "  'drwtNo1': 1}]"
      ]
     },
     "execution_count": 158,
     "metadata": {},
     "output_type": "execute_result"
    }
   ],
   "source": [
    "table.all()"
   ]
  }
 ],
 "metadata": {
  "kernelspec": {
   "display_name": "Python 3 (ipykernel)",
   "language": "python",
   "name": "python3"
  },
  "language_info": {
   "codemirror_mode": {
    "name": "ipython",
    "version": 3
   },
   "file_extension": ".py",
   "mimetype": "text/x-python",
   "name": "python",
   "nbconvert_exporter": "python",
   "pygments_lexer": "ipython3",
   "version": "3.11.5"
  },
  "widgets": {
   "application/vnd.jupyter.widget-state+json": {
    "state": {},
    "version_major": 2,
    "version_minor": 0
   }
  }
 },
 "nbformat": 4,
 "nbformat_minor": 5
}
