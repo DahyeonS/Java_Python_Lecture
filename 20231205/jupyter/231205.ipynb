{
 "cells": [
  {
   "cell_type": "code",
   "execution_count": 1,
   "id": "0d848bd6-af06-4406-b77e-494fbaf19263",
   "metadata": {},
   "outputs": [],
   "source": [
    "import os"
   ]
  },
  {
   "cell_type": "code",
   "execution_count": 2,
   "id": "8f073d03-18bd-40c3-a6f5-e1c3eee54ab1",
   "metadata": {},
   "outputs": [
    {
     "name": "stdout",
     "output_type": "stream",
     "text": [
      "D:\\kdigital2307\\python\\jupyter\n"
     ]
    }
   ],
   "source": [
    "print(os.getcwd())"
   ]
  },
  {
   "cell_type": "code",
   "execution_count": 10,
   "id": "a5910025-c5fb-4d92-9f3a-79be68871e4b",
   "metadata": {},
   "outputs": [
    {
     "name": "stdout",
     "output_type": "stream",
     "text": [
      "programming is fun\n",
      "very fun!\n",
      "have a good time\n",
      "mouse is input device\n",
      "keyboard is input device\n",
      "computer is input output system <class 'str'>\n"
     ]
    }
   ],
   "source": [
    "try :\n",
    "    f = open('./data/ftest.txt', mode='r', encoding='utf-8')\n",
    "    print(f.read(), type(f.read()))\n",
    "\n",
    "    f2 = open('./data/ftest2.txt', mode='w')\n",
    "    s = 'my first python~~\\n'\n",
    "    f2.write(s)\n",
    "\n",
    "    f3 = open('./data/ftest2.txt', mode='a')\n",
    "    s = 'my first python~~222222222'\n",
    "    f3.write(s)\n",
    "except Exception as e :\n",
    "    print(e)\n",
    "finally :\n",
    "    f.close()\n",
    "    f2.close()\n",
    "    f3.close()"
   ]
  },
  {
   "cell_type": "code",
   "execution_count": 19,
   "id": "5207d9cf-d8e3-4541-8b6b-69c294ac16b4",
   "metadata": {},
   "outputs": [
    {
     "name": "stdout",
     "output_type": "stream",
     "text": [
      "['programming is fun', 'very fun!', 'have a good time', 'mouse is input device', 'keyboard is input device', 'computer is input output system']\n",
      "[['programming', 'is', 'fun'], ['very', 'fun!'], ['have', 'a', 'good', 'time'], ['mouse', 'is', 'input', 'device'], ['keyboard', 'is', 'input', 'device'], ['computer', 'is', 'input', 'output', 'system']]\n",
      "['programming', 'is', 'fun', 'very', 'fun!', 'have', 'a', 'good', 'time', 'mouse', 'is', 'input', 'device', 'keyboard', 'is', 'input', 'device', 'computer', 'is', 'input', 'output', 'system']\n"
     ]
    }
   ],
   "source": [
    "try :\n",
    "    f = open('./data/ftest.txt', mode='r')\n",
    "    lines = f.readlines()\n",
    "    doc = []\n",
    "    for line in lines :\n",
    "        doc.append(line.strip()) # 공백/제어문자 제거\n",
    "    print(doc)\n",
    "    words = []\n",
    "    items = []\n",
    "    for word in doc :\n",
    "        words.append(word.split())\n",
    "        for item in word.split() :\n",
    "            items.append(item)\n",
    "    print(words)\n",
    "    print(items)\n",
    "except Exception as e :\n",
    "    print(e)\n",
    "finally :\n",
    "    f.close()"
   ]
  },
  {
   "cell_type": "code",
   "execution_count": null,
   "id": "5774f890-5117-4b9a-bef8-e40403be6735",
   "metadata": {},
   "outputs": [],
   "source": []
  },
  {
   "cell_type": "code",
   "execution_count": null,
   "id": "00185ea5-f26c-403b-a8a5-f06e628f5a82",
   "metadata": {},
   "outputs": [],
   "source": []
  },
  {
   "cell_type": "code",
   "execution_count": null,
   "id": "43d6a046-9b8b-44a9-a914-dedd35ffbb23",
   "metadata": {},
   "outputs": [],
   "source": []
  },
  {
   "cell_type": "code",
   "execution_count": null,
   "id": "5bcb3319-1f10-463b-b50c-c364daad4b8a",
   "metadata": {},
   "outputs": [],
   "source": []
  },
  {
   "cell_type": "code",
   "execution_count": null,
   "id": "881c487e-3a41-42ed-ad7c-8f22dffe28e2",
   "metadata": {},
   "outputs": [],
   "source": []
  }
 ],
 "metadata": {
  "kernelspec": {
   "display_name": "Python 3 (ipykernel)",
   "language": "python",
   "name": "python3"
  },
  "language_info": {
   "codemirror_mode": {
    "name": "ipython",
    "version": 3
   },
   "file_extension": ".py",
   "mimetype": "text/x-python",
   "name": "python",
   "nbconvert_exporter": "python",
   "pygments_lexer": "ipython3",
   "version": "3.11.5"
  },
  "widgets": {
   "application/vnd.jupyter.widget-state+json": {
    "state": {},
    "version_major": 2,
    "version_minor": 0
   }
  }
 },
 "nbformat": 4,
 "nbformat_minor": 5
}
