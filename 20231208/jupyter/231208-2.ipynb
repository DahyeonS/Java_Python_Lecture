{
 "cells": [
  {
   "cell_type": "code",
   "execution_count": 2,
   "id": "0f4f5997-f5d6-49cd-9c6f-707844500a14",
   "metadata": {},
   "outputs": [],
   "source": [
    "import requests\n",
    "from bs4 import BeautifulSoup\n",
    "import re"
   ]
  },
  {
   "cell_type": "code",
   "execution_count": 3,
   "id": "cf5cbf81-2290-4cb6-8608-567cbf0a4896",
   "metadata": {},
   "outputs": [
    {
     "data": {
      "text/plain": [
       "'[단독]넷플릭스·디즈니·티빙 이어 유튜브 프리미엄도 가격 인상…월 1만4900원'"
      ]
     },
     "execution_count": 3,
     "metadata": {},
     "output_type": "execute_result"
    }
   ],
   "source": [
    "url = 'https://n.news.naver.com/mnews/article/366/0000953421'\n",
    "params = {\n",
    "    'sid':105\n",
    "}\n",
    "response = requests.get(url, params=params)\n",
    "soup = BeautifulSoup(response.text)\n",
    "\n",
    "soup.select_one('h2#title_area').span.text"
   ]
  },
  {
   "cell_type": "code",
   "execution_count": 34,
   "id": "52d48002-f3e3-411b-a680-bd6e8c20ec8f",
   "metadata": {},
   "outputs": [
    {
     "data": {
      "text/plain": [
       "{'3HN72V25OVCCTLKJXBCIIENSTA': ('1명뿐인 만점자 “선택 과목 탓에 서울 의대 지원 못해… 후회는 없어요”',\n",
       "  '95')}"
      ]
     },
     "execution_count": 34,
     "metadata": {},
     "output_type": "execute_result"
    }
   ],
   "source": [
    "url = 'https://m100.chosun.com/svc/guest/list-api.html?article=3HN72V25OVCCTLKJXBCIIENSTA'\n",
    "response = requests.get(url, params=params)\n",
    "raw_json = response.json()\n",
    "\n",
    "code = url.split('=')[-1]\n",
    "title = raw_json['content_elements'][0]['ARTBBS_TITLE']\n",
    "comment_cnt = raw_json['total_comments']\n",
    "\n",
    "{code:(title, comment_cnt)}"
   ]
  },
  {
   "cell_type": "code",
   "execution_count": 26,
   "id": "a117403b-c690-44e8-a87e-0b2e8c60b820",
   "metadata": {},
   "outputs": [
    {
     "data": {
      "text/plain": [
       "'3HN72V25OVCCTLKJXBCIIENSTA'"
      ]
     },
     "execution_count": 26,
     "metadata": {},
     "output_type": "execute_result"
    }
   ],
   "source": []
  },
  {
   "cell_type": "code",
   "execution_count": 15,
   "id": "2e4547f1-eb10-4343-a088-1ead492803a0",
   "metadata": {},
   "outputs": [
    {
     "data": {
      "text/plain": [
       "'1명뿐인 만점자 “선택 과목 탓에 서울 의대 지원 못해… 후회는 없어요”'"
      ]
     },
     "execution_count": 15,
     "metadata": {},
     "output_type": "execute_result"
    }
   ],
   "source": []
  },
  {
   "cell_type": "code",
   "execution_count": 20,
   "id": "9f469604-51b6-4d3f-b318-416f0ba47d45",
   "metadata": {},
   "outputs": [
    {
     "data": {
      "text/plain": [
       "[<div id=\"fusion-app\"><div data-fusion-collection=\"layouts\" data-fusion-message=\"Could not render component [layouts:article]\" data-fusion-type=\"article\" id=\"article\" style=\"display:none\"></div></div>,\n",
       " <div data-fusion-collection=\"layouts\" data-fusion-message=\"Could not render component [layouts:article]\" data-fusion-type=\"article\" id=\"article\" style=\"display:none\"></div>]"
      ]
     },
     "execution_count": 20,
     "metadata": {},
     "output_type": "execute_result"
    }
   ],
   "source": []
  },
  {
   "cell_type": "code",
   "execution_count": 23,
   "id": "6e8155a8-73c3-470f-af95-a528d54755bc",
   "metadata": {},
   "outputs": [],
   "source": []
  },
  {
   "cell_type": "code",
   "execution_count": null,
   "id": "27cfd943-e39e-44fd-b306-1d09b8a40efc",
   "metadata": {},
   "outputs": [],
   "source": []
  },
  {
   "cell_type": "code",
   "execution_count": null,
   "id": "a9c4d978-83b3-4ffc-bca8-a6f5e1fdcf90",
   "metadata": {},
   "outputs": [],
   "source": []
  },
  {
   "cell_type": "code",
   "execution_count": null,
   "id": "43001c0a-cc99-431e-80af-e322d944a3eb",
   "metadata": {},
   "outputs": [],
   "source": []
  },
  {
   "cell_type": "code",
   "execution_count": null,
   "id": "afa8de96-2c96-414d-9f63-a14a54f1ab4c",
   "metadata": {},
   "outputs": [],
   "source": []
  },
  {
   "cell_type": "code",
   "execution_count": null,
   "id": "408103f5-b735-41d7-b3c7-720a4467587c",
   "metadata": {},
   "outputs": [],
   "source": []
  },
  {
   "cell_type": "code",
   "execution_count": null,
   "id": "237403d5-f6de-4d24-bff0-50c2c7b7f6f5",
   "metadata": {},
   "outputs": [],
   "source": []
  },
  {
   "cell_type": "code",
   "execution_count": null,
   "id": "490fcb87-42e9-4b70-946d-20cb5ebd224f",
   "metadata": {},
   "outputs": [],
   "source": []
  },
  {
   "cell_type": "code",
   "execution_count": null,
   "id": "bb44f922-492e-4cdc-9c96-26df0fdb9fad",
   "metadata": {},
   "outputs": [],
   "source": []
  },
  {
   "cell_type": "code",
   "execution_count": null,
   "id": "96938f9a-c037-46b8-b977-530c069973cf",
   "metadata": {},
   "outputs": [],
   "source": []
  },
  {
   "cell_type": "code",
   "execution_count": null,
   "id": "cf0665bb-074e-4f3e-8132-edbc6865c03e",
   "metadata": {},
   "outputs": [],
   "source": []
  },
  {
   "cell_type": "code",
   "execution_count": null,
   "id": "68f7a2d4-996e-44b4-8c74-c2f60c857342",
   "metadata": {},
   "outputs": [],
   "source": []
  },
  {
   "cell_type": "code",
   "execution_count": null,
   "id": "4c292818-a555-4986-91b9-75f941ddbdef",
   "metadata": {},
   "outputs": [],
   "source": []
  },
  {
   "cell_type": "code",
   "execution_count": null,
   "id": "2d193966-96ec-4e4f-8333-1053ff083397",
   "metadata": {},
   "outputs": [],
   "source": []
  },
  {
   "cell_type": "code",
   "execution_count": null,
   "id": "1093c9cf-4b98-4805-8295-b8266c627fdd",
   "metadata": {},
   "outputs": [],
   "source": []
  },
  {
   "cell_type": "code",
   "execution_count": null,
   "id": "19ef0d48-87d0-4b8c-9f33-611114292efb",
   "metadata": {},
   "outputs": [],
   "source": []
  }
 ],
 "metadata": {
  "kernelspec": {
   "display_name": "Python 3 (ipykernel)",
   "language": "python",
   "name": "python3"
  },
  "language_info": {
   "codemirror_mode": {
    "name": "ipython",
    "version": 3
   },
   "file_extension": ".py",
   "mimetype": "text/x-python",
   "name": "python",
   "nbconvert_exporter": "python",
   "pygments_lexer": "ipython3",
   "version": "3.11.5"
  },
  "widgets": {
   "application/vnd.jupyter.widget-state+json": {
    "state": {},
    "version_major": 2,
    "version_minor": 0
   }
  }
 },
 "nbformat": 4,
 "nbformat_minor": 5
}
