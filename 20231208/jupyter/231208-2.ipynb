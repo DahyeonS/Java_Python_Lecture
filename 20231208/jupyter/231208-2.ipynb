{
 "cells": [
  {
   "cell_type": "code",
   "execution_count": 1,
   "id": "0f4f5997-f5d6-49cd-9c6f-707844500a14",
   "metadata": {},
   "outputs": [],
   "source": [
    "import requests\n",
    "from bs4 import BeautifulSoup"
   ]
  },
  {
   "cell_type": "code",
   "execution_count": 7,
   "id": "cf5cbf81-2290-4cb6-8608-567cbf0a4896",
   "metadata": {},
   "outputs": [],
   "source": [
    "url = 'https://n.news.naver.com/mnews/article/366/0000953421'\n",
    "params = {\n",
    "    'sid':105\n",
    "}\n",
    "response = requests.get(url, params=params)\n",
    "soup = BeautifulSoup(response.text)"
   ]
  },
  {
   "cell_type": "code",
   "execution_count": 19,
   "id": "52d48002-f3e3-411b-a680-bd6e8c20ec8f",
   "metadata": {},
   "outputs": [
    {
     "data": {
      "text/plain": [
       "'[단독]넷플릭스·디즈니·티빙 이어 유튜브 프리미엄도 가격 인상…월 1만4900원'"
      ]
     },
     "execution_count": 19,
     "metadata": {},
     "output_type": "execute_result"
    }
   ],
   "source": [
    "soup.select_one('h2#title_area').span.text"
   ]
  }
 ],
 "metadata": {
  "kernelspec": {
   "display_name": "Python 3 (ipykernel)",
   "language": "python",
   "name": "python3"
  },
  "language_info": {
   "codemirror_mode": {
    "name": "ipython",
    "version": 3
   },
   "file_extension": ".py",
   "mimetype": "text/x-python",
   "name": "python",
   "nbconvert_exporter": "python",
   "pygments_lexer": "ipython3",
   "version": "3.11.5"
  },
  "widgets": {
   "application/vnd.jupyter.widget-state+json": {
    "state": {},
    "version_major": 2,
    "version_minor": 0
   }
  }
 },
 "nbformat": 4,
 "nbformat_minor": 5
}
