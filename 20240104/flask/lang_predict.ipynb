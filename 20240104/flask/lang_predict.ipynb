{
 "cells": [
  {
   "cell_type": "code",
   "execution_count": 1,
   "id": "3cc61f0b-272f-4d0e-8f5a-4dca65aaa120",
   "metadata": {},
   "outputs": [],
   "source": [
    "from sklearn import svm, metrics\n",
    "import glob, os.path, re, json"
   ]
  },
  {
   "cell_type": "code",
   "execution_count": 5,
   "id": "15af307e-67d9-49d0-b208-96cbfd9c3684",
   "metadata": {},
   "outputs": [],
   "source": [
    "data_list = glob.glob('../data/lang/train/*.txt')\n",
    "test_list = glob.glob('../data/lang/test/*.txt')"
   ]
  },
  {
   "cell_type": "code",
   "execution_count": 7,
   "id": "799e5597-3e51-4c90-8cf2-ece58f4b4003",
   "metadata": {},
   "outputs": [
    {
     "name": "stdout",
     "output_type": "stream",
     "text": [
      "../data/lang/train\\en-1.txt\n",
      "../data/lang/train\\en-2.txt\n",
      "../data/lang/train\\en-3.txt\n",
      "../data/lang/train\\en-4.txt\n",
      "../data/lang/train\\en-5.txt\n",
      "../data/lang/train\\fr-10.txt\n",
      "../data/lang/train\\fr-6.txt\n",
      "../data/lang/train\\fr-7.txt\n",
      "../data/lang/train\\fr-8.txt\n",
      "../data/lang/train\\fr-9.txt\n",
      "../data/lang/train\\id-11.txt\n",
      "../data/lang/train\\id-12.txt\n",
      "../data/lang/train\\id-13.txt\n",
      "../data/lang/train\\id-14.txt\n",
      "../data/lang/train\\id-15.txt\n",
      "../data/lang/train\\tl-16.txt\n",
      "../data/lang/train\\tl-17.txt\n",
      "../data/lang/train\\tl-18.txt\n",
      "../data/lang/train\\tl-19.txt\n",
      "../data/lang/train\\tl-20.txt\n"
     ]
    }
   ],
   "source": [
    "\n",
    "   "
   ]
  },
  {
   "cell_type": "code",
   "execution_count": 18,
   "id": "8c931eca-dcc2-486e-b845-d3d7ce074050",
   "metadata": {},
   "outputs": [],
   "source": [
    "def check_freq(path):\n",
    "    #path = '../data/lang/train\\en-1.txt'\n",
    "    name = os.path.basename(path)\n",
    "    lang = name[:2]\n",
    "    with open(path, 'r', encoding='utf-8') as f:\n",
    "        text = f.read()\n",
    "    text = text.lower()\n",
    "    cnt = [0 for n in range(0,26)]\n",
    "    code_a = ord('a')\n",
    "    code_z = ord('z')\n",
    "    code_a, code_z\n",
    "    for ch in text:\n",
    "        n = (ord(ch))\n",
    "        if code_a <= n <= code_z:\n",
    "            cnt[n- code_a] += 1\n",
    "    total = sum(cnt)\n",
    "    freq = list(map(lambda n: n/total, cnt))\n",
    "    return (freq, lang)"
   ]
  },
  {
   "cell_type": "code",
   "execution_count": 22,
   "id": "959f4b7b-a2e1-4e7a-a8a4-33d2bab087a7",
   "metadata": {},
   "outputs": [],
   "source": [
    "def load_files(path):\n",
    "    freqs = []\n",
    "    labels = []\n",
    "    data_list = glob.glob(path)\n",
    "    for file in data_list:\n",
    "        r = check_freq(file)\n",
    "        freqs.append(r[0])\n",
    "        labels.append(r[1])\n",
    "    return {'freqs': freqs, 'labels': labels}\n",
    "        "
   ]
  },
  {
   "cell_type": "code",
   "execution_count": 27,
   "id": "03f030ad-2c75-41c0-a3fb-23b2c8441a35",
   "metadata": {},
   "outputs": [],
   "source": [
    "data = load_files('../data/lang/train/*.txt')\n",
    "test = load_files('../data/lang/test/*.txt')"
   ]
  },
  {
   "cell_type": "code",
   "execution_count": 28,
   "id": "c32a4a3d-5894-4984-9248-4cf8db49ea7c",
   "metadata": {},
   "outputs": [],
   "source": [
    "with open('../data/freq.json', 'w', encoding='utf-8') as f:\n",
    "    json.dump([data, test], f)"
   ]
  },
  {
   "cell_type": "code",
   "execution_count": 29,
   "id": "069d667a-af9b-48c0-a6e0-ceb7aeb3ec93",
   "metadata": {},
   "outputs": [
    {
     "data": {
      "text/html": [
       "<style>#sk-container-id-1 {color: black;}#sk-container-id-1 pre{padding: 0;}#sk-container-id-1 div.sk-toggleable {background-color: white;}#sk-container-id-1 label.sk-toggleable__label {cursor: pointer;display: block;width: 100%;margin-bottom: 0;padding: 0.3em;box-sizing: border-box;text-align: center;}#sk-container-id-1 label.sk-toggleable__label-arrow:before {content: \"▸\";float: left;margin-right: 0.25em;color: #696969;}#sk-container-id-1 label.sk-toggleable__label-arrow:hover:before {color: black;}#sk-container-id-1 div.sk-estimator:hover label.sk-toggleable__label-arrow:before {color: black;}#sk-container-id-1 div.sk-toggleable__content {max-height: 0;max-width: 0;overflow: hidden;text-align: left;background-color: #f0f8ff;}#sk-container-id-1 div.sk-toggleable__content pre {margin: 0.2em;color: black;border-radius: 0.25em;background-color: #f0f8ff;}#sk-container-id-1 input.sk-toggleable__control:checked~div.sk-toggleable__content {max-height: 200px;max-width: 100%;overflow: auto;}#sk-container-id-1 input.sk-toggleable__control:checked~label.sk-toggleable__label-arrow:before {content: \"▾\";}#sk-container-id-1 div.sk-estimator input.sk-toggleable__control:checked~label.sk-toggleable__label {background-color: #d4ebff;}#sk-container-id-1 div.sk-label input.sk-toggleable__control:checked~label.sk-toggleable__label {background-color: #d4ebff;}#sk-container-id-1 input.sk-hidden--visually {border: 0;clip: rect(1px 1px 1px 1px);clip: rect(1px, 1px, 1px, 1px);height: 1px;margin: -1px;overflow: hidden;padding: 0;position: absolute;width: 1px;}#sk-container-id-1 div.sk-estimator {font-family: monospace;background-color: #f0f8ff;border: 1px dotted black;border-radius: 0.25em;box-sizing: border-box;margin-bottom: 0.5em;}#sk-container-id-1 div.sk-estimator:hover {background-color: #d4ebff;}#sk-container-id-1 div.sk-parallel-item::after {content: \"\";width: 100%;border-bottom: 1px solid gray;flex-grow: 1;}#sk-container-id-1 div.sk-label:hover label.sk-toggleable__label {background-color: #d4ebff;}#sk-container-id-1 div.sk-serial::before {content: \"\";position: absolute;border-left: 1px solid gray;box-sizing: border-box;top: 0;bottom: 0;left: 50%;z-index: 0;}#sk-container-id-1 div.sk-serial {display: flex;flex-direction: column;align-items: center;background-color: white;padding-right: 0.2em;padding-left: 0.2em;position: relative;}#sk-container-id-1 div.sk-item {position: relative;z-index: 1;}#sk-container-id-1 div.sk-parallel {display: flex;align-items: stretch;justify-content: center;background-color: white;position: relative;}#sk-container-id-1 div.sk-item::before, #sk-container-id-1 div.sk-parallel-item::before {content: \"\";position: absolute;border-left: 1px solid gray;box-sizing: border-box;top: 0;bottom: 0;left: 50%;z-index: -1;}#sk-container-id-1 div.sk-parallel-item {display: flex;flex-direction: column;z-index: 1;position: relative;background-color: white;}#sk-container-id-1 div.sk-parallel-item:first-child::after {align-self: flex-end;width: 50%;}#sk-container-id-1 div.sk-parallel-item:last-child::after {align-self: flex-start;width: 50%;}#sk-container-id-1 div.sk-parallel-item:only-child::after {width: 0;}#sk-container-id-1 div.sk-dashed-wrapped {border: 1px dashed gray;margin: 0 0.4em 0.5em 0.4em;box-sizing: border-box;padding-bottom: 0.4em;background-color: white;}#sk-container-id-1 div.sk-label label {font-family: monospace;font-weight: bold;display: inline-block;line-height: 1.2em;}#sk-container-id-1 div.sk-label-container {text-align: center;}#sk-container-id-1 div.sk-container {/* jupyter's `normalize.less` sets `[hidden] { display: none; }` but bootstrap.min.css set `[hidden] { display: none !important; }` so we also need the `!important` here to be able to override the default hidden behavior on the sphinx rendered scikit-learn.org. See: https://github.com/scikit-learn/scikit-learn/issues/21755 */display: inline-block !important;position: relative;}#sk-container-id-1 div.sk-text-repr-fallback {display: none;}</style><div id=\"sk-container-id-1\" class=\"sk-top-container\"><div class=\"sk-text-repr-fallback\"><pre>SVC()</pre><b>In a Jupyter environment, please rerun this cell to show the HTML representation or trust the notebook. <br />On GitHub, the HTML representation is unable to render, please try loading this page with nbviewer.org.</b></div><div class=\"sk-container\" hidden><div class=\"sk-item\"><div class=\"sk-estimator sk-toggleable\"><input class=\"sk-toggleable__control sk-hidden--visually\" id=\"sk-estimator-id-1\" type=\"checkbox\" checked><label for=\"sk-estimator-id-1\" class=\"sk-toggleable__label sk-toggleable__label-arrow\">SVC</label><div class=\"sk-toggleable__content\"><pre>SVC()</pre></div></div></div></div></div>"
      ],
      "text/plain": [
       "SVC()"
      ]
     },
     "execution_count": 29,
     "metadata": {},
     "output_type": "execute_result"
    }
   ],
   "source": [
    "clf = svm.SVC()\n",
    "clf.fit(data['freqs'], data['labels'])"
   ]
  },
  {
   "cell_type": "code",
   "execution_count": 30,
   "id": "0c11f04e-846b-4958-8409-b91b37521b7d",
   "metadata": {},
   "outputs": [],
   "source": [
    "pred = clf.predict(test['freqs'])"
   ]
  },
  {
   "cell_type": "code",
   "execution_count": 32,
   "id": "485fa028-d76a-449f-baec-7aa82cdc1e1b",
   "metadata": {},
   "outputs": [
    {
     "data": {
      "text/plain": [
       "1.0"
      ]
     },
     "execution_count": 32,
     "metadata": {},
     "output_type": "execute_result"
    }
   ],
   "source": [
    "metrics.accuracy_score(test['labels'], pred)"
   ]
  },
  {
   "cell_type": "code",
   "execution_count": 33,
   "id": "4f2dfea8-b057-4d3e-a186-7c58180ee4c8",
   "metadata": {},
   "outputs": [],
   "source": [
    "import pickle"
   ]
  },
  {
   "cell_type": "code",
   "execution_count": 34,
   "id": "a7d0dfe7-af07-4ee8-8447-91db1b06e7c5",
   "metadata": {},
   "outputs": [],
   "source": [
    "with open('../data/lang.pick', 'wb') as f:\n",
    "    pickle.dump(clf, f)"
   ]
  },
  {
   "cell_type": "code",
   "execution_count": null,
   "id": "664e24c3-794a-4973-ac15-fb8fcce6c2d7",
   "metadata": {},
   "outputs": [],
   "source": []
  },
  {
   "cell_type": "code",
   "execution_count": null,
   "id": "5268544a-f0e9-4b85-b4d7-8bf719a46f81",
   "metadata": {},
   "outputs": [],
   "source": []
  },
  {
   "cell_type": "code",
   "execution_count": null,
   "id": "925fb1a8-7b5b-46c5-a72c-1eb7d5f299ee",
   "metadata": {},
   "outputs": [],
   "source": []
  },
  {
   "cell_type": "code",
   "execution_count": null,
   "id": "db93433f-eed6-4d69-a308-2cb8b25fff29",
   "metadata": {},
   "outputs": [],
   "source": []
  },
  {
   "cell_type": "code",
   "execution_count": null,
   "id": "7be1f100-907c-459b-9ade-71e18067f25a",
   "metadata": {},
   "outputs": [],
   "source": []
  },
  {
   "cell_type": "code",
   "execution_count": null,
   "id": "adf86858-955a-4978-8d3b-3c8982aff916",
   "metadata": {},
   "outputs": [],
   "source": []
  },
  {
   "cell_type": "code",
   "execution_count": null,
   "id": "46e5a590-da72-42c3-ba69-487a2303ea83",
   "metadata": {},
   "outputs": [],
   "source": []
  },
  {
   "cell_type": "code",
   "execution_count": null,
   "id": "25c84fd2-7608-4712-8a48-4c17f2a269ba",
   "metadata": {},
   "outputs": [],
   "source": []
  },
  {
   "cell_type": "code",
   "execution_count": null,
   "id": "10e6d58b-a48b-43ea-a2c3-1b98745c1c63",
   "metadata": {},
   "outputs": [],
   "source": []
  },
  {
   "cell_type": "code",
   "execution_count": null,
   "id": "1387cd10-9b00-4d96-831a-d34051ad040a",
   "metadata": {},
   "outputs": [],
   "source": []
  },
  {
   "cell_type": "code",
   "execution_count": null,
   "id": "6999d4cb-a5b2-47be-bfe1-74f299772af2",
   "metadata": {},
   "outputs": [],
   "source": []
  }
 ],
 "metadata": {
  "kernelspec": {
   "display_name": "Python 3 (ipykernel)",
   "language": "python",
   "name": "python3"
  },
  "language_info": {
   "codemirror_mode": {
    "name": "ipython",
    "version": 3
   },
   "file_extension": ".py",
   "mimetype": "text/x-python",
   "name": "python",
   "nbconvert_exporter": "python",
   "pygments_lexer": "ipython3",
   "version": "3.11.5"
  }
 },
 "nbformat": 4,
 "nbformat_minor": 5
}
